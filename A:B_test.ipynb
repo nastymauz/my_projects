{
 "cells": [
  {
   "cell_type": "markdown",
   "metadata": {},
   "source": [
    "# Анализ A/B-теста по увеличению выручки интернет-магазина"
   ]
  },
  {
   "cell_type": "markdown",
   "metadata": {},
   "source": [
    "Я — аналитик крупного интернет-магазина. Вместе с отделом маркетинга мы подготовили список гипотез для увеличения выручки.\n",
    "Необходимо приоритизировать гипотезы, запустить A/B-тест и проанализировать результаты.\n",
    "\n",
    "У нас есть данные\n",
    "\n",
    "Файл /datasets/hypothesis.csv.\n",
    "- Hypothesis — краткое описание гипотезы;\n",
    "- Reach — охват пользователей по 10-балльной шкале;\n",
    "- Impact — влияние на пользователей по 10-балльной шкале;\n",
    "- Confidence — уверенность в гипотезе по 10-балльной шкале;\n",
    "- Efforts — затраты ресурсов на проверку гипотезы по 10-балльной шкале. Чем больше значение Efforts, тем дороже проверка гипотезы.\n",
    "\n",
    "Данные для второй части\n",
    "Файл /datasets/orders.csv. \n",
    "- transactionId — идентификатор заказа;\n",
    "- visitorId — идентификатор пользователя, совершившего заказ;\n",
    "- date — дата, когда был совершён заказ;\n",
    "- revenue — выручка заказа;\n",
    "- group — группа A/B-теста, в которую попал заказ.\n",
    "\n",
    "Файл /datasets/visitors.csv. \n",
    "- date — дата;\n",
    "- group — группа A/B-теста;\n",
    "- visitors — количество пользователей в указанную дату в указанной группе A/B-теста"
   ]
  },
  {
   "cell_type": "markdown",
   "metadata": {},
   "source": [
    "**Цель исследования**:\n",
    "- Подготовлен список гипотез для увеличения выручки крупного интернет магазина. Приоритизировать гипотезы, запустить A/B-тест и проанализировать результаты.\n",
    "\n",
    " \n",
    "**Таким образом, исследование пройдёт в несколько этапов:**\n",
    " 1. Обзор данных.\n",
    " 2. Приоритизация гипотез.\n",
    " 3. Анализ A/B-теста\n",
    " 4. Формлировка общего вывода по полученным результатам"
   ]
  },
  {
   "cell_type": "code",
   "execution_count": 1,
   "metadata": {},
   "outputs": [],
   "source": [
    "import pandas as pd\n",
    "import numpy as np\n",
    "import matplotlib.pyplot as plt\n",
    "import seaborn as sns\n",
    "from scipy import stats as st"
   ]
  },
  {
   "cell_type": "markdown",
   "metadata": {},
   "source": [
    "## Загрузка и подготовка данных к анализу"
   ]
  },
  {
   "cell_type": "markdown",
   "metadata": {},
   "source": [
    "### Обзор данных"
   ]
  },
  {
   "cell_type": "markdown",
   "metadata": {},
   "source": [
    "Загрузим данные и изменим тип, где необходимо"
   ]
  },
  {
   "cell_type": "code",
   "execution_count": 2,
   "metadata": {},
   "outputs": [
    {
     "data": {
      "text/html": [
       "<div>\n",
       "<style scoped>\n",
       "    .dataframe tbody tr th:only-of-type {\n",
       "        vertical-align: middle;\n",
       "    }\n",
       "\n",
       "    .dataframe tbody tr th {\n",
       "        vertical-align: top;\n",
       "    }\n",
       "\n",
       "    .dataframe thead th {\n",
       "        text-align: right;\n",
       "    }\n",
       "</style>\n",
       "<table border=\"1\" class=\"dataframe\">\n",
       "  <thead>\n",
       "    <tr style=\"text-align: right;\">\n",
       "      <th></th>\n",
       "      <th>Hypothesis</th>\n",
       "      <th>Reach</th>\n",
       "      <th>Impact</th>\n",
       "      <th>Confidence</th>\n",
       "      <th>Efforts</th>\n",
       "    </tr>\n",
       "  </thead>\n",
       "  <tbody>\n",
       "    <tr>\n",
       "      <th>0</th>\n",
       "      <td>Добавить два новых канала привлечения трафика,...</td>\n",
       "      <td>3</td>\n",
       "      <td>10</td>\n",
       "      <td>8</td>\n",
       "      <td>6</td>\n",
       "    </tr>\n",
       "    <tr>\n",
       "      <th>1</th>\n",
       "      <td>Запустить собственную службу доставки, что сок...</td>\n",
       "      <td>2</td>\n",
       "      <td>5</td>\n",
       "      <td>4</td>\n",
       "      <td>10</td>\n",
       "    </tr>\n",
       "    <tr>\n",
       "      <th>2</th>\n",
       "      <td>Добавить блоки рекомендаций товаров на сайт ин...</td>\n",
       "      <td>8</td>\n",
       "      <td>3</td>\n",
       "      <td>7</td>\n",
       "      <td>3</td>\n",
       "    </tr>\n",
       "    <tr>\n",
       "      <th>3</th>\n",
       "      <td>Изменить структура категорий, что увеличит кон...</td>\n",
       "      <td>8</td>\n",
       "      <td>3</td>\n",
       "      <td>3</td>\n",
       "      <td>8</td>\n",
       "    </tr>\n",
       "    <tr>\n",
       "      <th>4</th>\n",
       "      <td>Изменить цвет фона главной страницы, чтобы уве...</td>\n",
       "      <td>3</td>\n",
       "      <td>1</td>\n",
       "      <td>1</td>\n",
       "      <td>1</td>\n",
       "    </tr>\n",
       "  </tbody>\n",
       "</table>\n",
       "</div>"
      ],
      "text/plain": [
       "                                          Hypothesis  Reach  Impact  \\\n",
       "0  Добавить два новых канала привлечения трафика,...      3      10   \n",
       "1  Запустить собственную службу доставки, что сок...      2       5   \n",
       "2  Добавить блоки рекомендаций товаров на сайт ин...      8       3   \n",
       "3  Изменить структура категорий, что увеличит кон...      8       3   \n",
       "4  Изменить цвет фона главной страницы, чтобы уве...      3       1   \n",
       "\n",
       "   Confidence  Efforts  \n",
       "0           8        6  \n",
       "1           4       10  \n",
       "2           7        3  \n",
       "3           3        8  \n",
       "4           1        1  "
      ]
     },
     "metadata": {},
     "output_type": "display_data"
    },
    {
     "name": "stdout",
     "output_type": "stream",
     "text": [
      "<class 'pandas.core.frame.DataFrame'>\n",
      "RangeIndex: 9 entries, 0 to 8\n",
      "Data columns (total 5 columns):\n",
      " #   Column      Non-Null Count  Dtype \n",
      "---  ------      --------------  ----- \n",
      " 0   Hypothesis  9 non-null      object\n",
      " 1   Reach       9 non-null      int64 \n",
      " 2   Impact      9 non-null      int64 \n",
      " 3   Confidence  9 non-null      int64 \n",
      " 4   Efforts     9 non-null      int64 \n",
      "dtypes: int64(4), object(1)\n",
      "memory usage: 488.0+ bytes\n"
     ]
    }
   ],
   "source": [
    "hypothesis = pd.read_csv('/datasets/hypothesis.csv')\n",
    "display(hypothesis.head())\n",
    "hypothesis.info()"
   ]
  },
  {
   "cell_type": "code",
   "execution_count": 3,
   "metadata": {},
   "outputs": [
    {
     "data": {
      "text/html": [
       "<div>\n",
       "<style scoped>\n",
       "    .dataframe tbody tr th:only-of-type {\n",
       "        vertical-align: middle;\n",
       "    }\n",
       "\n",
       "    .dataframe tbody tr th {\n",
       "        vertical-align: top;\n",
       "    }\n",
       "\n",
       "    .dataframe thead th {\n",
       "        text-align: right;\n",
       "    }\n",
       "</style>\n",
       "<table border=\"1\" class=\"dataframe\">\n",
       "  <thead>\n",
       "    <tr style=\"text-align: right;\">\n",
       "      <th></th>\n",
       "      <th>transactionId</th>\n",
       "      <th>visitorId</th>\n",
       "      <th>date</th>\n",
       "      <th>revenue</th>\n",
       "      <th>group</th>\n",
       "    </tr>\n",
       "  </thead>\n",
       "  <tbody>\n",
       "    <tr>\n",
       "      <th>0</th>\n",
       "      <td>3667963787</td>\n",
       "      <td>3312258926</td>\n",
       "      <td>2019-08-15</td>\n",
       "      <td>1650</td>\n",
       "      <td>B</td>\n",
       "    </tr>\n",
       "    <tr>\n",
       "      <th>1</th>\n",
       "      <td>2804400009</td>\n",
       "      <td>3642806036</td>\n",
       "      <td>2019-08-15</td>\n",
       "      <td>730</td>\n",
       "      <td>B</td>\n",
       "    </tr>\n",
       "    <tr>\n",
       "      <th>2</th>\n",
       "      <td>2961555356</td>\n",
       "      <td>4069496402</td>\n",
       "      <td>2019-08-15</td>\n",
       "      <td>400</td>\n",
       "      <td>A</td>\n",
       "    </tr>\n",
       "    <tr>\n",
       "      <th>3</th>\n",
       "      <td>3797467345</td>\n",
       "      <td>1196621759</td>\n",
       "      <td>2019-08-15</td>\n",
       "      <td>9759</td>\n",
       "      <td>B</td>\n",
       "    </tr>\n",
       "    <tr>\n",
       "      <th>4</th>\n",
       "      <td>2282983706</td>\n",
       "      <td>2322279887</td>\n",
       "      <td>2019-08-15</td>\n",
       "      <td>2308</td>\n",
       "      <td>B</td>\n",
       "    </tr>\n",
       "  </tbody>\n",
       "</table>\n",
       "</div>"
      ],
      "text/plain": [
       "   transactionId   visitorId        date  revenue group\n",
       "0     3667963787  3312258926  2019-08-15     1650     B\n",
       "1     2804400009  3642806036  2019-08-15      730     B\n",
       "2     2961555356  4069496402  2019-08-15      400     A\n",
       "3     3797467345  1196621759  2019-08-15     9759     B\n",
       "4     2282983706  2322279887  2019-08-15     2308     B"
      ]
     },
     "metadata": {},
     "output_type": "display_data"
    },
    {
     "name": "stdout",
     "output_type": "stream",
     "text": [
      "<class 'pandas.core.frame.DataFrame'>\n",
      "RangeIndex: 1197 entries, 0 to 1196\n",
      "Data columns (total 5 columns):\n",
      " #   Column         Non-Null Count  Dtype \n",
      "---  ------         --------------  ----- \n",
      " 0   transactionId  1197 non-null   int64 \n",
      " 1   visitorId      1197 non-null   int64 \n",
      " 2   date           1197 non-null   object\n",
      " 3   revenue        1197 non-null   int64 \n",
      " 4   group          1197 non-null   object\n",
      "dtypes: int64(3), object(2)\n",
      "memory usage: 46.9+ KB\n"
     ]
    }
   ],
   "source": [
    "orders = pd.read_csv('/datasets/orders.csv')\n",
    "display(orders.head())\n",
    "orders.info()"
   ]
  },
  {
   "cell_type": "code",
   "execution_count": 4,
   "metadata": {},
   "outputs": [],
   "source": [
    "orders['date'] = pd.to_datetime(orders['date'])"
   ]
  },
  {
   "cell_type": "code",
   "execution_count": 5,
   "metadata": {
    "scrolled": true
   },
   "outputs": [
    {
     "data": {
      "text/html": [
       "<div>\n",
       "<style scoped>\n",
       "    .dataframe tbody tr th:only-of-type {\n",
       "        vertical-align: middle;\n",
       "    }\n",
       "\n",
       "    .dataframe tbody tr th {\n",
       "        vertical-align: top;\n",
       "    }\n",
       "\n",
       "    .dataframe thead th {\n",
       "        text-align: right;\n",
       "    }\n",
       "</style>\n",
       "<table border=\"1\" class=\"dataframe\">\n",
       "  <thead>\n",
       "    <tr style=\"text-align: right;\">\n",
       "      <th></th>\n",
       "      <th>date</th>\n",
       "      <th>group</th>\n",
       "      <th>visitors</th>\n",
       "    </tr>\n",
       "  </thead>\n",
       "  <tbody>\n",
       "    <tr>\n",
       "      <th>0</th>\n",
       "      <td>2019-08-01</td>\n",
       "      <td>A</td>\n",
       "      <td>719</td>\n",
       "    </tr>\n",
       "    <tr>\n",
       "      <th>1</th>\n",
       "      <td>2019-08-02</td>\n",
       "      <td>A</td>\n",
       "      <td>619</td>\n",
       "    </tr>\n",
       "    <tr>\n",
       "      <th>2</th>\n",
       "      <td>2019-08-03</td>\n",
       "      <td>A</td>\n",
       "      <td>507</td>\n",
       "    </tr>\n",
       "    <tr>\n",
       "      <th>3</th>\n",
       "      <td>2019-08-04</td>\n",
       "      <td>A</td>\n",
       "      <td>717</td>\n",
       "    </tr>\n",
       "    <tr>\n",
       "      <th>4</th>\n",
       "      <td>2019-08-05</td>\n",
       "      <td>A</td>\n",
       "      <td>756</td>\n",
       "    </tr>\n",
       "  </tbody>\n",
       "</table>\n",
       "</div>"
      ],
      "text/plain": [
       "         date group  visitors\n",
       "0  2019-08-01     A       719\n",
       "1  2019-08-02     A       619\n",
       "2  2019-08-03     A       507\n",
       "3  2019-08-04     A       717\n",
       "4  2019-08-05     A       756"
      ]
     },
     "metadata": {},
     "output_type": "display_data"
    },
    {
     "name": "stdout",
     "output_type": "stream",
     "text": [
      "<class 'pandas.core.frame.DataFrame'>\n",
      "RangeIndex: 62 entries, 0 to 61\n",
      "Data columns (total 3 columns):\n",
      " #   Column    Non-Null Count  Dtype \n",
      "---  ------    --------------  ----- \n",
      " 0   date      62 non-null     object\n",
      " 1   group     62 non-null     object\n",
      " 2   visitors  62 non-null     int64 \n",
      "dtypes: int64(1), object(2)\n",
      "memory usage: 1.6+ KB\n"
     ]
    }
   ],
   "source": [
    "visitors = pd.read_csv('/datasets/visitors.csv')\n",
    "display(visitors.head())\n",
    "visitors.info()"
   ]
  },
  {
   "cell_type": "code",
   "execution_count": 6,
   "metadata": {},
   "outputs": [],
   "source": [
    "visitors['date'] = pd.to_datetime(visitors['date'])"
   ]
  },
  {
   "cell_type": "code",
   "execution_count": 7,
   "metadata": {},
   "outputs": [],
   "source": [
    "orders['date'] = pd.to_datetime(orders['date'])"
   ]
  },
  {
   "cell_type": "markdown",
   "metadata": {},
   "source": [
    "### Подготовка данных"
   ]
  },
  {
   "cell_type": "code",
   "execution_count": 8,
   "metadata": {},
   "outputs": [
    {
     "data": {
      "text/plain": [
       "58"
      ]
     },
     "execution_count": 8,
     "metadata": {},
     "output_type": "execute_result"
    }
   ],
   "source": [
    "visitors_groups = orders.groupby('visitorId')['group'].nunique()\n",
    "sum(visitors_groups == 2) "
   ]
  },
  {
   "cell_type": "markdown",
   "metadata": {},
   "source": [
    "58 пользователей попали в обе группы. Удалим их"
   ]
  },
  {
   "cell_type": "code",
   "execution_count": 9,
   "metadata": {},
   "outputs": [],
   "source": [
    "orders = orders[orders['visitorId'].isin(visitors_groups[visitors_groups == 1].index)]"
   ]
  },
  {
   "cell_type": "code",
   "execution_count": 10,
   "metadata": {},
   "outputs": [
    {
     "data": {
      "text/plain": [
       "group\n",
       "A    445\n",
       "B    528\n",
       "Name: visitorId, dtype: int64"
      ]
     },
     "execution_count": 10,
     "metadata": {},
     "output_type": "execute_result"
    }
   ],
   "source": [
    "orders.groupby('group')['visitorId'].nunique()"
   ]
  },
  {
   "cell_type": "code",
   "execution_count": 11,
   "metadata": {},
   "outputs": [
    {
     "name": "stdout",
     "output_type": "stream",
     "text": [
      "18.65 %\n"
     ]
    }
   ],
   "source": [
    "print(round((((528-445)/445)*100), 2), '%')"
   ]
  },
  {
   "cell_type": "markdown",
   "metadata": {},
   "source": [
    "Количество пользователей в различных группах различается почти на 20%."
   ]
  },
  {
   "cell_type": "code",
   "execution_count": 12,
   "metadata": {},
   "outputs": [
    {
     "data": {
      "text/plain": [
       "min   2019-08-01\n",
       "max   2019-08-31\n",
       "Name: date, dtype: datetime64[ns]"
      ]
     },
     "execution_count": 12,
     "metadata": {},
     "output_type": "execute_result"
    }
   ],
   "source": [
    "visitors['date'].agg(['min', 'max'])"
   ]
  },
  {
   "cell_type": "markdown",
   "metadata": {},
   "source": [
    "В течение месяца (август 2019) был проведен несбалансированный A/B-тест."
   ]
  },
  {
   "cell_type": "markdown",
   "metadata": {},
   "source": [
    "Можно сказать, что данные получены хорошие.  A/B тест несбалансированный, в группах неодинаковое количество пользователей. Данные строго из промежутка одного месяца. 58 пользователей попали в обе группы, но это не страшно."
   ]
  },
  {
   "cell_type": "markdown",
   "metadata": {},
   "source": [
    "## Приоритизация гипотез"
   ]
  },
  {
   "cell_type": "markdown",
   "metadata": {},
   "source": [
    "### Фреймворк ICE"
   ]
  },
  {
   "cell_type": "code",
   "execution_count": 13,
   "metadata": {},
   "outputs": [],
   "source": [
    "hypothesis['ICE'] = (hypothesis['Impact'] * hypothesis['Confidence']) / hypothesis['Efforts']"
   ]
  },
  {
   "cell_type": "code",
   "execution_count": 14,
   "metadata": {
    "scrolled": true
   },
   "outputs": [
    {
     "data": {
      "text/html": [
       "<div>\n",
       "<style scoped>\n",
       "    .dataframe tbody tr th:only-of-type {\n",
       "        vertical-align: middle;\n",
       "    }\n",
       "\n",
       "    .dataframe tbody tr th {\n",
       "        vertical-align: top;\n",
       "    }\n",
       "\n",
       "    .dataframe thead th {\n",
       "        text-align: right;\n",
       "    }\n",
       "</style>\n",
       "<table border=\"1\" class=\"dataframe\">\n",
       "  <thead>\n",
       "    <tr style=\"text-align: right;\">\n",
       "      <th></th>\n",
       "      <th>Hypothesis</th>\n",
       "      <th>Reach</th>\n",
       "      <th>Impact</th>\n",
       "      <th>Confidence</th>\n",
       "      <th>Efforts</th>\n",
       "      <th>ICE</th>\n",
       "    </tr>\n",
       "  </thead>\n",
       "  <tbody>\n",
       "    <tr>\n",
       "      <th>8</th>\n",
       "      <td>Запустить акцию, дающую скидку на товар в день...</td>\n",
       "      <td>1</td>\n",
       "      <td>9</td>\n",
       "      <td>9</td>\n",
       "      <td>5</td>\n",
       "      <td>16.200</td>\n",
       "    </tr>\n",
       "    <tr>\n",
       "      <th>0</th>\n",
       "      <td>Добавить два новых канала привлечения трафика,...</td>\n",
       "      <td>3</td>\n",
       "      <td>10</td>\n",
       "      <td>8</td>\n",
       "      <td>6</td>\n",
       "      <td>13.333</td>\n",
       "    </tr>\n",
       "    <tr>\n",
       "      <th>7</th>\n",
       "      <td>Добавить форму подписки на все основные страни...</td>\n",
       "      <td>10</td>\n",
       "      <td>7</td>\n",
       "      <td>8</td>\n",
       "      <td>5</td>\n",
       "      <td>11.200</td>\n",
       "    </tr>\n",
       "    <tr>\n",
       "      <th>6</th>\n",
       "      <td>Показать на главной странице баннеры с актуаль...</td>\n",
       "      <td>5</td>\n",
       "      <td>3</td>\n",
       "      <td>8</td>\n",
       "      <td>3</td>\n",
       "      <td>8.000</td>\n",
       "    </tr>\n",
       "    <tr>\n",
       "      <th>2</th>\n",
       "      <td>Добавить блоки рекомендаций товаров на сайт ин...</td>\n",
       "      <td>8</td>\n",
       "      <td>3</td>\n",
       "      <td>7</td>\n",
       "      <td>3</td>\n",
       "      <td>7.000</td>\n",
       "    </tr>\n",
       "    <tr>\n",
       "      <th>1</th>\n",
       "      <td>Запустить собственную службу доставки, что сок...</td>\n",
       "      <td>2</td>\n",
       "      <td>5</td>\n",
       "      <td>4</td>\n",
       "      <td>10</td>\n",
       "      <td>2.000</td>\n",
       "    </tr>\n",
       "    <tr>\n",
       "      <th>5</th>\n",
       "      <td>Добавить страницу отзывов клиентов о магазине,...</td>\n",
       "      <td>3</td>\n",
       "      <td>2</td>\n",
       "      <td>2</td>\n",
       "      <td>3</td>\n",
       "      <td>1.333</td>\n",
       "    </tr>\n",
       "    <tr>\n",
       "      <th>3</th>\n",
       "      <td>Изменить структура категорий, что увеличит кон...</td>\n",
       "      <td>8</td>\n",
       "      <td>3</td>\n",
       "      <td>3</td>\n",
       "      <td>8</td>\n",
       "      <td>1.125</td>\n",
       "    </tr>\n",
       "    <tr>\n",
       "      <th>4</th>\n",
       "      <td>Изменить цвет фона главной страницы, чтобы уве...</td>\n",
       "      <td>3</td>\n",
       "      <td>1</td>\n",
       "      <td>1</td>\n",
       "      <td>1</td>\n",
       "      <td>1.000</td>\n",
       "    </tr>\n",
       "  </tbody>\n",
       "</table>\n",
       "</div>"
      ],
      "text/plain": [
       "                                          Hypothesis  Reach  Impact  \\\n",
       "8  Запустить акцию, дающую скидку на товар в день...      1       9   \n",
       "0  Добавить два новых канала привлечения трафика,...      3      10   \n",
       "7  Добавить форму подписки на все основные страни...     10       7   \n",
       "6  Показать на главной странице баннеры с актуаль...      5       3   \n",
       "2  Добавить блоки рекомендаций товаров на сайт ин...      8       3   \n",
       "1  Запустить собственную службу доставки, что сок...      2       5   \n",
       "5  Добавить страницу отзывов клиентов о магазине,...      3       2   \n",
       "3  Изменить структура категорий, что увеличит кон...      8       3   \n",
       "4  Изменить цвет фона главной страницы, чтобы уве...      3       1   \n",
       "\n",
       "   Confidence  Efforts     ICE  \n",
       "8           9        5  16.200  \n",
       "0           8        6  13.333  \n",
       "7           8        5  11.200  \n",
       "6           8        3   8.000  \n",
       "2           7        3   7.000  \n",
       "1           4       10   2.000  \n",
       "5           2        3   1.333  \n",
       "3           3        8   1.125  \n",
       "4           1        1   1.000  "
      ]
     },
     "execution_count": 14,
     "metadata": {},
     "output_type": "execute_result"
    }
   ],
   "source": [
    "hypothesis.sort_values(by='ICE', ascending=False).round(3)"
   ]
  },
  {
   "cell_type": "markdown",
   "metadata": {},
   "source": [
    "Самые перспективные гипотезы по ICE под номерами 8, 0, 7, 6"
   ]
  },
  {
   "cell_type": "markdown",
   "metadata": {},
   "source": [
    "### Фреймворк RICE"
   ]
  },
  {
   "cell_type": "code",
   "execution_count": 15,
   "metadata": {},
   "outputs": [],
   "source": [
    "hypothesis['RICE'] = (hypothesis['Reach']*hypothesis['Impact']*hypothesis['Confidence'])/hypothesis['Efforts']"
   ]
  },
  {
   "cell_type": "code",
   "execution_count": 16,
   "metadata": {},
   "outputs": [
    {
     "data": {
      "text/html": [
       "<div>\n",
       "<style scoped>\n",
       "    .dataframe tbody tr th:only-of-type {\n",
       "        vertical-align: middle;\n",
       "    }\n",
       "\n",
       "    .dataframe tbody tr th {\n",
       "        vertical-align: top;\n",
       "    }\n",
       "\n",
       "    .dataframe thead th {\n",
       "        text-align: right;\n",
       "    }\n",
       "</style>\n",
       "<table border=\"1\" class=\"dataframe\">\n",
       "  <thead>\n",
       "    <tr style=\"text-align: right;\">\n",
       "      <th></th>\n",
       "      <th>Hypothesis</th>\n",
       "      <th>Reach</th>\n",
       "      <th>Impact</th>\n",
       "      <th>Confidence</th>\n",
       "      <th>Efforts</th>\n",
       "      <th>ICE</th>\n",
       "      <th>RICE</th>\n",
       "    </tr>\n",
       "  </thead>\n",
       "  <tbody>\n",
       "    <tr>\n",
       "      <th>7</th>\n",
       "      <td>Добавить форму подписки на все основные страни...</td>\n",
       "      <td>10</td>\n",
       "      <td>7</td>\n",
       "      <td>8</td>\n",
       "      <td>5</td>\n",
       "      <td>11.200</td>\n",
       "      <td>112.0</td>\n",
       "    </tr>\n",
       "    <tr>\n",
       "      <th>2</th>\n",
       "      <td>Добавить блоки рекомендаций товаров на сайт ин...</td>\n",
       "      <td>8</td>\n",
       "      <td>3</td>\n",
       "      <td>7</td>\n",
       "      <td>3</td>\n",
       "      <td>7.000</td>\n",
       "      <td>56.0</td>\n",
       "    </tr>\n",
       "    <tr>\n",
       "      <th>0</th>\n",
       "      <td>Добавить два новых канала привлечения трафика,...</td>\n",
       "      <td>3</td>\n",
       "      <td>10</td>\n",
       "      <td>8</td>\n",
       "      <td>6</td>\n",
       "      <td>13.333</td>\n",
       "      <td>40.0</td>\n",
       "    </tr>\n",
       "    <tr>\n",
       "      <th>6</th>\n",
       "      <td>Показать на главной странице баннеры с актуаль...</td>\n",
       "      <td>5</td>\n",
       "      <td>3</td>\n",
       "      <td>8</td>\n",
       "      <td>3</td>\n",
       "      <td>8.000</td>\n",
       "      <td>40.0</td>\n",
       "    </tr>\n",
       "    <tr>\n",
       "      <th>8</th>\n",
       "      <td>Запустить акцию, дающую скидку на товар в день...</td>\n",
       "      <td>1</td>\n",
       "      <td>9</td>\n",
       "      <td>9</td>\n",
       "      <td>5</td>\n",
       "      <td>16.200</td>\n",
       "      <td>16.2</td>\n",
       "    </tr>\n",
       "    <tr>\n",
       "      <th>3</th>\n",
       "      <td>Изменить структура категорий, что увеличит кон...</td>\n",
       "      <td>8</td>\n",
       "      <td>3</td>\n",
       "      <td>3</td>\n",
       "      <td>8</td>\n",
       "      <td>1.125</td>\n",
       "      <td>9.0</td>\n",
       "    </tr>\n",
       "    <tr>\n",
       "      <th>1</th>\n",
       "      <td>Запустить собственную службу доставки, что сок...</td>\n",
       "      <td>2</td>\n",
       "      <td>5</td>\n",
       "      <td>4</td>\n",
       "      <td>10</td>\n",
       "      <td>2.000</td>\n",
       "      <td>4.0</td>\n",
       "    </tr>\n",
       "    <tr>\n",
       "      <th>5</th>\n",
       "      <td>Добавить страницу отзывов клиентов о магазине,...</td>\n",
       "      <td>3</td>\n",
       "      <td>2</td>\n",
       "      <td>2</td>\n",
       "      <td>3</td>\n",
       "      <td>1.333</td>\n",
       "      <td>4.0</td>\n",
       "    </tr>\n",
       "    <tr>\n",
       "      <th>4</th>\n",
       "      <td>Изменить цвет фона главной страницы, чтобы уве...</td>\n",
       "      <td>3</td>\n",
       "      <td>1</td>\n",
       "      <td>1</td>\n",
       "      <td>1</td>\n",
       "      <td>1.000</td>\n",
       "      <td>3.0</td>\n",
       "    </tr>\n",
       "  </tbody>\n",
       "</table>\n",
       "</div>"
      ],
      "text/plain": [
       "                                          Hypothesis  Reach  Impact  \\\n",
       "7  Добавить форму подписки на все основные страни...     10       7   \n",
       "2  Добавить блоки рекомендаций товаров на сайт ин...      8       3   \n",
       "0  Добавить два новых канала привлечения трафика,...      3      10   \n",
       "6  Показать на главной странице баннеры с актуаль...      5       3   \n",
       "8  Запустить акцию, дающую скидку на товар в день...      1       9   \n",
       "3  Изменить структура категорий, что увеличит кон...      8       3   \n",
       "1  Запустить собственную службу доставки, что сок...      2       5   \n",
       "5  Добавить страницу отзывов клиентов о магазине,...      3       2   \n",
       "4  Изменить цвет фона главной страницы, чтобы уве...      3       1   \n",
       "\n",
       "   Confidence  Efforts     ICE   RICE  \n",
       "7           8        5  11.200  112.0  \n",
       "2           7        3   7.000   56.0  \n",
       "0           8        6  13.333   40.0  \n",
       "6           8        3   8.000   40.0  \n",
       "8           9        5  16.200   16.2  \n",
       "3           3        8   1.125    9.0  \n",
       "1           4       10   2.000    4.0  \n",
       "5           2        3   1.333    4.0  \n",
       "4           1        1   1.000    3.0  "
      ]
     },
     "execution_count": 16,
     "metadata": {},
     "output_type": "execute_result"
    }
   ],
   "source": [
    "hypothesis.sort_values(by='RICE', ascending=False).round(3)"
   ]
  },
  {
   "cell_type": "markdown",
   "metadata": {},
   "source": [
    "По RICE перспективные гипотезы 7, 2, 0, 6. Гипотеза 8, считавшаяся самой перспективной по ICE, заняла 5 место, так как она затрагивает очень мало пользователей. 2 и 7 заняли первые места, хотя по ICE заняли 3 и 5 места, так произошло из-за большого охвата, они затронут много пользователей. "
   ]
  },
  {
   "cell_type": "markdown",
   "metadata": {},
   "source": [
    "## Анализ A/B-теста"
   ]
  },
  {
   "cell_type": "markdown",
   "metadata": {},
   "source": [
    "### Кумулятивная выручка"
   ]
  },
  {
   "cell_type": "code",
   "execution_count": 17,
   "metadata": {},
   "outputs": [],
   "source": [
    "# получаем агрегированные кумулятивные по дням данные о заказах \n",
    "orders_group = (orders\n",
    "                 .apply(lambda x: orders[np.logical_and(orders['date'] <= x['date'],\n",
    "                                                        orders['group'] ==  x['group'])]\n",
    "                .agg({'date':'max', 'group':'max', 'revenue':'sum',\n",
    "                      'transactionId':'nunique'}), axis=1) \n",
    "                .sort_values(by=['date','group']))\n",
    "orders_group.rename(columns={'transactionId':'orders'}, inplace=True)\n",
    "# получаем агрегированные кумулятивные по дням данные о посетителях интернет-магазина \n",
    "visitors_group = (visitors\n",
    "                 .apply(lambda x: visitors[np.logical_and(visitors['date'] <= x['date'],\n",
    "                                                          visitors['group'] ==  x['group'])]\n",
    "                .agg({'date':'max', 'group':'max', 'visitors':'sum'}), axis=1) \n",
    "                .sort_values(by=['date','group']))\n",
    "# объединяем кумулятивные данные в одной таблице и присваиваем ее столбцам понятные названия\n",
    "data = orders_group.merge(visitors_group, on = ['group','date'])"
   ]
  },
  {
   "cell_type": "code",
   "execution_count": 18,
   "metadata": {},
   "outputs": [
    {
     "data": {
      "image/png": "[encoded data removed]",
      "text/plain": [
       "<Figure size 864x360 with 1 Axes>"
      ]
     },
     "metadata": {
      "needs_background": "light"
     },
     "output_type": "display_data"
    }
   ],
   "source": [
    "# датафрейм с кумулятивным количеством заказов и кумулятивной выручкой по дням в группе А\n",
    "orders_group_a = orders_group[orders_group['group']=='A']\n",
    "# датафрейм с кумулятивным количеством заказов и кумулятивной выручкой по дням в группе B\n",
    "orders_group_b = orders_group[orders_group['group']=='B']\n",
    "plt.figure(figsize=(12, 5))\n",
    "# Строим график выручки группы А\n",
    "plt.plot(\n",
    "    orders_group_a['date'],\n",
    "    orders_group_a['revenue'],\n",
    "    label='A') \n",
    "# Строим график выручки группы B\n",
    "plt.plot(\n",
    "    orders_group_b['date'],\n",
    "    orders_group_b['revenue'],\n",
    "    label='B')\n",
    "plt.xlabel('Дата')\n",
    "plt.ylabel('выручка')\n",
    "plt.title('Кумулятивная выручка по группам')\n",
    "plt.legend()\n",
    "plt.show()"
   ]
  },
  {
   "cell_type": "markdown",
   "metadata": {},
   "source": [
    "- Выручка равномерно растет, кроме резкого скачка у группы B с 18 по 19 день\n",
    "- В течение теста выручка стабильно больше у группы B"
   ]
  },
  {
   "cell_type": "markdown",
   "metadata": {},
   "source": [
    "### Кумулятивный средний чек"
   ]
  },
  {
   "cell_type": "code",
   "execution_count": 19,
   "metadata": {},
   "outputs": [
    {
     "data": {
      "image/png": "[encoded data removed]",
      "text/plain": [
       "<Figure size 864x360 with 1 Axes>"
      ]
     },
     "metadata": {
      "needs_background": "light"
     },
     "output_type": "display_data"
    }
   ],
   "source": [
    "plt.figure(figsize=(12, 5))\n",
    "plt.plot(orders_group_a['date'], orders_group_a['revenue'] / orders_group_a['orders'], label='A')\n",
    "plt.plot(orders_group_b['date'], orders_group_b['revenue'] / orders_group_b['orders'], label='B')\n",
    "plt.xticks(rotation=45)\n",
    "plt.xlabel('Дата')\n",
    "plt.ylabel('средний чек')\n",
    "plt.title('Кумулятивный средний чек по группам')\n",
    "plt.legend();"
   ]
  },
  {
   "cell_type": "markdown",
   "metadata": {},
   "source": [
    "До 19 августа средний чек нестабилен в обеих группах. Потом у А группы он  установился около 7000, а у В группы после резкого скачка наблюдается снижение."
   ]
  },
  {
   "cell_type": "markdown",
   "metadata": {},
   "source": [
    "### Относительное изменение кумулятивного среднего чека"
   ]
  },
  {
   "cell_type": "code",
   "execution_count": 20,
   "metadata": {},
   "outputs": [
    {
     "data": {
      "image/png": "[encoded data removed]",
      "text/plain": [
       "<Figure size 864x360 with 1 Axes>"
      ]
     },
     "metadata": {
      "needs_background": "light"
     },
     "output_type": "display_data"
    }
   ],
   "source": [
    "mergedCumulativeRevenue = orders_group_a.merge(orders_group_b, left_on='date',\n",
    "                                               right_on='date', how='left', suffixes=['A', 'B'])\n",
    "\n",
    "plt.figure(figsize=(12, 5))\n",
    "plt.plot(mergedCumulativeRevenue['date'],\n",
    "         (mergedCumulativeRevenue['revenueB']/mergedCumulativeRevenue['ordersB'])/(mergedCumulativeRevenue['revenueA']/mergedCumulativeRevenue['ordersA'])-1)\n",
    "plt.xlabel('Дата')\n",
    "plt.ylabel('относительное изменение среднего чека')\n",
    "plt.title('График относительного изменения кумулятивного среднего чека группы B к группе A')\n",
    "# добавляем ось X\n",
    "plt.axhline(y=0, color='black', linestyle='--') \n",
    "plt.show()"
   ]
  },
  {
   "cell_type": "markdown",
   "metadata": {},
   "source": [
    "Много резких изменений до 19 августа, график нестабилен, после наблюдается тренд на снижение отношения среднего чека."
   ]
  },
  {
   "cell_type": "markdown",
   "metadata": {},
   "source": [
    "### Среднее количество заказов"
   ]
  },
  {
   "cell_type": "code",
   "execution_count": 21,
   "metadata": {},
   "outputs": [
    {
     "data": {
      "image/png": "[encoded data removed]",
      "text/plain": [
       "<Figure size 864x360 with 1 Axes>"
      ]
     },
     "metadata": {
      "needs_background": "light"
     },
     "output_type": "display_data"
    }
   ],
   "source": [
    "data['cumulativeOrders'] = data['orders']/data['visitors']\n",
    "\n",
    "# отделяем данные по группе A\n",
    "cumulativeDataA = data[data['group']=='A']\n",
    "\n",
    "# отделяем данные по группе B\n",
    "cumulativeDataB = data[data['group']=='B']\n",
    "\n",
    "plt.figure(figsize=(12, 5))\n",
    "plt.plot(cumulativeDataA['date'], cumulativeDataA['cumulativeOrders'], label='A')\n",
    "plt.plot(cumulativeDataB['date'], cumulativeDataB['cumulativeOrders'], label='B')\n",
    "plt.title('График кумулятивного среднего количества заказов на посетителя')\n",
    "plt.ylabel(\"Среднее количество заказов на посетителя\")\n",
    "plt.show()"
   ]
  },
  {
   "cell_type": "markdown",
   "metadata": {},
   "source": [
    "В начале теста среднее количество заказов на посетителя обеих групп подскачили вверх, а затем так же резко упали вниз. Потом cреднее количество заказов на посетителя группы В стала расти, а cреднее количество заказов на посетителя группы А, наоборот, просела. Далее особо ничего не менялось, до конца теста cреднее количество заказов на посетителя обеих групп были стабильны и колебались около одних и тех же значений."
   ]
  },
  {
   "cell_type": "code",
   "execution_count": 22,
   "metadata": {},
   "outputs": [
    {
     "data": {
      "image/png": "[encoded data removed]",
      "text/plain": [
       "<Figure size 864x360 with 1 Axes>"
      ]
     },
     "metadata": {
      "needs_background": "light"
     },
     "output_type": "display_data"
    }
   ],
   "source": [
    "plt.figure(figsize=(12, 5))\n",
    "plt.plot(orders_group_a['date'], orders_group_a['orders'], label='A')\n",
    "plt.plot(orders_group_b['date'], orders_group_b['orders'], label='B')\n",
    "plt.xticks(rotation=45)\n",
    "plt.title('График кумулятивного количества заказов')\n",
    "plt.ylabel(\"Количество заказов\")\n",
    "plt.xlabel('дата')\n",
    "plt.legend()\n",
    "plt.show()"
   ]
  },
  {
   "cell_type": "markdown",
   "metadata": {},
   "source": [
    "- В первую неделю количество заказов у группы B немного меньше. Со второй недели и до конца месяца разница стабильно увеличивается в пользу группы B\n",
    "- Нет всплеска числа заказов с 18 по 19 день, значит резкий скачек выручки у группы B обусловлен дорогими заказами"
   ]
  },
  {
   "cell_type": "markdown",
   "metadata": {},
   "source": [
    "### Относительное изменение кумулятивного среднего количества заказов на посетителя"
   ]
  },
  {
   "cell_type": "code",
   "execution_count": 23,
   "metadata": {},
   "outputs": [
    {
     "data": {
      "image/png": "[encoded data removed]",
      "text/plain": [
       "<Figure size 864x360 with 1 Axes>"
      ]
     },
     "metadata": {
      "needs_background": "light"
     },
     "output_type": "display_data"
    }
   ],
   "source": [
    "\n",
    "mergedCumulativeConversions = cumulativeDataA[['date','cumulativeOrders']].merge(cumulativeDataB[['date','cumulativeOrders']], left_on='date', right_on='date', how='left', suffixes=['A', 'B'])\n",
    "plt.figure(figsize=(12, 5))\n",
    "plt.title('График относительного изменения среднего количества заказов на посетителя')\n",
    "plt.plot(mergedCumulativeConversions['date'], mergedCumulativeConversions['cumulativeOrdersB']/mergedCumulativeConversions['cumulativeOrdersA']-1)\n",
    "\n",
    "plt.axhline(y=0, color='black', linestyle='--')\n",
    "plt.show()"
   ]
  },
  {
   "cell_type": "markdown",
   "metadata": {},
   "source": [
    "Показатель относительного изменения среднего количества заказов на посетителя у группы B значительно лучше, чем у групппы A"
   ]
  },
  {
   "cell_type": "markdown",
   "metadata": {},
   "source": [
    "### Количество заказов по пользователям"
   ]
  },
  {
   "cell_type": "code",
   "execution_count": 24,
   "metadata": {},
   "outputs": [],
   "source": [
    "orders_by_users = (orders.groupby('visitorId')['revenue'].count()\n",
    "                   .reset_index()\n",
    "                   .rename(columns={'revenue':'orders'}))"
   ]
  },
  {
   "cell_type": "code",
   "execution_count": 25,
   "metadata": {},
   "outputs": [
    {
     "data": {
      "image/png": "[encoded data removed]",
      "text/plain": [
       "<Figure size 432x288 with 1 Axes>"
      ]
     },
     "metadata": {
      "needs_background": "light"
     },
     "output_type": "display_data"
    }
   ],
   "source": [
    "x_values = pd.Series(range(0,orders_by_users['orders'].count()))\n",
    "plt.scatter(x_values, orders_by_users['orders'])\n",
    "plt.grid()\n",
    "plt.xlabel('Пользователи')\n",
    "plt.ylabel('кол-во заказов')\n",
    "plt.title('Точечный график количества заказов на пользователя')\n",
    "plt.show()"
   ]
  },
  {
   "cell_type": "markdown",
   "metadata": {},
   "source": [
    "В основном пользователи совершают 1 покупку, больше 3 покупок не бывает."
   ]
  },
  {
   "cell_type": "code",
   "execution_count": 26,
   "metadata": {},
   "outputs": [
    {
     "name": "stdout",
     "output_type": "stream",
     "text": [
      "95 перцентиль: 1.0\n",
      "99 перцентиль: 2.0\n"
     ]
    }
   ],
   "source": [
    "percentile = np.percentile(orders_by_users['orders'], [95,99])\n",
    "percentile_99 = percentile[1]\n",
    "print('95 перцентиль:', percentile[0])\n",
    "print('99 перцентиль:', percentile[1])"
   ]
  },
  {
   "cell_type": "markdown",
   "metadata": {},
   "source": [
    "Будем считать аномальными пользователями тех, кто сделал 3 заказа. Удалим значения выше 95 перцентиля."
   ]
  },
  {
   "cell_type": "code",
   "execution_count": 27,
   "metadata": {},
   "outputs": [
    {
     "data": {
      "text/plain": [
       "7"
      ]
     },
     "execution_count": 27,
     "metadata": {},
     "output_type": "execute_result"
    }
   ],
   "source": [
    "del_orders = len(orders_by_users[orders_by_users['orders'] > percentile_99])\n",
    "del_orders"
   ]
  },
  {
   "cell_type": "markdown",
   "metadata": {},
   "source": [
    "Удалится 7 заказов"
   ]
  },
  {
   "cell_type": "code",
   "execution_count": 28,
   "metadata": {},
   "outputs": [],
   "source": [
    "orders_by_users_clean = orders_by_users.query('orders <= @percentile_99')"
   ]
  },
  {
   "cell_type": "markdown",
   "metadata": {},
   "source": [
    "### Стоимости заказов"
   ]
  },
  {
   "cell_type": "code",
   "execution_count": 29,
   "metadata": {
    "scrolled": true
   },
   "outputs": [
    {
     "data": {
      "image/png": "[encoded data removed]",
      "text/plain": [
       "<Figure size 576x360 with 1 Axes>"
      ]
     },
     "metadata": {
      "needs_background": "light"
     },
     "output_type": "display_data"
    }
   ],
   "source": [
    "plt.figure(figsize=(8, 5))\n",
    "plt.scatter(x=range(sum(orders['revenue'] < 10**6)), y=orders.loc[orders['revenue'] < 10**6,'revenue'])\n",
    "plt.xlabel('Заказы')\n",
    "plt.ylabel('Стоимость заказа')\n",
    "plt.title('Точечный график стоимости заказов')\n",
    "plt.grid()"
   ]
  },
  {
   "cell_type": "code",
   "execution_count": 30,
   "metadata": {},
   "outputs": [
    {
     "name": "stdout",
     "output_type": "stream",
     "text": [
      "95 перцентиль: 26785.0\n",
      "99 перцентиль: 53904.0\n"
     ]
    }
   ],
   "source": [
    "per = np.percentile(orders['revenue'], [95,99])\n",
    "per_99 = per[1]\n",
    "print('95 перцентиль:', per[0])\n",
    "print('99 перцентиль:', per[1])"
   ]
  },
  {
   "cell_type": "markdown",
   "metadata": {},
   "source": [
    "Будем считать аномальными пользователями тех, кто совершил заказы дороже 54 тыс. Значения выше 99 перцентиля удалим"
   ]
  },
  {
   "cell_type": "code",
   "execution_count": 31,
   "metadata": {},
   "outputs": [],
   "source": [
    "del_price = len(orders[orders['revenue'] > per_99])"
   ]
  },
  {
   "cell_type": "markdown",
   "metadata": {},
   "source": [
    "Удалится 9 заказов"
   ]
  },
  {
   "cell_type": "code",
   "execution_count": 32,
   "metadata": {},
   "outputs": [],
   "source": [
    "orders_clean = orders.query('revenue < @per_99')"
   ]
  },
  {
   "cell_type": "markdown",
   "metadata": {},
   "source": [
    "###  Статистическая значимость различий в среднем количестве заказов на посетителя"
   ]
  },
  {
   "cell_type": "markdown",
   "metadata": {},
   "source": [
    "- Гипотеза H0 - среднее количество заказов на посетителя групп A и B равны\n",
    "- Альтернативная гипотеза H1 - среднее количество заказов на посетителя групп не равны\n",
    "\n",
    "Уровень значимости 0.05"
   ]
  },
  {
   "cell_type": "markdown",
   "metadata": {},
   "source": [
    "В случае, когда в данных есть большие (по сравнению с нормальным распределением) выбросы, алгебраические метрики работают плохо. Да, они учитывают все значения. Но в этом также их слабое место: одно выбивающееся значение существенно влияет на результат.\n",
    "\n",
    "Для проверки гипотез используем непараметрический тест Уилкоксона-Манна-Уитни.  \n",
    "\n",
    "Ключевая идея — проранжировать две выборки по порядку от меньшего к большему и сравнить ранги одних и тех же значений, попавших в обе выборки. Ранг — это место в упорядоченной выборке. Разница между рангами одних и тех же значений может быть одинакова, и такой сдвиг называют типичным. Значит, просто добавились значения, сдвинувшие все остальные."
   ]
  },
  {
   "cell_type": "code",
   "execution_count": 33,
   "metadata": {},
   "outputs": [],
   "source": [
    "orders_by_usersA = orders[orders['group']=='A'].groupby('visitorId')['transactionId'].nunique().reset_index()\n",
    "orders_by_usersA.columns=['visitorsId','orders']\n",
    "orders_by_usersB = orders[orders['group']=='B'].groupby('visitorId')['transactionId'].nunique().reset_index()\n",
    "orders_by_usersB.columns=['visitorsId','orders']"
   ]
  },
  {
   "cell_type": "code",
   "execution_count": 34,
   "metadata": {},
   "outputs": [],
   "source": [
    "sampleA = pd.concat([orders_by_usersA['orders'],\n",
    "                     pd.Series(0, index=np.arange(visitors[visitors['group']=='A']['visitors'].sum() -\n",
    "                                                  len(orders_by_usersA['orders'])), name='orders')\n",
    "])\n",
    "sampleB = pd.concat([orders_by_usersB['orders'],\n",
    "                     pd.Series(0, index=np.arange(visitors[visitors['group']=='B']['visitors'].sum() -\n",
    "                                                  len(orders_by_usersB['orders'])), name='orders')])"
   ]
  },
  {
   "cell_type": "code",
   "execution_count": 35,
   "metadata": {},
   "outputs": [
    {
     "name": "stdout",
     "output_type": "stream",
     "text": [
      "p_value: 0.01102\n",
      "Среднее количество заказов на посетителя группы А: 2.5%\n",
      "Среднее количество заказов на посетителя группы B: 2.9%\n",
      "Относительный прирост среднего количества заказов на посетителя группы B:0.16\n"
     ]
    }
   ],
   "source": [
    "print('p_value: {:.5f}'.format(st.mannwhitneyu(sampleA, sampleB, alternative = 'two-sided' )[1]))\n",
    "print('Среднее количество заказов на посетителя группы А: {:.1%}'.format(sampleA.mean()))\n",
    "print('Среднее количество заказов на посетителя группы B: {:.1%}'.format(sampleB.mean()))\n",
    "print('Относительный прирост среднего количества заказов на посетителя группы B:{:.3}'.format(sampleB.mean()/sampleA.mean()-1))"
   ]
  },
  {
   "cell_type": "markdown",
   "metadata": {},
   "source": [
    "p значение меньше уровня значимости, гипотеза H0 отвергается, среднее количество заказов на посетителя не равно."
   ]
  },
  {
   "cell_type": "markdown",
   "metadata": {},
   "source": [
    "### Статистическая значимость различий в среднем чеке заказа между группами"
   ]
  },
  {
   "cell_type": "markdown",
   "metadata": {},
   "source": [
    "- H0 - средний чек групп A и B равны\n",
    "- H1 - средний чек групп не равен\n",
    "\n",
    "Уровень значимости 0.05"
   ]
  },
  {
   "cell_type": "code",
   "execution_count": 36,
   "metadata": {},
   "outputs": [
    {
     "name": "stdout",
     "output_type": "stream",
     "text": [
      "p_value: 0.82949\n",
      "Средний чек группы А: 7189.44\n",
      "Средний чек группы B: 9249.95\n",
      "Относительные различия в среднем чеке: 0.287\n"
     ]
    }
   ],
   "source": [
    "print('p_value: {:.5f}'.format(\n",
    "    st.mannwhitneyu(orders[orders['group']=='A']['revenue'], orders[orders['group']=='B']['revenue'],\n",
    "                    alternative = 'two-sided' )[1]\n",
    "))\n",
    "print('Средний чек группы А: {:.2f}'.format(orders[orders['group']=='A']['revenue'].mean()))\n",
    "print('Средний чек группы B: {:.2f}'.format(orders[orders['group']=='B']['revenue'].mean()))\n",
    "print('Относительные различия в среднем чеке: {0:.3f}'.format(orders[orders['group']=='B']['revenue'].mean()/orders[orders['group']=='A']['revenue'].mean()-1)) \n"
   ]
  },
  {
   "cell_type": "markdown",
   "metadata": {},
   "source": [
    "p-значение больше уровня значимости, гипотеза не отвергается, то есть средние чеки групп равны. Относительное различие велико"
   ]
  },
  {
   "cell_type": "markdown",
   "metadata": {},
   "source": [
    "###  Статистическая значимость различий в среднем количестве заказов на посетителя между группами по «очищенным» данным"
   ]
  },
  {
   "cell_type": "code",
   "execution_count": 37,
   "metadata": {},
   "outputs": [
    {
     "data": {
      "text/plain": [
       "16"
      ]
     },
     "execution_count": 37,
     "metadata": {},
     "output_type": "execute_result"
    }
   ],
   "source": [
    "del_orders+del_price"
   ]
  },
  {
   "cell_type": "markdown",
   "metadata": {},
   "source": [
    "Всего аномальных пользователей получилось 16. "
   ]
  },
  {
   "cell_type": "code",
   "execution_count": 38,
   "metadata": {},
   "outputs": [
    {
     "data": {
      "text/plain": [
       "0.04249442260703283"
      ]
     },
     "execution_count": 38,
     "metadata": {},
     "output_type": "execute_result"
    }
   ],
   "source": [
    "(del_orders+del_price)/(visitors['visitors'].sum())*100"
   ]
  },
  {
   "cell_type": "markdown",
   "metadata": {},
   "source": [
    "Это составляет всего 0.04 процента от ощего числа пользователей, фильтрация разумная"
   ]
  },
  {
   "cell_type": "markdown",
   "metadata": {},
   "source": [
    "- H0 - среднее количество заказов на посетителя групп A и B равны\n",
    "- H1 - среднее количество заказов на посетителя групп не равны\n",
    "\n",
    "Уровень значимости 0.05"
   ]
  },
  {
   "cell_type": "code",
   "execution_count": 39,
   "metadata": {},
   "outputs": [],
   "source": [
    "orders_by_usersA = orders_clean[orders_clean['group']=='A'].groupby('visitorId')['transactionId'].nunique().reset_index()\n",
    "orders_by_usersA.columns=['visitorsId','orders']\n",
    "\n",
    "orders_by_usersB = orders_clean[orders_clean['group']=='B'].groupby('visitorId')['transactionId'].nunique().reset_index()\n",
    "orders_by_usersB.columns=['visitorsId','orders']"
   ]
  },
  {
   "cell_type": "code",
   "execution_count": 40,
   "metadata": {},
   "outputs": [],
   "source": [
    "sampleA = pd.concat([orders_by_usersA['orders'], pd.Series(0,\n",
    "                                                           index=np.arange(visitors[visitors['group']=='A']['visitors'].sum() -\n",
    "                                                                              len(orders_by_usersA['orders'])), name='orders')\n",
    "])\n",
    "sampleB = pd.concat([orders_by_usersB['orders'], pd.Series(0,\n",
    "                                                           index=np.arange(visitors[visitors['group']=='B']['visitors'].sum() -\n",
    "                                                                              len(orders_by_usersB['orders'])), name='orders')])"
   ]
  },
  {
   "cell_type": "code",
   "execution_count": 41,
   "metadata": {},
   "outputs": [
    {
     "name": "stdout",
     "output_type": "stream",
     "text": [
      "p_value: 0.00867\n",
      "Среднее количество заказов на посетителя группы А: 2.5%\n",
      "Среднее количество заказов на посетителя группы B: 2.9%\n",
      "Относительный прирост среднего количества заказов на посетителя группы B:0.167\n"
     ]
    }
   ],
   "source": [
    "print('p_value: {:.5f}'.format(st.mannwhitneyu(sampleA, sampleB, alternative = 'two-sided' )[1]))\n",
    "print('Среднее количество заказов на посетителя группы А: {:.1%}'.format(sampleA.mean()))\n",
    "print('Среднее количество заказов на посетителя группы B: {:.1%}'.format(sampleB.mean()))\n",
    "print('Относительный прирост среднего количества заказов на посетителя группы B:{:.3}'.format(sampleB.mean()/sampleA.mean()-1))"
   ]
  },
  {
   "cell_type": "markdown",
   "metadata": {},
   "source": [
    "p-значение меньше уровня значимости, гипотеза H0 отвергается, значит  cреднее количество заказов на посетителя групп не равны. До и после удаления аномальных пользователей есть статистически значимое различие в cреднеv количествt заказов на посетителя по группам при . После удаления аномальных пользователей разница в cреднеv количестве заказов на посетителяи между группами увеличилась с 16% до 17%."
   ]
  },
  {
   "cell_type": "markdown",
   "metadata": {},
   "source": [
    "### Статистическая значимость различий в среднем чеке заказа между группами по «очищенным» данным"
   ]
  },
  {
   "cell_type": "markdown",
   "metadata": {},
   "source": [
    "- H0 - средний чек групп A и B равны\n",
    "- H1 - средний чек групп не равен\n",
    "\n",
    "Уровень значимости 0.05"
   ]
  },
  {
   "cell_type": "code",
   "execution_count": 42,
   "metadata": {},
   "outputs": [
    {
     "name": "stdout",
     "output_type": "stream",
     "text": [
      "p_value: 0.95446\n",
      "Средний чек группы А: 6298.91\n",
      "Средний чек группы B: 6211.16\n",
      "Относительные различия в среднем чеке: -0.014\n"
     ]
    }
   ],
   "source": [
    "print('p_value: {:.5f}'.format(\n",
    "    st.mannwhitneyu(orders_clean[orders_clean['group']=='A']['revenue'],\n",
    "                    orders_clean[orders_clean['group']=='B']['revenue'],\n",
    "                   alternative = 'two-sided' )[1]\n",
    "))\n",
    "print('Средний чек группы А: {:.2f}'.format(orders_clean[orders_clean['group']=='A']['revenue'].mean()))\n",
    "print('Средний чек группы B: {:.2f}'.format(orders_clean[orders_clean['group']=='B']['revenue'].mean()))\n",
    "print('Относительные различия в среднем чеке: {0:.3f}'.format(orders_clean[orders_clean['group']=='B']['revenue'].mean()/orders_clean[orders_clean['group']=='A']['revenue'].mean()-1)) \n"
   ]
  },
  {
   "cell_type": "markdown",
   "metadata": {},
   "source": [
    "p-значение больше уровня значимости, гипотеза не отвергается, то есть средние чеки групп равны.  \n",
    "\n"
   ]
  },
  {
   "cell_type": "markdown",
   "metadata": {},
   "source": [
    "Принимаю решение остановить тест и зафиксировать победу группы B, после очистки данных от аномалий выявились статистические различия в cреднем количестве заказов на посетителя групп, группа B лидирует. Удалось снизить относительные различия в среднем чеке с 29% до 1%"
   ]
  },
  {
   "cell_type": "markdown",
   "metadata": {},
   "source": [
    "## Вывод"
   ]
  },
  {
   "cell_type": "markdown",
   "metadata": {},
   "source": [
    "Мы загрузили данные, изменили типы нужных столбцов, провели АА-тестирование\n",
    "\n",
    "Мы приоретизировали предложенные гипотезы с помощью фреймворков ICE и RICE.\n",
    "Учет параметра Reach с помощью фреймворка RICE поменял приоритетность гипотез, полученных с помощью ICE. Гипотеза 7 о сборе баз клиентов для рассылок вышла на первое место из-за большого охвата пользователей. В топ вышли гипозы 2 и 8 о блоках рекомендаций и баннерной рекламе.\n",
    "\n",
    "Постоили график кумулятивной выручки по группам и увиднли резкий скачок в группе B после 17.08. Это могло произойти из-за большого количества обычных заказов или каких-то аномально больших, конец августа - подготовка к новому учебному году. Постороили график кумуятивного среднего чека. Видим растущий стредний чек и небольше снижение с 13.08 в группе A. По графику кумулятивного среднего количества заказов на посетителя видим, среднее количество заказов  группы на посетителя  B стабильно превышет конверсию A на 0.004. Среднее количество заказов на посетителя группы B значительно лучше, чем у групппы A.\n",
    "\n",
    "По графику количества заказов на пользователя можно сделать вывод, что в основном пользователи совершают 1 покупку, больше 3 покупок случается редко. Выводы подтверждает рассчет персентилей.\n",
    "\n",
    "По графику стоимостей заказов можно сделать вывод, что в основном пользователи совершают покупки на сумму 30-50 тыс., выше случается очень редко\n",
    "\n",
    "Мы собрали очищенные от аномальных значений данные. По сырым данным посчитали статистическую значимость различий конверсий и среднего чека групп, конверсии групп не равны. Провели те же тесты на очищенных данных и подтвердили вывод о различии конверсии групп, по очищенным данным относительная разница в среднем чеке мала, статистически значения среднего чека групп одинаковые.\n",
    "\n",
    "Принимаем решение остановить тест и зафиксировать победу группы B"
   ]
  }
 ],
 "metadata": {
  "ExecuteTimeLog": [
   {
    "duration": 1451,
    "start_time": "2022-12-07T21:46:55.213Z"
   },
   {
    "duration": 1328,
    "start_time": "2022-12-08T00:12:06.307Z"
   },
   {
    "duration": 92,
    "start_time": "2022-12-08T00:12:07.637Z"
   },
   {
    "duration": 127,
    "start_time": "2022-12-08T00:13:04.351Z"
   },
   {
    "duration": 85,
    "start_time": "2022-12-08T00:15:23.373Z"
   },
   {
    "duration": 6,
    "start_time": "2022-12-08T00:15:38.258Z"
   },
   {
    "duration": 4,
    "start_time": "2022-12-08T00:15:55.667Z"
   },
   {
    "duration": 7,
    "start_time": "2022-12-08T00:19:21.474Z"
   },
   {
    "duration": 6,
    "start_time": "2022-12-08T00:20:46.596Z"
   },
   {
    "duration": 9,
    "start_time": "2022-12-08T00:20:51.882Z"
   },
   {
    "duration": 8,
    "start_time": "2022-12-08T00:22:38.862Z"
   },
   {
    "duration": 9,
    "start_time": "2022-12-08T00:23:07.023Z"
   },
   {
    "duration": 11,
    "start_time": "2022-12-08T00:23:16.432Z"
   },
   {
    "duration": 7,
    "start_time": "2022-12-08T00:23:30.537Z"
   },
   {
    "duration": 8,
    "start_time": "2022-12-08T00:23:38.939Z"
   },
   {
    "duration": 8,
    "start_time": "2022-12-08T00:23:43.731Z"
   },
   {
    "duration": 8,
    "start_time": "2022-12-08T00:23:51.135Z"
   },
   {
    "duration": 13,
    "start_time": "2022-12-08T00:24:23.442Z"
   },
   {
    "duration": 8,
    "start_time": "2022-12-08T00:24:42.924Z"
   },
   {
    "duration": 10,
    "start_time": "2022-12-08T00:24:59.598Z"
   },
   {
    "duration": 9,
    "start_time": "2022-12-08T00:25:31.054Z"
   },
   {
    "duration": 6,
    "start_time": "2022-12-08T00:25:53.000Z"
   },
   {
    "duration": 9,
    "start_time": "2022-12-08T00:25:57.224Z"
   },
   {
    "duration": 4,
    "start_time": "2022-12-08T00:26:26.764Z"
   },
   {
    "duration": 5,
    "start_time": "2022-12-08T00:27:15.466Z"
   },
   {
    "duration": 107,
    "start_time": "2022-12-08T00:29:20.123Z"
   },
   {
    "duration": 9,
    "start_time": "2022-12-08T00:29:30.503Z"
   },
   {
    "duration": 9,
    "start_time": "2022-12-08T00:29:37.307Z"
   },
   {
    "duration": 4,
    "start_time": "2022-12-08T00:30:11.831Z"
   },
   {
    "duration": 4,
    "start_time": "2022-12-08T00:30:29.272Z"
   },
   {
    "duration": 15,
    "start_time": "2022-12-08T00:31:40.705Z"
   },
   {
    "duration": 7,
    "start_time": "2022-12-08T00:32:37.417Z"
   },
   {
    "duration": 7,
    "start_time": "2022-12-08T00:32:50.923Z"
   },
   {
    "duration": 8,
    "start_time": "2022-12-08T00:33:22.067Z"
   },
   {
    "duration": 7,
    "start_time": "2022-12-08T00:33:27.988Z"
   },
   {
    "duration": 727,
    "start_time": "2022-12-08T00:34:12.187Z"
   },
   {
    "duration": 4,
    "start_time": "2022-12-08T00:34:21.390Z"
   },
   {
    "duration": 7,
    "start_time": "2022-12-08T00:34:44.673Z"
   },
   {
    "duration": 5,
    "start_time": "2022-12-08T00:34:59.806Z"
   },
   {
    "duration": 1182,
    "start_time": "2022-12-08T00:35:25.660Z"
   },
   {
    "duration": 46,
    "start_time": "2022-12-08T00:35:26.845Z"
   },
   {
    "duration": 53,
    "start_time": "2022-12-08T00:35:26.892Z"
   },
   {
    "duration": 5,
    "start_time": "2022-12-08T00:35:26.946Z"
   },
   {
    "duration": 32,
    "start_time": "2022-12-08T00:35:26.953Z"
   },
   {
    "duration": 4,
    "start_time": "2022-12-08T00:35:26.986Z"
   },
   {
    "duration": 14,
    "start_time": "2022-12-08T00:35:26.992Z"
   },
   {
    "duration": 6,
    "start_time": "2022-12-08T00:35:27.007Z"
   },
   {
    "duration": 13,
    "start_time": "2022-12-08T00:35:27.014Z"
   },
   {
    "duration": 4,
    "start_time": "2022-12-08T00:35:27.029Z"
   },
   {
    "duration": 1147,
    "start_time": "2022-12-08T00:35:39.705Z"
   },
   {
    "duration": 44,
    "start_time": "2022-12-08T00:35:40.854Z"
   },
   {
    "duration": 52,
    "start_time": "2022-12-08T00:35:40.900Z"
   },
   {
    "duration": 5,
    "start_time": "2022-12-08T00:35:40.954Z"
   },
   {
    "duration": 54,
    "start_time": "2022-12-08T00:35:40.960Z"
   },
   {
    "duration": 4,
    "start_time": "2022-12-08T00:35:41.016Z"
   },
   {
    "duration": 29,
    "start_time": "2022-12-08T00:35:41.022Z"
   },
   {
    "duration": 19,
    "start_time": "2022-12-08T00:35:41.053Z"
   },
   {
    "duration": 21,
    "start_time": "2022-12-08T00:35:41.074Z"
   },
   {
    "duration": 19,
    "start_time": "2022-12-08T00:35:41.097Z"
   },
   {
    "duration": 6,
    "start_time": "2022-12-08T00:35:53.366Z"
   },
   {
    "duration": 4,
    "start_time": "2022-12-08T00:38:43.724Z"
   },
   {
    "duration": 5,
    "start_time": "2022-12-08T00:38:48.264Z"
   },
   {
    "duration": 14,
    "start_time": "2022-12-08T00:39:24.455Z"
   },
   {
    "duration": 5,
    "start_time": "2022-12-08T00:40:40.123Z"
   },
   {
    "duration": 13,
    "start_time": "2022-12-08T00:40:50.489Z"
   },
   {
    "duration": 777,
    "start_time": "2022-12-08T00:54:25.225Z"
   },
   {
    "duration": 698,
    "start_time": "2022-12-08T00:55:33.554Z"
   },
   {
    "duration": 689,
    "start_time": "2022-12-08T00:56:28.028Z"
   },
   {
    "duration": 141,
    "start_time": "2022-12-08T00:58:55.056Z"
   },
   {
    "duration": 242,
    "start_time": "2022-12-08T00:59:18.283Z"
   },
   {
    "duration": 145,
    "start_time": "2022-12-08T00:59:21.953Z"
   },
   {
    "duration": 149,
    "start_time": "2022-12-08T00:59:22.234Z"
   },
   {
    "duration": 1095,
    "start_time": "2022-12-08T00:59:42.636Z"
   },
   {
    "duration": 45,
    "start_time": "2022-12-08T00:59:43.733Z"
   },
   {
    "duration": 51,
    "start_time": "2022-12-08T00:59:43.780Z"
   },
   {
    "duration": 5,
    "start_time": "2022-12-08T00:59:43.833Z"
   },
   {
    "duration": 32,
    "start_time": "2022-12-08T00:59:43.839Z"
   },
   {
    "duration": 3,
    "start_time": "2022-12-08T00:59:43.873Z"
   },
   {
    "duration": 14,
    "start_time": "2022-12-08T00:59:43.878Z"
   },
   {
    "duration": 6,
    "start_time": "2022-12-08T00:59:43.893Z"
   },
   {
    "duration": 17,
    "start_time": "2022-12-08T00:59:43.900Z"
   },
   {
    "duration": 4,
    "start_time": "2022-12-08T00:59:43.920Z"
   },
   {
    "duration": 7,
    "start_time": "2022-12-08T00:59:43.926Z"
   },
   {
    "duration": 15,
    "start_time": "2022-12-08T00:59:43.935Z"
   },
   {
    "duration": 12,
    "start_time": "2022-12-08T00:59:43.951Z"
   },
   {
    "duration": 17,
    "start_time": "2022-12-08T00:59:43.964Z"
   },
   {
    "duration": 2371,
    "start_time": "2022-12-08T00:59:43.983Z"
   },
   {
    "duration": 298,
    "start_time": "2022-12-08T00:59:46.356Z"
   },
   {
    "duration": 205,
    "start_time": "2022-12-08T01:02:21.971Z"
   },
   {
    "duration": 311,
    "start_time": "2022-12-08T01:04:21.386Z"
   },
   {
    "duration": 206,
    "start_time": "2022-12-08T01:06:21.681Z"
   },
   {
    "duration": 350,
    "start_time": "2022-12-08T01:09:55.669Z"
   },
   {
    "duration": 260,
    "start_time": "2022-12-08T01:10:50.367Z"
   },
   {
    "duration": 6,
    "start_time": "2022-12-08T01:12:03.850Z"
   },
   {
    "duration": 139,
    "start_time": "2022-12-08T01:12:14.549Z"
   },
   {
    "duration": 4,
    "start_time": "2022-12-08T01:13:58.728Z"
   },
   {
    "duration": 41,
    "start_time": "2022-12-08T01:15:28.729Z"
   },
   {
    "duration": 7,
    "start_time": "2022-12-08T01:16:24.225Z"
   },
   {
    "duration": 220,
    "start_time": "2022-12-08T01:17:52.854Z"
   },
   {
    "duration": 215,
    "start_time": "2022-12-08T01:19:47.476Z"
   },
   {
    "duration": 218,
    "start_time": "2022-12-08T01:20:14.835Z"
   },
   {
    "duration": 301,
    "start_time": "2022-12-08T01:20:37.515Z"
   },
   {
    "duration": 129,
    "start_time": "2022-12-08T01:20:45.291Z"
   },
   {
    "duration": 134,
    "start_time": "2022-12-08T01:20:54.136Z"
   },
   {
    "duration": 1098,
    "start_time": "2022-12-08T01:21:03.253Z"
   },
   {
    "duration": 44,
    "start_time": "2022-12-08T01:21:04.352Z"
   },
   {
    "duration": 51,
    "start_time": "2022-12-08T01:21:04.397Z"
   },
   {
    "duration": 5,
    "start_time": "2022-12-08T01:21:04.450Z"
   },
   {
    "duration": 29,
    "start_time": "2022-12-08T01:21:04.457Z"
   },
   {
    "duration": 4,
    "start_time": "2022-12-08T01:21:04.488Z"
   },
   {
    "duration": 12,
    "start_time": "2022-12-08T01:21:04.493Z"
   },
   {
    "duration": 5,
    "start_time": "2022-12-08T01:21:04.507Z"
   },
   {
    "duration": 9,
    "start_time": "2022-12-08T01:21:04.514Z"
   },
   {
    "duration": 4,
    "start_time": "2022-12-08T01:21:04.525Z"
   },
   {
    "duration": 12,
    "start_time": "2022-12-08T01:21:04.531Z"
   },
   {
    "duration": 21,
    "start_time": "2022-12-08T01:21:04.544Z"
   },
   {
    "duration": 9,
    "start_time": "2022-12-08T01:21:04.566Z"
   },
   {
    "duration": 16,
    "start_time": "2022-12-08T01:21:04.577Z"
   },
   {
    "duration": 2366,
    "start_time": "2022-12-08T01:21:04.595Z"
   },
   {
    "duration": 272,
    "start_time": "2022-12-08T01:21:06.962Z"
   },
   {
    "duration": 206,
    "start_time": "2022-12-08T01:21:07.236Z"
   },
   {
    "duration": 284,
    "start_time": "2022-12-08T01:21:07.444Z"
   },
   {
    "duration": 226,
    "start_time": "2022-12-08T01:21:07.731Z"
   },
   {
    "duration": 362,
    "start_time": "2022-12-08T01:21:07.959Z"
   },
   {
    "duration": 6,
    "start_time": "2022-12-08T01:21:08.323Z"
   },
   {
    "duration": 155,
    "start_time": "2022-12-08T01:21:08.330Z"
   },
   {
    "duration": 4,
    "start_time": "2022-12-08T01:21:08.487Z"
   },
   {
    "duration": 8,
    "start_time": "2022-12-08T01:21:08.493Z"
   },
   {
    "duration": 229,
    "start_time": "2022-12-08T01:21:08.511Z"
   },
   {
    "duration": 142,
    "start_time": "2022-12-08T01:21:48.885Z"
   },
   {
    "duration": 141,
    "start_time": "2022-12-08T01:22:00.535Z"
   },
   {
    "duration": 5,
    "start_time": "2022-12-08T01:22:34.268Z"
   },
   {
    "duration": 5,
    "start_time": "2022-12-08T01:23:52.350Z"
   },
   {
    "duration": 10,
    "start_time": "2022-12-08T01:27:54.638Z"
   },
   {
    "duration": 9,
    "start_time": "2022-12-08T01:28:03.654Z"
   },
   {
    "duration": 28,
    "start_time": "2022-12-08T01:28:16.409Z"
   },
   {
    "duration": 18,
    "start_time": "2022-12-08T01:30:06.337Z"
   },
   {
    "duration": 10,
    "start_time": "2022-12-08T01:31:35.802Z"
   },
   {
    "duration": 8,
    "start_time": "2022-12-08T01:31:45.235Z"
   },
   {
    "duration": 24,
    "start_time": "2022-12-08T01:31:55.152Z"
   },
   {
    "duration": 14,
    "start_time": "2022-12-08T01:33:47.899Z"
   },
   {
    "duration": 55,
    "start_time": "2022-12-08T12:31:18.715Z"
   },
   {
    "duration": 1343,
    "start_time": "2022-12-08T12:31:24.890Z"
   },
   {
    "duration": 101,
    "start_time": "2022-12-08T12:31:26.236Z"
   },
   {
    "duration": 100,
    "start_time": "2022-12-08T12:31:26.338Z"
   },
   {
    "duration": 5,
    "start_time": "2022-12-08T12:31:26.440Z"
   },
   {
    "duration": 86,
    "start_time": "2022-12-08T12:31:26.447Z"
   },
   {
    "duration": 4,
    "start_time": "2022-12-08T12:31:26.534Z"
   },
   {
    "duration": 9,
    "start_time": "2022-12-08T12:31:26.539Z"
   },
   {
    "duration": 10,
    "start_time": "2022-12-08T12:31:26.549Z"
   },
   {
    "duration": 7,
    "start_time": "2022-12-08T12:31:26.560Z"
   },
   {
    "duration": 8,
    "start_time": "2022-12-08T12:31:26.569Z"
   },
   {
    "duration": 5,
    "start_time": "2022-12-08T12:31:26.578Z"
   },
   {
    "duration": 6,
    "start_time": "2022-12-08T12:31:26.584Z"
   },
   {
    "duration": 20,
    "start_time": "2022-12-08T12:31:26.592Z"
   },
   {
    "duration": 5,
    "start_time": "2022-12-08T12:31:26.614Z"
   },
   {
    "duration": 15,
    "start_time": "2022-12-08T12:31:26.620Z"
   },
   {
    "duration": 2327,
    "start_time": "2022-12-08T12:31:26.636Z"
   },
   {
    "duration": 266,
    "start_time": "2022-12-08T12:31:28.965Z"
   },
   {
    "duration": 217,
    "start_time": "2022-12-08T12:31:29.233Z"
   },
   {
    "duration": 315,
    "start_time": "2022-12-08T12:31:29.451Z"
   },
   {
    "duration": 208,
    "start_time": "2022-12-08T12:31:29.768Z"
   },
   {
    "duration": 346,
    "start_time": "2022-12-08T12:31:29.978Z"
   },
   {
    "duration": 6,
    "start_time": "2022-12-08T12:31:30.325Z"
   },
   {
    "duration": 305,
    "start_time": "2022-12-08T12:31:30.333Z"
   },
   {
    "duration": 5,
    "start_time": "2022-12-08T12:31:30.640Z"
   },
   {
    "duration": 63,
    "start_time": "2022-12-08T12:31:30.646Z"
   },
   {
    "duration": 298,
    "start_time": "2022-12-08T12:31:30.710Z"
   },
   {
    "duration": 4,
    "start_time": "2022-12-08T12:31:31.010Z"
   },
   {
    "duration": 53,
    "start_time": "2022-12-08T12:31:31.018Z"
   },
   {
    "duration": 77,
    "start_time": "2022-12-08T12:31:31.072Z"
   },
   {
    "duration": 58,
    "start_time": "2022-12-08T12:31:31.150Z"
   },
   {
    "duration": 44,
    "start_time": "2022-12-08T12:31:31.210Z"
   },
   {
    "duration": 55,
    "start_time": "2022-12-08T12:31:31.255Z"
   },
   {
    "duration": 60,
    "start_time": "2022-12-08T12:31:31.311Z"
   },
   {
    "duration": 18,
    "start_time": "2022-12-08T12:31:31.404Z"
   },
   {
    "duration": 82,
    "start_time": "2022-12-08T12:31:31.424Z"
   },
   {
    "duration": 19,
    "start_time": "2022-12-08T12:31:31.508Z"
   },
   {
    "duration": 4,
    "start_time": "2022-12-08T12:32:57.930Z"
   },
   {
    "duration": 9,
    "start_time": "2022-12-08T12:33:05.625Z"
   },
   {
    "duration": 1150,
    "start_time": "2022-12-08T12:33:19.453Z"
   },
   {
    "duration": 44,
    "start_time": "2022-12-08T12:33:20.604Z"
   },
   {
    "duration": 49,
    "start_time": "2022-12-08T12:33:20.649Z"
   },
   {
    "duration": 5,
    "start_time": "2022-12-08T12:33:20.700Z"
   },
   {
    "duration": 29,
    "start_time": "2022-12-08T12:33:20.707Z"
   },
   {
    "duration": 4,
    "start_time": "2022-12-08T12:33:20.737Z"
   },
   {
    "duration": 12,
    "start_time": "2022-12-08T12:33:20.742Z"
   },
   {
    "duration": 5,
    "start_time": "2022-12-08T12:33:20.756Z"
   },
   {
    "duration": 5,
    "start_time": "2022-12-08T12:33:20.762Z"
   },
   {
    "duration": 13,
    "start_time": "2022-12-08T12:33:20.769Z"
   },
   {
    "duration": 6,
    "start_time": "2022-12-08T12:33:20.783Z"
   },
   {
    "duration": 15,
    "start_time": "2022-12-08T12:33:20.790Z"
   },
   {
    "duration": 3,
    "start_time": "2022-12-08T12:33:20.807Z"
   },
   {
    "duration": 16,
    "start_time": "2022-12-08T12:33:20.812Z"
   },
   {
    "duration": 23,
    "start_time": "2022-12-08T12:33:20.829Z"
   },
   {
    "duration": 12,
    "start_time": "2022-12-08T12:33:20.854Z"
   },
   {
    "duration": 35,
    "start_time": "2022-12-08T12:33:20.867Z"
   },
   {
    "duration": 3122,
    "start_time": "2022-12-08T12:33:20.904Z"
   },
   {
    "duration": 285,
    "start_time": "2022-12-08T12:33:24.028Z"
   },
   {
    "duration": 211,
    "start_time": "2022-12-08T12:33:24.314Z"
   },
   {
    "duration": 287,
    "start_time": "2022-12-08T12:33:24.526Z"
   },
   {
    "duration": 231,
    "start_time": "2022-12-08T12:33:24.815Z"
   },
   {
    "duration": 379,
    "start_time": "2022-12-08T12:33:25.048Z"
   },
   {
    "duration": 6,
    "start_time": "2022-12-08T12:33:25.428Z"
   },
   {
    "duration": 158,
    "start_time": "2022-12-08T12:33:25.435Z"
   },
   {
    "duration": 4,
    "start_time": "2022-12-08T12:33:25.595Z"
   },
   {
    "duration": 5,
    "start_time": "2022-12-08T12:33:25.605Z"
   },
   {
    "duration": 164,
    "start_time": "2022-12-08T12:33:25.613Z"
   },
   {
    "duration": 4,
    "start_time": "2022-12-08T12:33:25.779Z"
   },
   {
    "duration": 10,
    "start_time": "2022-12-08T12:33:25.785Z"
   },
   {
    "duration": 10,
    "start_time": "2022-12-08T12:33:25.804Z"
   },
   {
    "duration": 7,
    "start_time": "2022-12-08T12:33:25.815Z"
   },
   {
    "duration": 25,
    "start_time": "2022-12-08T12:33:25.824Z"
   },
   {
    "duration": 12,
    "start_time": "2022-12-08T12:33:25.851Z"
   },
   {
    "duration": 13,
    "start_time": "2022-12-08T12:33:25.864Z"
   },
   {
    "duration": 8,
    "start_time": "2022-12-08T12:33:25.904Z"
   },
   {
    "duration": 36,
    "start_time": "2022-12-08T12:33:25.914Z"
   },
   {
    "duration": 12,
    "start_time": "2022-12-08T12:33:25.952Z"
   },
   {
    "duration": 7,
    "start_time": "2022-12-08T12:34:41.752Z"
   },
   {
    "duration": 5,
    "start_time": "2022-12-08T12:34:43.876Z"
   },
   {
    "duration": 9,
    "start_time": "2022-12-08T12:34:44.693Z"
   },
   {
    "duration": 1220,
    "start_time": "2022-12-08T12:34:49.620Z"
   },
   {
    "duration": 42,
    "start_time": "2022-12-08T12:34:50.842Z"
   },
   {
    "duration": 49,
    "start_time": "2022-12-08T12:34:50.886Z"
   },
   {
    "duration": 6,
    "start_time": "2022-12-08T12:34:50.937Z"
   },
   {
    "duration": 31,
    "start_time": "2022-12-08T12:34:50.944Z"
   },
   {
    "duration": 3,
    "start_time": "2022-12-08T12:34:50.977Z"
   },
   {
    "duration": 12,
    "start_time": "2022-12-08T12:34:50.982Z"
   },
   {
    "duration": 4,
    "start_time": "2022-12-08T12:34:50.996Z"
   },
   {
    "duration": 5,
    "start_time": "2022-12-08T12:34:51.002Z"
   },
   {
    "duration": 12,
    "start_time": "2022-12-08T12:34:51.009Z"
   },
   {
    "duration": 13,
    "start_time": "2022-12-08T12:34:51.023Z"
   },
   {
    "duration": 17,
    "start_time": "2022-12-08T12:34:51.038Z"
   },
   {
    "duration": 9,
    "start_time": "2022-12-08T12:34:51.057Z"
   },
   {
    "duration": 6,
    "start_time": "2022-12-08T12:34:51.068Z"
   },
   {
    "duration": 29,
    "start_time": "2022-12-08T12:34:51.075Z"
   },
   {
    "duration": 5,
    "start_time": "2022-12-08T12:34:51.106Z"
   },
   {
    "duration": 27,
    "start_time": "2022-12-08T12:34:51.113Z"
   },
   {
    "duration": 2257,
    "start_time": "2022-12-08T12:34:51.142Z"
   },
   {
    "duration": 275,
    "start_time": "2022-12-08T12:34:53.401Z"
   },
   {
    "duration": 208,
    "start_time": "2022-12-08T12:34:53.677Z"
   },
   {
    "duration": 347,
    "start_time": "2022-12-08T12:34:53.887Z"
   },
   {
    "duration": 242,
    "start_time": "2022-12-08T12:34:54.235Z"
   },
   {
    "duration": 365,
    "start_time": "2022-12-08T12:34:54.479Z"
   },
   {
    "duration": 6,
    "start_time": "2022-12-08T12:34:54.845Z"
   },
   {
    "duration": 174,
    "start_time": "2022-12-08T12:34:54.853Z"
   },
   {
    "duration": 5,
    "start_time": "2022-12-08T12:34:55.029Z"
   },
   {
    "duration": 35,
    "start_time": "2022-12-08T12:34:55.036Z"
   },
   {
    "duration": 174,
    "start_time": "2022-12-08T12:34:55.075Z"
   },
   {
    "duration": 5,
    "start_time": "2022-12-08T12:34:55.251Z"
   },
   {
    "duration": 21,
    "start_time": "2022-12-08T12:34:55.257Z"
   },
   {
    "duration": 37,
    "start_time": "2022-12-08T12:34:55.279Z"
   },
   {
    "duration": 18,
    "start_time": "2022-12-08T12:34:55.318Z"
   },
   {
    "duration": 52,
    "start_time": "2022-12-08T12:34:55.338Z"
   },
   {
    "duration": 13,
    "start_time": "2022-12-08T12:34:55.392Z"
   },
   {
    "duration": 30,
    "start_time": "2022-12-08T12:34:55.406Z"
   },
   {
    "duration": 38,
    "start_time": "2022-12-08T12:34:55.438Z"
   },
   {
    "duration": 40,
    "start_time": "2022-12-08T12:34:55.478Z"
   },
   {
    "duration": 25,
    "start_time": "2022-12-08T12:34:55.520Z"
   },
   {
    "duration": 6,
    "start_time": "2022-12-08T12:35:42.711Z"
   },
   {
    "duration": 1156,
    "start_time": "2022-12-08T12:49:50.849Z"
   },
   {
    "duration": 45,
    "start_time": "2022-12-08T12:49:52.007Z"
   },
   {
    "duration": 50,
    "start_time": "2022-12-08T12:49:52.054Z"
   },
   {
    "duration": 5,
    "start_time": "2022-12-08T12:49:52.105Z"
   },
   {
    "duration": 43,
    "start_time": "2022-12-08T12:49:52.112Z"
   },
   {
    "duration": 4,
    "start_time": "2022-12-08T12:49:52.157Z"
   },
   {
    "duration": 11,
    "start_time": "2022-12-08T12:49:52.163Z"
   },
   {
    "duration": 17,
    "start_time": "2022-12-08T12:49:52.176Z"
   },
   {
    "duration": 20,
    "start_time": "2022-12-08T12:49:52.195Z"
   },
   {
    "duration": 19,
    "start_time": "2022-12-08T12:49:52.217Z"
   },
   {
    "duration": 17,
    "start_time": "2022-12-08T12:49:52.237Z"
   },
   {
    "duration": 14,
    "start_time": "2022-12-08T12:49:52.256Z"
   },
   {
    "duration": 17,
    "start_time": "2022-12-08T12:49:52.272Z"
   },
   {
    "duration": 12,
    "start_time": "2022-12-08T12:49:52.292Z"
   },
   {
    "duration": 11,
    "start_time": "2022-12-08T12:49:52.306Z"
   },
   {
    "duration": 24,
    "start_time": "2022-12-08T12:49:52.319Z"
   },
   {
    "duration": 20,
    "start_time": "2022-12-08T12:49:52.345Z"
   },
   {
    "duration": 20,
    "start_time": "2022-12-08T12:49:52.367Z"
   },
   {
    "duration": 2264,
    "start_time": "2022-12-08T12:49:52.389Z"
   },
   {
    "duration": 285,
    "start_time": "2022-12-08T12:49:54.654Z"
   },
   {
    "duration": 216,
    "start_time": "2022-12-08T12:49:54.941Z"
   },
   {
    "duration": 275,
    "start_time": "2022-12-08T12:49:55.159Z"
   },
   {
    "duration": 211,
    "start_time": "2022-12-08T12:49:55.436Z"
   },
   {
    "duration": 344,
    "start_time": "2022-12-08T12:49:55.649Z"
   },
   {
    "duration": 10,
    "start_time": "2022-12-08T12:49:55.995Z"
   },
   {
    "duration": 166,
    "start_time": "2022-12-08T12:49:56.007Z"
   },
   {
    "duration": 5,
    "start_time": "2022-12-08T12:49:56.175Z"
   },
   {
    "duration": 22,
    "start_time": "2022-12-08T12:49:56.182Z"
   },
   {
    "duration": 174,
    "start_time": "2022-12-08T12:49:56.206Z"
   },
   {
    "duration": 5,
    "start_time": "2022-12-08T12:49:56.382Z"
   },
   {
    "duration": 18,
    "start_time": "2022-12-08T12:49:56.388Z"
   },
   {
    "duration": 23,
    "start_time": "2022-12-08T12:49:56.408Z"
   },
   {
    "duration": 7,
    "start_time": "2022-12-08T12:49:56.432Z"
   },
   {
    "duration": 28,
    "start_time": "2022-12-08T12:49:56.441Z"
   },
   {
    "duration": 15,
    "start_time": "2022-12-08T12:49:56.470Z"
   },
   {
    "duration": 23,
    "start_time": "2022-12-08T12:49:56.487Z"
   },
   {
    "duration": 9,
    "start_time": "2022-12-08T12:49:56.512Z"
   },
   {
    "duration": 28,
    "start_time": "2022-12-08T12:49:56.523Z"
   },
   {
    "duration": 13,
    "start_time": "2022-12-08T12:49:56.553Z"
   },
   {
    "duration": 1184,
    "start_time": "2022-12-08T13:34:54.134Z"
   },
   {
    "duration": 44,
    "start_time": "2022-12-08T13:34:55.320Z"
   },
   {
    "duration": 49,
    "start_time": "2022-12-08T13:34:55.365Z"
   },
   {
    "duration": 5,
    "start_time": "2022-12-08T13:34:55.415Z"
   },
   {
    "duration": 32,
    "start_time": "2022-12-08T13:34:55.422Z"
   },
   {
    "duration": 4,
    "start_time": "2022-12-08T13:34:55.456Z"
   },
   {
    "duration": 14,
    "start_time": "2022-12-08T13:34:55.462Z"
   },
   {
    "duration": 5,
    "start_time": "2022-12-08T13:34:55.478Z"
   },
   {
    "duration": 6,
    "start_time": "2022-12-08T13:34:55.484Z"
   },
   {
    "duration": 17,
    "start_time": "2022-12-08T13:34:55.492Z"
   },
   {
    "duration": 5,
    "start_time": "2022-12-08T13:34:55.511Z"
   },
   {
    "duration": 13,
    "start_time": "2022-12-08T13:34:55.518Z"
   },
   {
    "duration": 6,
    "start_time": "2022-12-08T13:34:55.533Z"
   },
   {
    "duration": 12,
    "start_time": "2022-12-08T13:34:55.541Z"
   },
   {
    "duration": 7,
    "start_time": "2022-12-08T13:34:55.555Z"
   },
   {
    "duration": 14,
    "start_time": "2022-12-08T13:34:55.564Z"
   },
   {
    "duration": 27,
    "start_time": "2022-12-08T13:34:55.580Z"
   },
   {
    "duration": 15,
    "start_time": "2022-12-08T13:34:55.609Z"
   },
   {
    "duration": 2407,
    "start_time": "2022-12-08T13:34:55.626Z"
   },
   {
    "duration": 317,
    "start_time": "2022-12-08T13:34:58.035Z"
   },
   {
    "duration": 250,
    "start_time": "2022-12-08T13:34:58.354Z"
   },
   {
    "duration": 308,
    "start_time": "2022-12-08T13:34:58.606Z"
   },
   {
    "duration": 203,
    "start_time": "2022-12-08T13:34:58.916Z"
   },
   {
    "duration": 376,
    "start_time": "2022-12-08T13:34:59.122Z"
   },
   {
    "duration": 10,
    "start_time": "2022-12-08T13:34:59.499Z"
   },
   {
    "duration": 157,
    "start_time": "2022-12-08T13:34:59.510Z"
   },
   {
    "duration": 5,
    "start_time": "2022-12-08T13:34:59.668Z"
   },
   {
    "duration": 9,
    "start_time": "2022-12-08T13:34:59.676Z"
   },
   {
    "duration": 171,
    "start_time": "2022-12-08T13:34:59.687Z"
   },
   {
    "duration": 5,
    "start_time": "2022-12-08T13:34:59.860Z"
   },
   {
    "duration": 8,
    "start_time": "2022-12-08T13:34:59.866Z"
   },
   {
    "duration": 14,
    "start_time": "2022-12-08T13:34:59.875Z"
   },
   {
    "duration": 8,
    "start_time": "2022-12-08T13:34:59.904Z"
   },
   {
    "duration": 29,
    "start_time": "2022-12-08T13:34:59.913Z"
   },
   {
    "duration": 13,
    "start_time": "2022-12-08T13:34:59.944Z"
   },
   {
    "duration": 10,
    "start_time": "2022-12-08T13:34:59.958Z"
   },
   {
    "duration": 34,
    "start_time": "2022-12-08T13:34:59.971Z"
   },
   {
    "duration": 27,
    "start_time": "2022-12-08T13:35:00.008Z"
   },
   {
    "duration": 15,
    "start_time": "2022-12-08T13:35:00.037Z"
   },
   {
    "duration": 203,
    "start_time": "2022-12-08T13:37:18.877Z"
   },
   {
    "duration": 189,
    "start_time": "2022-12-08T13:38:33.441Z"
   },
   {
    "duration": 244,
    "start_time": "2022-12-08T13:44:27.617Z"
   },
   {
    "duration": 249,
    "start_time": "2022-12-08T13:44:44.497Z"
   },
   {
    "duration": 439,
    "start_time": "2022-12-08T13:45:36.964Z"
   },
   {
    "duration": 148,
    "start_time": "2022-12-08T13:46:11.880Z"
   },
   {
    "duration": 155,
    "start_time": "2022-12-08T13:46:56.813Z"
   },
   {
    "duration": 188,
    "start_time": "2022-12-08T13:57:42.356Z"
   },
   {
    "duration": 192,
    "start_time": "2022-12-08T14:00:38.428Z"
   },
   {
    "duration": 275,
    "start_time": "2022-12-08T14:01:12.210Z"
   },
   {
    "duration": 191,
    "start_time": "2022-12-08T14:01:18.602Z"
   },
   {
    "duration": 201,
    "start_time": "2022-12-08T14:01:35.412Z"
   },
   {
    "duration": 89,
    "start_time": "2022-12-08T14:13:16.378Z"
   },
   {
    "duration": 24,
    "start_time": "2022-12-08T14:22:30.717Z"
   },
   {
    "duration": 24,
    "start_time": "2022-12-08T14:23:41.038Z"
   },
   {
    "duration": 5,
    "start_time": "2022-12-08T14:25:30.138Z"
   },
   {
    "duration": 4,
    "start_time": "2022-12-08T14:25:44.961Z"
   },
   {
    "duration": 5,
    "start_time": "2022-12-08T14:25:56.577Z"
   },
   {
    "duration": 7,
    "start_time": "2022-12-08T14:26:49.029Z"
   },
   {
    "duration": 96,
    "start_time": "2022-12-08T14:33:33.780Z"
   },
   {
    "duration": 5,
    "start_time": "2022-12-08T14:33:43.606Z"
   },
   {
    "duration": 9,
    "start_time": "2022-12-08T14:33:51.385Z"
   },
   {
    "duration": 6,
    "start_time": "2022-12-08T14:33:57.617Z"
   },
   {
    "duration": 6,
    "start_time": "2022-12-08T14:34:05.940Z"
   },
   {
    "duration": 5,
    "start_time": "2022-12-08T14:34:59.059Z"
   },
   {
    "duration": 4,
    "start_time": "2022-12-08T14:35:10.269Z"
   },
   {
    "duration": 268,
    "start_time": "2022-12-08T14:38:31.555Z"
   },
   {
    "duration": 1347,
    "start_time": "2022-12-09T20:40:36.852Z"
   },
   {
    "duration": 95,
    "start_time": "2022-12-09T20:40:38.202Z"
   },
   {
    "duration": 91,
    "start_time": "2022-12-09T20:40:38.298Z"
   },
   {
    "duration": 5,
    "start_time": "2022-12-09T20:40:38.390Z"
   },
   {
    "duration": 82,
    "start_time": "2022-12-09T20:40:38.397Z"
   },
   {
    "duration": 4,
    "start_time": "2022-12-09T20:40:38.481Z"
   },
   {
    "duration": 11,
    "start_time": "2022-12-09T20:40:38.487Z"
   },
   {
    "duration": 4,
    "start_time": "2022-12-09T20:40:38.499Z"
   },
   {
    "duration": 6,
    "start_time": "2022-12-09T20:40:38.505Z"
   },
   {
    "duration": 9,
    "start_time": "2022-12-09T20:40:38.512Z"
   },
   {
    "duration": 5,
    "start_time": "2022-12-09T20:40:38.523Z"
   },
   {
    "duration": 112,
    "start_time": "2022-12-09T20:40:38.529Z"
   },
   {
    "duration": 0,
    "start_time": "2022-12-09T20:40:38.643Z"
   },
   {
    "duration": 0,
    "start_time": "2022-12-09T20:40:38.644Z"
   },
   {
    "duration": 0,
    "start_time": "2022-12-09T20:40:38.645Z"
   },
   {
    "duration": 0,
    "start_time": "2022-12-09T20:40:38.646Z"
   },
   {
    "duration": 0,
    "start_time": "2022-12-09T20:40:38.647Z"
   },
   {
    "duration": 0,
    "start_time": "2022-12-09T20:40:38.648Z"
   },
   {
    "duration": 0,
    "start_time": "2022-12-09T20:40:38.649Z"
   },
   {
    "duration": 0,
    "start_time": "2022-12-09T20:40:38.650Z"
   },
   {
    "duration": 0,
    "start_time": "2022-12-09T20:40:38.651Z"
   },
   {
    "duration": 0,
    "start_time": "2022-12-09T20:40:38.652Z"
   },
   {
    "duration": 0,
    "start_time": "2022-12-09T20:40:38.653Z"
   },
   {
    "duration": 0,
    "start_time": "2022-12-09T20:40:38.654Z"
   },
   {
    "duration": 0,
    "start_time": "2022-12-09T20:40:38.655Z"
   },
   {
    "duration": 0,
    "start_time": "2022-12-09T20:40:38.656Z"
   },
   {
    "duration": 0,
    "start_time": "2022-12-09T20:40:38.657Z"
   },
   {
    "duration": 0,
    "start_time": "2022-12-09T20:40:38.658Z"
   },
   {
    "duration": 0,
    "start_time": "2022-12-09T20:40:38.659Z"
   },
   {
    "duration": 0,
    "start_time": "2022-12-09T20:40:38.660Z"
   },
   {
    "duration": 0,
    "start_time": "2022-12-09T20:40:38.661Z"
   },
   {
    "duration": 0,
    "start_time": "2022-12-09T20:40:38.662Z"
   },
   {
    "duration": 0,
    "start_time": "2022-12-09T20:40:38.663Z"
   },
   {
    "duration": 0,
    "start_time": "2022-12-09T20:40:38.663Z"
   },
   {
    "duration": 0,
    "start_time": "2022-12-09T20:40:38.664Z"
   },
   {
    "duration": 0,
    "start_time": "2022-12-09T20:40:38.665Z"
   },
   {
    "duration": 0,
    "start_time": "2022-12-09T20:40:38.705Z"
   },
   {
    "duration": 0,
    "start_time": "2022-12-09T20:40:38.706Z"
   },
   {
    "duration": 0,
    "start_time": "2022-12-09T20:40:38.707Z"
   },
   {
    "duration": 0,
    "start_time": "2022-12-09T20:40:38.708Z"
   },
   {
    "duration": 0,
    "start_time": "2022-12-09T20:40:38.709Z"
   },
   {
    "duration": 0,
    "start_time": "2022-12-09T20:40:38.710Z"
   },
   {
    "duration": 0,
    "start_time": "2022-12-09T20:40:38.711Z"
   },
   {
    "duration": 6,
    "start_time": "2022-12-09T20:41:06.893Z"
   },
   {
    "duration": 1148,
    "start_time": "2022-12-09T20:41:18.149Z"
   },
   {
    "duration": 45,
    "start_time": "2022-12-09T20:41:19.299Z"
   },
   {
    "duration": 47,
    "start_time": "2022-12-09T20:41:19.346Z"
   },
   {
    "duration": 4,
    "start_time": "2022-12-09T20:41:19.394Z"
   },
   {
    "duration": 37,
    "start_time": "2022-12-09T20:41:19.400Z"
   },
   {
    "duration": 4,
    "start_time": "2022-12-09T20:41:19.438Z"
   },
   {
    "duration": 19,
    "start_time": "2022-12-09T20:41:19.443Z"
   },
   {
    "duration": 8,
    "start_time": "2022-12-09T20:41:19.464Z"
   },
   {
    "duration": 22,
    "start_time": "2022-12-09T20:41:19.473Z"
   },
   {
    "duration": 14,
    "start_time": "2022-12-09T20:41:19.498Z"
   },
   {
    "duration": 8,
    "start_time": "2022-12-09T20:41:19.514Z"
   },
   {
    "duration": 18,
    "start_time": "2022-12-09T20:41:19.524Z"
   },
   {
    "duration": 15,
    "start_time": "2022-12-09T20:41:19.544Z"
   },
   {
    "duration": 23,
    "start_time": "2022-12-09T20:41:19.560Z"
   },
   {
    "duration": 18,
    "start_time": "2022-12-09T20:41:19.585Z"
   },
   {
    "duration": 51,
    "start_time": "2022-12-09T20:41:19.605Z"
   },
   {
    "duration": 9,
    "start_time": "2022-12-09T20:41:19.658Z"
   },
   {
    "duration": 32,
    "start_time": "2022-12-09T20:41:19.669Z"
   },
   {
    "duration": 2218,
    "start_time": "2022-12-09T20:41:19.702Z"
   },
   {
    "duration": 280,
    "start_time": "2022-12-09T20:41:21.922Z"
   },
   {
    "duration": 206,
    "start_time": "2022-12-09T20:41:22.205Z"
   },
   {
    "duration": 303,
    "start_time": "2022-12-09T20:41:22.412Z"
   },
   {
    "duration": 186,
    "start_time": "2022-12-09T20:41:22.717Z"
   },
   {
    "duration": 272,
    "start_time": "2022-12-09T20:41:22.904Z"
   },
   {
    "duration": 103,
    "start_time": "2022-12-09T20:41:23.178Z"
   },
   {
    "duration": 0,
    "start_time": "2022-12-09T20:41:23.283Z"
   },
   {
    "duration": 0,
    "start_time": "2022-12-09T20:41:23.285Z"
   },
   {
    "duration": 0,
    "start_time": "2022-12-09T20:41:23.286Z"
   },
   {
    "duration": 0,
    "start_time": "2022-12-09T20:41:23.287Z"
   },
   {
    "duration": 0,
    "start_time": "2022-12-09T20:41:23.304Z"
   },
   {
    "duration": 0,
    "start_time": "2022-12-09T20:41:23.305Z"
   },
   {
    "duration": 0,
    "start_time": "2022-12-09T20:41:23.306Z"
   },
   {
    "duration": 0,
    "start_time": "2022-12-09T20:41:23.307Z"
   },
   {
    "duration": 0,
    "start_time": "2022-12-09T20:41:23.308Z"
   },
   {
    "duration": 0,
    "start_time": "2022-12-09T20:41:23.309Z"
   },
   {
    "duration": 0,
    "start_time": "2022-12-09T20:41:23.310Z"
   },
   {
    "duration": 0,
    "start_time": "2022-12-09T20:41:23.311Z"
   },
   {
    "duration": 0,
    "start_time": "2022-12-09T20:41:23.312Z"
   },
   {
    "duration": 0,
    "start_time": "2022-12-09T20:41:23.313Z"
   },
   {
    "duration": 0,
    "start_time": "2022-12-09T20:41:23.314Z"
   },
   {
    "duration": 0,
    "start_time": "2022-12-09T20:41:23.315Z"
   },
   {
    "duration": 0,
    "start_time": "2022-12-09T20:41:23.316Z"
   },
   {
    "duration": 0,
    "start_time": "2022-12-09T20:41:23.317Z"
   },
   {
    "duration": 4,
    "start_time": "2022-12-09T20:42:13.509Z"
   },
   {
    "duration": 5,
    "start_time": "2022-12-09T20:42:17.658Z"
   },
   {
    "duration": 1200,
    "start_time": "2022-12-09T20:42:30.409Z"
   },
   {
    "duration": 41,
    "start_time": "2022-12-09T20:42:31.611Z"
   },
   {
    "duration": 47,
    "start_time": "2022-12-09T20:42:31.654Z"
   },
   {
    "duration": 5,
    "start_time": "2022-12-09T20:42:31.703Z"
   },
   {
    "duration": 30,
    "start_time": "2022-12-09T20:42:31.709Z"
   },
   {
    "duration": 3,
    "start_time": "2022-12-09T20:42:31.741Z"
   },
   {
    "duration": 13,
    "start_time": "2022-12-09T20:42:31.746Z"
   },
   {
    "duration": 10,
    "start_time": "2022-12-09T20:42:31.761Z"
   },
   {
    "duration": 8,
    "start_time": "2022-12-09T20:42:31.772Z"
   },
   {
    "duration": 8,
    "start_time": "2022-12-09T20:42:31.782Z"
   },
   {
    "duration": 16,
    "start_time": "2022-12-09T20:42:31.792Z"
   },
   {
    "duration": 15,
    "start_time": "2022-12-09T20:42:31.810Z"
   },
   {
    "duration": 34,
    "start_time": "2022-12-09T20:42:31.827Z"
   },
   {
    "duration": 40,
    "start_time": "2022-12-09T20:42:31.862Z"
   },
   {
    "duration": 6,
    "start_time": "2022-12-09T20:42:31.904Z"
   },
   {
    "duration": 31,
    "start_time": "2022-12-09T20:42:31.912Z"
   },
   {
    "duration": 2259,
    "start_time": "2022-12-09T20:42:31.945Z"
   },
   {
    "duration": 278,
    "start_time": "2022-12-09T20:42:34.206Z"
   },
   {
    "duration": 212,
    "start_time": "2022-12-09T20:42:34.485Z"
   },
   {
    "duration": 301,
    "start_time": "2022-12-09T20:42:34.704Z"
   },
   {
    "duration": 199,
    "start_time": "2022-12-09T20:42:35.006Z"
   },
   {
    "duration": 262,
    "start_time": "2022-12-09T20:42:35.207Z"
   },
   {
    "duration": 108,
    "start_time": "2022-12-09T20:42:35.470Z"
   },
   {
    "duration": 0,
    "start_time": "2022-12-09T20:42:35.580Z"
   },
   {
    "duration": 0,
    "start_time": "2022-12-09T20:42:35.581Z"
   },
   {
    "duration": 0,
    "start_time": "2022-12-09T20:42:35.582Z"
   },
   {
    "duration": 0,
    "start_time": "2022-12-09T20:42:35.583Z"
   },
   {
    "duration": 0,
    "start_time": "2022-12-09T20:42:35.584Z"
   },
   {
    "duration": 0,
    "start_time": "2022-12-09T20:42:35.584Z"
   },
   {
    "duration": 1,
    "start_time": "2022-12-09T20:42:35.585Z"
   },
   {
    "duration": 0,
    "start_time": "2022-12-09T20:42:35.587Z"
   },
   {
    "duration": 0,
    "start_time": "2022-12-09T20:42:35.604Z"
   },
   {
    "duration": 0,
    "start_time": "2022-12-09T20:42:35.605Z"
   },
   {
    "duration": 0,
    "start_time": "2022-12-09T20:42:35.606Z"
   },
   {
    "duration": 0,
    "start_time": "2022-12-09T20:42:35.607Z"
   },
   {
    "duration": 0,
    "start_time": "2022-12-09T20:42:35.608Z"
   },
   {
    "duration": 0,
    "start_time": "2022-12-09T20:42:35.609Z"
   },
   {
    "duration": 0,
    "start_time": "2022-12-09T20:42:35.610Z"
   },
   {
    "duration": 0,
    "start_time": "2022-12-09T20:42:35.611Z"
   },
   {
    "duration": 0,
    "start_time": "2022-12-09T20:42:35.612Z"
   },
   {
    "duration": 0,
    "start_time": "2022-12-09T20:42:35.613Z"
   },
   {
    "duration": 1084,
    "start_time": "2022-12-09T20:43:44.028Z"
   },
   {
    "duration": 42,
    "start_time": "2022-12-09T20:43:45.114Z"
   },
   {
    "duration": 48,
    "start_time": "2022-12-09T20:43:45.158Z"
   },
   {
    "duration": 5,
    "start_time": "2022-12-09T20:43:45.208Z"
   },
   {
    "duration": 28,
    "start_time": "2022-12-09T20:43:45.214Z"
   },
   {
    "duration": 3,
    "start_time": "2022-12-09T20:43:45.244Z"
   },
   {
    "duration": 7,
    "start_time": "2022-12-09T20:43:45.249Z"
   },
   {
    "duration": 8,
    "start_time": "2022-12-09T20:43:45.258Z"
   },
   {
    "duration": 6,
    "start_time": "2022-12-09T20:43:45.267Z"
   },
   {
    "duration": 6,
    "start_time": "2022-12-09T20:43:45.275Z"
   },
   {
    "duration": 23,
    "start_time": "2022-12-09T20:43:45.283Z"
   },
   {
    "duration": 23,
    "start_time": "2022-12-09T20:43:45.307Z"
   },
   {
    "duration": 10,
    "start_time": "2022-12-09T20:43:45.332Z"
   },
   {
    "duration": 22,
    "start_time": "2022-12-09T20:43:45.343Z"
   },
   {
    "duration": 8,
    "start_time": "2022-12-09T20:43:45.367Z"
   },
   {
    "duration": 29,
    "start_time": "2022-12-09T20:43:45.377Z"
   },
   {
    "duration": 2372,
    "start_time": "2022-12-09T20:43:45.407Z"
   },
   {
    "duration": 274,
    "start_time": "2022-12-09T20:43:47.780Z"
   },
   {
    "duration": 233,
    "start_time": "2022-12-09T20:43:48.055Z"
   },
   {
    "duration": 302,
    "start_time": "2022-12-09T20:43:48.290Z"
   },
   {
    "duration": 171,
    "start_time": "2022-12-09T20:43:48.594Z"
   },
   {
    "duration": 267,
    "start_time": "2022-12-09T20:43:48.766Z"
   },
   {
    "duration": 108,
    "start_time": "2022-12-09T20:43:49.035Z"
   },
   {
    "duration": 0,
    "start_time": "2022-12-09T20:43:49.146Z"
   },
   {
    "duration": 0,
    "start_time": "2022-12-09T20:43:49.147Z"
   },
   {
    "duration": 0,
    "start_time": "2022-12-09T20:43:49.148Z"
   },
   {
    "duration": 0,
    "start_time": "2022-12-09T20:43:49.150Z"
   },
   {
    "duration": 0,
    "start_time": "2022-12-09T20:43:49.151Z"
   },
   {
    "duration": 0,
    "start_time": "2022-12-09T20:43:49.152Z"
   },
   {
    "duration": 0,
    "start_time": "2022-12-09T20:43:49.154Z"
   },
   {
    "duration": 0,
    "start_time": "2022-12-09T20:43:49.155Z"
   },
   {
    "duration": 0,
    "start_time": "2022-12-09T20:43:49.157Z"
   },
   {
    "duration": 0,
    "start_time": "2022-12-09T20:43:49.158Z"
   },
   {
    "duration": 0,
    "start_time": "2022-12-09T20:43:49.159Z"
   },
   {
    "duration": 1,
    "start_time": "2022-12-09T20:43:49.160Z"
   },
   {
    "duration": 0,
    "start_time": "2022-12-09T20:43:49.162Z"
   },
   {
    "duration": 0,
    "start_time": "2022-12-09T20:43:49.164Z"
   },
   {
    "duration": 0,
    "start_time": "2022-12-09T20:43:49.165Z"
   },
   {
    "duration": 0,
    "start_time": "2022-12-09T20:43:49.167Z"
   },
   {
    "duration": 0,
    "start_time": "2022-12-09T20:43:49.205Z"
   },
   {
    "duration": 0,
    "start_time": "2022-12-09T20:43:49.207Z"
   },
   {
    "duration": 1258,
    "start_time": "2022-12-09T20:44:30.090Z"
   },
   {
    "duration": 1144,
    "start_time": "2022-12-09T20:44:41.334Z"
   },
   {
    "duration": 44,
    "start_time": "2022-12-09T20:44:42.480Z"
   },
   {
    "duration": 49,
    "start_time": "2022-12-09T20:44:42.526Z"
   },
   {
    "duration": 5,
    "start_time": "2022-12-09T20:44:42.578Z"
   },
   {
    "duration": 32,
    "start_time": "2022-12-09T20:44:42.584Z"
   },
   {
    "duration": 3,
    "start_time": "2022-12-09T20:44:42.618Z"
   },
   {
    "duration": 9,
    "start_time": "2022-12-09T20:44:42.623Z"
   },
   {
    "duration": 10,
    "start_time": "2022-12-09T20:44:42.633Z"
   },
   {
    "duration": 6,
    "start_time": "2022-12-09T20:44:42.644Z"
   },
   {
    "duration": 8,
    "start_time": "2022-12-09T20:44:42.652Z"
   },
   {
    "duration": 4,
    "start_time": "2022-12-09T20:44:42.661Z"
   },
   {
    "duration": 8,
    "start_time": "2022-12-09T20:44:42.667Z"
   },
   {
    "duration": 4,
    "start_time": "2022-12-09T20:44:42.705Z"
   },
   {
    "duration": 15,
    "start_time": "2022-12-09T20:44:42.712Z"
   },
   {
    "duration": 6,
    "start_time": "2022-12-09T20:44:42.728Z"
   },
   {
    "duration": 15,
    "start_time": "2022-12-09T20:44:42.735Z"
   },
   {
    "duration": 2343,
    "start_time": "2022-12-09T20:44:42.752Z"
   },
   {
    "duration": 282,
    "start_time": "2022-12-09T20:44:45.097Z"
   },
   {
    "duration": 218,
    "start_time": "2022-12-09T20:44:45.381Z"
   },
   {
    "duration": 310,
    "start_time": "2022-12-09T20:44:45.605Z"
   },
   {
    "duration": 203,
    "start_time": "2022-12-09T20:44:45.917Z"
   },
   {
    "duration": 298,
    "start_time": "2022-12-09T20:44:46.122Z"
   },
   {
    "duration": 115,
    "start_time": "2022-12-09T20:44:46.422Z"
   },
   {
    "duration": 0,
    "start_time": "2022-12-09T20:44:46.540Z"
   },
   {
    "duration": 0,
    "start_time": "2022-12-09T20:44:46.541Z"
   },
   {
    "duration": 0,
    "start_time": "2022-12-09T20:44:46.543Z"
   },
   {
    "duration": 0,
    "start_time": "2022-12-09T20:44:46.544Z"
   },
   {
    "duration": 0,
    "start_time": "2022-12-09T20:44:46.545Z"
   },
   {
    "duration": 0,
    "start_time": "2022-12-09T20:44:46.547Z"
   },
   {
    "duration": 0,
    "start_time": "2022-12-09T20:44:46.548Z"
   },
   {
    "duration": 0,
    "start_time": "2022-12-09T20:44:46.549Z"
   },
   {
    "duration": 0,
    "start_time": "2022-12-09T20:44:46.551Z"
   },
   {
    "duration": 0,
    "start_time": "2022-12-09T20:44:46.553Z"
   },
   {
    "duration": 0,
    "start_time": "2022-12-09T20:44:46.555Z"
   },
   {
    "duration": 0,
    "start_time": "2022-12-09T20:44:46.556Z"
   },
   {
    "duration": 0,
    "start_time": "2022-12-09T20:44:46.557Z"
   },
   {
    "duration": 0,
    "start_time": "2022-12-09T20:44:46.559Z"
   },
   {
    "duration": 0,
    "start_time": "2022-12-09T20:44:46.560Z"
   },
   {
    "duration": 0,
    "start_time": "2022-12-09T20:44:46.561Z"
   },
   {
    "duration": 0,
    "start_time": "2022-12-09T20:44:46.563Z"
   },
   {
    "duration": 0,
    "start_time": "2022-12-09T20:44:46.564Z"
   },
   {
    "duration": 1067,
    "start_time": "2022-12-09T20:45:10.250Z"
   },
   {
    "duration": 41,
    "start_time": "2022-12-09T20:45:11.320Z"
   },
   {
    "duration": 47,
    "start_time": "2022-12-09T20:45:11.363Z"
   },
   {
    "duration": 5,
    "start_time": "2022-12-09T20:45:11.412Z"
   },
   {
    "duration": 27,
    "start_time": "2022-12-09T20:45:11.418Z"
   },
   {
    "duration": 3,
    "start_time": "2022-12-09T20:45:11.447Z"
   },
   {
    "duration": 10,
    "start_time": "2022-12-09T20:45:11.451Z"
   },
   {
    "duration": 12,
    "start_time": "2022-12-09T20:45:11.463Z"
   },
   {
    "duration": 4,
    "start_time": "2022-12-09T20:45:11.477Z"
   },
   {
    "duration": 7,
    "start_time": "2022-12-09T20:45:11.483Z"
   },
   {
    "duration": 14,
    "start_time": "2022-12-09T20:45:11.491Z"
   },
   {
    "duration": 6,
    "start_time": "2022-12-09T20:45:11.506Z"
   },
   {
    "duration": 7,
    "start_time": "2022-12-09T20:45:11.514Z"
   },
   {
    "duration": 17,
    "start_time": "2022-12-09T20:45:11.522Z"
   },
   {
    "duration": 10,
    "start_time": "2022-12-09T20:45:11.540Z"
   },
   {
    "duration": 22,
    "start_time": "2022-12-09T20:45:11.551Z"
   },
   {
    "duration": 2217,
    "start_time": "2022-12-09T20:45:11.574Z"
   },
   {
    "duration": 299,
    "start_time": "2022-12-09T20:45:13.793Z"
   },
   {
    "duration": 240,
    "start_time": "2022-12-09T20:45:14.093Z"
   },
   {
    "duration": 308,
    "start_time": "2022-12-09T20:45:14.335Z"
   },
   {
    "duration": 211,
    "start_time": "2022-12-09T20:45:14.645Z"
   },
   {
    "duration": 300,
    "start_time": "2022-12-09T20:45:14.858Z"
   },
   {
    "duration": 5,
    "start_time": "2022-12-09T20:45:15.160Z"
   },
   {
    "duration": 155,
    "start_time": "2022-12-09T20:45:15.166Z"
   },
   {
    "duration": 4,
    "start_time": "2022-12-09T20:45:15.323Z"
   },
   {
    "duration": 15,
    "start_time": "2022-12-09T20:45:15.329Z"
   },
   {
    "duration": 27,
    "start_time": "2022-12-09T20:45:15.345Z"
   },
   {
    "duration": 166,
    "start_time": "2022-12-09T20:45:15.375Z"
   },
   {
    "duration": 4,
    "start_time": "2022-12-09T20:45:15.543Z"
   },
   {
    "duration": 13,
    "start_time": "2022-12-09T20:45:15.549Z"
   },
   {
    "duration": 19,
    "start_time": "2022-12-09T20:45:15.563Z"
   },
   {
    "duration": 33,
    "start_time": "2022-12-09T20:45:15.583Z"
   },
   {
    "duration": 19,
    "start_time": "2022-12-09T20:45:15.618Z"
   },
   {
    "duration": 56,
    "start_time": "2022-12-09T20:45:15.639Z"
   },
   {
    "duration": 12,
    "start_time": "2022-12-09T20:45:15.697Z"
   },
   {
    "duration": 30,
    "start_time": "2022-12-09T20:45:15.711Z"
   },
   {
    "duration": 37,
    "start_time": "2022-12-09T20:45:15.742Z"
   },
   {
    "duration": 47,
    "start_time": "2022-12-09T20:45:15.780Z"
   },
   {
    "duration": 52,
    "start_time": "2022-12-09T20:45:15.829Z"
   },
   {
    "duration": 31,
    "start_time": "2022-12-09T20:45:15.882Z"
   },
   {
    "duration": 100,
    "start_time": "2022-12-09T20:49:32.593Z"
   },
   {
    "duration": 48,
    "start_time": "2022-12-09T21:04:45.803Z"
   },
   {
    "duration": 19,
    "start_time": "2022-12-09T21:06:32.473Z"
   },
   {
    "duration": 1314,
    "start_time": "2022-12-09T21:06:58.085Z"
   },
   {
    "duration": 105,
    "start_time": "2022-12-09T21:06:59.401Z"
   },
   {
    "duration": 97,
    "start_time": "2022-12-09T21:06:59.507Z"
   },
   {
    "duration": 8,
    "start_time": "2022-12-09T21:06:59.606Z"
   },
   {
    "duration": 98,
    "start_time": "2022-12-09T21:06:59.616Z"
   },
   {
    "duration": 4,
    "start_time": "2022-12-09T21:06:59.716Z"
   },
   {
    "duration": 11,
    "start_time": "2022-12-09T21:06:59.721Z"
   },
   {
    "duration": 11,
    "start_time": "2022-12-09T21:06:59.733Z"
   },
   {
    "duration": 5,
    "start_time": "2022-12-09T21:06:59.745Z"
   },
   {
    "duration": 8,
    "start_time": "2022-12-09T21:06:59.752Z"
   },
   {
    "duration": 5,
    "start_time": "2022-12-09T21:06:59.762Z"
   },
   {
    "duration": 8,
    "start_time": "2022-12-09T21:06:59.768Z"
   },
   {
    "duration": 24,
    "start_time": "2022-12-09T21:06:59.779Z"
   },
   {
    "duration": 18,
    "start_time": "2022-12-09T21:06:59.805Z"
   },
   {
    "duration": 7,
    "start_time": "2022-12-09T21:06:59.825Z"
   },
   {
    "duration": 16,
    "start_time": "2022-12-09T21:06:59.835Z"
   },
   {
    "duration": 2477,
    "start_time": "2022-12-09T21:06:59.853Z"
   },
   {
    "duration": 283,
    "start_time": "2022-12-09T21:07:02.332Z"
   },
   {
    "duration": 235,
    "start_time": "2022-12-09T21:07:02.617Z"
   },
   {
    "duration": 372,
    "start_time": "2022-12-09T21:07:02.854Z"
   },
   {
    "duration": 197,
    "start_time": "2022-12-09T21:07:03.228Z"
   },
   {
    "duration": 283,
    "start_time": "2022-12-09T21:07:03.427Z"
   },
   {
    "duration": 1412,
    "start_time": "2022-12-09T21:07:03.712Z"
   },
   {
    "duration": 0,
    "start_time": "2022-12-09T21:07:05.127Z"
   },
   {
    "duration": 0,
    "start_time": "2022-12-09T21:07:05.128Z"
   },
   {
    "duration": 0,
    "start_time": "2022-12-09T21:07:05.129Z"
   },
   {
    "duration": 0,
    "start_time": "2022-12-09T21:07:05.130Z"
   },
   {
    "duration": 0,
    "start_time": "2022-12-09T21:07:05.131Z"
   },
   {
    "duration": 0,
    "start_time": "2022-12-09T21:07:05.132Z"
   },
   {
    "duration": 0,
    "start_time": "2022-12-09T21:07:05.133Z"
   },
   {
    "duration": 0,
    "start_time": "2022-12-09T21:07:05.135Z"
   },
   {
    "duration": 0,
    "start_time": "2022-12-09T21:07:05.135Z"
   },
   {
    "duration": 0,
    "start_time": "2022-12-09T21:07:05.137Z"
   },
   {
    "duration": 0,
    "start_time": "2022-12-09T21:07:05.138Z"
   },
   {
    "duration": 0,
    "start_time": "2022-12-09T21:07:05.139Z"
   },
   {
    "duration": 0,
    "start_time": "2022-12-09T21:07:05.140Z"
   },
   {
    "duration": 0,
    "start_time": "2022-12-09T21:07:05.141Z"
   },
   {
    "duration": 0,
    "start_time": "2022-12-09T21:07:05.142Z"
   },
   {
    "duration": 0,
    "start_time": "2022-12-09T21:07:05.143Z"
   },
   {
    "duration": 0,
    "start_time": "2022-12-09T21:07:05.145Z"
   },
   {
    "duration": 0,
    "start_time": "2022-12-09T21:07:05.146Z"
   },
   {
    "duration": 330,
    "start_time": "2022-12-09T21:08:45.653Z"
   },
   {
    "duration": 8,
    "start_time": "2022-12-09T21:14:50.113Z"
   },
   {
    "duration": 1146,
    "start_time": "2022-12-09T21:16:10.123Z"
   },
   {
    "duration": 49,
    "start_time": "2022-12-09T21:16:11.271Z"
   },
   {
    "duration": 50,
    "start_time": "2022-12-09T21:16:11.322Z"
   },
   {
    "duration": 13,
    "start_time": "2022-12-09T21:16:11.374Z"
   },
   {
    "duration": 47,
    "start_time": "2022-12-09T21:16:11.389Z"
   },
   {
    "duration": 4,
    "start_time": "2022-12-09T21:16:11.437Z"
   },
   {
    "duration": 12,
    "start_time": "2022-12-09T21:16:11.443Z"
   },
   {
    "duration": 24,
    "start_time": "2022-12-09T21:16:11.457Z"
   },
   {
    "duration": 18,
    "start_time": "2022-12-09T21:16:11.488Z"
   },
   {
    "duration": 21,
    "start_time": "2022-12-09T21:16:11.509Z"
   },
   {
    "duration": 25,
    "start_time": "2022-12-09T21:16:11.532Z"
   },
   {
    "duration": 34,
    "start_time": "2022-12-09T21:16:11.559Z"
   },
   {
    "duration": 27,
    "start_time": "2022-12-09T21:16:11.594Z"
   },
   {
    "duration": 21,
    "start_time": "2022-12-09T21:16:11.623Z"
   },
   {
    "duration": 16,
    "start_time": "2022-12-09T21:16:11.646Z"
   },
   {
    "duration": 46,
    "start_time": "2022-12-09T21:16:11.663Z"
   },
   {
    "duration": 2668,
    "start_time": "2022-12-09T21:16:11.711Z"
   },
   {
    "duration": 276,
    "start_time": "2022-12-09T21:16:14.382Z"
   },
   {
    "duration": 237,
    "start_time": "2022-12-09T21:16:14.660Z"
   },
   {
    "duration": 318,
    "start_time": "2022-12-09T21:16:14.899Z"
   },
   {
    "duration": 240,
    "start_time": "2022-12-09T21:16:15.218Z"
   },
   {
    "duration": 319,
    "start_time": "2022-12-09T21:16:15.459Z"
   },
   {
    "duration": 326,
    "start_time": "2022-12-09T21:16:15.785Z"
   },
   {
    "duration": 7,
    "start_time": "2022-12-09T21:16:16.113Z"
   },
   {
    "duration": 179,
    "start_time": "2022-12-09T21:16:16.122Z"
   },
   {
    "duration": 6,
    "start_time": "2022-12-09T21:16:16.303Z"
   },
   {
    "duration": 12,
    "start_time": "2022-12-09T21:16:16.311Z"
   },
   {
    "duration": 11,
    "start_time": "2022-12-09T21:16:16.327Z"
   },
   {
    "duration": 179,
    "start_time": "2022-12-09T21:16:16.340Z"
   },
   {
    "duration": 5,
    "start_time": "2022-12-09T21:16:16.520Z"
   },
   {
    "duration": 7,
    "start_time": "2022-12-09T21:16:16.526Z"
   },
   {
    "duration": 7,
    "start_time": "2022-12-09T21:16:16.535Z"
   },
   {
    "duration": 19,
    "start_time": "2022-12-09T21:16:16.544Z"
   },
   {
    "duration": 38,
    "start_time": "2022-12-09T21:16:16.565Z"
   },
   {
    "duration": 28,
    "start_time": "2022-12-09T21:16:16.605Z"
   },
   {
    "duration": 15,
    "start_time": "2022-12-09T21:16:16.635Z"
   },
   {
    "duration": 7,
    "start_time": "2022-12-09T21:16:16.651Z"
   },
   {
    "duration": 39,
    "start_time": "2022-12-09T21:16:16.659Z"
   },
   {
    "duration": 24,
    "start_time": "2022-12-09T21:16:16.699Z"
   },
   {
    "duration": 8,
    "start_time": "2022-12-09T21:16:16.724Z"
   },
   {
    "duration": 30,
    "start_time": "2022-12-09T21:16:16.734Z"
   },
   {
    "duration": 17,
    "start_time": "2022-12-09T21:16:16.766Z"
   },
   {
    "duration": 1097,
    "start_time": "2022-12-09T22:48:09.227Z"
   },
   {
    "duration": 42,
    "start_time": "2022-12-09T22:48:10.326Z"
   },
   {
    "duration": 49,
    "start_time": "2022-12-09T22:48:10.369Z"
   },
   {
    "duration": 5,
    "start_time": "2022-12-09T22:48:10.421Z"
   },
   {
    "duration": 29,
    "start_time": "2022-12-09T22:48:10.427Z"
   },
   {
    "duration": 4,
    "start_time": "2022-12-09T22:48:10.458Z"
   },
   {
    "duration": 8,
    "start_time": "2022-12-09T22:48:10.464Z"
   },
   {
    "duration": 8,
    "start_time": "2022-12-09T22:48:10.474Z"
   },
   {
    "duration": 23,
    "start_time": "2022-12-09T22:48:10.484Z"
   },
   {
    "duration": 9,
    "start_time": "2022-12-09T22:48:10.510Z"
   },
   {
    "duration": 4,
    "start_time": "2022-12-09T22:48:10.521Z"
   },
   {
    "duration": 8,
    "start_time": "2022-12-09T22:48:10.527Z"
   },
   {
    "duration": 8,
    "start_time": "2022-12-09T22:48:10.536Z"
   },
   {
    "duration": 14,
    "start_time": "2022-12-09T22:48:10.545Z"
   },
   {
    "duration": 5,
    "start_time": "2022-12-09T22:48:10.561Z"
   },
   {
    "duration": 39,
    "start_time": "2022-12-09T22:48:10.568Z"
   },
   {
    "duration": 2188,
    "start_time": "2022-12-09T22:48:10.609Z"
   },
   {
    "duration": 265,
    "start_time": "2022-12-09T22:48:12.798Z"
   },
   {
    "duration": 201,
    "start_time": "2022-12-09T22:48:13.065Z"
   },
   {
    "duration": 316,
    "start_time": "2022-12-09T22:48:13.268Z"
   },
   {
    "duration": 189,
    "start_time": "2022-12-09T22:48:13.585Z"
   },
   {
    "duration": 275,
    "start_time": "2022-12-09T22:48:13.776Z"
   },
   {
    "duration": 258,
    "start_time": "2022-12-09T22:48:14.053Z"
   },
   {
    "duration": 5,
    "start_time": "2022-12-09T22:48:14.312Z"
   },
   {
    "duration": 146,
    "start_time": "2022-12-09T22:48:14.318Z"
   },
   {
    "duration": 5,
    "start_time": "2022-12-09T22:48:14.465Z"
   },
   {
    "duration": 7,
    "start_time": "2022-12-09T22:48:14.471Z"
   },
   {
    "duration": 8,
    "start_time": "2022-12-09T22:48:14.481Z"
   },
   {
    "duration": 156,
    "start_time": "2022-12-09T22:48:14.504Z"
   },
   {
    "duration": 5,
    "start_time": "2022-12-09T22:48:14.661Z"
   },
   {
    "duration": 7,
    "start_time": "2022-12-09T22:48:14.667Z"
   },
   {
    "duration": 8,
    "start_time": "2022-12-09T22:48:14.676Z"
   },
   {
    "duration": 22,
    "start_time": "2022-12-09T22:48:14.685Z"
   },
   {
    "duration": 6,
    "start_time": "2022-12-09T22:48:14.709Z"
   },
   {
    "duration": 24,
    "start_time": "2022-12-09T22:48:14.717Z"
   },
   {
    "duration": 12,
    "start_time": "2022-12-09T22:48:14.742Z"
   },
   {
    "duration": 4,
    "start_time": "2022-12-09T22:48:14.755Z"
   },
   {
    "duration": 10,
    "start_time": "2022-12-09T22:48:14.760Z"
   },
   {
    "duration": 33,
    "start_time": "2022-12-09T22:48:14.772Z"
   },
   {
    "duration": 7,
    "start_time": "2022-12-09T22:48:14.806Z"
   },
   {
    "duration": 26,
    "start_time": "2022-12-09T22:48:14.815Z"
   },
   {
    "duration": 12,
    "start_time": "2022-12-09T22:48:14.843Z"
   },
   {
    "duration": 1341,
    "start_time": "2023-03-05T18:11:44.961Z"
   },
   {
    "duration": 99,
    "start_time": "2023-03-05T18:11:46.304Z"
   },
   {
    "duration": 101,
    "start_time": "2023-03-05T18:11:46.404Z"
   },
   {
    "duration": 5,
    "start_time": "2023-03-05T18:11:46.507Z"
   },
   {
    "duration": 79,
    "start_time": "2023-03-05T18:11:46.514Z"
   },
   {
    "duration": 5,
    "start_time": "2023-03-05T18:11:46.595Z"
   },
   {
    "duration": 10,
    "start_time": "2023-03-05T18:11:46.602Z"
   },
   {
    "duration": 11,
    "start_time": "2023-03-05T18:11:46.614Z"
   },
   {
    "duration": 5,
    "start_time": "2023-03-05T18:11:46.627Z"
   },
   {
    "duration": 9,
    "start_time": "2023-03-05T18:11:46.635Z"
   },
   {
    "duration": 6,
    "start_time": "2023-03-05T18:11:46.645Z"
   },
   {
    "duration": 10,
    "start_time": "2023-03-05T18:11:46.652Z"
   },
   {
    "duration": 14,
    "start_time": "2023-03-05T18:11:46.663Z"
   },
   {
    "duration": 23,
    "start_time": "2023-03-05T18:11:46.678Z"
   },
   {
    "duration": 18,
    "start_time": "2023-03-05T18:11:46.703Z"
   },
   {
    "duration": 19,
    "start_time": "2023-03-05T18:11:46.723Z"
   },
   {
    "duration": 2580,
    "start_time": "2023-03-05T18:11:46.744Z"
   },
   {
    "duration": 302,
    "start_time": "2023-03-05T18:11:49.326Z"
   },
   {
    "duration": 231,
    "start_time": "2023-03-05T18:11:49.630Z"
   },
   {
    "duration": 331,
    "start_time": "2023-03-05T18:11:49.863Z"
   },
   {
    "duration": 212,
    "start_time": "2023-03-05T18:11:50.196Z"
   },
   {
    "duration": 346,
    "start_time": "2023-03-05T18:11:50.410Z"
   },
   {
    "duration": 307,
    "start_time": "2023-03-05T18:11:50.758Z"
   },
   {
    "duration": 6,
    "start_time": "2023-03-05T18:11:51.067Z"
   },
   {
    "duration": 186,
    "start_time": "2023-03-05T18:11:51.075Z"
   },
   {
    "duration": 5,
    "start_time": "2023-03-05T18:11:51.262Z"
   },
   {
    "duration": 23,
    "start_time": "2023-03-05T18:11:51.268Z"
   },
   {
    "duration": 7,
    "start_time": "2023-03-05T18:11:51.294Z"
   },
   {
    "duration": 183,
    "start_time": "2023-03-05T18:11:51.303Z"
   },
   {
    "duration": 10,
    "start_time": "2023-03-05T18:11:51.488Z"
   },
   {
    "duration": 13,
    "start_time": "2023-03-05T18:11:51.500Z"
   },
   {
    "duration": 11,
    "start_time": "2023-03-05T18:11:51.515Z"
   },
   {
    "duration": 23,
    "start_time": "2023-03-05T18:11:51.529Z"
   },
   {
    "duration": 13,
    "start_time": "2023-03-05T18:11:51.554Z"
   },
   {
    "duration": 28,
    "start_time": "2023-03-05T18:11:51.569Z"
   },
   {
    "duration": 15,
    "start_time": "2023-03-05T18:11:51.599Z"
   },
   {
    "duration": 30,
    "start_time": "2023-03-05T18:11:51.616Z"
   },
   {
    "duration": 5,
    "start_time": "2023-03-05T18:11:51.648Z"
   },
   {
    "duration": 21,
    "start_time": "2023-03-05T18:11:51.655Z"
   },
   {
    "duration": 8,
    "start_time": "2023-03-05T18:11:51.678Z"
   },
   {
    "duration": 32,
    "start_time": "2023-03-05T18:11:51.688Z"
   },
   {
    "duration": 33,
    "start_time": "2023-03-05T18:11:51.722Z"
   }
  ],
  "kernelspec": {
   "display_name": "Python 3 (ipykernel)",
   "language": "python",
   "name": "python3"
  },
  "language_info": {
   "codemirror_mode": {
    "name": "ipython",
    "version": 3
   },
   "file_extension": ".py",
   "mimetype": "text/x-python",
   "name": "python",
   "nbconvert_exporter": "python",
   "pygments_lexer": "ipython3",
   "version": "3.9.5"
  },
  "toc": {
   "base_numbering": 1,
   "nav_menu": {},
   "number_sections": true,
   "sideBar": true,
   "skip_h1_title": true,
   "title_cell": "Table of Contents",
   "title_sidebar": "Contents",
   "toc_cell": false,
   "toc_position": {
    "height": "calc(100% - 180px)",
    "left": "10px",
    "top": "150px",
    "width": "325.582px"
   },
   "toc_section_display": true,
   "toc_window_display": false
  }
 },
 "nbformat": 4,
 "nbformat_minor": 2
}
