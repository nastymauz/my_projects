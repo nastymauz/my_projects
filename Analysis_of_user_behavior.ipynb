{
 "cells": [
  {
   "cell_type": "markdown",
   "metadata": {},
   "source": [
    "# Анализ поведения пользователей в мобильном приложении"
   ]
  },
  {
   "cell_type": "markdown",
   "metadata": {},
   "source": [
    "Необходимо разобраться, как ведут себя пользователи мобильного приложения стартапа, который продаёт продукты питания.\n",
    "\n",
    "Для этого следует изучить воронку продаж и узнать, как пользователи доходят до покупки, сколько пользователей доходит до покупки, а сколько застревает на предыдущих шагах и на каких именно.\n",
    "\n",
    "После этого нужно исследовать результаты A/A/B-эксперимента. Дизайнеры захотели поменять шрифты во всём приложении, а менеджеры испугались, что пользователям будет непривычно. Поэтому договорились принять решение по результатам A/A/B-теста. Пользователей разбили на 3 группы: 2 контрольные со старыми шрифтами и одну экспериментальную — с новыми. Необходимр выяснить, какой шрифт лучше?\n",
    "\n",
    "у нас есть данные:\n",
    "\n",
    "Каждая запись в логе — это действие пользователя, или событие.\n",
    "\n",
    "- EventName — название события;\n",
    "- DeviceIDHash — уникальный идентификатор пользователя;\n",
    "- EventTimestamp — время события;\n",
    "- ExpId — номер эксперимента: 246 и 247 — контрольные группы, а 248 — экспериментальная."
   ]
  },
  {
   "cell_type": "markdown",
   "metadata": {},
   "source": [
    "**Цель исследования**:\n",
    "- разобраться, как ведут себя пользователи мобильного приложения стартапа, который продаёт продукты питания.\n",
    "\n",
    " \n",
    "**Таким образом, исследование пройдёт в несколько этапов:**\n",
    " 1. Обзор данных\n",
    " 2. Предобработка данных\n",
    " 3. Исследовательский анализ данных\n",
    " 4. Анализ воронки событий\n",
    " 5. Анализ A/B-теста\n",
    " 6. Формулирование вывода"
   ]
  },
  {
   "cell_type": "code",
   "execution_count": 1,
   "metadata": {},
   "outputs": [],
   "source": [
    "import pandas as pd\n",
    "import seaborn as sns\n",
    "import numpy as np\n",
    "import math as mth\n",
    "import scipy.stats as stats\n",
    "import datetime as dt\n",
    "import plotly.express as px\n",
    "from plotly import graph_objects as go\n",
    "import matplotlib.pyplot as plt\n",
    "from io import BytesIO\n",
    "import warnings\n",
    "warnings.filterwarnings(\"ignore\")\n"
   ]
  },
  {
   "cell_type": "code",
   "execution_count": 3,
   "metadata": {},
   "outputs": [],
   "source": [
    "import plotly.io as pio\n",
    "pio.renderers.default = \"png\""
   ]
  },
  {
   "cell_type": "markdown",
   "metadata": {},
   "source": [
    "## Загрузка и подготовка данных к анализу"
   ]
  },
  {
   "cell_type": "markdown",
   "metadata": {},
   "source": [
    "### Обзор данных"
   ]
  },
  {
   "cell_type": "code",
   "execution_count": 4,
   "metadata": {},
   "outputs": [],
   "source": [
    "data = pd.read_csv('/datasets/logs_exp.csv', sep = '\\t' )"
   ]
  },
  {
   "cell_type": "code",
   "execution_count": 5,
   "metadata": {},
   "outputs": [
    {
     "data": {
      "text/html": [
       "<div>\n",
       "<style scoped>\n",
       "    .dataframe tbody tr th:only-of-type {\n",
       "        vertical-align: middle;\n",
       "    }\n",
       "\n",
       "    .dataframe tbody tr th {\n",
       "        vertical-align: top;\n",
       "    }\n",
       "\n",
       "    .dataframe thead th {\n",
       "        text-align: right;\n",
       "    }\n",
       "</style>\n",
       "<table border=\"1\" class=\"dataframe\">\n",
       "  <thead>\n",
       "    <tr style=\"text-align: right;\">\n",
       "      <th></th>\n",
       "      <th>EventName</th>\n",
       "      <th>DeviceIDHash</th>\n",
       "      <th>EventTimestamp</th>\n",
       "      <th>ExpId</th>\n",
       "    </tr>\n",
       "  </thead>\n",
       "  <tbody>\n",
       "    <tr>\n",
       "      <th>0</th>\n",
       "      <td>MainScreenAppear</td>\n",
       "      <td>4575588528974610257</td>\n",
       "      <td>1564029816</td>\n",
       "      <td>246</td>\n",
       "    </tr>\n",
       "    <tr>\n",
       "      <th>1</th>\n",
       "      <td>MainScreenAppear</td>\n",
       "      <td>7416695313311560658</td>\n",
       "      <td>1564053102</td>\n",
       "      <td>246</td>\n",
       "    </tr>\n",
       "    <tr>\n",
       "      <th>2</th>\n",
       "      <td>PaymentScreenSuccessful</td>\n",
       "      <td>3518123091307005509</td>\n",
       "      <td>1564054127</td>\n",
       "      <td>248</td>\n",
       "    </tr>\n",
       "    <tr>\n",
       "      <th>3</th>\n",
       "      <td>CartScreenAppear</td>\n",
       "      <td>3518123091307005509</td>\n",
       "      <td>1564054127</td>\n",
       "      <td>248</td>\n",
       "    </tr>\n",
       "    <tr>\n",
       "      <th>4</th>\n",
       "      <td>PaymentScreenSuccessful</td>\n",
       "      <td>6217807653094995999</td>\n",
       "      <td>1564055322</td>\n",
       "      <td>248</td>\n",
       "    </tr>\n",
       "  </tbody>\n",
       "</table>\n",
       "</div>"
      ],
      "text/plain": [
       "                 EventName         DeviceIDHash  EventTimestamp  ExpId\n",
       "0         MainScreenAppear  4575588528974610257      1564029816    246\n",
       "1         MainScreenAppear  7416695313311560658      1564053102    246\n",
       "2  PaymentScreenSuccessful  3518123091307005509      1564054127    248\n",
       "3         CartScreenAppear  3518123091307005509      1564054127    248\n",
       "4  PaymentScreenSuccessful  6217807653094995999      1564055322    248"
      ]
     },
     "execution_count": 5,
     "metadata": {},
     "output_type": "execute_result"
    }
   ],
   "source": [
    "data.head()"
   ]
  },
  {
   "cell_type": "code",
   "execution_count": 6,
   "metadata": {},
   "outputs": [
    {
     "name": "stdout",
     "output_type": "stream",
     "text": [
      "<class 'pandas.core.frame.DataFrame'>\n",
      "RangeIndex: 244126 entries, 0 to 244125\n",
      "Data columns (total 4 columns):\n",
      " #   Column          Non-Null Count   Dtype \n",
      "---  ------          --------------   ----- \n",
      " 0   EventName       244126 non-null  object\n",
      " 1   DeviceIDHash    244126 non-null  int64 \n",
      " 2   EventTimestamp  244126 non-null  int64 \n",
      " 3   ExpId           244126 non-null  int64 \n",
      "dtypes: int64(3), object(1)\n",
      "memory usage: 7.5+ MB\n"
     ]
    }
   ],
   "source": [
    "data.info()"
   ]
  },
  {
   "cell_type": "markdown",
   "metadata": {},
   "source": [
    "Количество уникальных значений в столбцах:"
   ]
  },
  {
   "cell_type": "code",
   "execution_count": 7,
   "metadata": {},
   "outputs": [
    {
     "data": {
      "text/plain": [
       "EventName              5\n",
       "DeviceIDHash        7551\n",
       "EventTimestamp    176654\n",
       "ExpId                  3\n",
       "dtype: int64"
      ]
     },
     "execution_count": 7,
     "metadata": {},
     "output_type": "execute_result"
    }
   ],
   "source": [
    "data.nunique()"
   ]
  },
  {
   "cell_type": "markdown",
   "metadata": {},
   "source": [
    "Вывод: пропущенные значения отсутствуют, но присутствуют явные дубликаты, тип столбца EventTimestamp не соответствует описанию. Данные необходимо обработать до начала проведения исследовательского анализа."
   ]
  },
  {
   "cell_type": "markdown",
   "metadata": {},
   "source": [
    "### Предобработка данных"
   ]
  },
  {
   "cell_type": "code",
   "execution_count": 8,
   "metadata": {},
   "outputs": [],
   "source": [
    "#data.columns = ['event_name', 'device_id_hash', 'event_time_stamp', 'group'] "
   ]
  },
  {
   "cell_type": "code",
   "execution_count": 9,
   "metadata": {},
   "outputs": [],
   "source": [
    "data = data.rename(columns={'EventName': 'event_name',\n",
    "                     'DeviceIDHash': 'device_id_hash',\n",
    "                     'EventTimestamp': 'event_time_stamp',\n",
    "                     'ExpId': 'group'})"
   ]
  },
  {
   "cell_type": "markdown",
   "metadata": {},
   "source": [
    "Приведем тип столбца event_time_stamp к правильному"
   ]
  },
  {
   "cell_type": "code",
   "execution_count": 10,
   "metadata": {},
   "outputs": [],
   "source": [
    "data['event_time_stamp'] = pd.to_datetime(data['event_time_stamp'], unit='s') "
   ]
  },
  {
   "cell_type": "markdown",
   "metadata": {},
   "source": [
    "Добавим отдельный столбец с датой события"
   ]
  },
  {
   "cell_type": "code",
   "execution_count": 11,
   "metadata": {},
   "outputs": [],
   "source": [
    "data['event_date'] =  pd.to_datetime(data['event_time_stamp']).dt.date "
   ]
  },
  {
   "cell_type": "code",
   "execution_count": 12,
   "metadata": {},
   "outputs": [
    {
     "name": "stdout",
     "output_type": "stream",
     "text": [
      "\n",
      "Количество явных дубликатов: 413\n"
     ]
    }
   ],
   "source": [
    "print(\"\\nКоличество явных дубликатов:\", data.duplicated().sum())"
   ]
  },
  {
   "cell_type": "markdown",
   "metadata": {},
   "source": [
    "Удалим из датасета явные дубликаты:"
   ]
  },
  {
   "cell_type": "code",
   "execution_count": 13,
   "metadata": {},
   "outputs": [],
   "source": [
    "data = data.drop_duplicates().reset_index(drop=True)"
   ]
  },
  {
   "cell_type": "code",
   "execution_count": 14,
   "metadata": {},
   "outputs": [
    {
     "name": "stdout",
     "output_type": "stream",
     "text": [
      "\n",
      "Количество явных дубликатов: 0\n"
     ]
    }
   ],
   "source": [
    "print(\"\\nКоличество явных дубликатов:\", data.duplicated().sum())"
   ]
  },
  {
   "cell_type": "code",
   "execution_count": 15,
   "metadata": {},
   "outputs": [
    {
     "data": {
      "text/html": [
       "<div>\n",
       "<style scoped>\n",
       "    .dataframe tbody tr th:only-of-type {\n",
       "        vertical-align: middle;\n",
       "    }\n",
       "\n",
       "    .dataframe tbody tr th {\n",
       "        vertical-align: top;\n",
       "    }\n",
       "\n",
       "    .dataframe thead th {\n",
       "        text-align: right;\n",
       "    }\n",
       "</style>\n",
       "<table border=\"1\" class=\"dataframe\">\n",
       "  <thead>\n",
       "    <tr style=\"text-align: right;\">\n",
       "      <th></th>\n",
       "      <th>event_name</th>\n",
       "      <th>device_id_hash</th>\n",
       "      <th>event_time_stamp</th>\n",
       "      <th>group</th>\n",
       "      <th>event_date</th>\n",
       "    </tr>\n",
       "  </thead>\n",
       "  <tbody>\n",
       "    <tr>\n",
       "      <th>0</th>\n",
       "      <td>MainScreenAppear</td>\n",
       "      <td>4575588528974610257</td>\n",
       "      <td>2019-07-25 04:43:36</td>\n",
       "      <td>246</td>\n",
       "      <td>2019-07-25</td>\n",
       "    </tr>\n",
       "    <tr>\n",
       "      <th>1</th>\n",
       "      <td>MainScreenAppear</td>\n",
       "      <td>7416695313311560658</td>\n",
       "      <td>2019-07-25 11:11:42</td>\n",
       "      <td>246</td>\n",
       "      <td>2019-07-25</td>\n",
       "    </tr>\n",
       "    <tr>\n",
       "      <th>2</th>\n",
       "      <td>PaymentScreenSuccessful</td>\n",
       "      <td>3518123091307005509</td>\n",
       "      <td>2019-07-25 11:28:47</td>\n",
       "      <td>248</td>\n",
       "      <td>2019-07-25</td>\n",
       "    </tr>\n",
       "    <tr>\n",
       "      <th>3</th>\n",
       "      <td>CartScreenAppear</td>\n",
       "      <td>3518123091307005509</td>\n",
       "      <td>2019-07-25 11:28:47</td>\n",
       "      <td>248</td>\n",
       "      <td>2019-07-25</td>\n",
       "    </tr>\n",
       "    <tr>\n",
       "      <th>4</th>\n",
       "      <td>PaymentScreenSuccessful</td>\n",
       "      <td>6217807653094995999</td>\n",
       "      <td>2019-07-25 11:48:42</td>\n",
       "      <td>248</td>\n",
       "      <td>2019-07-25</td>\n",
       "    </tr>\n",
       "  </tbody>\n",
       "</table>\n",
       "</div>"
      ],
      "text/plain": [
       "                event_name       device_id_hash    event_time_stamp  group  \\\n",
       "0         MainScreenAppear  4575588528974610257 2019-07-25 04:43:36    246   \n",
       "1         MainScreenAppear  7416695313311560658 2019-07-25 11:11:42    246   \n",
       "2  PaymentScreenSuccessful  3518123091307005509 2019-07-25 11:28:47    248   \n",
       "3         CartScreenAppear  3518123091307005509 2019-07-25 11:28:47    248   \n",
       "4  PaymentScreenSuccessful  6217807653094995999 2019-07-25 11:48:42    248   \n",
       "\n",
       "   event_date  \n",
       "0  2019-07-25  \n",
       "1  2019-07-25  \n",
       "2  2019-07-25  \n",
       "3  2019-07-25  \n",
       "4  2019-07-25  "
      ]
     },
     "execution_count": 15,
     "metadata": {},
     "output_type": "execute_result"
    }
   ],
   "source": [
    "data.head()"
   ]
  },
  {
   "cell_type": "code",
   "execution_count": 16,
   "metadata": {},
   "outputs": [
    {
     "name": "stdout",
     "output_type": "stream",
     "text": [
      "<class 'pandas.core.frame.DataFrame'>\n",
      "RangeIndex: 243713 entries, 0 to 243712\n",
      "Data columns (total 5 columns):\n",
      " #   Column            Non-Null Count   Dtype         \n",
      "---  ------            --------------   -----         \n",
      " 0   event_name        243713 non-null  object        \n",
      " 1   device_id_hash    243713 non-null  int64         \n",
      " 2   event_time_stamp  243713 non-null  datetime64[ns]\n",
      " 3   group             243713 non-null  int64         \n",
      " 4   event_date        243713 non-null  object        \n",
      "dtypes: datetime64[ns](1), int64(2), object(2)\n",
      "memory usage: 9.3+ MB\n"
     ]
    }
   ],
   "source": [
    "data.info()"
   ]
  },
  {
   "cell_type": "markdown",
   "metadata": {},
   "source": [
    "Посмотри есть ли в данных пользователи, которые состоят в нескольких группах одновременно:"
   ]
  },
  {
   "cell_type": "code",
   "execution_count": 17,
   "metadata": {},
   "outputs": [
    {
     "data": {
      "text/plain": [
       "0"
      ]
     },
     "execution_count": 17,
     "metadata": {},
     "output_type": "execute_result"
    }
   ],
   "source": [
    "visitors_groups = data.groupby('device_id_hash')['group'].nunique()\n",
    "sum(visitors_groups > 1) "
   ]
  },
  {
   "cell_type": "markdown",
   "metadata": {},
   "source": [
    "Таких пользователей нет"
   ]
  },
  {
   "cell_type": "markdown",
   "metadata": {},
   "source": [
    "## Исследовательский анализ данных"
   ]
  },
  {
   "cell_type": "markdown",
   "metadata": {},
   "source": [
    "### Общее количество событий в логе"
   ]
  },
  {
   "cell_type": "code",
   "execution_count": 18,
   "metadata": {},
   "outputs": [
    {
     "name": "stdout",
     "output_type": "stream",
     "text": [
      "Количество событий в логах: 243713\n"
     ]
    }
   ],
   "source": [
    "total_events = len(data['event_name'])\n",
    "print(\"Количество событий в логах:\", total_events)"
   ]
  },
  {
   "cell_type": "markdown",
   "metadata": {},
   "source": [
    "### Общее количество пользователей в логе"
   ]
  },
  {
   "cell_type": "code",
   "execution_count": 19,
   "metadata": {},
   "outputs": [
    {
     "name": "stdout",
     "output_type": "stream",
     "text": [
      "Количество пользователей в логах: 7551\n"
     ]
    }
   ],
   "source": [
    "total_users = data['device_id_hash'].nunique()\n",
    "print(\"Количество пользователей в логах:\", total_users)"
   ]
  },
  {
   "cell_type": "markdown",
   "metadata": {},
   "source": [
    "### Среднее количество событий на одного пользователя"
   ]
  },
  {
   "cell_type": "code",
   "execution_count": 20,
   "metadata": {},
   "outputs": [
    {
     "name": "stdout",
     "output_type": "stream",
     "text": [
      "Среднее количество событий на одного пользователя: 32.27559263673685\n"
     ]
    }
   ],
   "source": [
    "print(\"Среднее количество событий на одного пользователя:\", total_events / total_users)"
   ]
  },
  {
   "cell_type": "markdown",
   "metadata": {},
   "source": [
    "### Временной период данных"
   ]
  },
  {
   "cell_type": "code",
   "execution_count": 21,
   "metadata": {},
   "outputs": [
    {
     "data": {
      "text/plain": [
       "min    2019-07-25\n",
       "max    2019-08-07\n",
       "Name: event_date, dtype: object"
      ]
     },
     "execution_count": 21,
     "metadata": {},
     "output_type": "execute_result"
    }
   ],
   "source": [
    "data['event_date'].agg(['min', 'max'])"
   ]
  },
  {
   "cell_type": "markdown",
   "metadata": {},
   "source": [
    "Мы располагаем данными за период с 25 июля 2019 года по 7 августа 2019"
   ]
  },
  {
   "cell_type": "code",
   "execution_count": 22,
   "metadata": {
    "scrolled": false
   },
   "outputs": [
    {
     "data": {
      "image/png": "[encoded data removed]",
      "text/plain": [
       "<Figure size 1296x432 with 1 Axes>"
      ]
     },
     "metadata": {
      "needs_background": "light"
     },
     "output_type": "display_data"
    }
   ],
   "source": [
    "\n",
    "sns.displot(data['event_time_stamp'], height= 6 , aspect= 3)\n",
    "plt.title('Гистограмма по дате и времени:')\n",
    "plt.ylabel('Количество событий')\n",
    "plt.xlabel('Дата и время')\n",
    "plt.xticks(rotation = 45)\n",
    "plt.show()"
   ]
  },
  {
   "cell_type": "markdown",
   "metadata": {},
   "source": [
    "По графику можно сделать вывод, что мы не располагаем одинаково полными данными за весь период. Технически в логи новых дней по некоторым пользователям могут «доезжать» события из прошлого — это может «перекашивать данные». По графику это отчетливо видно, это логи до 2019-08-01. Отбросим более старые данные"
   ]
  },
  {
   "cell_type": "code",
   "execution_count": 23,
   "metadata": {},
   "outputs": [],
   "source": [
    "data_new = data.query('event_date >= @pd.Timestamp(2019,8,1)')"
   ]
  },
  {
   "cell_type": "code",
   "execution_count": 24,
   "metadata": {},
   "outputs": [
    {
     "data": {
      "text/plain": [
       "min    2019-08-01\n",
       "max    2019-08-07\n",
       "Name: event_date, dtype: object"
      ]
     },
     "execution_count": 24,
     "metadata": {},
     "output_type": "execute_result"
    }
   ],
   "source": [
    "data_new['event_date'].agg(['min', 'max'])"
   ]
  },
  {
   "cell_type": "markdown",
   "metadata": {},
   "source": [
    "### Данные после фильтрации"
   ]
  },
  {
   "cell_type": "code",
   "execution_count": 25,
   "metadata": {},
   "outputs": [
    {
     "name": "stdout",
     "output_type": "stream",
     "text": [
      "Потеряно событий 1.16%\n"
     ]
    }
   ],
   "source": [
    "print('Потеряно событий {:.2%}'.format(1-len(data_new)/len(data)))"
   ]
  },
  {
   "cell_type": "code",
   "execution_count": 26,
   "metadata": {
    "scrolled": true
   },
   "outputs": [
    {
     "name": "stdout",
     "output_type": "stream",
     "text": [
      "Потеряно пользователей 0.23%\n"
     ]
    }
   ],
   "source": [
    "print('Потеряно пользователей {:.2%}'.format(1-len(data_new['device_id_hash'].unique())/len(data['device_id_hash'].unique())))"
   ]
  },
  {
   "cell_type": "code",
   "execution_count": 27,
   "metadata": {},
   "outputs": [
    {
     "data": {
      "text/plain": [
       "248    84563\n",
       "246    79302\n",
       "247    77022\n",
       "Name: group, dtype: int64"
      ]
     },
     "execution_count": 27,
     "metadata": {},
     "output_type": "execute_result"
    }
   ],
   "source": [
    "data_new['group'].value_counts()"
   ]
  },
  {
   "cell_type": "markdown",
   "metadata": {},
   "source": [
    "У нас есть пользователи из всех трёх экспериментальных групп, посмотрим сколько уникальных пользователей в каждой из групп"
   ]
  },
  {
   "cell_type": "code",
   "execution_count": 28,
   "metadata": {},
   "outputs": [
    {
     "data": {
      "text/html": [
       "<div>\n",
       "<style scoped>\n",
       "    .dataframe tbody tr th:only-of-type {\n",
       "        vertical-align: middle;\n",
       "    }\n",
       "\n",
       "    .dataframe tbody tr th {\n",
       "        vertical-align: top;\n",
       "    }\n",
       "\n",
       "    .dataframe thead th {\n",
       "        text-align: right;\n",
       "    }\n",
       "</style>\n",
       "<table border=\"1\" class=\"dataframe\">\n",
       "  <thead>\n",
       "    <tr style=\"text-align: right;\">\n",
       "      <th></th>\n",
       "      <th>group</th>\n",
       "      <th>count</th>\n",
       "    </tr>\n",
       "  </thead>\n",
       "  <tbody>\n",
       "    <tr>\n",
       "      <th>0</th>\n",
       "      <td>246</td>\n",
       "      <td>2489</td>\n",
       "    </tr>\n",
       "    <tr>\n",
       "      <th>1</th>\n",
       "      <td>247</td>\n",
       "      <td>2520</td>\n",
       "    </tr>\n",
       "    <tr>\n",
       "      <th>2</th>\n",
       "      <td>248</td>\n",
       "      <td>2542</td>\n",
       "    </tr>\n",
       "  </tbody>\n",
       "</table>\n",
       "</div>"
      ],
      "text/plain": [
       "   group  count\n",
       "0    246   2489\n",
       "1    247   2520\n",
       "2    248   2542"
      ]
     },
     "execution_count": 28,
     "metadata": {},
     "output_type": "execute_result"
    }
   ],
   "source": [
    "unique_users = data.pivot_table(index=['group'], values=['device_id_hash'], aggfunc=['nunique']).reset_index()\n",
    "unique_users.columns = ['group', 'count']\n",
    "unique_users"
   ]
  },
  {
   "cell_type": "markdown",
   "metadata": {},
   "source": [
    "Вывод: Мы располагаем данными с 27 июля по 7 августа 2019 года. По гистограмме частоты событий видим, что новые полные данные мы начали получать только с 1 августа 2019 г, отбросили данные, полученные раньше. Мы потеряли 1.16% событий и 0,23% пользователей, что не повлияет на результаты анализа, у нас есть пользователи из всех трех экспериментальных групп."
   ]
  },
  {
   "cell_type": "markdown",
   "metadata": {},
   "source": [
    "### Анализ воронки событий"
   ]
  },
  {
   "cell_type": "markdown",
   "metadata": {},
   "source": [
    "Посмотрим, какие события есть в логах, как часто они встречаются. Отсортируем события по частоте."
   ]
  },
  {
   "cell_type": "code",
   "execution_count": 29,
   "metadata": {},
   "outputs": [
    {
     "data": {
      "text/html": [
       "<div>\n",
       "<style scoped>\n",
       "    .dataframe tbody tr th:only-of-type {\n",
       "        vertical-align: middle;\n",
       "    }\n",
       "\n",
       "    .dataframe tbody tr th {\n",
       "        vertical-align: top;\n",
       "    }\n",
       "\n",
       "    .dataframe thead th {\n",
       "        text-align: right;\n",
       "    }\n",
       "</style>\n",
       "<table border=\"1\" class=\"dataframe\">\n",
       "  <thead>\n",
       "    <tr style=\"text-align: right;\">\n",
       "      <th></th>\n",
       "      <th>event_name</th>\n",
       "      <th>count</th>\n",
       "    </tr>\n",
       "  </thead>\n",
       "  <tbody>\n",
       "    <tr>\n",
       "      <th>0</th>\n",
       "      <td>MainScreenAppear</td>\n",
       "      <td>117328</td>\n",
       "    </tr>\n",
       "    <tr>\n",
       "      <th>1</th>\n",
       "      <td>OffersScreenAppear</td>\n",
       "      <td>46333</td>\n",
       "    </tr>\n",
       "    <tr>\n",
       "      <th>2</th>\n",
       "      <td>CartScreenAppear</td>\n",
       "      <td>42303</td>\n",
       "    </tr>\n",
       "    <tr>\n",
       "      <th>3</th>\n",
       "      <td>PaymentScreenSuccessful</td>\n",
       "      <td>33918</td>\n",
       "    </tr>\n",
       "    <tr>\n",
       "      <th>4</th>\n",
       "      <td>Tutorial</td>\n",
       "      <td>1005</td>\n",
       "    </tr>\n",
       "  </tbody>\n",
       "</table>\n",
       "</div>"
      ],
      "text/plain": [
       "                event_name   count\n",
       "0         MainScreenAppear  117328\n",
       "1       OffersScreenAppear   46333\n",
       "2         CartScreenAppear   42303\n",
       "3  PaymentScreenSuccessful   33918\n",
       "4                 Tutorial    1005"
      ]
     },
     "execution_count": 29,
     "metadata": {},
     "output_type": "execute_result"
    }
   ],
   "source": [
    "events=data_new['event_name'].value_counts().reset_index()\n",
    "events.columns=['event_name','count']\n",
    "events"
   ]
  },
  {
   "cell_type": "markdown",
   "metadata": {},
   "source": [
    "наиболее распространенным в логах является событие 'MainScreenAppear'."
   ]
  },
  {
   "cell_type": "markdown",
   "metadata": {},
   "source": [
    "Посчитаем, сколько пользователей совершали каждое из этих событий. Отсортируем события по числу пользователей. Посчитаем долю пользователей, которые хоть раз совершали событие."
   ]
  },
  {
   "cell_type": "code",
   "execution_count": 30,
   "metadata": {},
   "outputs": [
    {
     "data": {
      "text/html": [
       "<style  type=\"text/css\" >\n",
       "</style><table id=\"T_453ca_\" ><thead>    <tr>        <th class=\"blank level0\" ></th>        <th class=\"col_heading level0 col0\" >event_name</th>        <th class=\"col_heading level0 col1\" >device_id_hash</th>        <th class=\"col_heading level0 col2\" >share</th>    </tr></thead><tbody>\n",
       "                <tr>\n",
       "                        <th id=\"T_453ca_level0_row0\" class=\"row_heading level0 row0\" >0</th>\n",
       "                        <td id=\"T_453ca_row0_col0\" class=\"data row0 col0\" >MainScreenAppear</td>\n",
       "                        <td id=\"T_453ca_row0_col1\" class=\"data row0 col1\" >7419</td>\n",
       "                        <td id=\"T_453ca_row0_col2\" class=\"data row0 col2\" >98.47%</td>\n",
       "            </tr>\n",
       "            <tr>\n",
       "                        <th id=\"T_453ca_level0_row1\" class=\"row_heading level0 row1\" >1</th>\n",
       "                        <td id=\"T_453ca_row1_col0\" class=\"data row1 col0\" >OffersScreenAppear</td>\n",
       "                        <td id=\"T_453ca_row1_col1\" class=\"data row1 col1\" >4593</td>\n",
       "                        <td id=\"T_453ca_row1_col2\" class=\"data row1 col2\" >60.96%</td>\n",
       "            </tr>\n",
       "            <tr>\n",
       "                        <th id=\"T_453ca_level0_row2\" class=\"row_heading level0 row2\" >2</th>\n",
       "                        <td id=\"T_453ca_row2_col0\" class=\"data row2 col0\" >CartScreenAppear</td>\n",
       "                        <td id=\"T_453ca_row2_col1\" class=\"data row2 col1\" >3734</td>\n",
       "                        <td id=\"T_453ca_row2_col2\" class=\"data row2 col2\" >49.56%</td>\n",
       "            </tr>\n",
       "            <tr>\n",
       "                        <th id=\"T_453ca_level0_row3\" class=\"row_heading level0 row3\" >3</th>\n",
       "                        <td id=\"T_453ca_row3_col0\" class=\"data row3 col0\" >PaymentScreenSuccessful</td>\n",
       "                        <td id=\"T_453ca_row3_col1\" class=\"data row3 col1\" >3539</td>\n",
       "                        <td id=\"T_453ca_row3_col2\" class=\"data row3 col2\" >46.97%</td>\n",
       "            </tr>\n",
       "            <tr>\n",
       "                        <th id=\"T_453ca_level0_row4\" class=\"row_heading level0 row4\" >4</th>\n",
       "                        <td id=\"T_453ca_row4_col0\" class=\"data row4 col0\" >Tutorial</td>\n",
       "                        <td id=\"T_453ca_row4_col1\" class=\"data row4 col1\" >840</td>\n",
       "                        <td id=\"T_453ca_row4_col2\" class=\"data row4 col2\" >11.15%</td>\n",
       "            </tr>\n",
       "    </tbody></table>"
      ],
      "text/plain": [
       "<pandas.io.formats.style.Styler at 0x7f0484853dc0>"
      ]
     },
     "execution_count": 30,
     "metadata": {},
     "output_type": "execute_result"
    }
   ],
   "source": [
    "count_event = data_new.groupby('event_name').agg({'device_id_hash':'nunique'}).sort_values(by = 'device_id_hash', ascending = False).reset_index()\n",
    "count_event['share'] = count_event['device_id_hash']/len(data_new['device_id_hash'].unique())\n",
    "count_event['share']*=100\n",
    "count_event.style.format({'share': '{:.2f}%'})"
   ]
  },
  {
   "cell_type": "code",
   "execution_count": 31,
   "metadata": {},
   "outputs": [
    {
     "data": {
      "text/plain": [
       "<AxesSubplot:xlabel='event_name', ylabel='device_id_hash'>"
      ]
     },
     "execution_count": 31,
     "metadata": {},
     "output_type": "execute_result"
    },
    {
     "data": {
      "image/png": "[encoded data removed]",
      "text/plain": [
       "<Figure size 1296x504 with 1 Axes>"
      ]
     },
     "metadata": {},
     "output_type": "display_data"
    }
   ],
   "source": [
    "sns.set(rc={'figure.figsize':(18, 7)})\n",
    "sns.barplot(data=count_event, x=count_event['event_name'], y=count_event['device_id_hash'])"
   ]
  },
  {
   "cell_type": "markdown",
   "metadata": {},
   "source": [
    "Предположу, что события идут в таком порядке: \n",
    "\n",
    "0. Обучающий материал по пользованию приложения (Tutorial)\n",
    "1. Появление главного экрана (MainScreenAppear)\n",
    "2. Появляение экрана предложений (OffersScreenAppear)\n",
    "3. Появление экрана корзины (CartScreenAppear)\n",
    "4. Появление экрана с информацией об успешно выполненном платеже (PaymentScreenSuccessful)\n",
    "\n",
    "Все выстраиваются в последовательную цепочку, кроме Tutorial, не будем учитывать эти логи при расчете воронки, так как это не обязательный пункт, его можно пройти в любое время.\n",
    "\n"
   ]
  },
  {
   "cell_type": "code",
   "execution_count": 32,
   "metadata": {},
   "outputs": [],
   "source": [
    "count_event=count_event.drop(labels = [4],axis = 0)"
   ]
  },
  {
   "cell_type": "code",
   "execution_count": 33,
   "metadata": {},
   "outputs": [],
   "source": [
    "funel=count_event['device_id_hash']. tolist ()"
   ]
  },
  {
   "cell_type": "code",
   "execution_count": 34,
   "metadata": {},
   "outputs": [],
   "source": [
    "g=[100]\n",
    "for i in range(0, len(funel)-1):\n",
    "    a=(funel[i+1]/funel[i])*100\n",
    "    g.append(a)"
   ]
  },
  {
   "cell_type": "code",
   "execution_count": 35,
   "metadata": {},
   "outputs": [],
   "source": [
    "c=[]\n",
    "for i in range(0, len(funel)):\n",
    "    b=(funel[i]/funel[0])*100\n",
    "    c.append(b)"
   ]
  },
  {
   "cell_type": "code",
   "execution_count": 36,
   "metadata": {},
   "outputs": [],
   "source": [
    "funel= pd.Series(g)\n",
    "count_event['funel']=funel"
   ]
  },
  {
   "cell_type": "code",
   "execution_count": 37,
   "metadata": {},
   "outputs": [],
   "source": [
    "conversion=pd.Series(c)\n",
    "count_event['total_conversion']=conversion\n"
   ]
  },
  {
   "cell_type": "code",
   "execution_count": 38,
   "metadata": {},
   "outputs": [
    {
     "data": {
      "text/html": [
       "<style  type=\"text/css\" >\n",
       "</style><table id=\"T_cf199_\" ><thead>    <tr>        <th class=\"blank level0\" ></th>        <th class=\"col_heading level0 col0\" >event_name</th>        <th class=\"col_heading level0 col1\" >device_id_hash</th>        <th class=\"col_heading level0 col2\" >share</th>        <th class=\"col_heading level0 col3\" >funel</th>        <th class=\"col_heading level0 col4\" >total_conversion</th>    </tr></thead><tbody>\n",
       "                <tr>\n",
       "                        <th id=\"T_cf199_level0_row0\" class=\"row_heading level0 row0\" >0</th>\n",
       "                        <td id=\"T_cf199_row0_col0\" class=\"data row0 col0\" >MainScreenAppear</td>\n",
       "                        <td id=\"T_cf199_row0_col1\" class=\"data row0 col1\" >7419</td>\n",
       "                        <td id=\"T_cf199_row0_col2\" class=\"data row0 col2\" >98.473586</td>\n",
       "                        <td id=\"T_cf199_row0_col3\" class=\"data row0 col3\" >100.00%</td>\n",
       "                        <td id=\"T_cf199_row0_col4\" class=\"data row0 col4\" >100.00%</td>\n",
       "            </tr>\n",
       "            <tr>\n",
       "                        <th id=\"T_cf199_level0_row1\" class=\"row_heading level0 row1\" >1</th>\n",
       "                        <td id=\"T_cf199_row1_col0\" class=\"data row1 col0\" >OffersScreenAppear</td>\n",
       "                        <td id=\"T_cf199_row1_col1\" class=\"data row1 col1\" >4593</td>\n",
       "                        <td id=\"T_cf199_row1_col2\" class=\"data row1 col2\" >60.963632</td>\n",
       "                        <td id=\"T_cf199_row1_col3\" class=\"data row1 col3\" >61.91%</td>\n",
       "                        <td id=\"T_cf199_row1_col4\" class=\"data row1 col4\" >61.91%</td>\n",
       "            </tr>\n",
       "            <tr>\n",
       "                        <th id=\"T_cf199_level0_row2\" class=\"row_heading level0 row2\" >2</th>\n",
       "                        <td id=\"T_cf199_row2_col0\" class=\"data row2 col0\" >CartScreenAppear</td>\n",
       "                        <td id=\"T_cf199_row2_col1\" class=\"data row2 col1\" >3734</td>\n",
       "                        <td id=\"T_cf199_row2_col2\" class=\"data row2 col2\" >49.561986</td>\n",
       "                        <td id=\"T_cf199_row2_col3\" class=\"data row2 col3\" >81.30%</td>\n",
       "                        <td id=\"T_cf199_row2_col4\" class=\"data row2 col4\" >50.33%</td>\n",
       "            </tr>\n",
       "            <tr>\n",
       "                        <th id=\"T_cf199_level0_row3\" class=\"row_heading level0 row3\" >3</th>\n",
       "                        <td id=\"T_cf199_row3_col0\" class=\"data row3 col0\" >PaymentScreenSuccessful</td>\n",
       "                        <td id=\"T_cf199_row3_col1\" class=\"data row3 col1\" >3539</td>\n",
       "                        <td id=\"T_cf199_row3_col2\" class=\"data row3 col2\" >46.973719</td>\n",
       "                        <td id=\"T_cf199_row3_col3\" class=\"data row3 col3\" >94.78%</td>\n",
       "                        <td id=\"T_cf199_row3_col4\" class=\"data row3 col4\" >47.70%</td>\n",
       "            </tr>\n",
       "    </tbody></table>"
      ],
      "text/plain": [
       "<pandas.io.formats.style.Styler at 0x7f0431e68580>"
      ]
     },
     "execution_count": 38,
     "metadata": {},
     "output_type": "execute_result"
    }
   ],
   "source": [
    "count_event.style.format({'funel': '{:.2f}%', 'total_conversion': '{:.2f}%'})"
   ]
  },
  {
   "cell_type": "code",
   "execution_count": 39,
   "metadata": {},
   "outputs": [
    {
     "data": {
      "image/png": "[encoded data removed]"
     },
     "metadata": {},
     "output_type": "display_data"
    }
   ],
   "source": [
    "fig = go.Figure(go.Funnel(\n",
    "    y = count_event['event_name'],\n",
    "    x = count_event.device_id_hash,\n",
    "    textinfo = \"value+percent previous\"\n",
    "    ),\n",
    "    layout=go.Layout(\n",
    "        title=go.layout.Title(text=\"Воронка событий\")\n",
    "    ))\n",
    "fig.show() "
   ]
  },
  {
   "cell_type": "markdown",
   "metadata": {},
   "source": [
    "Вывод: больше всего пользователей (38.1%) теряется на первом шаге при переходе от события 'MainScreenAppear' к событию 'OffersScreenAppear'; Доля пользователей, перешедших к оплате от получивших предложение 0.81, доля пользователей, оплативших товар от перешедших к оплате 0.95.\n",
    "\n",
    "от первого события до оплаты доходит 48% пользователей.\n"
   ]
  },
  {
   "cell_type": "markdown",
   "metadata": {},
   "source": [
    "## Анализ A/B-теста"
   ]
  },
  {
   "cell_type": "markdown",
   "metadata": {},
   "source": [
    "узнаем сколько пользователей в каждой из групп"
   ]
  },
  {
   "cell_type": "code",
   "execution_count": 40,
   "metadata": {},
   "outputs": [
    {
     "data": {
      "text/html": [
       "<div>\n",
       "<style scoped>\n",
       "    .dataframe tbody tr th:only-of-type {\n",
       "        vertical-align: middle;\n",
       "    }\n",
       "\n",
       "    .dataframe tbody tr th {\n",
       "        vertical-align: top;\n",
       "    }\n",
       "\n",
       "    .dataframe thead th {\n",
       "        text-align: right;\n",
       "    }\n",
       "</style>\n",
       "<table border=\"1\" class=\"dataframe\">\n",
       "  <thead>\n",
       "    <tr style=\"text-align: right;\">\n",
       "      <th></th>\n",
       "      <th>device_id_hash</th>\n",
       "    </tr>\n",
       "    <tr>\n",
       "      <th>group</th>\n",
       "      <th></th>\n",
       "    </tr>\n",
       "  </thead>\n",
       "  <tbody>\n",
       "    <tr>\n",
       "      <th>246</th>\n",
       "      <td>2484</td>\n",
       "    </tr>\n",
       "    <tr>\n",
       "      <th>247</th>\n",
       "      <td>2513</td>\n",
       "    </tr>\n",
       "    <tr>\n",
       "      <th>248</th>\n",
       "      <td>2537</td>\n",
       "    </tr>\n",
       "  </tbody>\n",
       "</table>\n",
       "</div>"
      ],
      "text/plain": [
       "       device_id_hash\n",
       "group                \n",
       "246              2484\n",
       "247              2513\n",
       "248              2537"
      ]
     },
     "execution_count": 40,
     "metadata": {},
     "output_type": "execute_result"
    }
   ],
   "source": [
    "data_new.groupby('group').agg({'device_id_hash':'nunique'})"
   ]
  },
  {
   "cell_type": "markdown",
   "metadata": {},
   "source": [
    "Вывод:Количество пользователей в группах\n",
    "\n",
    "- Экспериментальная группа 248 - 2537\n",
    "- Контрольная группа 246 - 2484\n",
    "- Контрольная группа 247 - 2513"
   ]
  },
  {
   "cell_type": "markdown",
   "metadata": {},
   "source": [
    "### Проверка разницы между выборками "
   ]
  },
  {
   "cell_type": "markdown",
   "metadata": {},
   "source": [
    "Проверим, находят ли статистические критерии разницу между выборками двух контрольных групп А/А-эксперимента.\n",
    "\n",
    "Сформулируем гипотезы:\n",
    "\n",
    "H0: доли уникальных посетителей, побывавших на этапе воронки, одинаковы.\n",
    "\n",
    "H1: между долями уникальных посетителей, побывавших на этапе воронки, есть значимая разница.\n",
    "\n",
    "Критический уровень статистической значимости: alpha = 0.05\n",
    "\n",
    "Рассчитаем статистическую значимость различий между выборками"
   ]
  },
  {
   "cell_type": "code",
   "execution_count": 41,
   "metadata": {},
   "outputs": [
    {
     "data": {
      "text/html": [
       "<div>\n",
       "<style scoped>\n",
       "    .dataframe tbody tr th:only-of-type {\n",
       "        vertical-align: middle;\n",
       "    }\n",
       "\n",
       "    .dataframe tbody tr th {\n",
       "        vertical-align: top;\n",
       "    }\n",
       "\n",
       "    .dataframe thead th {\n",
       "        text-align: right;\n",
       "    }\n",
       "</style>\n",
       "<table border=\"1\" class=\"dataframe\">\n",
       "  <thead>\n",
       "    <tr style=\"text-align: right;\">\n",
       "      <th></th>\n",
       "      <th>event_name</th>\n",
       "      <th>group</th>\n",
       "      <th>total_users</th>\n",
       "    </tr>\n",
       "  </thead>\n",
       "  <tbody>\n",
       "    <tr>\n",
       "      <th>5</th>\n",
       "      <td>MainScreenAppear</td>\n",
       "      <td>248</td>\n",
       "      <td>2493</td>\n",
       "    </tr>\n",
       "    <tr>\n",
       "      <th>8</th>\n",
       "      <td>OffersScreenAppear</td>\n",
       "      <td>248</td>\n",
       "      <td>1531</td>\n",
       "    </tr>\n",
       "    <tr>\n",
       "      <th>2</th>\n",
       "      <td>CartScreenAppear</td>\n",
       "      <td>248</td>\n",
       "      <td>1230</td>\n",
       "    </tr>\n",
       "    <tr>\n",
       "      <th>11</th>\n",
       "      <td>PaymentScreenSuccessful</td>\n",
       "      <td>248</td>\n",
       "      <td>1181</td>\n",
       "    </tr>\n",
       "    <tr>\n",
       "      <th>4</th>\n",
       "      <td>MainScreenAppear</td>\n",
       "      <td>247</td>\n",
       "      <td>2476</td>\n",
       "    </tr>\n",
       "    <tr>\n",
       "      <th>7</th>\n",
       "      <td>OffersScreenAppear</td>\n",
       "      <td>247</td>\n",
       "      <td>1520</td>\n",
       "    </tr>\n",
       "    <tr>\n",
       "      <th>1</th>\n",
       "      <td>CartScreenAppear</td>\n",
       "      <td>247</td>\n",
       "      <td>1238</td>\n",
       "    </tr>\n",
       "    <tr>\n",
       "      <th>10</th>\n",
       "      <td>PaymentScreenSuccessful</td>\n",
       "      <td>247</td>\n",
       "      <td>1158</td>\n",
       "    </tr>\n",
       "    <tr>\n",
       "      <th>3</th>\n",
       "      <td>MainScreenAppear</td>\n",
       "      <td>246</td>\n",
       "      <td>2450</td>\n",
       "    </tr>\n",
       "    <tr>\n",
       "      <th>6</th>\n",
       "      <td>OffersScreenAppear</td>\n",
       "      <td>246</td>\n",
       "      <td>1542</td>\n",
       "    </tr>\n",
       "    <tr>\n",
       "      <th>0</th>\n",
       "      <td>CartScreenAppear</td>\n",
       "      <td>246</td>\n",
       "      <td>1266</td>\n",
       "    </tr>\n",
       "    <tr>\n",
       "      <th>9</th>\n",
       "      <td>PaymentScreenSuccessful</td>\n",
       "      <td>246</td>\n",
       "      <td>1200</td>\n",
       "    </tr>\n",
       "  </tbody>\n",
       "</table>\n",
       "</div>"
      ],
      "text/plain": [
       "                 event_name  group  total_users\n",
       "5          MainScreenAppear    248         2493\n",
       "8        OffersScreenAppear    248         1531\n",
       "2          CartScreenAppear    248         1230\n",
       "11  PaymentScreenSuccessful    248         1181\n",
       "4          MainScreenAppear    247         2476\n",
       "7        OffersScreenAppear    247         1520\n",
       "1          CartScreenAppear    247         1238\n",
       "10  PaymentScreenSuccessful    247         1158\n",
       "3          MainScreenAppear    246         2450\n",
       "6        OffersScreenAppear    246         1542\n",
       "0          CartScreenAppear    246         1266\n",
       "9   PaymentScreenSuccessful    246         1200"
      ]
     },
     "execution_count": 41,
     "metadata": {},
     "output_type": "execute_result"
    }
   ],
   "source": [
    "funnel_group = (data_new.\n",
    "          groupby(['event_name', 'group']).\n",
    "          agg({'device_id_hash': 'nunique'}).\n",
    "          reset_index().\n",
    "          rename(columns={'device_id_hash' : 'total_users'}).\n",
    "          sort_values(by=['group','total_users'], ascending=False))\n",
    "\n",
    "funnel_group = funnel_group[funnel_group['event_name'] != 'Tutorial']\n",
    "funnel_group"
   ]
  },
  {
   "cell_type": "code",
   "execution_count": 42,
   "metadata": {},
   "outputs": [
    {
     "data": {
      "image/png": "[encoded data removed]"
     },
     "metadata": {},
     "output_type": "display_data"
    }
   ],
   "source": [
    "fig = go.Figure()\n",
    "\n",
    "fig.add_trace(go.Funnel(name = '246',\n",
    "                        y = funnel_group.query('group == 246')['event_name'],\n",
    "                        x = funnel_group.query('group == 246')['total_users'],\n",
    "                        opacity = 0.6,\n",
    "                        textposition = 'inside',\n",
    "                        textinfo = 'value + percent previous'))\n",
    "\n",
    "fig.add_trace(go.Funnel(name = '247',\n",
    "                        y = funnel_group.query('group == 247')['event_name'],\n",
    "                        x = funnel_group.query('group == 247')['total_users'],\n",
    "                        opacity = 0.6,\n",
    "                        textposition = 'inside',\n",
    "                        textinfo = 'value + percent previous'))\n",
    "\n",
    "\n",
    "fig.add_trace(go.Funnel(name = '248',\n",
    "                        y = funnel_group.query('group == 248')['event_name'],\n",
    "                        x = funnel_group.query('group == 248')['total_users'],\n",
    "                        opacity = 0.6,\n",
    "                        textposition = 'inside',\n",
    "                        textinfo = 'value + percent previous'))\n",
    "                        \n",
    "fig.update_layout(title_text='воронка с разбивкой по группам и событиям')\n",
    "fig.show()\n"
   ]
  },
  {
   "cell_type": "code",
   "execution_count": 43,
   "metadata": {},
   "outputs": [],
   "source": [
    "\n",
    "A1_group = data_new.query(\"group==246\").groupby('event_name').agg({'device_id_hash':'nunique'})\n",
    "A2_group = data_new.query(\"group==247\").groupby('event_name').agg({'device_id_hash':'nunique'})\n",
    "B_group = data_new.query(\"group==248\").groupby('event_name').agg({'device_id_hash':'nunique'})\n"
   ]
  },
  {
   "cell_type": "code",
   "execution_count": 44,
   "metadata": {},
   "outputs": [
    {
     "data": {
      "text/html": [
       "<div>\n",
       "<style scoped>\n",
       "    .dataframe tbody tr th:only-of-type {\n",
       "        vertical-align: middle;\n",
       "    }\n",
       "\n",
       "    .dataframe tbody tr th {\n",
       "        vertical-align: top;\n",
       "    }\n",
       "\n",
       "    .dataframe thead th {\n",
       "        text-align: right;\n",
       "    }\n",
       "</style>\n",
       "<table border=\"1\" class=\"dataframe\">\n",
       "  <thead>\n",
       "    <tr style=\"text-align: right;\">\n",
       "      <th></th>\n",
       "      <th>device_id_hash</th>\n",
       "    </tr>\n",
       "    <tr>\n",
       "      <th>event_name</th>\n",
       "      <th></th>\n",
       "    </tr>\n",
       "  </thead>\n",
       "  <tbody>\n",
       "    <tr>\n",
       "      <th>CartScreenAppear</th>\n",
       "      <td>1266</td>\n",
       "    </tr>\n",
       "    <tr>\n",
       "      <th>MainScreenAppear</th>\n",
       "      <td>2450</td>\n",
       "    </tr>\n",
       "    <tr>\n",
       "      <th>OffersScreenAppear</th>\n",
       "      <td>1542</td>\n",
       "    </tr>\n",
       "    <tr>\n",
       "      <th>PaymentScreenSuccessful</th>\n",
       "      <td>1200</td>\n",
       "    </tr>\n",
       "    <tr>\n",
       "      <th>Tutorial</th>\n",
       "      <td>278</td>\n",
       "    </tr>\n",
       "  </tbody>\n",
       "</table>\n",
       "</div>"
      ],
      "text/plain": [
       "                         device_id_hash\n",
       "event_name                             \n",
       "CartScreenAppear                   1266\n",
       "MainScreenAppear                   2450\n",
       "OffersScreenAppear                 1542\n",
       "PaymentScreenSuccessful            1200\n",
       "Tutorial                            278"
      ]
     },
     "execution_count": 44,
     "metadata": {},
     "output_type": "execute_result"
    }
   ],
   "source": [
    "A1_group"
   ]
  },
  {
   "cell_type": "code",
   "execution_count": 45,
   "metadata": {},
   "outputs": [],
   "source": [
    "A1_group.loc['all']=len(data_new.query(\"group==246\")['device_id_hash'].unique())\n",
    "A2_group.loc['all']=len(data_new.query(\"group==247\")['device_id_hash'].unique())\n",
    "B_group.loc['all']=len(data_new.query(\"group==248\")['device_id_hash'].unique())\n"
   ]
  },
  {
   "cell_type": "markdown",
   "metadata": {},
   "source": [
    "Всего у нас 4 вида событий, 4 A/A теста и 12 А/В, следовательно для всех тестов мы вводим поправку Бонферрони bonferroni_alpha = alpha / 16"
   ]
  },
  {
   "cell_type": "markdown",
   "metadata": {},
   "source": [
    "Для всех проверок уровень статистической значимости должен быть постоянным, так как гипотезы проверяются по данным одной выборки, поэтому для А/А теста нужно применить поправку Бонферрони."
   ]
  },
  {
   "cell_type": "code",
   "execution_count": 46,
   "metadata": {},
   "outputs": [],
   "source": [
    "def z_test(group_one, \n",
    "           group_two,\n",
    "           event_trials,\n",
    "           event_successes,\n",
    "           alpha = 0.05/16):\n",
    "\n",
    "    successes = np.array([int(group_one.loc[event_successes]), int(group_two.loc[event_successes])])\n",
    "    trials =  np.array([int(group_one.loc[event_trials]),int(group_two.loc[event_trials])])\n",
    "\n",
    "    # пропорция успехов в первой группе:\n",
    "    p1 = successes[0]/trials[0]\n",
    "\n",
    "    # пропорция успехов во второй группе:\n",
    "    p2 = successes[1]/trials[1]\n",
    "\n",
    "    # пропорция успехов в комбинированном датасете:\n",
    "    p_combined = (successes[0] + successes[1]) / (trials[0] + trials[1])\n",
    "\n",
    "    # разница пропорций в датасетах\n",
    "    difference = p1 - p2 \n",
    "    # считаем статистику в ст.отклонениях стандартного нормального распределения\n",
    "    z_value = difference / mth.sqrt(\n",
    "        p_combined * (1 - p_combined) * (1 / trials[0] + 1 / trials[1])\n",
    "    )\n",
    "\n",
    "    # задаем стандартное нормальное распределение (среднее 0, ст.отклонение 1)\n",
    "    distr = stats.norm(0, 1)\n",
    "\n",
    "    p_value = (1 - distr.cdf(abs(z_value))) * 2\n",
    "    \n",
    "    print('Событие', event_successes)\n",
    "\n",
    "    print('p-значение: ', p_value)\n",
    "\n",
    "    if p_value < alpha:\n",
    "        print('Отвергаем нулевую гипотезу: между долями есть значимая разница\\n')\n",
    "    else:\n",
    "        print(\n",
    "            'Не получилось отвергнуть нулевую гипотезу, нет оснований считать доли разными\\n'\n",
    "        ) \n"
   ]
  },
  {
   "cell_type": "code",
   "execution_count": 47,
   "metadata": {},
   "outputs": [
    {
     "name": "stdout",
     "output_type": "stream",
     "text": [
      "Событие MainScreenAppear\n",
      "p-значение:  0.7570597232046099\n",
      "Не получилось отвергнуть нулевую гипотезу, нет оснований считать доли разными\n",
      "\n"
     ]
    }
   ],
   "source": [
    "z_test(A1_group, A2_group, 'all', 'MainScreenAppear')"
   ]
  },
  {
   "cell_type": "code",
   "execution_count": 48,
   "metadata": {},
   "outputs": [
    {
     "name": "stdout",
     "output_type": "stream",
     "text": [
      "Событие OffersScreenAppear\n",
      "p-значение:  0.2480954578522181\n",
      "Не получилось отвергнуть нулевую гипотезу, нет оснований считать доли разными\n",
      "\n"
     ]
    }
   ],
   "source": [
    "z_test(A1_group, A2_group, 'all', 'OffersScreenAppear')"
   ]
  },
  {
   "cell_type": "code",
   "execution_count": 49,
   "metadata": {},
   "outputs": [
    {
     "name": "stdout",
     "output_type": "stream",
     "text": [
      "Событие CartScreenAppear\n",
      "p-значение:  0.22883372237997213\n",
      "Не получилось отвергнуть нулевую гипотезу, нет оснований считать доли разными\n",
      "\n"
     ]
    }
   ],
   "source": [
    "z_test(A1_group, A2_group, 'all', 'CartScreenAppear')"
   ]
  },
  {
   "cell_type": "code",
   "execution_count": 50,
   "metadata": {},
   "outputs": [
    {
     "name": "stdout",
     "output_type": "stream",
     "text": [
      "Событие PaymentScreenSuccessful\n",
      "p-значение:  0.11456679313141849\n",
      "Не получилось отвергнуть нулевую гипотезу, нет оснований считать доли разными\n",
      "\n"
     ]
    }
   ],
   "source": [
    "z_test(A1_group, A2_group, 'all', 'PaymentScreenSuccessful')"
   ]
  },
  {
   "cell_type": "markdown",
   "metadata": {},
   "source": [
    "разбиение на группы A1 A2 корректно, нет причин отвергать нулевую гипотезу и считать, что между долями уникальных посетителей, побывавших на этапе воронки, есть значимая разница. Аналогично поступим с группой с изменённым шрифтом. Сравним результаты с каждой из контрольных групп в отдельности по каждому событию. Сравним результаты с объединённой контрольной группой."
   ]
  },
  {
   "cell_type": "markdown",
   "metadata": {},
   "source": [
    "Внесем коррективы при выборе уровня значимости, учитывая множественные проверки и воспользуемся поправкой Бонферрони."
   ]
  },
  {
   "cell_type": "markdown",
   "metadata": {},
   "source": [
    "Всего у нас 4 вида событий, 4 A/A теста и 12 А/В, следовательно для всех тестов мы вводим поправку Бонферрони bonferroni_alpha = alpha / 16"
   ]
  },
  {
   "cell_type": "code",
   "execution_count": 51,
   "metadata": {},
   "outputs": [],
   "source": [
    "def z_test_events(group_one, group_two, alpha = 0.05/16):\n",
    "    z_test(group_one, group_two, 'all', 'MainScreenAppear', alpha)\n",
    "    z_test(group_one, group_two, 'all', 'OffersScreenAppear', alpha)\n",
    "    z_test(group_one, group_two, 'all', 'CartScreenAppear', alpha)\n",
    "    z_test(group_one, group_two, 'all', 'PaymentScreenSuccessful', alpha)\n"
   ]
  },
  {
   "cell_type": "code",
   "execution_count": 52,
   "metadata": {},
   "outputs": [
    {
     "name": "stdout",
     "output_type": "stream",
     "text": [
      "Событие MainScreenAppear\n",
      "p-значение:  0.2949721933554552\n",
      "Не получилось отвергнуть нулевую гипотезу, нет оснований считать доли разными\n",
      "\n",
      "Событие OffersScreenAppear\n",
      "p-значение:  0.20836205402738917\n",
      "Не получилось отвергнуть нулевую гипотезу, нет оснований считать доли разными\n",
      "\n",
      "Событие CartScreenAppear\n",
      "p-значение:  0.07842923237520116\n",
      "Не получилось отвергнуть нулевую гипотезу, нет оснований считать доли разными\n",
      "\n",
      "Событие PaymentScreenSuccessful\n",
      "p-значение:  0.2122553275697796\n",
      "Не получилось отвергнуть нулевую гипотезу, нет оснований считать доли разными\n",
      "\n"
     ]
    }
   ],
   "source": [
    "z_test_events(A1_group, B_group)"
   ]
  },
  {
   "cell_type": "markdown",
   "metadata": {},
   "source": [
    "При заданном уровне значимости у нас нет оснований считать группы 246 и 248 разными."
   ]
  },
  {
   "cell_type": "code",
   "execution_count": 53,
   "metadata": {},
   "outputs": [
    {
     "name": "stdout",
     "output_type": "stream",
     "text": [
      "Событие MainScreenAppear\n",
      "p-значение:  0.4587053616621515\n",
      "Не получилось отвергнуть нулевую гипотезу, нет оснований считать доли разными\n",
      "\n",
      "Событие OffersScreenAppear\n",
      "p-значение:  0.9197817830592261\n",
      "Не получилось отвергнуть нулевую гипотезу, нет оснований считать доли разными\n",
      "\n",
      "Событие CartScreenAppear\n",
      "p-значение:  0.5786197879539783\n",
      "Не получилось отвергнуть нулевую гипотезу, нет оснований считать доли разными\n",
      "\n",
      "Событие PaymentScreenSuccessful\n",
      "p-значение:  0.7373415053803964\n",
      "Не получилось отвергнуть нулевую гипотезу, нет оснований считать доли разными\n",
      "\n"
     ]
    }
   ],
   "source": [
    "z_test_events(A2_group, B_group)"
   ]
  },
  {
   "cell_type": "markdown",
   "metadata": {},
   "source": [
    "При заданном уровне значимости у нас нет оснований считать группы 247 и 248 разными."
   ]
  },
  {
   "cell_type": "markdown",
   "metadata": {},
   "source": [
    "проверим есть ли статистически значимая разница между объединённой контрольной и экпериментальной 248 группами:"
   ]
  },
  {
   "cell_type": "code",
   "execution_count": 54,
   "metadata": {},
   "outputs": [],
   "source": [
    "AA_group = A1_group+A2_group"
   ]
  },
  {
   "cell_type": "code",
   "execution_count": 55,
   "metadata": {},
   "outputs": [
    {
     "name": "stdout",
     "output_type": "stream",
     "text": [
      "Событие MainScreenAppear\n",
      "p-значение:  0.29424526837179577\n",
      "Не получилось отвергнуть нулевую гипотезу, нет оснований считать доли разными\n",
      "\n",
      "Событие OffersScreenAppear\n",
      "p-значение:  0.43425549655188256\n",
      "Не получилось отвергнуть нулевую гипотезу, нет оснований считать доли разными\n",
      "\n",
      "Событие CartScreenAppear\n",
      "p-значение:  0.18175875284404386\n",
      "Не получилось отвергнуть нулевую гипотезу, нет оснований считать доли разными\n",
      "\n",
      "Событие PaymentScreenSuccessful\n",
      "p-значение:  0.6004294282308704\n",
      "Не получилось отвергнуть нулевую гипотезу, нет оснований считать доли разными\n",
      "\n"
     ]
    }
   ],
   "source": [
    "z_test_events(AA_group, B_group)"
   ]
  },
  {
   "cell_type": "markdown",
   "metadata": {},
   "source": [
    "Различия в группах не значимы, эксперимент по изменению шрифта не дал заметной разницы в поведении пользователей."
   ]
  },
  {
   "cell_type": "code",
   "execution_count": 56,
   "metadata": {},
   "outputs": [
    {
     "name": "stdout",
     "output_type": "stream",
     "text": [
      "Событие MainScreenAppear\n",
      "p-значение:  0.29424526837179577\n",
      "Не получилось отвергнуть нулевую гипотезу, нет оснований считать доли разными\n",
      "\n",
      "Событие OffersScreenAppear\n",
      "p-значение:  0.43425549655188256\n",
      "Не получилось отвергнуть нулевую гипотезу, нет оснований считать доли разными\n",
      "\n",
      "Событие CartScreenAppear\n",
      "p-значение:  0.18175875284404386\n",
      "Не получилось отвергнуть нулевую гипотезу, нет оснований считать доли разными\n",
      "\n",
      "Событие PaymentScreenSuccessful\n",
      "p-значение:  0.6004294282308704\n",
      "Не получилось отвергнуть нулевую гипотезу, нет оснований считать доли разными\n",
      "\n"
     ]
    }
   ],
   "source": [
    "z_test_events(AA_group, B_group, alpha = 0.1/16)"
   ]
  },
  {
   "cell_type": "markdown",
   "metadata": {},
   "source": [
    "Все также, группы нельзя считать разными. Это отзначает, что изменение шрифтов во всём приложении на поведение пользователей не повлияло."
   ]
  },
  {
   "cell_type": "markdown",
   "metadata": {},
   "source": [
    "Проверили возможность использования уровня значимости 0.1, получаем не значимые различия групп. "
   ]
  },
  {
   "cell_type": "markdown",
   "metadata": {},
   "source": [
    "## Вывод"
   ]
  },
  {
   "cell_type": "markdown",
   "metadata": {},
   "source": [
    "Мы загрузили данные и изучили общую информацию, типы данных верные, кроме столбца с датой, пропуски отсутствуют. Для удобства были переименованы столбцы, добавлен столбец даты. Было найдено 413 дубликатов, которые принято решение удалить.\n",
    "\n",
    "Мы располагаем данными с 27 июля по 7 августа 2019 года. По гистограмме частоты событий видим, что полные данные мы начали получать только с 1 августа 2019 г, отбросили данные, полученные раньше. Мы потеряли около 1% событий и 0,23% пользователей, что не повлияет на результаты анализа, у нас по прежнему есть пользователи из всех трех экспериментальных групп.\n",
    "\n",
    "Мы посмотрели события в логах, порядок событий:\n",
    "\n",
    "0. Обучающий материал по пользованию приложения (Tutorial)\n",
    "1. Появление главного экрана (MainScreenAppear)\n",
    "2. Появляение экрана предложений (OffersScreenAppear)\n",
    "3. Появление экрана корзины (CartScreenAppear)\n",
    "4. Появление экрана с информацией об успешно выполненном платеже (PaymentScreenSuccessful)\n",
    "\n",
    "Все выстраиваются в последовательную цепочку, кроме Tutorial, не будем учитывать эти логи при расчете воронки, так как это не обязательный пункт, его можно пройти в любое время.\n",
    "\n",
    "Дошли до последнего шага нашей воронки - оплатили товар только 46% все пользователей. По воронке событий посчитали, какая доля пользователей проходит на следующий шаг воронки. Наибольшие потери пользвателей на шаге перехода от главного экрана к получению предложения, доходят только 62%. Доля пользователей, перешедших к оплате от получивших предложение 81%, доля пользователей, оплативших товар от перешедших к оплате 95%.\n",
    "\n",
    "Мы изучили результаты эксперимента. С помощью z теста была проверена корректность разбиения на группы. Отличия между группами не являются статистически достоверными, разбиение на группы корректно. Аналогично поступили с группой с изменённым шрифтом и объединенной контрольной группой. Различия в группах не значимы, эксперимент по изменению шрифта не дал заметной разницы в поведении пользователей.\n",
    "\n",
    "Изменение шрифтов в приложении не окажет влияния на воронку событий приложения."
   ]
  },
  {
   "cell_type": "code",
   "execution_count": null,
   "metadata": {},
   "outputs": [],
   "source": []
  }
 ],
 "metadata": {
  "ExecuteTimeLog": [
   {
    "duration": 1387,
    "start_time": "2022-12-09T23:15:41.985Z"
   },
   {
    "duration": 129,
    "start_time": "2022-12-09T23:16:42.328Z"
   },
   {
    "duration": 272,
    "start_time": "2022-12-09T23:17:02.611Z"
   },
   {
    "duration": 11,
    "start_time": "2022-12-09T23:17:17.236Z"
   },
   {
    "duration": 21,
    "start_time": "2022-12-09T23:19:18.292Z"
   },
   {
    "duration": 46,
    "start_time": "2022-12-09T23:19:30.605Z"
   },
   {
    "duration": 56,
    "start_time": "2022-12-09T23:20:02.081Z"
   },
   {
    "duration": 42,
    "start_time": "2022-12-09T23:20:21.463Z"
   },
   {
    "duration": 3,
    "start_time": "2022-12-09T23:35:45.978Z"
   },
   {
    "duration": 8,
    "start_time": "2022-12-09T23:35:47.513Z"
   },
   {
    "duration": 73,
    "start_time": "2022-12-09T23:35:49.742Z"
   },
   {
    "duration": 79,
    "start_time": "2022-12-09T23:35:50.576Z"
   },
   {
    "duration": 91,
    "start_time": "2022-12-09T23:35:52.179Z"
   },
   {
    "duration": 9,
    "start_time": "2022-12-09T23:36:10.613Z"
   },
   {
    "duration": 73,
    "start_time": "2022-12-09T23:36:52.044Z"
   },
   {
    "duration": 27,
    "start_time": "2022-12-09T23:37:03.338Z"
   },
   {
    "duration": 10,
    "start_time": "2022-12-09T23:40:18.136Z"
   },
   {
    "duration": 35,
    "start_time": "2022-12-09T23:40:29.825Z"
   },
   {
    "duration": 4,
    "start_time": "2022-12-09T23:43:31.708Z"
   },
   {
    "duration": 8,
    "start_time": "2022-12-09T23:44:26.640Z"
   },
   {
    "duration": 3,
    "start_time": "2022-12-09T23:44:31.790Z"
   },
   {
    "duration": 8,
    "start_time": "2022-12-09T23:44:32.627Z"
   },
   {
    "duration": 3,
    "start_time": "2022-12-09T23:44:34.651Z"
   },
   {
    "duration": 4,
    "start_time": "2022-12-09T23:44:43.135Z"
   },
   {
    "duration": 4,
    "start_time": "2022-12-09T23:44:57.311Z"
   },
   {
    "duration": 7,
    "start_time": "2022-12-09T23:45:02.744Z"
   },
   {
    "duration": 30,
    "start_time": "2022-12-09T23:45:47.228Z"
   },
   {
    "duration": 1298,
    "start_time": "2022-12-09T23:50:05.470Z"
   },
   {
    "duration": 1325,
    "start_time": "2022-12-09T23:50:21.489Z"
   },
   {
    "duration": 1292,
    "start_time": "2022-12-09T23:54:09.072Z"
   },
   {
    "duration": 1288,
    "start_time": "2022-12-09T23:56:30.981Z"
   },
   {
    "duration": 1295,
    "start_time": "2022-12-09T23:56:44.205Z"
   },
   {
    "duration": 1364,
    "start_time": "2022-12-09T23:56:56.148Z"
   },
   {
    "duration": 1298,
    "start_time": "2022-12-09T23:57:04.821Z"
   },
   {
    "duration": 17,
    "start_time": "2022-12-09T23:58:22.990Z"
   },
   {
    "duration": 16,
    "start_time": "2022-12-09T23:58:36.391Z"
   },
   {
    "duration": 17,
    "start_time": "2022-12-09T23:58:55.355Z"
   },
   {
    "duration": 1332,
    "start_time": "2022-12-09T23:59:06.676Z"
   },
   {
    "duration": 1333,
    "start_time": "2022-12-09T23:59:26.305Z"
   },
   {
    "duration": 28,
    "start_time": "2022-12-10T00:05:15.108Z"
   },
   {
    "duration": 30,
    "start_time": "2022-12-10T00:05:29.248Z"
   },
   {
    "duration": 1197,
    "start_time": "2022-12-10T00:09:14.616Z"
   },
   {
    "duration": 164,
    "start_time": "2022-12-10T00:09:15.815Z"
   },
   {
    "duration": 11,
    "start_time": "2022-12-10T00:09:15.981Z"
   },
   {
    "duration": 26,
    "start_time": "2022-12-10T00:09:15.994Z"
   },
   {
    "duration": 59,
    "start_time": "2022-12-10T00:09:16.022Z"
   },
   {
    "duration": 3,
    "start_time": "2022-12-10T00:09:16.083Z"
   },
   {
    "duration": 32,
    "start_time": "2022-12-10T00:09:16.087Z"
   },
   {
    "duration": 75,
    "start_time": "2022-12-10T00:09:16.121Z"
   },
   {
    "duration": 97,
    "start_time": "2022-12-10T00:09:16.197Z"
   },
   {
    "duration": 133,
    "start_time": "2022-12-10T00:09:16.297Z"
   },
   {
    "duration": 64,
    "start_time": "2022-12-10T00:09:16.432Z"
   },
   {
    "duration": 21,
    "start_time": "2022-12-10T00:09:16.498Z"
   },
   {
    "duration": 27,
    "start_time": "2022-12-10T00:09:16.521Z"
   },
   {
    "duration": 34,
    "start_time": "2022-12-10T00:09:16.549Z"
   },
   {
    "duration": 4,
    "start_time": "2022-12-10T00:09:16.584Z"
   },
   {
    "duration": 27,
    "start_time": "2022-12-10T00:09:16.589Z"
   },
   {
    "duration": 3,
    "start_time": "2022-12-10T00:09:16.617Z"
   },
   {
    "duration": 33,
    "start_time": "2022-12-10T00:09:16.621Z"
   },
   {
    "duration": 1399,
    "start_time": "2022-12-10T00:09:16.655Z"
   },
   {
    "duration": 32,
    "start_time": "2022-12-10T00:09:18.056Z"
   },
   {
    "duration": 44,
    "start_time": "2022-12-10T00:09:18.089Z"
   },
   {
    "duration": 12,
    "start_time": "2022-12-10T00:09:18.135Z"
   },
   {
    "duration": 7,
    "start_time": "2022-12-10T00:10:21.390Z"
   },
   {
    "duration": 1152,
    "start_time": "2022-12-10T00:13:22.154Z"
   },
   {
    "duration": 158,
    "start_time": "2022-12-10T00:13:23.308Z"
   },
   {
    "duration": 10,
    "start_time": "2022-12-10T00:13:23.468Z"
   },
   {
    "duration": 20,
    "start_time": "2022-12-10T00:13:23.480Z"
   },
   {
    "duration": 61,
    "start_time": "2022-12-10T00:13:23.501Z"
   },
   {
    "duration": 3,
    "start_time": "2022-12-10T00:13:23.564Z"
   },
   {
    "duration": 19,
    "start_time": "2022-12-10T00:13:23.568Z"
   },
   {
    "duration": 84,
    "start_time": "2022-12-10T00:13:23.589Z"
   },
   {
    "duration": 89,
    "start_time": "2022-12-10T00:13:23.675Z"
   },
   {
    "duration": 110,
    "start_time": "2022-12-10T00:13:23.766Z"
   },
   {
    "duration": 71,
    "start_time": "2022-12-10T00:13:23.878Z"
   },
   {
    "duration": 8,
    "start_time": "2022-12-10T00:13:23.950Z"
   },
   {
    "duration": 30,
    "start_time": "2022-12-10T00:13:23.960Z"
   },
   {
    "duration": 47,
    "start_time": "2022-12-10T00:13:23.991Z"
   },
   {
    "duration": 3,
    "start_time": "2022-12-10T00:13:24.040Z"
   },
   {
    "duration": 8,
    "start_time": "2022-12-10T00:13:24.045Z"
   },
   {
    "duration": 4,
    "start_time": "2022-12-10T00:13:24.055Z"
   },
   {
    "duration": 56,
    "start_time": "2022-12-10T00:13:24.060Z"
   },
   {
    "duration": 1442,
    "start_time": "2022-12-10T00:13:24.118Z"
   },
   {
    "duration": 31,
    "start_time": "2022-12-10T00:13:25.561Z"
   },
   {
    "duration": 42,
    "start_time": "2022-12-10T00:13:25.593Z"
   },
   {
    "duration": 4,
    "start_time": "2022-12-10T00:13:25.637Z"
   },
   {
    "duration": 11,
    "start_time": "2022-12-10T00:13:25.642Z"
   },
   {
    "duration": 8,
    "start_time": "2022-12-10T00:13:25.654Z"
   },
   {
    "duration": 116,
    "start_time": "2022-12-10T00:15:37.313Z"
   },
   {
    "duration": 55,
    "start_time": "2022-12-10T00:15:46.197Z"
   },
   {
    "duration": 44,
    "start_time": "2022-12-10T00:15:51.730Z"
   },
   {
    "duration": 25,
    "start_time": "2022-12-10T00:22:29.884Z"
   },
   {
    "duration": 23,
    "start_time": "2022-12-10T00:23:00.734Z"
   },
   {
    "duration": 50,
    "start_time": "2022-12-10T00:23:12.165Z"
   },
   {
    "duration": 26,
    "start_time": "2022-12-10T00:23:24.117Z"
   },
   {
    "duration": 23,
    "start_time": "2022-12-10T00:24:25.205Z"
   },
   {
    "duration": 27,
    "start_time": "2022-12-10T00:24:30.398Z"
   },
   {
    "duration": 55,
    "start_time": "2022-12-10T00:28:29.314Z"
   },
   {
    "duration": 67,
    "start_time": "2022-12-10T00:28:47.404Z"
   },
   {
    "duration": 95,
    "start_time": "2022-12-10T00:30:11.023Z"
   },
   {
    "duration": 862,
    "start_time": "2022-12-10T00:34:19.686Z"
   },
   {
    "duration": 64,
    "start_time": "2022-12-10T00:34:43.459Z"
   },
   {
    "duration": 64,
    "start_time": "2022-12-10T00:34:54.137Z"
   },
   {
    "duration": 61,
    "start_time": "2022-12-10T00:35:18.854Z"
   },
   {
    "duration": 169,
    "start_time": "2022-12-10T00:35:23.289Z"
   },
   {
    "duration": 114,
    "start_time": "2022-12-10T00:35:48.399Z"
   },
   {
    "duration": 129,
    "start_time": "2022-12-10T00:35:57.371Z"
   },
   {
    "duration": 21,
    "start_time": "2022-12-10T00:36:26.082Z"
   },
   {
    "duration": 136,
    "start_time": "2022-12-10T00:36:40.555Z"
   },
   {
    "duration": 177,
    "start_time": "2022-12-10T00:36:56.974Z"
   },
   {
    "duration": 19,
    "start_time": "2022-12-10T00:45:13.535Z"
   },
   {
    "duration": 7,
    "start_time": "2022-12-10T00:47:21.723Z"
   },
   {
    "duration": 7,
    "start_time": "2022-12-10T00:52:13.107Z"
   },
   {
    "duration": 68,
    "start_time": "2022-12-10T00:52:59.465Z"
   },
   {
    "duration": 59,
    "start_time": "2022-12-10T00:53:13.699Z"
   },
   {
    "duration": 54,
    "start_time": "2022-12-10T00:53:21.851Z"
   },
   {
    "duration": 131,
    "start_time": "2022-12-10T00:53:51.552Z"
   },
   {
    "duration": 58,
    "start_time": "2022-12-10T00:54:17.769Z"
   },
   {
    "duration": 186,
    "start_time": "2022-12-10T00:54:19.116Z"
   },
   {
    "duration": 57,
    "start_time": "2022-12-10T00:54:52.524Z"
   },
   {
    "duration": 137,
    "start_time": "2022-12-10T01:06:31.448Z"
   },
   {
    "duration": 142,
    "start_time": "2022-12-10T01:06:41.064Z"
   },
   {
    "duration": 5,
    "start_time": "2022-12-10T01:06:54.095Z"
   },
   {
    "duration": 9,
    "start_time": "2022-12-10T01:10:01.865Z"
   },
   {
    "duration": 4,
    "start_time": "2022-12-10T01:12:40.881Z"
   },
   {
    "duration": 9,
    "start_time": "2022-12-10T01:12:43.085Z"
   },
   {
    "duration": 3,
    "start_time": "2022-12-10T01:12:58.793Z"
   },
   {
    "duration": 9,
    "start_time": "2022-12-10T01:13:03.611Z"
   },
   {
    "duration": 5,
    "start_time": "2022-12-10T01:13:08.562Z"
   },
   {
    "duration": 4,
    "start_time": "2022-12-10T01:13:33.637Z"
   },
   {
    "duration": 4,
    "start_time": "2022-12-10T01:13:34.306Z"
   },
   {
    "duration": 2,
    "start_time": "2022-12-10T01:16:49.759Z"
   },
   {
    "duration": 3,
    "start_time": "2022-12-10T01:17:11.210Z"
   },
   {
    "duration": 7,
    "start_time": "2022-12-10T01:17:17.290Z"
   },
   {
    "duration": 4,
    "start_time": "2022-12-10T01:17:28.072Z"
   },
   {
    "duration": 3,
    "start_time": "2022-12-10T01:17:28.866Z"
   },
   {
    "duration": 3,
    "start_time": "2022-12-10T01:17:30.909Z"
   },
   {
    "duration": 3,
    "start_time": "2022-12-10T01:17:31.451Z"
   },
   {
    "duration": 10,
    "start_time": "2022-12-10T01:17:32.058Z"
   },
   {
    "duration": 5,
    "start_time": "2022-12-10T01:17:47.014Z"
   },
   {
    "duration": 6,
    "start_time": "2022-12-10T01:17:47.629Z"
   },
   {
    "duration": 3,
    "start_time": "2022-12-10T01:17:48.597Z"
   },
   {
    "duration": 4,
    "start_time": "2022-12-10T01:17:49.190Z"
   },
   {
    "duration": 3,
    "start_time": "2022-12-10T01:17:49.898Z"
   },
   {
    "duration": 4,
    "start_time": "2022-12-10T01:17:50.513Z"
   },
   {
    "duration": 7,
    "start_time": "2022-12-10T01:17:52.399Z"
   },
   {
    "duration": 1236,
    "start_time": "2022-12-10T01:18:13.485Z"
   },
   {
    "duration": 169,
    "start_time": "2022-12-10T01:18:14.724Z"
   },
   {
    "duration": 9,
    "start_time": "2022-12-10T01:18:14.895Z"
   },
   {
    "duration": 31,
    "start_time": "2022-12-10T01:18:14.906Z"
   },
   {
    "duration": 54,
    "start_time": "2022-12-10T01:18:14.939Z"
   },
   {
    "duration": 3,
    "start_time": "2022-12-10T01:18:14.994Z"
   },
   {
    "duration": 21,
    "start_time": "2022-12-10T01:18:15.016Z"
   },
   {
    "duration": 77,
    "start_time": "2022-12-10T01:18:15.039Z"
   },
   {
    "duration": 91,
    "start_time": "2022-12-10T01:18:15.118Z"
   },
   {
    "duration": 122,
    "start_time": "2022-12-10T01:18:15.213Z"
   },
   {
    "duration": 79,
    "start_time": "2022-12-10T01:18:15.337Z"
   },
   {
    "duration": 13,
    "start_time": "2022-12-10T01:18:15.418Z"
   },
   {
    "duration": 30,
    "start_time": "2022-12-10T01:18:15.432Z"
   },
   {
    "duration": 58,
    "start_time": "2022-12-10T01:18:15.463Z"
   },
   {
    "duration": 4,
    "start_time": "2022-12-10T01:18:15.523Z"
   },
   {
    "duration": 13,
    "start_time": "2022-12-10T01:18:15.530Z"
   },
   {
    "duration": 4,
    "start_time": "2022-12-10T01:18:15.544Z"
   },
   {
    "duration": 31,
    "start_time": "2022-12-10T01:18:15.550Z"
   },
   {
    "duration": 1526,
    "start_time": "2022-12-10T01:18:15.583Z"
   },
   {
    "duration": 39,
    "start_time": "2022-12-10T01:18:17.111Z"
   },
   {
    "duration": 30,
    "start_time": "2022-12-10T01:18:17.151Z"
   },
   {
    "duration": 10,
    "start_time": "2022-12-10T01:18:17.182Z"
   },
   {
    "duration": 23,
    "start_time": "2022-12-10T01:18:17.193Z"
   },
   {
    "duration": 11,
    "start_time": "2022-12-10T01:18:17.219Z"
   },
   {
    "duration": 50,
    "start_time": "2022-12-10T01:18:17.232Z"
   },
   {
    "duration": 48,
    "start_time": "2022-12-10T01:18:17.284Z"
   },
   {
    "duration": 113,
    "start_time": "2022-12-10T01:18:17.333Z"
   },
   {
    "duration": 204,
    "start_time": "2022-12-10T01:18:17.449Z"
   },
   {
    "duration": 3,
    "start_time": "2022-12-10T01:18:17.655Z"
   },
   {
    "duration": 8,
    "start_time": "2022-12-10T01:18:17.659Z"
   },
   {
    "duration": 5,
    "start_time": "2022-12-10T01:18:17.668Z"
   },
   {
    "duration": 6,
    "start_time": "2022-12-10T01:18:17.675Z"
   },
   {
    "duration": 4,
    "start_time": "2022-12-10T01:18:17.683Z"
   },
   {
    "duration": 8,
    "start_time": "2022-12-10T01:18:17.688Z"
   },
   {
    "duration": 34,
    "start_time": "2022-12-10T01:18:17.698Z"
   },
   {
    "duration": 113,
    "start_time": "2022-12-10T01:20:14.896Z"
   },
   {
    "duration": 3,
    "start_time": "2022-12-10T01:20:21.656Z"
   },
   {
    "duration": 21,
    "start_time": "2022-12-10T01:20:22.207Z"
   },
   {
    "duration": 5,
    "start_time": "2022-12-10T01:20:38.314Z"
   },
   {
    "duration": 8,
    "start_time": "2022-12-10T01:20:39.282Z"
   },
   {
    "duration": 3,
    "start_time": "2022-12-10T01:21:15.779Z"
   },
   {
    "duration": 4,
    "start_time": "2022-12-10T01:21:16.276Z"
   },
   {
    "duration": 8,
    "start_time": "2022-12-10T01:21:16.832Z"
   },
   {
    "duration": 1240,
    "start_time": "2022-12-10T01:21:31.390Z"
   },
   {
    "duration": 206,
    "start_time": "2022-12-10T01:21:32.633Z"
   },
   {
    "duration": 11,
    "start_time": "2022-12-10T01:21:32.843Z"
   },
   {
    "duration": 22,
    "start_time": "2022-12-10T01:21:32.855Z"
   },
   {
    "duration": 107,
    "start_time": "2022-12-10T01:21:32.879Z"
   },
   {
    "duration": 3,
    "start_time": "2022-12-10T01:21:32.988Z"
   },
   {
    "duration": 24,
    "start_time": "2022-12-10T01:21:32.993Z"
   },
   {
    "duration": 89,
    "start_time": "2022-12-10T01:21:33.019Z"
   },
   {
    "duration": 118,
    "start_time": "2022-12-10T01:21:33.117Z"
   },
   {
    "duration": 145,
    "start_time": "2022-12-10T01:21:33.237Z"
   },
   {
    "duration": 102,
    "start_time": "2022-12-10T01:21:33.384Z"
   },
   {
    "duration": 9,
    "start_time": "2022-12-10T01:21:33.487Z"
   },
   {
    "duration": 57,
    "start_time": "2022-12-10T01:21:33.498Z"
   },
   {
    "duration": 34,
    "start_time": "2022-12-10T01:21:33.557Z"
   },
   {
    "duration": 3,
    "start_time": "2022-12-10T01:21:33.593Z"
   },
   {
    "duration": 26,
    "start_time": "2022-12-10T01:21:33.598Z"
   },
   {
    "duration": 13,
    "start_time": "2022-12-10T01:21:33.627Z"
   },
   {
    "duration": 33,
    "start_time": "2022-12-10T01:21:33.641Z"
   },
   {
    "duration": 1519,
    "start_time": "2022-12-10T01:21:33.676Z"
   },
   {
    "duration": 40,
    "start_time": "2022-12-10T01:21:35.196Z"
   },
   {
    "duration": 32,
    "start_time": "2022-12-10T01:21:35.238Z"
   },
   {
    "duration": 3,
    "start_time": "2022-12-10T01:21:35.272Z"
   },
   {
    "duration": 11,
    "start_time": "2022-12-10T01:21:35.276Z"
   },
   {
    "duration": 29,
    "start_time": "2022-12-10T01:21:35.288Z"
   },
   {
    "duration": 52,
    "start_time": "2022-12-10T01:21:35.318Z"
   },
   {
    "duration": 24,
    "start_time": "2022-12-10T01:21:35.372Z"
   },
   {
    "duration": 114,
    "start_time": "2022-12-10T01:21:35.418Z"
   },
   {
    "duration": 210,
    "start_time": "2022-12-10T01:21:35.534Z"
   },
   {
    "duration": 4,
    "start_time": "2022-12-10T01:21:35.745Z"
   },
   {
    "duration": 14,
    "start_time": "2022-12-10T01:21:35.752Z"
   },
   {
    "duration": 11,
    "start_time": "2022-12-10T01:21:35.768Z"
   },
   {
    "duration": 112,
    "start_time": "2022-12-10T01:21:35.781Z"
   },
   {
    "duration": 0,
    "start_time": "2022-12-10T01:21:35.894Z"
   },
   {
    "duration": 4,
    "start_time": "2022-12-10T01:21:43.133Z"
   },
   {
    "duration": 10,
    "start_time": "2022-12-10T01:21:43.710Z"
   },
   {
    "duration": 5,
    "start_time": "2022-12-10T01:21:50.316Z"
   },
   {
    "duration": 4,
    "start_time": "2022-12-10T01:21:50.843Z"
   },
   {
    "duration": 7,
    "start_time": "2022-12-10T01:21:51.353Z"
   },
   {
    "duration": 6,
    "start_time": "2022-12-10T01:22:39.879Z"
   },
   {
    "duration": 1227,
    "start_time": "2022-12-10T01:22:55.900Z"
   },
   {
    "duration": 172,
    "start_time": "2022-12-10T01:22:57.129Z"
   },
   {
    "duration": 23,
    "start_time": "2022-12-10T01:22:57.302Z"
   },
   {
    "duration": 21,
    "start_time": "2022-12-10T01:22:57.328Z"
   },
   {
    "duration": 52,
    "start_time": "2022-12-10T01:22:57.351Z"
   },
   {
    "duration": 14,
    "start_time": "2022-12-10T01:22:57.404Z"
   },
   {
    "duration": 25,
    "start_time": "2022-12-10T01:22:57.421Z"
   },
   {
    "duration": 82,
    "start_time": "2022-12-10T01:22:57.447Z"
   },
   {
    "duration": 100,
    "start_time": "2022-12-10T01:22:57.531Z"
   },
   {
    "duration": 118,
    "start_time": "2022-12-10T01:22:57.634Z"
   },
   {
    "duration": 76,
    "start_time": "2022-12-10T01:22:57.754Z"
   },
   {
    "duration": 8,
    "start_time": "2022-12-10T01:22:57.832Z"
   },
   {
    "duration": 37,
    "start_time": "2022-12-10T01:22:57.842Z"
   },
   {
    "duration": 50,
    "start_time": "2022-12-10T01:22:57.881Z"
   },
   {
    "duration": 4,
    "start_time": "2022-12-10T01:22:57.932Z"
   },
   {
    "duration": 13,
    "start_time": "2022-12-10T01:22:57.937Z"
   },
   {
    "duration": 3,
    "start_time": "2022-12-10T01:22:57.952Z"
   },
   {
    "duration": 35,
    "start_time": "2022-12-10T01:22:57.956Z"
   },
   {
    "duration": 1521,
    "start_time": "2022-12-10T01:22:57.992Z"
   },
   {
    "duration": 36,
    "start_time": "2022-12-10T01:22:59.514Z"
   },
   {
    "duration": 30,
    "start_time": "2022-12-10T01:22:59.552Z"
   },
   {
    "duration": 3,
    "start_time": "2022-12-10T01:22:59.584Z"
   },
   {
    "duration": 27,
    "start_time": "2022-12-10T01:22:59.589Z"
   },
   {
    "duration": 10,
    "start_time": "2022-12-10T01:22:59.618Z"
   },
   {
    "duration": 55,
    "start_time": "2022-12-10T01:22:59.630Z"
   },
   {
    "duration": 49,
    "start_time": "2022-12-10T01:22:59.686Z"
   },
   {
    "duration": 110,
    "start_time": "2022-12-10T01:22:59.736Z"
   },
   {
    "duration": 196,
    "start_time": "2022-12-10T01:22:59.849Z"
   },
   {
    "duration": 4,
    "start_time": "2022-12-10T01:23:00.046Z"
   },
   {
    "duration": 12,
    "start_time": "2022-12-10T01:23:00.051Z"
   },
   {
    "duration": 13,
    "start_time": "2022-12-10T01:23:00.064Z"
   },
   {
    "duration": 7,
    "start_time": "2022-12-10T01:23:00.079Z"
   },
   {
    "duration": 12,
    "start_time": "2022-12-10T01:23:00.088Z"
   },
   {
    "duration": 111,
    "start_time": "2022-12-10T01:25:44.650Z"
   },
   {
    "duration": 148,
    "start_time": "2022-12-10T01:28:13.515Z"
   },
   {
    "duration": 1209,
    "start_time": "2022-12-10T01:30:32.000Z"
   },
   {
    "duration": 158,
    "start_time": "2022-12-10T01:30:33.211Z"
   },
   {
    "duration": 10,
    "start_time": "2022-12-10T01:30:33.371Z"
   },
   {
    "duration": 21,
    "start_time": "2022-12-10T01:30:33.383Z"
   },
   {
    "duration": 58,
    "start_time": "2022-12-10T01:30:33.405Z"
   },
   {
    "duration": 3,
    "start_time": "2022-12-10T01:30:33.464Z"
   },
   {
    "duration": 14,
    "start_time": "2022-12-10T01:30:33.469Z"
   },
   {
    "duration": 83,
    "start_time": "2022-12-10T01:30:33.485Z"
   },
   {
    "duration": 93,
    "start_time": "2022-12-10T01:30:33.570Z"
   },
   {
    "duration": 110,
    "start_time": "2022-12-10T01:30:33.667Z"
   },
   {
    "duration": 72,
    "start_time": "2022-12-10T01:30:33.779Z"
   },
   {
    "duration": 9,
    "start_time": "2022-12-10T01:30:33.853Z"
   },
   {
    "duration": 28,
    "start_time": "2022-12-10T01:30:33.864Z"
   },
   {
    "duration": 51,
    "start_time": "2022-12-10T01:30:33.894Z"
   },
   {
    "duration": 3,
    "start_time": "2022-12-10T01:30:33.947Z"
   },
   {
    "duration": 8,
    "start_time": "2022-12-10T01:30:33.951Z"
   },
   {
    "duration": 29,
    "start_time": "2022-12-10T01:30:33.961Z"
   },
   {
    "duration": 31,
    "start_time": "2022-12-10T01:30:33.991Z"
   },
   {
    "duration": 1357,
    "start_time": "2022-12-10T01:30:34.024Z"
   },
   {
    "duration": 32,
    "start_time": "2022-12-10T01:30:35.383Z"
   },
   {
    "duration": 29,
    "start_time": "2022-12-10T01:30:35.417Z"
   },
   {
    "duration": 3,
    "start_time": "2022-12-10T01:30:35.447Z"
   },
   {
    "duration": 9,
    "start_time": "2022-12-10T01:30:35.452Z"
   },
   {
    "duration": 6,
    "start_time": "2022-12-10T01:30:35.463Z"
   },
   {
    "duration": 76,
    "start_time": "2022-12-10T01:30:35.470Z"
   },
   {
    "duration": 24,
    "start_time": "2022-12-10T01:30:35.547Z"
   },
   {
    "duration": 105,
    "start_time": "2022-12-10T01:30:35.572Z"
   },
   {
    "duration": 176,
    "start_time": "2022-12-10T01:30:35.680Z"
   },
   {
    "duration": 3,
    "start_time": "2022-12-10T01:30:35.858Z"
   },
   {
    "duration": 11,
    "start_time": "2022-12-10T01:30:35.863Z"
   },
   {
    "duration": 7,
    "start_time": "2022-12-10T01:30:35.875Z"
   },
   {
    "duration": 6,
    "start_time": "2022-12-10T01:30:35.884Z"
   },
   {
    "duration": 13,
    "start_time": "2022-12-10T01:30:35.891Z"
   },
   {
    "duration": 161,
    "start_time": "2022-12-10T01:30:35.905Z"
   },
   {
    "duration": 3,
    "start_time": "2022-12-10T01:33:13.978Z"
   },
   {
    "duration": 4,
    "start_time": "2022-12-10T01:33:21.847Z"
   },
   {
    "duration": 3,
    "start_time": "2022-12-10T01:33:30.476Z"
   },
   {
    "duration": 4,
    "start_time": "2022-12-10T01:33:30.864Z"
   },
   {
    "duration": 3,
    "start_time": "2022-12-10T01:33:44.894Z"
   },
   {
    "duration": 3,
    "start_time": "2022-12-10T01:33:45.168Z"
   },
   {
    "duration": 2,
    "start_time": "2022-12-10T01:34:24.244Z"
   },
   {
    "duration": 3,
    "start_time": "2022-12-10T01:34:25.293Z"
   },
   {
    "duration": 1240,
    "start_time": "2022-12-10T01:37:31.402Z"
   },
   {
    "duration": 163,
    "start_time": "2022-12-10T01:37:32.644Z"
   },
   {
    "duration": 10,
    "start_time": "2022-12-10T01:37:32.809Z"
   },
   {
    "duration": 25,
    "start_time": "2022-12-10T01:37:32.821Z"
   },
   {
    "duration": 68,
    "start_time": "2022-12-10T01:37:32.848Z"
   },
   {
    "duration": 2,
    "start_time": "2022-12-10T01:37:32.918Z"
   },
   {
    "duration": 15,
    "start_time": "2022-12-10T01:37:32.921Z"
   },
   {
    "duration": 108,
    "start_time": "2022-12-10T01:37:32.937Z"
   },
   {
    "duration": 89,
    "start_time": "2022-12-10T01:37:33.046Z"
   },
   {
    "duration": 103,
    "start_time": "2022-12-10T01:37:33.138Z"
   },
   {
    "duration": 62,
    "start_time": "2022-12-10T01:37:33.243Z"
   },
   {
    "duration": 8,
    "start_time": "2022-12-10T01:37:33.315Z"
   },
   {
    "duration": 30,
    "start_time": "2022-12-10T01:37:33.325Z"
   },
   {
    "duration": 36,
    "start_time": "2022-12-10T01:37:33.356Z"
   },
   {
    "duration": 3,
    "start_time": "2022-12-10T01:37:33.393Z"
   },
   {
    "duration": 7,
    "start_time": "2022-12-10T01:37:33.416Z"
   },
   {
    "duration": 3,
    "start_time": "2022-12-10T01:37:33.424Z"
   },
   {
    "duration": 32,
    "start_time": "2022-12-10T01:37:33.429Z"
   },
   {
    "duration": 1388,
    "start_time": "2022-12-10T01:37:33.463Z"
   },
   {
    "duration": 28,
    "start_time": "2022-12-10T01:37:34.852Z"
   },
   {
    "duration": 41,
    "start_time": "2022-12-10T01:37:34.881Z"
   },
   {
    "duration": 2,
    "start_time": "2022-12-10T01:37:34.924Z"
   },
   {
    "duration": 10,
    "start_time": "2022-12-10T01:37:34.928Z"
   },
   {
    "duration": 7,
    "start_time": "2022-12-10T01:37:34.939Z"
   },
   {
    "duration": 46,
    "start_time": "2022-12-10T01:37:34.947Z"
   },
   {
    "duration": 27,
    "start_time": "2022-12-10T01:37:35.016Z"
   },
   {
    "duration": 105,
    "start_time": "2022-12-10T01:37:35.044Z"
   },
   {
    "duration": 184,
    "start_time": "2022-12-10T01:37:35.152Z"
   },
   {
    "duration": 4,
    "start_time": "2022-12-10T01:37:35.338Z"
   },
   {
    "duration": 6,
    "start_time": "2022-12-10T01:37:35.343Z"
   },
   {
    "duration": 4,
    "start_time": "2022-12-10T01:37:35.351Z"
   },
   {
    "duration": 5,
    "start_time": "2022-12-10T01:37:35.356Z"
   },
   {
    "duration": 6,
    "start_time": "2022-12-10T01:37:35.363Z"
   },
   {
    "duration": 7,
    "start_time": "2022-12-10T01:37:35.370Z"
   },
   {
    "duration": 8,
    "start_time": "2022-12-10T01:37:35.379Z"
   },
   {
    "duration": 170,
    "start_time": "2022-12-10T01:37:35.388Z"
   },
   {
    "duration": 1192,
    "start_time": "2022-12-10T01:37:57.519Z"
   },
   {
    "duration": 158,
    "start_time": "2022-12-10T01:37:58.713Z"
   },
   {
    "duration": 10,
    "start_time": "2022-12-10T01:37:58.872Z"
   },
   {
    "duration": 19,
    "start_time": "2022-12-10T01:37:58.884Z"
   },
   {
    "duration": 54,
    "start_time": "2022-12-10T01:37:58.905Z"
   },
   {
    "duration": 4,
    "start_time": "2022-12-10T01:37:58.960Z"
   },
   {
    "duration": 13,
    "start_time": "2022-12-10T01:37:58.965Z"
   },
   {
    "duration": 93,
    "start_time": "2022-12-10T01:37:58.980Z"
   },
   {
    "duration": 89,
    "start_time": "2022-12-10T01:37:59.075Z"
   },
   {
    "duration": 108,
    "start_time": "2022-12-10T01:37:59.168Z"
   },
   {
    "duration": 75,
    "start_time": "2022-12-10T01:37:59.278Z"
   },
   {
    "duration": 8,
    "start_time": "2022-12-10T01:37:59.355Z"
   },
   {
    "duration": 29,
    "start_time": "2022-12-10T01:37:59.365Z"
   },
   {
    "duration": 48,
    "start_time": "2022-12-10T01:37:59.396Z"
   },
   {
    "duration": 4,
    "start_time": "2022-12-10T01:37:59.446Z"
   },
   {
    "duration": 10,
    "start_time": "2022-12-10T01:37:59.451Z"
   },
   {
    "duration": 3,
    "start_time": "2022-12-10T01:37:59.463Z"
   },
   {
    "duration": 57,
    "start_time": "2022-12-10T01:37:59.467Z"
   },
   {
    "duration": 1366,
    "start_time": "2022-12-10T01:37:59.526Z"
   },
   {
    "duration": 38,
    "start_time": "2022-12-10T01:38:00.894Z"
   },
   {
    "duration": 48,
    "start_time": "2022-12-10T01:38:00.934Z"
   },
   {
    "duration": 10,
    "start_time": "2022-12-10T01:38:00.984Z"
   },
   {
    "duration": 41,
    "start_time": "2022-12-10T01:38:00.996Z"
   },
   {
    "duration": 34,
    "start_time": "2022-12-10T01:38:01.039Z"
   },
   {
    "duration": 70,
    "start_time": "2022-12-10T01:38:01.075Z"
   },
   {
    "duration": 32,
    "start_time": "2022-12-10T01:38:01.147Z"
   },
   {
    "duration": 110,
    "start_time": "2022-12-10T01:38:01.181Z"
   },
   {
    "duration": 181,
    "start_time": "2022-12-10T01:38:01.295Z"
   },
   {
    "duration": 3,
    "start_time": "2022-12-10T01:38:01.478Z"
   },
   {
    "duration": 9,
    "start_time": "2022-12-10T01:38:01.483Z"
   },
   {
    "duration": 19,
    "start_time": "2022-12-10T01:38:01.493Z"
   },
   {
    "duration": 14,
    "start_time": "2022-12-10T01:38:01.513Z"
   },
   {
    "duration": 15,
    "start_time": "2022-12-10T01:38:01.529Z"
   },
   {
    "duration": 17,
    "start_time": "2022-12-10T01:38:01.546Z"
   },
   {
    "duration": 33,
    "start_time": "2022-12-10T01:38:01.565Z"
   },
   {
    "duration": 137,
    "start_time": "2022-12-10T01:38:01.599Z"
   },
   {
    "duration": 38,
    "start_time": "2022-12-10T01:55:44.670Z"
   },
   {
    "duration": 6,
    "start_time": "2022-12-10T02:01:59.669Z"
   },
   {
    "duration": 121,
    "start_time": "2022-12-10T02:05:45.037Z"
   },
   {
    "duration": 31,
    "start_time": "2022-12-10T02:07:49.223Z"
   },
   {
    "duration": 28,
    "start_time": "2022-12-10T02:08:09.463Z"
   },
   {
    "duration": 6,
    "start_time": "2022-12-10T02:08:14.873Z"
   },
   {
    "duration": 702,
    "start_time": "2022-12-10T02:08:20.558Z"
   },
   {
    "duration": 6,
    "start_time": "2022-12-10T02:08:53.893Z"
   },
   {
    "duration": 1153,
    "start_time": "2022-12-10T02:09:21.766Z"
   },
   {
    "duration": 158,
    "start_time": "2022-12-10T02:09:22.921Z"
   },
   {
    "duration": 10,
    "start_time": "2022-12-10T02:09:23.081Z"
   },
   {
    "duration": 24,
    "start_time": "2022-12-10T02:09:23.093Z"
   },
   {
    "duration": 52,
    "start_time": "2022-12-10T02:09:23.118Z"
   },
   {
    "duration": 3,
    "start_time": "2022-12-10T02:09:23.172Z"
   },
   {
    "duration": 13,
    "start_time": "2022-12-10T02:09:23.176Z"
   },
   {
    "duration": 90,
    "start_time": "2022-12-10T02:09:23.190Z"
   },
   {
    "duration": 91,
    "start_time": "2022-12-10T02:09:23.282Z"
   },
   {
    "duration": 108,
    "start_time": "2022-12-10T02:09:23.376Z"
   },
   {
    "duration": 67,
    "start_time": "2022-12-10T02:09:23.486Z"
   },
   {
    "duration": 9,
    "start_time": "2022-12-10T02:09:23.555Z"
   },
   {
    "duration": 29,
    "start_time": "2022-12-10T02:09:23.565Z"
   },
   {
    "duration": 49,
    "start_time": "2022-12-10T02:09:23.596Z"
   },
   {
    "duration": 4,
    "start_time": "2022-12-10T02:09:23.647Z"
   },
   {
    "duration": 10,
    "start_time": "2022-12-10T02:09:23.653Z"
   },
   {
    "duration": 5,
    "start_time": "2022-12-10T02:09:23.665Z"
   },
   {
    "duration": 52,
    "start_time": "2022-12-10T02:09:23.672Z"
   },
   {
    "duration": 1329,
    "start_time": "2022-12-10T02:09:23.725Z"
   },
   {
    "duration": 31,
    "start_time": "2022-12-10T02:09:25.056Z"
   },
   {
    "duration": 45,
    "start_time": "2022-12-10T02:09:25.089Z"
   },
   {
    "duration": 3,
    "start_time": "2022-12-10T02:09:25.136Z"
   },
   {
    "duration": 9,
    "start_time": "2022-12-10T02:09:25.140Z"
   },
   {
    "duration": 9,
    "start_time": "2022-12-10T02:09:25.151Z"
   },
   {
    "duration": 66,
    "start_time": "2022-12-10T02:09:25.161Z"
   },
   {
    "duration": 27,
    "start_time": "2022-12-10T02:09:25.228Z"
   },
   {
    "duration": 105,
    "start_time": "2022-12-10T02:09:25.256Z"
   },
   {
    "duration": 184,
    "start_time": "2022-12-10T02:09:25.364Z"
   },
   {
    "duration": 4,
    "start_time": "2022-12-10T02:09:25.550Z"
   },
   {
    "duration": 6,
    "start_time": "2022-12-10T02:09:25.555Z"
   },
   {
    "duration": 5,
    "start_time": "2022-12-10T02:09:25.562Z"
   },
   {
    "duration": 6,
    "start_time": "2022-12-10T02:09:25.568Z"
   },
   {
    "duration": 6,
    "start_time": "2022-12-10T02:09:25.576Z"
   },
   {
    "duration": 6,
    "start_time": "2022-12-10T02:09:25.583Z"
   },
   {
    "duration": 7,
    "start_time": "2022-12-10T02:09:25.591Z"
   },
   {
    "duration": 149,
    "start_time": "2022-12-10T02:09:25.599Z"
   },
   {
    "duration": 38,
    "start_time": "2022-12-10T02:09:25.750Z"
   },
   {
    "duration": 32,
    "start_time": "2022-12-10T02:09:25.815Z"
   },
   {
    "duration": 25,
    "start_time": "2022-12-10T02:09:25.848Z"
   },
   {
    "duration": 7,
    "start_time": "2022-12-10T02:09:25.915Z"
   },
   {
    "duration": 1831,
    "start_time": "2022-12-10T02:09:25.923Z"
   },
   {
    "duration": 7,
    "start_time": "2022-12-10T02:10:31.220Z"
   },
   {
    "duration": 1224,
    "start_time": "2022-12-10T02:10:35.809Z"
   },
   {
    "duration": 160,
    "start_time": "2022-12-10T02:10:37.035Z"
   },
   {
    "duration": 10,
    "start_time": "2022-12-10T02:10:37.197Z"
   },
   {
    "duration": 25,
    "start_time": "2022-12-10T02:10:37.209Z"
   },
   {
    "duration": 53,
    "start_time": "2022-12-10T02:10:37.235Z"
   },
   {
    "duration": 3,
    "start_time": "2022-12-10T02:10:37.289Z"
   },
   {
    "duration": 27,
    "start_time": "2022-12-10T02:10:37.293Z"
   },
   {
    "duration": 70,
    "start_time": "2022-12-10T02:10:37.322Z"
   },
   {
    "duration": 97,
    "start_time": "2022-12-10T02:10:37.393Z"
   },
   {
    "duration": 107,
    "start_time": "2022-12-10T02:10:37.492Z"
   },
   {
    "duration": 69,
    "start_time": "2022-12-10T02:10:37.601Z"
   },
   {
    "duration": 9,
    "start_time": "2022-12-10T02:10:37.671Z"
   },
   {
    "duration": 42,
    "start_time": "2022-12-10T02:10:37.681Z"
   },
   {
    "duration": 33,
    "start_time": "2022-12-10T02:10:37.725Z"
   },
   {
    "duration": 3,
    "start_time": "2022-12-10T02:10:37.759Z"
   },
   {
    "duration": 9,
    "start_time": "2022-12-10T02:10:37.763Z"
   },
   {
    "duration": 3,
    "start_time": "2022-12-10T02:10:37.773Z"
   },
   {
    "duration": 53,
    "start_time": "2022-12-10T02:10:37.777Z"
   },
   {
    "duration": 1337,
    "start_time": "2022-12-10T02:10:37.831Z"
   },
   {
    "duration": 28,
    "start_time": "2022-12-10T02:10:39.170Z"
   },
   {
    "duration": 34,
    "start_time": "2022-12-10T02:10:39.200Z"
   },
   {
    "duration": 4,
    "start_time": "2022-12-10T02:10:39.235Z"
   },
   {
    "duration": 10,
    "start_time": "2022-12-10T02:10:39.241Z"
   },
   {
    "duration": 10,
    "start_time": "2022-12-10T02:10:39.252Z"
   },
   {
    "duration": 70,
    "start_time": "2022-12-10T02:10:39.264Z"
   },
   {
    "duration": 25,
    "start_time": "2022-12-10T02:10:39.335Z"
   },
   {
    "duration": 101,
    "start_time": "2022-12-10T02:10:39.361Z"
   },
   {
    "duration": 181,
    "start_time": "2022-12-10T02:10:39.465Z"
   },
   {
    "duration": 4,
    "start_time": "2022-12-10T02:10:39.648Z"
   },
   {
    "duration": 5,
    "start_time": "2022-12-10T02:10:39.654Z"
   },
   {
    "duration": 5,
    "start_time": "2022-12-10T02:10:39.660Z"
   },
   {
    "duration": 5,
    "start_time": "2022-12-10T02:10:39.666Z"
   },
   {
    "duration": 6,
    "start_time": "2022-12-10T02:10:39.672Z"
   },
   {
    "duration": 5,
    "start_time": "2022-12-10T02:10:39.679Z"
   },
   {
    "duration": 30,
    "start_time": "2022-12-10T02:10:39.686Z"
   },
   {
    "duration": 142,
    "start_time": "2022-12-10T02:10:39.718Z"
   },
   {
    "duration": 64,
    "start_time": "2022-12-10T02:10:39.862Z"
   },
   {
    "duration": 90,
    "start_time": "2022-12-10T02:10:39.927Z"
   },
   {
    "duration": 6,
    "start_time": "2022-12-10T02:10:40.018Z"
   },
   {
    "duration": 7,
    "start_time": "2022-12-10T02:10:40.025Z"
   },
   {
    "duration": 919,
    "start_time": "2022-12-10T02:10:40.034Z"
   },
   {
    "duration": 68,
    "start_time": "2022-12-10T02:11:20.697Z"
   },
   {
    "duration": 6,
    "start_time": "2022-12-10T02:11:21.103Z"
   },
   {
    "duration": 6,
    "start_time": "2022-12-10T02:11:29.508Z"
   },
   {
    "duration": 744,
    "start_time": "2022-12-10T02:11:30.143Z"
   },
   {
    "duration": 31,
    "start_time": "2022-12-10T02:12:34.429Z"
   },
   {
    "duration": 8,
    "start_time": "2022-12-10T02:12:35.014Z"
   },
   {
    "duration": 13,
    "start_time": "2022-12-10T02:12:37.797Z"
   },
   {
    "duration": 31,
    "start_time": "2022-12-10T02:13:03.207Z"
   },
   {
    "duration": 6,
    "start_time": "2022-12-10T02:13:03.657Z"
   },
   {
    "duration": 13,
    "start_time": "2022-12-10T02:13:04.775Z"
   },
   {
    "duration": 6,
    "start_time": "2022-12-10T02:13:25.404Z"
   },
   {
    "duration": 5,
    "start_time": "2022-12-10T02:13:25.824Z"
   },
   {
    "duration": 5,
    "start_time": "2022-12-10T02:13:54.308Z"
   },
   {
    "duration": 6,
    "start_time": "2022-12-10T02:14:02.812Z"
   },
   {
    "duration": 6,
    "start_time": "2022-12-10T02:14:13.238Z"
   },
   {
    "duration": 9,
    "start_time": "2022-12-10T02:20:58.492Z"
   },
   {
    "duration": 10,
    "start_time": "2022-12-10T02:25:32.643Z"
   },
   {
    "duration": 9,
    "start_time": "2022-12-10T02:25:45.444Z"
   },
   {
    "duration": 19,
    "start_time": "2022-12-10T02:26:05.388Z"
   },
   {
    "duration": 9,
    "start_time": "2022-12-10T02:26:29.998Z"
   },
   {
    "duration": 9,
    "start_time": "2022-12-10T02:29:58.906Z"
   },
   {
    "duration": 15,
    "start_time": "2022-12-10T02:32:24.258Z"
   },
   {
    "duration": 13,
    "start_time": "2022-12-10T02:32:40.373Z"
   },
   {
    "duration": 73,
    "start_time": "2022-12-10T02:32:48.622Z"
   },
   {
    "duration": 760,
    "start_time": "2022-12-10T02:34:23.036Z"
   },
   {
    "duration": 542,
    "start_time": "2022-12-10T02:34:34.274Z"
   },
   {
    "duration": 573,
    "start_time": "2022-12-10T02:34:45.360Z"
   },
   {
    "duration": 736,
    "start_time": "2022-12-10T02:35:09.591Z"
   },
   {
    "duration": 762,
    "start_time": "2022-12-10T02:37:32.773Z"
   },
   {
    "duration": 24,
    "start_time": "2022-12-10T02:37:41.850Z"
   },
   {
    "duration": 644,
    "start_time": "2022-12-10T02:38:00.072Z"
   },
   {
    "duration": 711,
    "start_time": "2022-12-10T02:38:25.155Z"
   },
   {
    "duration": 539,
    "start_time": "2022-12-10T02:38:36.489Z"
   },
   {
    "duration": 565,
    "start_time": "2022-12-10T02:39:30.416Z"
   },
   {
    "duration": 3,
    "start_time": "2022-12-10T02:40:58.807Z"
   },
   {
    "duration": 11,
    "start_time": "2022-12-10T02:41:10.345Z"
   },
   {
    "duration": 10,
    "start_time": "2022-12-10T02:41:22.690Z"
   },
   {
    "duration": 3,
    "start_time": "2022-12-10T02:41:35.024Z"
   },
   {
    "duration": 14,
    "start_time": "2022-12-10T02:41:57.441Z"
   },
   {
    "duration": 12,
    "start_time": "2022-12-10T02:42:31.265Z"
   },
   {
    "duration": 50,
    "start_time": "2022-12-10T02:46:21.957Z"
   },
   {
    "duration": 1131,
    "start_time": "2022-12-10T02:58:26.979Z"
   },
   {
    "duration": 160,
    "start_time": "2022-12-10T02:58:28.112Z"
   },
   {
    "duration": 10,
    "start_time": "2022-12-10T02:58:28.273Z"
   },
   {
    "duration": 24,
    "start_time": "2022-12-10T02:58:28.284Z"
   },
   {
    "duration": 50,
    "start_time": "2022-12-10T02:58:28.315Z"
   },
   {
    "duration": 2,
    "start_time": "2022-12-10T02:58:28.367Z"
   },
   {
    "duration": 30,
    "start_time": "2022-12-10T02:58:28.371Z"
   },
   {
    "duration": 80,
    "start_time": "2022-12-10T02:58:28.403Z"
   },
   {
    "duration": 88,
    "start_time": "2022-12-10T02:58:28.485Z"
   },
   {
    "duration": 111,
    "start_time": "2022-12-10T02:58:28.575Z"
   },
   {
    "duration": 72,
    "start_time": "2022-12-10T02:58:28.688Z"
   },
   {
    "duration": 9,
    "start_time": "2022-12-10T02:58:28.761Z"
   },
   {
    "duration": 28,
    "start_time": "2022-12-10T02:58:28.771Z"
   },
   {
    "duration": 45,
    "start_time": "2022-12-10T02:58:28.802Z"
   },
   {
    "duration": 3,
    "start_time": "2022-12-10T02:58:28.848Z"
   },
   {
    "duration": 28,
    "start_time": "2022-12-10T02:58:28.853Z"
   },
   {
    "duration": 12,
    "start_time": "2022-12-10T02:58:28.882Z"
   },
   {
    "duration": 36,
    "start_time": "2022-12-10T02:58:28.895Z"
   },
   {
    "duration": 1337,
    "start_time": "2022-12-10T02:58:28.933Z"
   },
   {
    "duration": 28,
    "start_time": "2022-12-10T02:58:30.272Z"
   },
   {
    "duration": 38,
    "start_time": "2022-12-10T02:58:30.302Z"
   },
   {
    "duration": 8,
    "start_time": "2022-12-10T02:58:30.342Z"
   },
   {
    "duration": 22,
    "start_time": "2022-12-10T02:58:30.352Z"
   },
   {
    "duration": 7,
    "start_time": "2022-12-10T02:58:30.376Z"
   },
   {
    "duration": 60,
    "start_time": "2022-12-10T02:58:30.385Z"
   },
   {
    "duration": 25,
    "start_time": "2022-12-10T02:58:30.448Z"
   },
   {
    "duration": 108,
    "start_time": "2022-12-10T02:58:30.475Z"
   },
   {
    "duration": 188,
    "start_time": "2022-12-10T02:58:30.585Z"
   },
   {
    "duration": 4,
    "start_time": "2022-12-10T02:58:30.775Z"
   },
   {
    "duration": 19,
    "start_time": "2022-12-10T02:58:30.781Z"
   },
   {
    "duration": 24,
    "start_time": "2022-12-10T02:58:30.801Z"
   },
   {
    "duration": 24,
    "start_time": "2022-12-10T02:58:30.827Z"
   },
   {
    "duration": 24,
    "start_time": "2022-12-10T02:58:30.852Z"
   },
   {
    "duration": 23,
    "start_time": "2022-12-10T02:58:30.878Z"
   },
   {
    "duration": 17,
    "start_time": "2022-12-10T02:58:30.903Z"
   },
   {
    "duration": 160,
    "start_time": "2022-12-10T02:58:30.922Z"
   },
   {
    "duration": 41,
    "start_time": "2022-12-10T02:58:31.083Z"
   },
   {
    "duration": 117,
    "start_time": "2022-12-10T02:58:31.125Z"
   },
   {
    "duration": 82,
    "start_time": "2022-12-10T02:58:31.244Z"
   },
   {
    "duration": 6,
    "start_time": "2022-12-10T02:58:31.328Z"
   },
   {
    "duration": 45,
    "start_time": "2022-12-10T02:58:31.337Z"
   },
   {
    "duration": 6,
    "start_time": "2022-12-10T02:58:31.384Z"
   },
   {
    "duration": 29,
    "start_time": "2022-12-10T02:58:31.391Z"
   },
   {
    "duration": 16,
    "start_time": "2022-12-10T02:58:31.432Z"
   },
   {
    "duration": 14,
    "start_time": "2022-12-10T02:58:31.450Z"
   },
   {
    "duration": 14,
    "start_time": "2022-12-10T02:58:31.466Z"
   },
   {
    "duration": 8,
    "start_time": "2022-12-10T02:58:31.482Z"
   },
   {
    "duration": 27,
    "start_time": "2022-12-10T02:58:31.491Z"
   },
   {
    "duration": 14,
    "start_time": "2022-12-10T02:58:31.519Z"
   },
   {
    "duration": 19,
    "start_time": "2022-12-10T02:58:31.534Z"
   },
   {
    "duration": 24,
    "start_time": "2022-12-10T02:58:31.555Z"
   },
   {
    "duration": 11,
    "start_time": "2022-12-10T02:58:31.580Z"
   },
   {
    "duration": 1335,
    "start_time": "2022-12-10T10:39:58.450Z"
   },
   {
    "duration": 174,
    "start_time": "2022-12-10T10:39:59.787Z"
   },
   {
    "duration": 12,
    "start_time": "2022-12-10T10:39:59.963Z"
   },
   {
    "duration": 59,
    "start_time": "2022-12-10T10:39:59.978Z"
   },
   {
    "duration": 89,
    "start_time": "2022-12-10T10:40:00.040Z"
   },
   {
    "duration": 4,
    "start_time": "2022-12-10T10:40:00.131Z"
   },
   {
    "duration": 29,
    "start_time": "2022-12-10T10:40:00.137Z"
   },
   {
    "duration": 91,
    "start_time": "2022-12-10T10:40:00.168Z"
   },
   {
    "duration": 98,
    "start_time": "2022-12-10T10:40:00.261Z"
   },
   {
    "duration": 123,
    "start_time": "2022-12-10T10:40:00.361Z"
   },
   {
    "duration": 80,
    "start_time": "2022-12-10T10:40:00.485Z"
   },
   {
    "duration": 11,
    "start_time": "2022-12-10T10:40:00.566Z"
   },
   {
    "duration": 78,
    "start_time": "2022-12-10T10:40:00.579Z"
   },
   {
    "duration": 51,
    "start_time": "2022-12-10T10:40:00.661Z"
   },
   {
    "duration": 4,
    "start_time": "2022-12-10T10:40:00.715Z"
   },
   {
    "duration": 27,
    "start_time": "2022-12-10T10:40:00.736Z"
   },
   {
    "duration": 33,
    "start_time": "2022-12-10T10:40:00.765Z"
   },
   {
    "duration": 53,
    "start_time": "2022-12-10T10:40:00.800Z"
   },
   {
    "duration": 1579,
    "start_time": "2022-12-10T10:40:00.854Z"
   },
   {
    "duration": 53,
    "start_time": "2022-12-10T10:40:02.436Z"
   },
   {
    "duration": 56,
    "start_time": "2022-12-10T10:40:02.492Z"
   },
   {
    "duration": 30,
    "start_time": "2022-12-10T10:40:02.551Z"
   },
   {
    "duration": 39,
    "start_time": "2022-12-10T10:40:02.584Z"
   },
   {
    "duration": 42,
    "start_time": "2022-12-10T10:40:02.626Z"
   },
   {
    "duration": 100,
    "start_time": "2022-12-10T10:40:02.670Z"
   },
   {
    "duration": 35,
    "start_time": "2022-12-10T10:40:02.773Z"
   },
   {
    "duration": 122,
    "start_time": "2022-12-10T10:40:02.809Z"
   },
   {
    "duration": 215,
    "start_time": "2022-12-10T10:40:02.936Z"
   },
   {
    "duration": 5,
    "start_time": "2022-12-10T10:40:03.153Z"
   },
   {
    "duration": 15,
    "start_time": "2022-12-10T10:40:03.160Z"
   },
   {
    "duration": 26,
    "start_time": "2022-12-10T10:40:03.176Z"
   },
   {
    "duration": 29,
    "start_time": "2022-12-10T10:40:03.205Z"
   },
   {
    "duration": 16,
    "start_time": "2022-12-10T10:40:03.237Z"
   },
   {
    "duration": 18,
    "start_time": "2022-12-10T10:40:03.256Z"
   },
   {
    "duration": 24,
    "start_time": "2022-12-10T10:40:03.276Z"
   },
   {
    "duration": 220,
    "start_time": "2022-12-10T10:40:03.302Z"
   },
   {
    "duration": 54,
    "start_time": "2022-12-10T10:40:03.524Z"
   },
   {
    "duration": 185,
    "start_time": "2022-12-10T10:40:03.579Z"
   },
   {
    "duration": 101,
    "start_time": "2022-12-10T10:40:03.766Z"
   },
   {
    "duration": 6,
    "start_time": "2022-12-10T10:40:03.869Z"
   },
   {
    "duration": 66,
    "start_time": "2022-12-10T10:40:03.879Z"
   },
   {
    "duration": 8,
    "start_time": "2022-12-10T10:40:03.947Z"
   },
   {
    "duration": 22,
    "start_time": "2022-12-10T10:40:03.957Z"
   },
   {
    "duration": 67,
    "start_time": "2022-12-10T10:40:03.981Z"
   },
   {
    "duration": 46,
    "start_time": "2022-12-10T10:40:04.050Z"
   },
   {
    "duration": 35,
    "start_time": "2022-12-10T10:40:04.099Z"
   },
   {
    "duration": 35,
    "start_time": "2022-12-10T10:40:04.136Z"
   },
   {
    "duration": 39,
    "start_time": "2022-12-10T10:40:04.173Z"
   },
   {
    "duration": 22,
    "start_time": "2022-12-10T10:40:04.213Z"
   },
   {
    "duration": 17,
    "start_time": "2022-12-10T10:40:04.238Z"
   },
   {
    "duration": 58,
    "start_time": "2022-12-10T10:40:04.257Z"
   },
   {
    "duration": 29,
    "start_time": "2022-12-10T10:40:04.317Z"
   },
   {
    "duration": 1273,
    "start_time": "2022-12-10T12:28:44.611Z"
   },
   {
    "duration": 177,
    "start_time": "2022-12-10T12:28:45.886Z"
   },
   {
    "duration": 12,
    "start_time": "2022-12-10T12:28:46.065Z"
   },
   {
    "duration": 24,
    "start_time": "2022-12-10T12:28:46.079Z"
   },
   {
    "duration": 74,
    "start_time": "2022-12-10T12:28:46.105Z"
   },
   {
    "duration": 4,
    "start_time": "2022-12-10T12:28:46.181Z"
   },
   {
    "duration": 15,
    "start_time": "2022-12-10T12:28:46.187Z"
   },
   {
    "duration": 95,
    "start_time": "2022-12-10T12:28:46.204Z"
   },
   {
    "duration": 101,
    "start_time": "2022-12-10T12:28:46.301Z"
   },
   {
    "duration": 112,
    "start_time": "2022-12-10T12:28:46.404Z"
   },
   {
    "duration": 79,
    "start_time": "2022-12-10T12:28:46.518Z"
   },
   {
    "duration": 9,
    "start_time": "2022-12-10T12:28:46.599Z"
   },
   {
    "duration": 47,
    "start_time": "2022-12-10T12:28:46.610Z"
   },
   {
    "duration": 39,
    "start_time": "2022-12-10T12:28:46.660Z"
   },
   {
    "duration": 5,
    "start_time": "2022-12-10T12:28:46.701Z"
   },
   {
    "duration": 36,
    "start_time": "2022-12-10T12:28:46.708Z"
   },
   {
    "duration": 12,
    "start_time": "2022-12-10T12:28:46.746Z"
   },
   {
    "duration": 39,
    "start_time": "2022-12-10T12:28:46.760Z"
   },
   {
    "duration": 1500,
    "start_time": "2022-12-10T12:28:46.801Z"
   },
   {
    "duration": 41,
    "start_time": "2022-12-10T12:28:48.304Z"
   },
   {
    "duration": 33,
    "start_time": "2022-12-10T12:28:48.346Z"
   },
   {
    "duration": 3,
    "start_time": "2022-12-10T12:28:48.381Z"
   },
   {
    "duration": 15,
    "start_time": "2022-12-10T12:28:48.386Z"
   },
   {
    "duration": 32,
    "start_time": "2022-12-10T12:28:48.403Z"
   },
   {
    "duration": 58,
    "start_time": "2022-12-10T12:28:48.438Z"
   },
   {
    "duration": 43,
    "start_time": "2022-12-10T12:28:48.497Z"
   },
   {
    "duration": 108,
    "start_time": "2022-12-10T12:28:48.542Z"
   },
   {
    "duration": 200,
    "start_time": "2022-12-10T12:28:48.653Z"
   },
   {
    "duration": 3,
    "start_time": "2022-12-10T12:28:48.855Z"
   },
   {
    "duration": 13,
    "start_time": "2022-12-10T12:28:48.860Z"
   },
   {
    "duration": 27,
    "start_time": "2022-12-10T12:28:48.875Z"
   },
   {
    "duration": 27,
    "start_time": "2022-12-10T12:28:48.905Z"
   },
   {
    "duration": 12,
    "start_time": "2022-12-10T12:28:48.934Z"
   },
   {
    "duration": 32,
    "start_time": "2022-12-10T12:28:48.948Z"
   },
   {
    "duration": 15,
    "start_time": "2022-12-10T12:28:48.982Z"
   },
   {
    "duration": 210,
    "start_time": "2022-12-10T12:28:48.999Z"
   },
   {
    "duration": 124,
    "start_time": "2022-12-10T12:28:49.211Z"
   },
   {
    "duration": 119,
    "start_time": "2022-12-10T12:28:49.337Z"
   },
   {
    "duration": 104,
    "start_time": "2022-12-10T12:28:49.458Z"
   },
   {
    "duration": 7,
    "start_time": "2022-12-10T12:28:49.564Z"
   },
   {
    "duration": 37,
    "start_time": "2022-12-10T12:28:49.573Z"
   },
   {
    "duration": 7,
    "start_time": "2022-12-10T12:28:49.612Z"
   },
   {
    "duration": 7,
    "start_time": "2022-12-10T12:28:49.635Z"
   },
   {
    "duration": 9,
    "start_time": "2022-12-10T12:28:49.644Z"
   },
   {
    "duration": 9,
    "start_time": "2022-12-10T12:28:49.656Z"
   },
   {
    "duration": 7,
    "start_time": "2022-12-10T12:28:49.667Z"
   },
   {
    "duration": 5,
    "start_time": "2022-12-10T12:28:49.676Z"
   },
   {
    "duration": 16,
    "start_time": "2022-12-10T12:28:49.683Z"
   },
   {
    "duration": 13,
    "start_time": "2022-12-10T12:28:49.736Z"
   },
   {
    "duration": 5,
    "start_time": "2022-12-10T12:28:49.751Z"
   },
   {
    "duration": 14,
    "start_time": "2022-12-10T12:28:49.757Z"
   },
   {
    "duration": 11,
    "start_time": "2022-12-10T12:28:49.773Z"
   },
   {
    "duration": 1335,
    "start_time": "2022-12-10T12:33:27.498Z"
   },
   {
    "duration": 203,
    "start_time": "2022-12-10T12:33:28.835Z"
   },
   {
    "duration": 11,
    "start_time": "2022-12-10T12:33:29.041Z"
   },
   {
    "duration": 30,
    "start_time": "2022-12-10T12:33:29.054Z"
   },
   {
    "duration": 72,
    "start_time": "2022-12-10T12:33:29.086Z"
   },
   {
    "duration": 4,
    "start_time": "2022-12-10T12:33:29.160Z"
   },
   {
    "duration": 39,
    "start_time": "2022-12-10T12:33:29.166Z"
   },
   {
    "duration": 106,
    "start_time": "2022-12-10T12:33:29.207Z"
   },
   {
    "duration": 91,
    "start_time": "2022-12-10T12:33:29.315Z"
   },
   {
    "duration": 113,
    "start_time": "2022-12-10T12:33:29.408Z"
   },
   {
    "duration": 74,
    "start_time": "2022-12-10T12:33:29.523Z"
   },
   {
    "duration": 9,
    "start_time": "2022-12-10T12:33:29.599Z"
   },
   {
    "duration": 48,
    "start_time": "2022-12-10T12:33:29.609Z"
   },
   {
    "duration": 38,
    "start_time": "2022-12-10T12:33:29.660Z"
   },
   {
    "duration": 3,
    "start_time": "2022-12-10T12:33:29.700Z"
   },
   {
    "duration": 11,
    "start_time": "2022-12-10T12:33:29.705Z"
   },
   {
    "duration": 4,
    "start_time": "2022-12-10T12:33:29.736Z"
   },
   {
    "duration": 39,
    "start_time": "2022-12-10T12:33:29.742Z"
   },
   {
    "duration": 1497,
    "start_time": "2022-12-10T12:33:29.783Z"
   },
   {
    "duration": 31,
    "start_time": "2022-12-10T12:33:31.281Z"
   },
   {
    "duration": 46,
    "start_time": "2022-12-10T12:33:31.314Z"
   },
   {
    "duration": 4,
    "start_time": "2022-12-10T12:33:31.362Z"
   },
   {
    "duration": 31,
    "start_time": "2022-12-10T12:33:31.368Z"
   },
   {
    "duration": 25,
    "start_time": "2022-12-10T12:33:31.401Z"
   },
   {
    "duration": 79,
    "start_time": "2022-12-10T12:33:31.428Z"
   },
   {
    "duration": 29,
    "start_time": "2022-12-10T12:33:31.509Z"
   },
   {
    "duration": 120,
    "start_time": "2022-12-10T12:33:31.540Z"
   },
   {
    "duration": 228,
    "start_time": "2022-12-10T12:33:31.662Z"
   },
   {
    "duration": 4,
    "start_time": "2022-12-10T12:33:31.892Z"
   },
   {
    "duration": 50,
    "start_time": "2022-12-10T12:33:31.898Z"
   },
   {
    "duration": 26,
    "start_time": "2022-12-10T12:33:31.950Z"
   },
   {
    "duration": 40,
    "start_time": "2022-12-10T12:33:31.977Z"
   },
   {
    "duration": 27,
    "start_time": "2022-12-10T12:33:32.019Z"
   },
   {
    "duration": 22,
    "start_time": "2022-12-10T12:33:32.048Z"
   },
   {
    "duration": 24,
    "start_time": "2022-12-10T12:33:32.072Z"
   },
   {
    "duration": 213,
    "start_time": "2022-12-10T12:33:32.098Z"
   },
   {
    "duration": 54,
    "start_time": "2022-12-10T12:33:32.312Z"
   },
   {
    "duration": 172,
    "start_time": "2022-12-10T12:33:32.368Z"
   },
   {
    "duration": 109,
    "start_time": "2022-12-10T12:33:32.543Z"
   },
   {
    "duration": 9,
    "start_time": "2022-12-10T12:33:32.654Z"
   },
   {
    "duration": 52,
    "start_time": "2022-12-10T12:33:32.667Z"
   },
   {
    "duration": 6,
    "start_time": "2022-12-10T12:33:32.721Z"
   },
   {
    "duration": 54,
    "start_time": "2022-12-10T12:33:32.735Z"
   },
   {
    "duration": 29,
    "start_time": "2022-12-10T12:33:32.791Z"
   },
   {
    "duration": 23,
    "start_time": "2022-12-10T12:33:32.822Z"
   },
   {
    "duration": 21,
    "start_time": "2022-12-10T12:33:32.847Z"
   },
   {
    "duration": 21,
    "start_time": "2022-12-10T12:33:32.870Z"
   },
   {
    "duration": 40,
    "start_time": "2022-12-10T12:33:32.893Z"
   },
   {
    "duration": 28,
    "start_time": "2022-12-10T12:33:32.935Z"
   },
   {
    "duration": 14,
    "start_time": "2022-12-10T12:33:32.965Z"
   },
   {
    "duration": 34,
    "start_time": "2022-12-10T12:33:32.982Z"
   },
   {
    "duration": 32,
    "start_time": "2022-12-10T12:33:33.018Z"
   },
   {
    "duration": 1308,
    "start_time": "2022-12-10T12:42:40.478Z"
   },
   {
    "duration": 168,
    "start_time": "2022-12-10T12:42:41.788Z"
   },
   {
    "duration": 12,
    "start_time": "2022-12-10T12:42:41.958Z"
   },
   {
    "duration": 25,
    "start_time": "2022-12-10T12:42:41.973Z"
   },
   {
    "duration": 82,
    "start_time": "2022-12-10T12:42:42.000Z"
   },
   {
    "duration": 3,
    "start_time": "2022-12-10T12:42:42.084Z"
   },
   {
    "duration": 41,
    "start_time": "2022-12-10T12:42:42.089Z"
   },
   {
    "duration": 84,
    "start_time": "2022-12-10T12:42:42.132Z"
   },
   {
    "duration": 93,
    "start_time": "2022-12-10T12:42:42.218Z"
   },
   {
    "duration": 130,
    "start_time": "2022-12-10T12:42:42.314Z"
   },
   {
    "duration": 100,
    "start_time": "2022-12-10T12:42:42.447Z"
   },
   {
    "duration": 14,
    "start_time": "2022-12-10T12:42:42.549Z"
   },
   {
    "duration": 51,
    "start_time": "2022-12-10T12:42:42.566Z"
   },
   {
    "duration": 61,
    "start_time": "2022-12-10T12:42:42.620Z"
   },
   {
    "duration": 5,
    "start_time": "2022-12-10T12:42:42.683Z"
   },
   {
    "duration": 25,
    "start_time": "2022-12-10T12:42:42.690Z"
   },
   {
    "duration": 11,
    "start_time": "2022-12-10T12:42:42.717Z"
   },
   {
    "duration": 41,
    "start_time": "2022-12-10T12:42:42.729Z"
   },
   {
    "duration": 1512,
    "start_time": "2022-12-10T12:42:42.771Z"
   },
   {
    "duration": 30,
    "start_time": "2022-12-10T12:42:44.285Z"
   },
   {
    "duration": 44,
    "start_time": "2022-12-10T12:42:44.317Z"
   },
   {
    "duration": 4,
    "start_time": "2022-12-10T12:42:44.364Z"
   },
   {
    "duration": 30,
    "start_time": "2022-12-10T12:42:44.370Z"
   },
   {
    "duration": 11,
    "start_time": "2022-12-10T12:42:44.402Z"
   },
   {
    "duration": 58,
    "start_time": "2022-12-10T12:42:44.415Z"
   },
   {
    "duration": 30,
    "start_time": "2022-12-10T12:42:44.474Z"
   },
   {
    "duration": 119,
    "start_time": "2022-12-10T12:42:44.506Z"
   },
   {
    "duration": 204,
    "start_time": "2022-12-10T12:42:44.634Z"
   },
   {
    "duration": 4,
    "start_time": "2022-12-10T12:42:44.840Z"
   },
   {
    "duration": 22,
    "start_time": "2022-12-10T12:42:44.846Z"
   },
   {
    "duration": 17,
    "start_time": "2022-12-10T12:42:44.870Z"
   },
   {
    "duration": 14,
    "start_time": "2022-12-10T12:42:44.889Z"
   },
   {
    "duration": 23,
    "start_time": "2022-12-10T12:42:44.905Z"
   },
   {
    "duration": 15,
    "start_time": "2022-12-10T12:42:44.930Z"
   },
   {
    "duration": 30,
    "start_time": "2022-12-10T12:42:44.949Z"
   },
   {
    "duration": 182,
    "start_time": "2022-12-10T12:42:44.981Z"
   },
   {
    "duration": 98,
    "start_time": "2022-12-10T12:42:45.165Z"
   },
   {
    "duration": 135,
    "start_time": "2022-12-10T12:42:45.265Z"
   },
   {
    "duration": 90,
    "start_time": "2022-12-10T12:42:45.402Z"
   },
   {
    "duration": 6,
    "start_time": "2022-12-10T12:42:45.494Z"
   },
   {
    "duration": 59,
    "start_time": "2022-12-10T12:42:45.502Z"
   },
   {
    "duration": 8,
    "start_time": "2022-12-10T12:42:45.562Z"
   },
   {
    "duration": 23,
    "start_time": "2022-12-10T12:42:45.572Z"
   },
   {
    "duration": 18,
    "start_time": "2022-12-10T12:42:45.597Z"
   },
   {
    "duration": 11,
    "start_time": "2022-12-10T12:42:45.619Z"
   },
   {
    "duration": 25,
    "start_time": "2022-12-10T12:42:45.632Z"
   },
   {
    "duration": 20,
    "start_time": "2022-12-10T12:42:45.659Z"
   },
   {
    "duration": 37,
    "start_time": "2022-12-10T12:42:45.680Z"
   },
   {
    "duration": 27,
    "start_time": "2022-12-10T12:42:45.719Z"
   },
   {
    "duration": 10,
    "start_time": "2022-12-10T12:42:45.748Z"
   },
   {
    "duration": 29,
    "start_time": "2022-12-10T12:42:45.760Z"
   },
   {
    "duration": 12,
    "start_time": "2022-12-10T12:42:45.791Z"
   },
   {
    "duration": 1861,
    "start_time": "2022-12-10T15:59:38.349Z"
   },
   {
    "duration": 972,
    "start_time": "2022-12-10T15:59:40.214Z"
   },
   {
    "duration": 17,
    "start_time": "2022-12-10T15:59:41.188Z"
   },
   {
    "duration": 49,
    "start_time": "2022-12-10T15:59:41.207Z"
   },
   {
    "duration": 99,
    "start_time": "2022-12-10T15:59:41.260Z"
   },
   {
    "duration": 7,
    "start_time": "2022-12-10T15:59:41.361Z"
   },
   {
    "duration": 13,
    "start_time": "2022-12-10T15:59:41.372Z"
   },
   {
    "duration": 16,
    "start_time": "2022-12-10T15:59:41.391Z"
   },
   {
    "duration": 102,
    "start_time": "2022-12-10T15:59:41.411Z"
   },
   {
    "duration": 97,
    "start_time": "2022-12-10T15:59:41.515Z"
   },
   {
    "duration": 114,
    "start_time": "2022-12-10T15:59:41.614Z"
   },
   {
    "duration": 126,
    "start_time": "2022-12-10T15:59:41.730Z"
   },
   {
    "duration": 13,
    "start_time": "2022-12-10T15:59:41.859Z"
   },
   {
    "duration": 56,
    "start_time": "2022-12-10T15:59:41.875Z"
   },
   {
    "duration": 64,
    "start_time": "2022-12-10T15:59:41.934Z"
   },
   {
    "duration": 5,
    "start_time": "2022-12-10T15:59:42.001Z"
   },
   {
    "duration": 31,
    "start_time": "2022-12-10T15:59:42.009Z"
   },
   {
    "duration": 5,
    "start_time": "2022-12-10T15:59:42.043Z"
   },
   {
    "duration": 64,
    "start_time": "2022-12-10T15:59:42.050Z"
   },
   {
    "duration": 2444,
    "start_time": "2022-12-10T15:59:42.116Z"
   },
   {
    "duration": 46,
    "start_time": "2022-12-10T15:59:44.563Z"
   },
   {
    "duration": 127,
    "start_time": "2022-12-10T15:59:44.612Z"
   },
   {
    "duration": 9,
    "start_time": "2022-12-10T15:59:44.742Z"
   },
   {
    "duration": 13,
    "start_time": "2022-12-10T15:59:44.753Z"
   },
   {
    "duration": 10,
    "start_time": "2022-12-10T15:59:44.768Z"
   },
   {
    "duration": 180,
    "start_time": "2022-12-10T15:59:44.782Z"
   },
   {
    "duration": 103,
    "start_time": "2022-12-10T15:59:44.964Z"
   },
   {
    "duration": 285,
    "start_time": "2022-12-10T15:59:45.069Z"
   },
   {
    "duration": 601,
    "start_time": "2022-12-10T15:59:45.356Z"
   },
   {
    "duration": 6,
    "start_time": "2022-12-10T15:59:45.960Z"
   },
   {
    "duration": 10,
    "start_time": "2022-12-10T15:59:45.969Z"
   },
   {
    "duration": 57,
    "start_time": "2022-12-10T15:59:45.981Z"
   },
   {
    "duration": 13,
    "start_time": "2022-12-10T15:59:46.041Z"
   },
   {
    "duration": 9,
    "start_time": "2022-12-10T15:59:46.056Z"
   },
   {
    "duration": 7,
    "start_time": "2022-12-10T15:59:46.068Z"
   },
   {
    "duration": 63,
    "start_time": "2022-12-10T15:59:46.077Z"
   },
   {
    "duration": 401,
    "start_time": "2022-12-10T15:59:46.142Z"
   },
   {
    "duration": 110,
    "start_time": "2022-12-10T15:59:46.547Z"
   },
   {
    "duration": 211,
    "start_time": "2022-12-10T15:59:46.662Z"
   },
   {
    "duration": 484,
    "start_time": "2022-12-10T15:59:46.876Z"
   },
   {
    "duration": 0,
    "start_time": "2022-12-10T15:59:47.365Z"
   },
   {
    "duration": 0,
    "start_time": "2022-12-10T15:59:47.367Z"
   },
   {
    "duration": 0,
    "start_time": "2022-12-10T15:59:47.372Z"
   },
   {
    "duration": 0,
    "start_time": "2022-12-10T15:59:47.374Z"
   },
   {
    "duration": 0,
    "start_time": "2022-12-10T15:59:47.376Z"
   },
   {
    "duration": 0,
    "start_time": "2022-12-10T15:59:47.378Z"
   },
   {
    "duration": 0,
    "start_time": "2022-12-10T15:59:47.380Z"
   },
   {
    "duration": 0,
    "start_time": "2022-12-10T15:59:47.381Z"
   },
   {
    "duration": 0,
    "start_time": "2022-12-10T15:59:47.383Z"
   },
   {
    "duration": 0,
    "start_time": "2022-12-10T15:59:47.384Z"
   },
   {
    "duration": 0,
    "start_time": "2022-12-10T15:59:47.437Z"
   },
   {
    "duration": 0,
    "start_time": "2022-12-10T15:59:47.438Z"
   },
   {
    "duration": 0,
    "start_time": "2022-12-10T15:59:47.439Z"
   },
   {
    "duration": 0,
    "start_time": "2022-12-10T15:59:47.440Z"
   },
   {
    "duration": 27,
    "start_time": "2022-12-10T16:00:43.895Z"
   },
   {
    "duration": 29,
    "start_time": "2022-12-10T16:00:56.123Z"
   },
   {
    "duration": 1511,
    "start_time": "2022-12-10T16:02:13.123Z"
   },
   {
    "duration": 177,
    "start_time": "2022-12-10T16:02:14.637Z"
   },
   {
    "duration": 14,
    "start_time": "2022-12-10T16:02:14.816Z"
   },
   {
    "duration": 38,
    "start_time": "2022-12-10T16:02:14.839Z"
   },
   {
    "duration": 66,
    "start_time": "2022-12-10T16:02:14.879Z"
   },
   {
    "duration": 3,
    "start_time": "2022-12-10T16:02:14.947Z"
   },
   {
    "duration": 13,
    "start_time": "2022-12-10T16:02:14.952Z"
   },
   {
    "duration": 21,
    "start_time": "2022-12-10T16:02:14.967Z"
   },
   {
    "duration": 111,
    "start_time": "2022-12-10T16:02:14.990Z"
   },
   {
    "duration": 102,
    "start_time": "2022-12-10T16:02:15.104Z"
   },
   {
    "duration": 119,
    "start_time": "2022-12-10T16:02:15.208Z"
   },
   {
    "duration": 144,
    "start_time": "2022-12-10T16:02:15.330Z"
   },
   {
    "duration": 10,
    "start_time": "2022-12-10T16:02:15.477Z"
   },
   {
    "duration": 50,
    "start_time": "2022-12-10T16:02:15.489Z"
   },
   {
    "duration": 60,
    "start_time": "2022-12-10T16:02:15.542Z"
   },
   {
    "duration": 4,
    "start_time": "2022-12-10T16:02:15.605Z"
   },
   {
    "duration": 37,
    "start_time": "2022-12-10T16:02:15.612Z"
   },
   {
    "duration": 15,
    "start_time": "2022-12-10T16:02:15.652Z"
   },
   {
    "duration": 80,
    "start_time": "2022-12-10T16:02:15.669Z"
   },
   {
    "duration": 1787,
    "start_time": "2022-12-10T16:02:15.751Z"
   },
   {
    "duration": 30,
    "start_time": "2022-12-10T16:02:17.541Z"
   },
   {
    "duration": 37,
    "start_time": "2022-12-10T16:02:17.574Z"
   },
   {
    "duration": 5,
    "start_time": "2022-12-10T16:02:17.636Z"
   },
   {
    "duration": 23,
    "start_time": "2022-12-10T16:02:17.643Z"
   },
   {
    "duration": 26,
    "start_time": "2022-12-10T16:02:17.668Z"
   },
   {
    "duration": 66,
    "start_time": "2022-12-10T16:02:17.696Z"
   },
   {
    "duration": 48,
    "start_time": "2022-12-10T16:02:17.764Z"
   },
   {
    "duration": 220,
    "start_time": "2022-12-10T16:02:17.817Z"
   },
   {
    "duration": 220,
    "start_time": "2022-12-10T16:02:18.040Z"
   },
   {
    "duration": 4,
    "start_time": "2022-12-10T16:02:18.262Z"
   },
   {
    "duration": 6,
    "start_time": "2022-12-10T16:02:18.268Z"
   },
   {
    "duration": 26,
    "start_time": "2022-12-10T16:02:18.277Z"
   },
   {
    "duration": 20,
    "start_time": "2022-12-10T16:02:18.306Z"
   },
   {
    "duration": 14,
    "start_time": "2022-12-10T16:02:18.328Z"
   },
   {
    "duration": 31,
    "start_time": "2022-12-10T16:02:18.344Z"
   },
   {
    "duration": 23,
    "start_time": "2022-12-10T16:02:18.377Z"
   },
   {
    "duration": 191,
    "start_time": "2022-12-10T16:02:18.402Z"
   },
   {
    "duration": 62,
    "start_time": "2022-12-10T16:02:18.594Z"
   },
   {
    "duration": 193,
    "start_time": "2022-12-10T16:02:18.658Z"
   },
   {
    "duration": 40,
    "start_time": "2022-12-10T16:02:18.854Z"
   },
   {
    "duration": 143,
    "start_time": "2022-12-10T16:02:18.897Z"
   },
   {
    "duration": 10,
    "start_time": "2022-12-10T16:02:19.044Z"
   },
   {
    "duration": 80,
    "start_time": "2022-12-10T16:02:19.056Z"
   },
   {
    "duration": 8,
    "start_time": "2022-12-10T16:02:19.141Z"
   },
   {
    "duration": 43,
    "start_time": "2022-12-10T16:02:19.152Z"
   },
   {
    "duration": 36,
    "start_time": "2022-12-10T16:02:19.197Z"
   },
   {
    "duration": 58,
    "start_time": "2022-12-10T16:02:19.236Z"
   },
   {
    "duration": 23,
    "start_time": "2022-12-10T16:02:19.296Z"
   },
   {
    "duration": 13,
    "start_time": "2022-12-10T16:02:19.321Z"
   },
   {
    "duration": 41,
    "start_time": "2022-12-10T16:02:19.337Z"
   },
   {
    "duration": 46,
    "start_time": "2022-12-10T16:02:19.381Z"
   },
   {
    "duration": 7,
    "start_time": "2022-12-10T16:02:19.430Z"
   },
   {
    "duration": 29,
    "start_time": "2022-12-10T16:02:19.439Z"
   },
   {
    "duration": 21,
    "start_time": "2022-12-10T16:02:19.471Z"
   },
   {
    "duration": 1189,
    "start_time": "2022-12-10T18:08:47.527Z"
   },
   {
    "duration": 145,
    "start_time": "2022-12-10T18:08:48.718Z"
   },
   {
    "duration": 11,
    "start_time": "2022-12-10T18:08:48.864Z"
   },
   {
    "duration": 21,
    "start_time": "2022-12-10T18:08:48.876Z"
   },
   {
    "duration": 57,
    "start_time": "2022-12-10T18:08:48.899Z"
   },
   {
    "duration": 2,
    "start_time": "2022-12-10T18:08:48.957Z"
   },
   {
    "duration": 10,
    "start_time": "2022-12-10T18:08:48.961Z"
   },
   {
    "duration": 16,
    "start_time": "2022-12-10T18:08:48.972Z"
   },
   {
    "duration": 80,
    "start_time": "2022-12-10T18:08:48.990Z"
   },
   {
    "duration": 82,
    "start_time": "2022-12-10T18:08:49.072Z"
   },
   {
    "duration": 93,
    "start_time": "2022-12-10T18:08:49.157Z"
   },
   {
    "duration": 63,
    "start_time": "2022-12-10T18:08:49.252Z"
   },
   {
    "duration": 8,
    "start_time": "2022-12-10T18:08:49.326Z"
   },
   {
    "duration": 28,
    "start_time": "2022-12-10T18:08:49.337Z"
   },
   {
    "duration": 35,
    "start_time": "2022-12-10T18:08:49.366Z"
   },
   {
    "duration": 3,
    "start_time": "2022-12-10T18:08:49.403Z"
   },
   {
    "duration": 24,
    "start_time": "2022-12-10T18:08:49.408Z"
   },
   {
    "duration": 3,
    "start_time": "2022-12-10T18:08:49.434Z"
   },
   {
    "duration": 34,
    "start_time": "2022-12-10T18:08:49.439Z"
   },
   {
    "duration": 1328,
    "start_time": "2022-12-10T18:08:49.475Z"
   },
   {
    "duration": 30,
    "start_time": "2022-12-10T18:08:50.805Z"
   },
   {
    "duration": 26,
    "start_time": "2022-12-10T18:08:50.837Z"
   },
   {
    "duration": 4,
    "start_time": "2022-12-10T18:08:50.865Z"
   },
   {
    "duration": 10,
    "start_time": "2022-12-10T18:08:50.871Z"
   },
   {
    "duration": 12,
    "start_time": "2022-12-10T18:08:50.883Z"
   },
   {
    "duration": 71,
    "start_time": "2022-12-10T18:08:50.897Z"
   },
   {
    "duration": 23,
    "start_time": "2022-12-10T18:08:50.970Z"
   },
   {
    "duration": 107,
    "start_time": "2022-12-10T18:08:50.995Z"
   },
   {
    "duration": 183,
    "start_time": "2022-12-10T18:08:51.104Z"
   },
   {
    "duration": 4,
    "start_time": "2022-12-10T18:08:51.288Z"
   },
   {
    "duration": 6,
    "start_time": "2022-12-10T18:08:51.293Z"
   },
   {
    "duration": 7,
    "start_time": "2022-12-10T18:08:51.300Z"
   },
   {
    "duration": 7,
    "start_time": "2022-12-10T18:08:51.308Z"
   },
   {
    "duration": 12,
    "start_time": "2022-12-10T18:08:51.316Z"
   },
   {
    "duration": 6,
    "start_time": "2022-12-10T18:08:51.329Z"
   },
   {
    "duration": 9,
    "start_time": "2022-12-10T18:08:51.336Z"
   },
   {
    "duration": 159,
    "start_time": "2022-12-10T18:08:51.346Z"
   },
   {
    "duration": 39,
    "start_time": "2022-12-10T18:08:51.509Z"
   },
   {
    "duration": 127,
    "start_time": "2022-12-10T18:08:51.549Z"
   },
   {
    "duration": 20,
    "start_time": "2022-12-10T18:08:51.677Z"
   },
   {
    "duration": 90,
    "start_time": "2022-12-10T18:08:51.701Z"
   },
   {
    "duration": 6,
    "start_time": "2022-12-10T18:08:51.792Z"
   },
   {
    "duration": 44,
    "start_time": "2022-12-10T18:08:51.799Z"
   },
   {
    "duration": 8,
    "start_time": "2022-12-10T18:08:51.845Z"
   },
   {
    "duration": 19,
    "start_time": "2022-12-10T18:08:51.854Z"
   },
   {
    "duration": 9,
    "start_time": "2022-12-10T18:08:51.875Z"
   },
   {
    "duration": 12,
    "start_time": "2022-12-10T18:08:51.886Z"
   },
   {
    "duration": 9,
    "start_time": "2022-12-10T18:08:51.900Z"
   },
   {
    "duration": 6,
    "start_time": "2022-12-10T18:08:51.910Z"
   },
   {
    "duration": 14,
    "start_time": "2022-12-10T18:08:51.917Z"
   },
   {
    "duration": 12,
    "start_time": "2022-12-10T18:08:51.933Z"
   },
   {
    "duration": 5,
    "start_time": "2022-12-10T18:08:51.947Z"
   },
   {
    "duration": 17,
    "start_time": "2022-12-10T18:08:51.953Z"
   },
   {
    "duration": 9,
    "start_time": "2022-12-10T18:08:51.972Z"
   },
   {
    "duration": 1231,
    "start_time": "2022-12-10T18:10:44.837Z"
   },
   {
    "duration": 144,
    "start_time": "2022-12-10T18:10:46.070Z"
   },
   {
    "duration": 15,
    "start_time": "2022-12-10T18:10:46.215Z"
   },
   {
    "duration": 18,
    "start_time": "2022-12-10T18:10:46.232Z"
   },
   {
    "duration": 82,
    "start_time": "2022-12-10T18:10:46.253Z"
   },
   {
    "duration": 3,
    "start_time": "2022-12-10T18:10:46.337Z"
   },
   {
    "duration": 12,
    "start_time": "2022-12-10T18:10:46.342Z"
   },
   {
    "duration": 19,
    "start_time": "2022-12-10T18:10:46.355Z"
   },
   {
    "duration": 76,
    "start_time": "2022-12-10T18:10:46.376Z"
   },
   {
    "duration": 81,
    "start_time": "2022-12-10T18:10:46.453Z"
   },
   {
    "duration": 92,
    "start_time": "2022-12-10T18:10:46.535Z"
   },
   {
    "duration": 64,
    "start_time": "2022-12-10T18:10:46.629Z"
   },
   {
    "duration": 9,
    "start_time": "2022-12-10T18:10:46.694Z"
   },
   {
    "duration": 56,
    "start_time": "2022-12-10T18:10:46.705Z"
   },
   {
    "duration": 36,
    "start_time": "2022-12-10T18:10:46.762Z"
   },
   {
    "duration": 3,
    "start_time": "2022-12-10T18:10:46.800Z"
   },
   {
    "duration": 7,
    "start_time": "2022-12-10T18:10:46.827Z"
   },
   {
    "duration": 4,
    "start_time": "2022-12-10T18:10:46.835Z"
   },
   {
    "duration": 29,
    "start_time": "2022-12-10T18:10:46.840Z"
   },
   {
    "duration": 1400,
    "start_time": "2022-12-10T18:10:46.870Z"
   },
   {
    "duration": 24,
    "start_time": "2022-12-10T18:10:48.272Z"
   },
   {
    "duration": 35,
    "start_time": "2022-12-10T18:10:48.298Z"
   },
   {
    "duration": 3,
    "start_time": "2022-12-10T18:10:48.335Z"
   },
   {
    "duration": 10,
    "start_time": "2022-12-10T18:10:48.339Z"
   },
   {
    "duration": 11,
    "start_time": "2022-12-10T18:10:48.351Z"
   },
   {
    "duration": 45,
    "start_time": "2022-12-10T18:10:48.364Z"
   },
   {
    "duration": 22,
    "start_time": "2022-12-10T18:10:48.427Z"
   },
   {
    "duration": 118,
    "start_time": "2022-12-10T18:10:48.450Z"
   },
   {
    "duration": 200,
    "start_time": "2022-12-10T18:10:48.570Z"
   },
   {
    "duration": 3,
    "start_time": "2022-12-10T18:10:48.772Z"
   },
   {
    "duration": 8,
    "start_time": "2022-12-10T18:10:48.777Z"
   },
   {
    "duration": 4,
    "start_time": "2022-12-10T18:10:48.787Z"
   },
   {
    "duration": 8,
    "start_time": "2022-12-10T18:10:48.793Z"
   },
   {
    "duration": 23,
    "start_time": "2022-12-10T18:10:48.803Z"
   },
   {
    "duration": 13,
    "start_time": "2022-12-10T18:10:48.829Z"
   },
   {
    "duration": 16,
    "start_time": "2022-12-10T18:10:48.845Z"
   },
   {
    "duration": 182,
    "start_time": "2022-12-10T18:10:48.863Z"
   },
   {
    "duration": 39,
    "start_time": "2022-12-10T18:10:49.046Z"
   },
   {
    "duration": 122,
    "start_time": "2022-12-10T18:10:49.127Z"
   },
   {
    "duration": 22,
    "start_time": "2022-12-10T18:10:49.251Z"
   },
   {
    "duration": 87,
    "start_time": "2022-12-10T18:10:49.277Z"
   },
   {
    "duration": 6,
    "start_time": "2022-12-10T18:10:49.366Z"
   },
   {
    "duration": 33,
    "start_time": "2022-12-10T18:10:49.374Z"
   },
   {
    "duration": 20,
    "start_time": "2022-12-10T18:10:49.409Z"
   },
   {
    "duration": 17,
    "start_time": "2022-12-10T18:10:49.431Z"
   },
   {
    "duration": 12,
    "start_time": "2022-12-10T18:10:49.450Z"
   },
   {
    "duration": 21,
    "start_time": "2022-12-10T18:10:49.465Z"
   },
   {
    "duration": 17,
    "start_time": "2022-12-10T18:10:49.488Z"
   },
   {
    "duration": 9,
    "start_time": "2022-12-10T18:10:49.507Z"
   },
   {
    "duration": 21,
    "start_time": "2022-12-10T18:10:49.518Z"
   },
   {
    "duration": 14,
    "start_time": "2022-12-10T18:10:49.541Z"
   },
   {
    "duration": 6,
    "start_time": "2022-12-10T18:10:49.556Z"
   },
   {
    "duration": 16,
    "start_time": "2022-12-10T18:10:49.564Z"
   },
   {
    "duration": 13,
    "start_time": "2022-12-10T18:10:49.581Z"
   },
   {
    "duration": 1263,
    "start_time": "2023-03-05T18:58:51.618Z"
   },
   {
    "duration": 504,
    "start_time": "2023-03-05T18:58:52.883Z"
   },
   {
    "duration": 11,
    "start_time": "2023-03-05T18:58:53.389Z"
   },
   {
    "duration": 23,
    "start_time": "2023-03-05T18:58:53.402Z"
   },
   {
    "duration": 69,
    "start_time": "2023-03-05T18:58:53.428Z"
   },
   {
    "duration": 3,
    "start_time": "2023-03-05T18:58:53.499Z"
   },
   {
    "duration": 15,
    "start_time": "2023-03-05T18:58:53.504Z"
   },
   {
    "duration": 24,
    "start_time": "2023-03-05T18:58:53.521Z"
   },
   {
    "duration": 78,
    "start_time": "2023-03-05T18:58:53.546Z"
   },
   {
    "duration": 96,
    "start_time": "2023-03-05T18:58:53.627Z"
   },
   {
    "duration": 107,
    "start_time": "2023-03-05T18:58:53.725Z"
   },
   {
    "duration": 84,
    "start_time": "2023-03-05T18:58:53.834Z"
   },
   {
    "duration": 9,
    "start_time": "2023-03-05T18:58:53.920Z"
   },
   {
    "duration": 28,
    "start_time": "2023-03-05T18:58:53.945Z"
   },
   {
    "duration": 37,
    "start_time": "2023-03-05T18:58:53.975Z"
   },
   {
    "duration": 3,
    "start_time": "2023-03-05T18:58:54.014Z"
   },
   {
    "duration": 26,
    "start_time": "2023-03-05T18:58:54.019Z"
   },
   {
    "duration": 3,
    "start_time": "2023-03-05T18:58:54.047Z"
   },
   {
    "duration": 41,
    "start_time": "2023-03-05T18:58:54.052Z"
   },
   {
    "duration": 1466,
    "start_time": "2023-03-05T18:58:54.095Z"
   },
   {
    "duration": 28,
    "start_time": "2023-03-05T18:58:55.562Z"
   },
   {
    "duration": 31,
    "start_time": "2023-03-05T18:58:55.592Z"
   },
   {
    "duration": 21,
    "start_time": "2023-03-05T18:58:55.625Z"
   },
   {
    "duration": 8,
    "start_time": "2023-03-05T18:58:55.648Z"
   },
   {
    "duration": 8,
    "start_time": "2023-03-05T18:58:55.658Z"
   },
   {
    "duration": 58,
    "start_time": "2023-03-05T18:58:55.667Z"
   },
   {
    "duration": 40,
    "start_time": "2023-03-05T18:58:55.726Z"
   },
   {
    "duration": 121,
    "start_time": "2023-03-05T18:58:55.770Z"
   },
   {
    "duration": 203,
    "start_time": "2023-03-05T18:58:55.893Z"
   },
   {
    "duration": 4,
    "start_time": "2023-03-05T18:58:56.098Z"
   },
   {
    "duration": 6,
    "start_time": "2023-03-05T18:58:56.104Z"
   },
   {
    "duration": 12,
    "start_time": "2023-03-05T18:58:56.111Z"
   },
   {
    "duration": 5,
    "start_time": "2023-03-05T18:58:56.125Z"
   },
   {
    "duration": 19,
    "start_time": "2023-03-05T18:58:56.132Z"
   },
   {
    "duration": 8,
    "start_time": "2023-03-05T18:58:56.153Z"
   },
   {
    "duration": 9,
    "start_time": "2023-03-05T18:58:56.162Z"
   },
   {
    "duration": 132,
    "start_time": "2023-03-05T18:58:56.173Z"
   },
   {
    "duration": 67,
    "start_time": "2023-03-05T18:58:56.307Z"
   },
   {
    "duration": 129,
    "start_time": "2023-03-05T18:58:56.375Z"
   },
   {
    "duration": 41,
    "start_time": "2023-03-05T18:58:56.505Z"
   },
   {
    "duration": 97,
    "start_time": "2023-03-05T18:58:56.548Z"
   },
   {
    "duration": 8,
    "start_time": "2023-03-05T18:58:56.647Z"
   },
   {
    "duration": 36,
    "start_time": "2023-03-05T18:58:56.657Z"
   },
   {
    "duration": 6,
    "start_time": "2023-03-05T18:58:56.695Z"
   },
   {
    "duration": 10,
    "start_time": "2023-03-05T18:58:56.703Z"
   },
   {
    "duration": 7,
    "start_time": "2023-03-05T18:58:56.714Z"
   },
   {
    "duration": 8,
    "start_time": "2023-03-05T18:58:56.745Z"
   },
   {
    "duration": 9,
    "start_time": "2023-03-05T18:58:56.754Z"
   },
   {
    "duration": 7,
    "start_time": "2023-03-05T18:58:56.764Z"
   },
   {
    "duration": 17,
    "start_time": "2023-03-05T18:58:56.772Z"
   },
   {
    "duration": 13,
    "start_time": "2023-03-05T18:58:56.791Z"
   },
   {
    "duration": 3,
    "start_time": "2023-03-05T18:58:56.806Z"
   },
   {
    "duration": 43,
    "start_time": "2023-03-05T18:58:56.810Z"
   },
   {
    "duration": 11,
    "start_time": "2023-03-05T18:58:56.855Z"
   },
   {
    "duration": 1138,
    "start_time": "2023-03-21T21:53:44.466Z"
   },
   {
    "duration": 57,
    "start_time": "2023-03-21T21:53:45.606Z"
   },
   {
    "duration": 251,
    "start_time": "2023-03-21T21:53:45.664Z"
   },
   {
    "duration": 10,
    "start_time": "2023-03-21T21:53:45.916Z"
   },
   {
    "duration": 21,
    "start_time": "2023-03-21T21:53:45.928Z"
   },
   {
    "duration": 54,
    "start_time": "2023-03-21T21:53:45.950Z"
   },
   {
    "duration": 3,
    "start_time": "2023-03-21T21:53:46.021Z"
   },
   {
    "duration": 19,
    "start_time": "2023-03-21T21:53:46.026Z"
   },
   {
    "duration": 12,
    "start_time": "2023-03-21T21:53:46.048Z"
   },
   {
    "duration": 84,
    "start_time": "2023-03-21T21:53:46.062Z"
   },
   {
    "duration": 95,
    "start_time": "2023-03-21T21:53:46.148Z"
   },
   {
    "duration": 86,
    "start_time": "2023-03-21T21:53:46.246Z"
   },
   {
    "duration": 56,
    "start_time": "2023-03-21T21:53:46.334Z"
   },
   {
    "duration": 7,
    "start_time": "2023-03-21T21:53:46.393Z"
   },
   {
    "duration": 38,
    "start_time": "2023-03-21T21:53:46.402Z"
   },
   {
    "duration": 32,
    "start_time": "2023-03-21T21:53:46.442Z"
   },
   {
    "duration": 3,
    "start_time": "2023-03-21T21:53:46.475Z"
   },
   {
    "duration": 8,
    "start_time": "2023-03-21T21:53:46.479Z"
   },
   {
    "duration": 3,
    "start_time": "2023-03-21T21:53:46.489Z"
   },
   {
    "duration": 26,
    "start_time": "2023-03-21T21:53:46.523Z"
   },
   {
    "duration": 1298,
    "start_time": "2023-03-21T21:53:46.550Z"
   },
   {
    "duration": 24,
    "start_time": "2023-03-21T21:53:47.849Z"
   },
   {
    "duration": 52,
    "start_time": "2023-03-21T21:53:47.875Z"
   },
   {
    "duration": 3,
    "start_time": "2023-03-21T21:53:47.929Z"
   },
   {
    "duration": 17,
    "start_time": "2023-03-21T21:53:47.934Z"
   },
   {
    "duration": 6,
    "start_time": "2023-03-21T21:53:47.952Z"
   },
   {
    "duration": 63,
    "start_time": "2023-03-21T21:53:47.960Z"
   },
   {
    "duration": 23,
    "start_time": "2023-03-21T21:53:48.024Z"
   },
   {
    "duration": 92,
    "start_time": "2023-03-21T21:53:48.049Z"
   },
   {
    "duration": 157,
    "start_time": "2023-03-21T21:53:48.143Z"
   },
   {
    "duration": 3,
    "start_time": "2023-03-21T21:53:48.302Z"
   },
   {
    "duration": 18,
    "start_time": "2023-03-21T21:53:48.306Z"
   },
   {
    "duration": 8,
    "start_time": "2023-03-21T21:53:48.325Z"
   },
   {
    "duration": 5,
    "start_time": "2023-03-21T21:53:48.334Z"
   },
   {
    "duration": 7,
    "start_time": "2023-03-21T21:53:48.340Z"
   },
   {
    "duration": 6,
    "start_time": "2023-03-21T21:53:48.348Z"
   },
   {
    "duration": 11,
    "start_time": "2023-03-21T21:53:48.355Z"
   },
   {
    "duration": 117,
    "start_time": "2023-03-21T21:53:48.368Z"
   },
   {
    "duration": 0,
    "start_time": "2023-03-21T21:53:48.486Z"
   },
   {
    "duration": 0,
    "start_time": "2023-03-21T21:53:48.487Z"
   },
   {
    "duration": 0,
    "start_time": "2023-03-21T21:53:48.488Z"
   },
   {
    "duration": 0,
    "start_time": "2023-03-21T21:53:48.489Z"
   },
   {
    "duration": 0,
    "start_time": "2023-03-21T21:53:48.490Z"
   },
   {
    "duration": 0,
    "start_time": "2023-03-21T21:53:48.491Z"
   },
   {
    "duration": 0,
    "start_time": "2023-03-21T21:53:48.492Z"
   },
   {
    "duration": 0,
    "start_time": "2023-03-21T21:53:48.492Z"
   },
   {
    "duration": 0,
    "start_time": "2023-03-21T21:53:48.493Z"
   },
   {
    "duration": 0,
    "start_time": "2023-03-21T21:53:48.494Z"
   },
   {
    "duration": 0,
    "start_time": "2023-03-21T21:53:48.495Z"
   },
   {
    "duration": 0,
    "start_time": "2023-03-21T21:53:48.496Z"
   },
   {
    "duration": 0,
    "start_time": "2023-03-21T21:53:48.496Z"
   },
   {
    "duration": 0,
    "start_time": "2023-03-21T21:53:48.497Z"
   },
   {
    "duration": 0,
    "start_time": "2023-03-21T21:53:48.497Z"
   },
   {
    "duration": 0,
    "start_time": "2023-03-21T21:53:48.498Z"
   },
   {
    "duration": 0,
    "start_time": "2023-03-21T21:53:48.499Z"
   },
   {
    "duration": 1118,
    "start_time": "2023-03-21T21:55:23.999Z"
   },
   {
    "duration": 6794,
    "start_time": "2023-03-21T21:55:25.118Z"
   },
   {
    "duration": 65,
    "start_time": "2023-03-21T21:55:31.914Z"
   },
   {
    "duration": 141,
    "start_time": "2023-03-21T21:55:31.981Z"
   },
   {
    "duration": 11,
    "start_time": "2023-03-21T21:55:32.124Z"
   },
   {
    "duration": 52,
    "start_time": "2023-03-21T21:55:32.136Z"
   },
   {
    "duration": 53,
    "start_time": "2023-03-21T21:55:32.189Z"
   },
   {
    "duration": 2,
    "start_time": "2023-03-21T21:55:32.244Z"
   },
   {
    "duration": 10,
    "start_time": "2023-03-21T21:55:32.247Z"
   },
   {
    "duration": 10,
    "start_time": "2023-03-21T21:55:32.258Z"
   },
   {
    "duration": 66,
    "start_time": "2023-03-21T21:55:32.269Z"
   },
   {
    "duration": 70,
    "start_time": "2023-03-21T21:55:32.337Z"
   },
   {
    "duration": 88,
    "start_time": "2023-03-21T21:55:32.408Z"
   },
   {
    "duration": 63,
    "start_time": "2023-03-21T21:55:32.499Z"
   },
   {
    "duration": 8,
    "start_time": "2023-03-21T21:55:32.563Z"
   },
   {
    "duration": 33,
    "start_time": "2023-03-21T21:55:32.572Z"
   },
   {
    "duration": 37,
    "start_time": "2023-03-21T21:55:32.607Z"
   },
   {
    "duration": 3,
    "start_time": "2023-03-21T21:55:32.645Z"
   },
   {
    "duration": 8,
    "start_time": "2023-03-21T21:55:32.649Z"
   },
   {
    "duration": 3,
    "start_time": "2023-03-21T21:55:32.658Z"
   },
   {
    "duration": 27,
    "start_time": "2023-03-21T21:55:32.662Z"
   },
   {
    "duration": 1296,
    "start_time": "2023-03-21T21:55:32.690Z"
   },
   {
    "duration": 22,
    "start_time": "2023-03-21T21:55:33.987Z"
   },
   {
    "duration": 40,
    "start_time": "2023-03-21T21:55:34.011Z"
   },
   {
    "duration": 3,
    "start_time": "2023-03-21T21:55:34.052Z"
   },
   {
    "duration": 15,
    "start_time": "2023-03-21T21:55:34.056Z"
   },
   {
    "duration": 5,
    "start_time": "2023-03-21T21:55:34.073Z"
   },
   {
    "duration": 50,
    "start_time": "2023-03-21T21:55:34.079Z"
   },
   {
    "duration": 21,
    "start_time": "2023-03-21T21:55:34.130Z"
   },
   {
    "duration": 94,
    "start_time": "2023-03-21T21:55:34.153Z"
   },
   {
    "duration": 167,
    "start_time": "2023-03-21T21:55:34.248Z"
   },
   {
    "duration": 6,
    "start_time": "2023-03-21T21:55:34.416Z"
   },
   {
    "duration": 5,
    "start_time": "2023-03-21T21:55:34.423Z"
   },
   {
    "duration": 9,
    "start_time": "2023-03-21T21:55:34.429Z"
   },
   {
    "duration": 4,
    "start_time": "2023-03-21T21:55:34.440Z"
   },
   {
    "duration": 6,
    "start_time": "2023-03-21T21:55:34.445Z"
   },
   {
    "duration": 4,
    "start_time": "2023-03-21T21:55:34.452Z"
   },
   {
    "duration": 16,
    "start_time": "2023-03-21T21:55:34.457Z"
   },
   {
    "duration": 728,
    "start_time": "2023-03-21T21:55:34.474Z"
   },
   {
    "duration": 47,
    "start_time": "2023-03-21T21:55:35.204Z"
   },
   {
    "duration": 68,
    "start_time": "2023-03-21T21:55:35.255Z"
   },
   {
    "duration": 115,
    "start_time": "2023-03-21T21:55:35.324Z"
   },
   {
    "duration": 69,
    "start_time": "2023-03-21T21:55:35.440Z"
   },
   {
    "duration": 5,
    "start_time": "2023-03-21T21:55:35.523Z"
   },
   {
    "duration": 31,
    "start_time": "2023-03-21T21:55:35.529Z"
   },
   {
    "duration": 5,
    "start_time": "2023-03-21T21:55:35.562Z"
   },
   {
    "duration": 10,
    "start_time": "2023-03-21T21:55:35.569Z"
   },
   {
    "duration": 14,
    "start_time": "2023-03-21T21:55:35.581Z"
   },
   {
    "duration": 5,
    "start_time": "2023-03-21T21:55:35.596Z"
   },
   {
    "duration": 5,
    "start_time": "2023-03-21T21:55:35.602Z"
   },
   {
    "duration": 3,
    "start_time": "2023-03-21T21:55:35.622Z"
   },
   {
    "duration": 13,
    "start_time": "2023-03-21T21:55:35.626Z"
   },
   {
    "duration": 9,
    "start_time": "2023-03-21T21:55:35.640Z"
   },
   {
    "duration": 3,
    "start_time": "2023-03-21T21:55:35.650Z"
   },
   {
    "duration": 13,
    "start_time": "2023-03-21T21:55:35.654Z"
   },
   {
    "duration": 9,
    "start_time": "2023-03-21T21:55:35.668Z"
   }
  ],
  "kernelspec": {
   "display_name": "Python 3 (ipykernel)",
   "language": "python",
   "name": "python3"
  },
  "language_info": {
   "codemirror_mode": {
    "name": "ipython",
    "version": 3
   },
   "file_extension": ".py",
   "mimetype": "text/x-python",
   "name": "python",
   "nbconvert_exporter": "python",
   "pygments_lexer": "ipython3",
   "version": "3.9.5"
  },
  "toc": {
   "base_numbering": 1,
   "nav_menu": {},
   "number_sections": true,
   "sideBar": true,
   "skip_h1_title": true,
   "title_cell": "Table of Contents",
   "title_sidebar": "Contents",
   "toc_cell": false,
   "toc_position": {
    "height": "calc(100% - 180px)",
    "left": "10px",
    "top": "150px",
    "width": "302.222px"
   },
   "toc_section_display": true,
   "toc_window_display": true
  }
 },
 "nbformat": 4,
 "nbformat_minor": 2
}
