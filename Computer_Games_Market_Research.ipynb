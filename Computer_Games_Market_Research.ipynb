{
 "cells": [
  {
   "cell_type": "markdown",
   "metadata": {},
   "source": [
    "# Исследование рынка компьютерных игр\n",
    "Из открытых источников доступны исторические данные о продажах игр, оценки пользователей и экспертов, жанры и платформы (например, Xbox или PlayStation). Вам нужно выявить определяющие успешность игры закономерности. Это позволит сделать ставку на потенциально популярный продукт и спланировать рекламные кампании.\n",
    "\n"
   ]
  },
  {
   "cell_type": "markdown",
   "metadata": {},
   "source": [
    "**Цель исследования**:\n",
    "- Выявить определяющие успешность игры закономерности. \n",
    "\n",
    " \n",
    "**Таким образом, исследование пройдёт в несколько этапов:**\n",
    " 1. Обзор данных.\n",
    " 2. Предобработка данных.\n",
    " 3. Исследовательский анализ данных\n",
    " 4. Составление портрета пользователя каждого региона\n",
    " 5. Проверка гипотез\n",
    " 6. Формлировка общего вывода по выявленным закономерностям"
   ]
  },
  {
   "cell_type": "code",
   "execution_count": 1,
   "metadata": {},
   "outputs": [],
   "source": [
    "import pandas as pd\n",
    "import matplotlib.pyplot as plt\n",
    "import numpy as np\n",
    "import seaborn as sns\n",
    "from scipy import stats as st"
   ]
  },
  {
   "cell_type": "markdown",
   "metadata": {},
   "source": [
    "### Откройте файл с данными и изучите общую информацию. "
   ]
  },
  {
   "cell_type": "code",
   "execution_count": 2,
   "metadata": {},
   "outputs": [],
   "source": [
    "try:\n",
    "    games = pd.read_csv('/datasets/games.csv')\n",
    "except:\n",
    "    games = pd.read_csv('https://code.s3.yandex.net/datasets/games.csv')"
   ]
  },
  {
   "cell_type": "code",
   "execution_count": 3,
   "metadata": {},
   "outputs": [
    {
     "data": {
      "text/html": [
       "<div>\n",
       "<style scoped>\n",
       "    .dataframe tbody tr th:only-of-type {\n",
       "        vertical-align: middle;\n",
       "    }\n",
       "\n",
       "    .dataframe tbody tr th {\n",
       "        vertical-align: top;\n",
       "    }\n",
       "\n",
       "    .dataframe thead th {\n",
       "        text-align: right;\n",
       "    }\n",
       "</style>\n",
       "<table border=\"1\" class=\"dataframe\">\n",
       "  <thead>\n",
       "    <tr style=\"text-align: right;\">\n",
       "      <th></th>\n",
       "      <th>Name</th>\n",
       "      <th>Platform</th>\n",
       "      <th>Year_of_Release</th>\n",
       "      <th>Genre</th>\n",
       "      <th>NA_sales</th>\n",
       "      <th>EU_sales</th>\n",
       "      <th>JP_sales</th>\n",
       "      <th>Other_sales</th>\n",
       "      <th>Critic_Score</th>\n",
       "      <th>User_Score</th>\n",
       "      <th>Rating</th>\n",
       "    </tr>\n",
       "  </thead>\n",
       "  <tbody>\n",
       "    <tr>\n",
       "      <th>0</th>\n",
       "      <td>Wii Sports</td>\n",
       "      <td>Wii</td>\n",
       "      <td>2006.0</td>\n",
       "      <td>Sports</td>\n",
       "      <td>41.36</td>\n",
       "      <td>28.96</td>\n",
       "      <td>3.77</td>\n",
       "      <td>8.45</td>\n",
       "      <td>76.0</td>\n",
       "      <td>8</td>\n",
       "      <td>E</td>\n",
       "    </tr>\n",
       "    <tr>\n",
       "      <th>1</th>\n",
       "      <td>Super Mario Bros.</td>\n",
       "      <td>NES</td>\n",
       "      <td>1985.0</td>\n",
       "      <td>Platform</td>\n",
       "      <td>29.08</td>\n",
       "      <td>3.58</td>\n",
       "      <td>6.81</td>\n",
       "      <td>0.77</td>\n",
       "      <td>NaN</td>\n",
       "      <td>NaN</td>\n",
       "      <td>NaN</td>\n",
       "    </tr>\n",
       "    <tr>\n",
       "      <th>2</th>\n",
       "      <td>Mario Kart Wii</td>\n",
       "      <td>Wii</td>\n",
       "      <td>2008.0</td>\n",
       "      <td>Racing</td>\n",
       "      <td>15.68</td>\n",
       "      <td>12.76</td>\n",
       "      <td>3.79</td>\n",
       "      <td>3.29</td>\n",
       "      <td>82.0</td>\n",
       "      <td>8.3</td>\n",
       "      <td>E</td>\n",
       "    </tr>\n",
       "    <tr>\n",
       "      <th>3</th>\n",
       "      <td>Wii Sports Resort</td>\n",
       "      <td>Wii</td>\n",
       "      <td>2009.0</td>\n",
       "      <td>Sports</td>\n",
       "      <td>15.61</td>\n",
       "      <td>10.93</td>\n",
       "      <td>3.28</td>\n",
       "      <td>2.95</td>\n",
       "      <td>80.0</td>\n",
       "      <td>8</td>\n",
       "      <td>E</td>\n",
       "    </tr>\n",
       "    <tr>\n",
       "      <th>4</th>\n",
       "      <td>Pokemon Red/Pokemon Blue</td>\n",
       "      <td>GB</td>\n",
       "      <td>1996.0</td>\n",
       "      <td>Role-Playing</td>\n",
       "      <td>11.27</td>\n",
       "      <td>8.89</td>\n",
       "      <td>10.22</td>\n",
       "      <td>1.00</td>\n",
       "      <td>NaN</td>\n",
       "      <td>NaN</td>\n",
       "      <td>NaN</td>\n",
       "    </tr>\n",
       "    <tr>\n",
       "      <th>5</th>\n",
       "      <td>Tetris</td>\n",
       "      <td>GB</td>\n",
       "      <td>1989.0</td>\n",
       "      <td>Puzzle</td>\n",
       "      <td>23.20</td>\n",
       "      <td>2.26</td>\n",
       "      <td>4.22</td>\n",
       "      <td>0.58</td>\n",
       "      <td>NaN</td>\n",
       "      <td>NaN</td>\n",
       "      <td>NaN</td>\n",
       "    </tr>\n",
       "    <tr>\n",
       "      <th>6</th>\n",
       "      <td>New Super Mario Bros.</td>\n",
       "      <td>DS</td>\n",
       "      <td>2006.0</td>\n",
       "      <td>Platform</td>\n",
       "      <td>11.28</td>\n",
       "      <td>9.14</td>\n",
       "      <td>6.50</td>\n",
       "      <td>2.88</td>\n",
       "      <td>89.0</td>\n",
       "      <td>8.5</td>\n",
       "      <td>E</td>\n",
       "    </tr>\n",
       "    <tr>\n",
       "      <th>7</th>\n",
       "      <td>Wii Play</td>\n",
       "      <td>Wii</td>\n",
       "      <td>2006.0</td>\n",
       "      <td>Misc</td>\n",
       "      <td>13.96</td>\n",
       "      <td>9.18</td>\n",
       "      <td>2.93</td>\n",
       "      <td>2.84</td>\n",
       "      <td>58.0</td>\n",
       "      <td>6.6</td>\n",
       "      <td>E</td>\n",
       "    </tr>\n",
       "    <tr>\n",
       "      <th>8</th>\n",
       "      <td>New Super Mario Bros. Wii</td>\n",
       "      <td>Wii</td>\n",
       "      <td>2009.0</td>\n",
       "      <td>Platform</td>\n",
       "      <td>14.44</td>\n",
       "      <td>6.94</td>\n",
       "      <td>4.70</td>\n",
       "      <td>2.24</td>\n",
       "      <td>87.0</td>\n",
       "      <td>8.4</td>\n",
       "      <td>E</td>\n",
       "    </tr>\n",
       "    <tr>\n",
       "      <th>9</th>\n",
       "      <td>Duck Hunt</td>\n",
       "      <td>NES</td>\n",
       "      <td>1984.0</td>\n",
       "      <td>Shooter</td>\n",
       "      <td>26.93</td>\n",
       "      <td>0.63</td>\n",
       "      <td>0.28</td>\n",
       "      <td>0.47</td>\n",
       "      <td>NaN</td>\n",
       "      <td>NaN</td>\n",
       "      <td>NaN</td>\n",
       "    </tr>\n",
       "  </tbody>\n",
       "</table>\n",
       "</div>"
      ],
      "text/plain": [
       "                        Name Platform  Year_of_Release         Genre  \\\n",
       "0                 Wii Sports      Wii           2006.0        Sports   \n",
       "1          Super Mario Bros.      NES           1985.0      Platform   \n",
       "2             Mario Kart Wii      Wii           2008.0        Racing   \n",
       "3          Wii Sports Resort      Wii           2009.0        Sports   \n",
       "4   Pokemon Red/Pokemon Blue       GB           1996.0  Role-Playing   \n",
       "5                     Tetris       GB           1989.0        Puzzle   \n",
       "6      New Super Mario Bros.       DS           2006.0      Platform   \n",
       "7                   Wii Play      Wii           2006.0          Misc   \n",
       "8  New Super Mario Bros. Wii      Wii           2009.0      Platform   \n",
       "9                  Duck Hunt      NES           1984.0       Shooter   \n",
       "\n",
       "   NA_sales  EU_sales  JP_sales  Other_sales  Critic_Score User_Score Rating  \n",
       "0     41.36     28.96      3.77         8.45          76.0          8      E  \n",
       "1     29.08      3.58      6.81         0.77           NaN        NaN    NaN  \n",
       "2     15.68     12.76      3.79         3.29          82.0        8.3      E  \n",
       "3     15.61     10.93      3.28         2.95          80.0          8      E  \n",
       "4     11.27      8.89     10.22         1.00           NaN        NaN    NaN  \n",
       "5     23.20      2.26      4.22         0.58           NaN        NaN    NaN  \n",
       "6     11.28      9.14      6.50         2.88          89.0        8.5      E  \n",
       "7     13.96      9.18      2.93         2.84          58.0        6.6      E  \n",
       "8     14.44      6.94      4.70         2.24          87.0        8.4      E  \n",
       "9     26.93      0.63      0.28         0.47           NaN        NaN    NaN  "
      ]
     },
     "execution_count": 3,
     "metadata": {},
     "output_type": "execute_result"
    }
   ],
   "source": [
    "games.head(10)"
   ]
  },
  {
   "cell_type": "code",
   "execution_count": 4,
   "metadata": {},
   "outputs": [
    {
     "name": "stdout",
     "output_type": "stream",
     "text": [
      "<class 'pandas.core.frame.DataFrame'>\n",
      "RangeIndex: 16715 entries, 0 to 16714\n",
      "Data columns (total 11 columns):\n",
      " #   Column           Non-Null Count  Dtype  \n",
      "---  ------           --------------  -----  \n",
      " 0   Name             16713 non-null  object \n",
      " 1   Platform         16715 non-null  object \n",
      " 2   Year_of_Release  16446 non-null  float64\n",
      " 3   Genre            16713 non-null  object \n",
      " 4   NA_sales         16715 non-null  float64\n",
      " 5   EU_sales         16715 non-null  float64\n",
      " 6   JP_sales         16715 non-null  float64\n",
      " 7   Other_sales      16715 non-null  float64\n",
      " 8   Critic_Score     8137 non-null   float64\n",
      " 9   User_Score       10014 non-null  object \n",
      " 10  Rating           9949 non-null   object \n",
      "dtypes: float64(6), object(5)\n",
      "memory usage: 1.4+ MB\n"
     ]
    }
   ],
   "source": [
    "games.info()"
   ]
  },
  {
   "cell_type": "code",
   "execution_count": 5,
   "metadata": {},
   "outputs": [
    {
     "data": {
      "image/png": "[encoded data removed]",
      "text/plain": [
       "<Figure size 1080x1440 with 6 Axes>"
      ]
     },
     "metadata": {
      "needs_background": "light"
     },
     "output_type": "display_data"
    }
   ],
   "source": [
    "import matplotlib.pyplot as plt\n",
    "games.hist(figsize=(15, 20))\n",
    "plt.show();\n"
   ]
  },
  {
   "cell_type": "markdown",
   "metadata": {},
   "source": [
    "По графикам можно понять какие данные нам поступили. Годы выпуска и оценки критиков нормально распределены, а количество продаж в разных регионах совпадает. Это хорошо"
   ]
  },
  {
   "cell_type": "markdown",
   "metadata": {},
   "source": [
    "### Подготовьте данные"
   ]
  },
  {
   "cell_type": "markdown",
   "metadata": {},
   "source": [
    "#### Обработка названий столбцов и значений"
   ]
  },
  {
   "cell_type": "markdown",
   "metadata": {},
   "source": [
    "Приведем названия столбцов и значения строковых столбцов к нижнему регистру для удобства обращения с ними"
   ]
  },
  {
   "cell_type": "code",
   "execution_count": 6,
   "metadata": {},
   "outputs": [],
   "source": [
    "games.columns = games.columns.str.lower()"
   ]
  },
  {
   "cell_type": "code",
   "execution_count": 7,
   "metadata": {},
   "outputs": [
    {
     "data": {
      "text/plain": [
       "Index(['name', 'platform', 'year_of_release', 'genre', 'na_sales', 'eu_sales',\n",
       "       'jp_sales', 'other_sales', 'critic_score', 'user_score', 'rating'],\n",
       "      dtype='object')"
      ]
     },
     "execution_count": 7,
     "metadata": {},
     "output_type": "execute_result"
    }
   ],
   "source": [
    "games.columns"
   ]
  },
  {
   "cell_type": "code",
   "execution_count": 8,
   "metadata": {},
   "outputs": [],
   "source": [
    "games['name'] = games['name'].str.lower()\n",
    "games['platform'] = games['platform'].str.lower()\n",
    "games['genre'] = games['genre'].str.lower()"
   ]
  },
  {
   "cell_type": "markdown",
   "metadata": {},
   "source": [
    "#### Обработка пропусков"
   ]
  },
  {
   "cell_type": "code",
   "execution_count": 9,
   "metadata": {},
   "outputs": [
    {
     "data": {
      "text/plain": [
       "name                  2\n",
       "platform              0\n",
       "year_of_release     269\n",
       "genre                 2\n",
       "na_sales              0\n",
       "eu_sales              0\n",
       "jp_sales              0\n",
       "other_sales           0\n",
       "critic_score       8578\n",
       "user_score         6701\n",
       "rating             6766\n",
       "dtype: int64"
      ]
     },
     "execution_count": 9,
     "metadata": {},
     "output_type": "execute_result"
    }
   ],
   "source": [
    "games.isna().sum()"
   ]
  },
  {
   "cell_type": "markdown",
   "metadata": {},
   "source": [
    "Проверим колличество пропусков в %"
   ]
  },
  {
   "cell_type": "code",
   "execution_count": 10,
   "metadata": {},
   "outputs": [
    {
     "data": {
      "text/html": [
       "<style  type=\"text/css\" >\n",
       "#T_4aa16_row0_col0,#T_4aa16_row1_col0,#T_4aa16_row3_col0,#T_4aa16_row4_col0,#T_4aa16_row5_col0,#T_4aa16_row6_col0,#T_4aa16_row7_col0{\n",
       "            background-color:  #3b4cc0;\n",
       "            color:  #f1f1f1;\n",
       "        }#T_4aa16_row2_col0{\n",
       "            background-color:  #465ecf;\n",
       "            color:  #f1f1f1;\n",
       "        }#T_4aa16_row8_col0{\n",
       "            background-color:  #b40426;\n",
       "            color:  #f1f1f1;\n",
       "        }#T_4aa16_row9_col0,#T_4aa16_row10_col0{\n",
       "            background-color:  #f08b6e;\n",
       "            color:  #000000;\n",
       "        }</style><table id=\"T_4aa16_\" ><thead>    <tr>        <th class=\"blank level0\" ></th>        <th class=\"col_heading level0 col0\" >0</th>    </tr></thead><tbody>\n",
       "                <tr>\n",
       "                        <th id=\"T_4aa16_level0_row0\" class=\"row_heading level0 row0\" >name</th>\n",
       "                        <td id=\"T_4aa16_row0_col0\" class=\"data row0 col0\" >0</td>\n",
       "            </tr>\n",
       "            <tr>\n",
       "                        <th id=\"T_4aa16_level0_row1\" class=\"row_heading level0 row1\" >platform</th>\n",
       "                        <td id=\"T_4aa16_row1_col0\" class=\"data row1 col0\" >0</td>\n",
       "            </tr>\n",
       "            <tr>\n",
       "                        <th id=\"T_4aa16_level0_row2\" class=\"row_heading level0 row2\" >year_of_release</th>\n",
       "                        <td id=\"T_4aa16_row2_col0\" class=\"data row2 col0\" >2</td>\n",
       "            </tr>\n",
       "            <tr>\n",
       "                        <th id=\"T_4aa16_level0_row3\" class=\"row_heading level0 row3\" >genre</th>\n",
       "                        <td id=\"T_4aa16_row3_col0\" class=\"data row3 col0\" >0</td>\n",
       "            </tr>\n",
       "            <tr>\n",
       "                        <th id=\"T_4aa16_level0_row4\" class=\"row_heading level0 row4\" >na_sales</th>\n",
       "                        <td id=\"T_4aa16_row4_col0\" class=\"data row4 col0\" >0</td>\n",
       "            </tr>\n",
       "            <tr>\n",
       "                        <th id=\"T_4aa16_level0_row5\" class=\"row_heading level0 row5\" >eu_sales</th>\n",
       "                        <td id=\"T_4aa16_row5_col0\" class=\"data row5 col0\" >0</td>\n",
       "            </tr>\n",
       "            <tr>\n",
       "                        <th id=\"T_4aa16_level0_row6\" class=\"row_heading level0 row6\" >jp_sales</th>\n",
       "                        <td id=\"T_4aa16_row6_col0\" class=\"data row6 col0\" >0</td>\n",
       "            </tr>\n",
       "            <tr>\n",
       "                        <th id=\"T_4aa16_level0_row7\" class=\"row_heading level0 row7\" >other_sales</th>\n",
       "                        <td id=\"T_4aa16_row7_col0\" class=\"data row7 col0\" >0</td>\n",
       "            </tr>\n",
       "            <tr>\n",
       "                        <th id=\"T_4aa16_level0_row8\" class=\"row_heading level0 row8\" >critic_score</th>\n",
       "                        <td id=\"T_4aa16_row8_col0\" class=\"data row8 col0\" >51</td>\n",
       "            </tr>\n",
       "            <tr>\n",
       "                        <th id=\"T_4aa16_level0_row9\" class=\"row_heading level0 row9\" >user_score</th>\n",
       "                        <td id=\"T_4aa16_row9_col0\" class=\"data row9 col0\" >40</td>\n",
       "            </tr>\n",
       "            <tr>\n",
       "                        <th id=\"T_4aa16_level0_row10\" class=\"row_heading level0 row10\" >rating</th>\n",
       "                        <td id=\"T_4aa16_row10_col0\" class=\"data row10 col0\" >40</td>\n",
       "            </tr>\n",
       "    </tbody></table>"
      ],
      "text/plain": [
       "<pandas.io.formats.style.Styler at 0x7fe2f315d7c0>"
      ]
     },
     "execution_count": 10,
     "metadata": {},
     "output_type": "execute_result"
    }
   ],
   "source": [
    "pd.DataFrame(round(games.isna().mean()*100).astype(int)).style.background_gradient('coolwarm')"
   ]
  },
  {
   "cell_type": "markdown",
   "metadata": {},
   "source": [
    "**В многих столбцах есть пропущенные значения.** Рассмотрим каждый из них:\n",
    "- name - строк с пропущенным именем всего 2, можем удалить эти строчки\n",
    "- year_of_release - пропущенных значений всего 2% от общего числа, это скорее всего технический сбой, поэтому также можем удалить\n",
    "- critic_score - заменить пропуски не получится\n",
    "- user_score - заменить пропуски не получится\n",
    "- rating - заменить пропуски не получится\n",
    "\n",
    "\n",
    "Пропуски в столбцах с оценками и рейтингами могут быть обусловлены тем, что некоторые игры еще не оценили критики и пользователи (игра не вышла) или оценок недостаточно."
   ]
  },
  {
   "cell_type": "code",
   "execution_count": 11,
   "metadata": {},
   "outputs": [],
   "source": [
    "games = games.query('name.notna()')"
   ]
  },
  {
   "cell_type": "code",
   "execution_count": 12,
   "metadata": {},
   "outputs": [],
   "source": [
    "games = games.query('year_of_release.notna()')"
   ]
  },
  {
   "cell_type": "markdown",
   "metadata": {},
   "source": [
    "Обработаем значения 'tbd' в столбце с оценкой пользователей. Такое значение говорит о том, что игра еще не оценена. Заменим на NaN."
   ]
  },
  {
   "cell_type": "code",
   "execution_count": 13,
   "metadata": {},
   "outputs": [],
   "source": [
    "games['user_score'] = games['user_score'].where(games['user_score']!= 'tbd', np.nan).astype(float)"
   ]
  },
  {
   "cell_type": "code",
   "execution_count": 14,
   "metadata": {},
   "outputs": [],
   "source": [
    "games['rating'] = games['rating'].fillna('tbd')"
   ]
  },
  {
   "cell_type": "markdown",
   "metadata": {},
   "source": [
    "#### Изменение типов данных"
   ]
  },
  {
   "cell_type": "markdown",
   "metadata": {},
   "source": [
    "Столбец с годом выпуска и оценками критиков имеют неверные типы. Значения в них должны быть целочисленными.  "
   ]
  },
  {
   "cell_type": "code",
   "execution_count": 15,
   "metadata": {},
   "outputs": [],
   "source": [
    "games['year_of_release'] = games['year_of_release'].astype('Int64')\n",
    "games['critic_score'] = games['critic_score'].astype('Int64')"
   ]
  },
  {
   "cell_type": "markdown",
   "metadata": {},
   "source": [
    "#### Посчитаем суммарные продажи"
   ]
  },
  {
   "cell_type": "code",
   "execution_count": 16,
   "metadata": {},
   "outputs": [],
   "source": [
    "games['all_sales'] = games['na_sales']+games['eu_sales']+games['jp_sales']+games['other_sales']"
   ]
  },
  {
   "cell_type": "markdown",
   "metadata": {},
   "source": [
    "#### Обработка неявных дубликатов"
   ]
  },
  {
   "cell_type": "code",
   "execution_count": 17,
   "metadata": {},
   "outputs": [
    {
     "data": {
      "text/plain": [
       "array(['sports', 'platform', 'racing', 'role-playing', 'puzzle', 'misc',\n",
       "       'shooter', 'simulation', 'action', 'fighting', 'adventure',\n",
       "       'strategy'], dtype=object)"
      ]
     },
     "execution_count": 17,
     "metadata": {},
     "output_type": "execute_result"
    }
   ],
   "source": [
    "games['genre'].unique()"
   ]
  },
  {
   "cell_type": "markdown",
   "metadata": {},
   "source": [
    "Неявных дубликатов нет"
   ]
  },
  {
   "cell_type": "markdown",
   "metadata": {},
   "source": [
    "#### Обработка явных дубликатов"
   ]
  },
  {
   "cell_type": "code",
   "execution_count": 18,
   "metadata": {},
   "outputs": [
    {
     "data": {
      "text/plain": [
       "0"
      ]
     },
     "execution_count": 18,
     "metadata": {},
     "output_type": "execute_result"
    }
   ],
   "source": [
    "games.duplicated().sum()"
   ]
  },
  {
   "cell_type": "markdown",
   "metadata": {},
   "source": [
    "Явных дубликатов нет. Это хорошо."
   ]
  },
  {
   "cell_type": "markdown",
   "metadata": {},
   "source": [
    "#### Обработка аномальных значений"
   ]
  },
  {
   "cell_type": "code",
   "execution_count": 19,
   "metadata": {},
   "outputs": [
    {
     "data": {
      "text/plain": [
       "<AxesSubplot:>"
      ]
     },
     "execution_count": 19,
     "metadata": {},
     "output_type": "execute_result"
    },
    {
     "data": {
      "image/png": "[encoded data removed]",
      "text/plain": [
       "<Figure size 432x288 with 1 Axes>"
      ]
     },
     "metadata": {
      "needs_background": "light"
     },
     "output_type": "display_data"
    }
   ],
   "source": [
    "games[['critic_score']].boxplot()"
   ]
  },
  {
   "cell_type": "code",
   "execution_count": 20,
   "metadata": {},
   "outputs": [
    {
     "data": {
      "text/plain": [
       "<AxesSubplot:>"
      ]
     },
     "execution_count": 20,
     "metadata": {},
     "output_type": "execute_result"
    },
    {
     "data": {
      "image/png": "[encoded data removed]",
      "text/plain": [
       "<Figure size 432x288 with 1 Axes>"
      ]
     },
     "metadata": {
      "needs_background": "light"
     },
     "output_type": "display_data"
    }
   ],
   "source": [
    "games[['user_score']].boxplot()"
   ]
  },
  {
   "cell_type": "markdown",
   "metadata": {},
   "source": [
    "Оценка критиков не может превышать 100, в данных этого столбца нет значений, противоречащих этому условию. \n",
    "Оценка пользователей не может превышать 10, в данных этого столбца нет значений, противоречащих этому условию. "
   ]
  },
  {
   "cell_type": "markdown",
   "metadata": {},
   "source": [
    "### Проведите исследовательский анализ данных"
   ]
  },
  {
   "cell_type": "markdown",
   "metadata": {},
   "source": [
    "Посмотрим, сколько игр выпускалось в разные годы"
   ]
  },
  {
   "cell_type": "code",
   "execution_count": 21,
   "metadata": {},
   "outputs": [
    {
     "data": {
      "image/png": "[encoded data removed]",
      "text/plain": [
       "<Figure size 1080x576 with 1 Axes>"
      ]
     },
     "metadata": {
      "needs_background": "light"
     },
     "output_type": "display_data"
    }
   ],
   "source": [
    "games.groupby('year_of_release').count()['name'].plot(kind = 'bar', figsize=(15,8))\n",
    "plt.title('Гистограмма распределения числа игр по годам')\n",
    "plt.xlabel('Год')\n",
    "plt.ylabel('Число игр')\n",
    "plt.show()"
   ]
  },
  {
   "cell_type": "markdown",
   "metadata": {},
   "source": [
    "По графику видно, что до 1991 года игр выпускалось очень мало, эти данные не так важны. А самый пик производства игр был в 2008-2009."
   ]
  },
  {
   "cell_type": "markdown",
   "metadata": {},
   "source": [
    "Посмотрим как менялись продажи по платформам"
   ]
  },
  {
   "cell_type": "markdown",
   "metadata": {},
   "source": [
    "Общее число проданных игр по платформам"
   ]
  },
  {
   "cell_type": "code",
   "execution_count": 22,
   "metadata": {},
   "outputs": [
    {
     "data": {
      "text/html": [
       "<div>\n",
       "<style scoped>\n",
       "    .dataframe tbody tr th:only-of-type {\n",
       "        vertical-align: middle;\n",
       "    }\n",
       "\n",
       "    .dataframe tbody tr th {\n",
       "        vertical-align: top;\n",
       "    }\n",
       "\n",
       "    .dataframe thead th {\n",
       "        text-align: right;\n",
       "    }\n",
       "</style>\n",
       "<table border=\"1\" class=\"dataframe\">\n",
       "  <thead>\n",
       "    <tr style=\"text-align: right;\">\n",
       "      <th></th>\n",
       "      <th>platform</th>\n",
       "      <th>all_sales</th>\n",
       "    </tr>\n",
       "  </thead>\n",
       "  <tbody>\n",
       "    <tr>\n",
       "      <th>0</th>\n",
       "      <td>ps2</td>\n",
       "      <td>1233.56</td>\n",
       "    </tr>\n",
       "    <tr>\n",
       "      <th>1</th>\n",
       "      <td>x360</td>\n",
       "      <td>961.24</td>\n",
       "    </tr>\n",
       "    <tr>\n",
       "      <th>2</th>\n",
       "      <td>ps3</td>\n",
       "      <td>931.34</td>\n",
       "    </tr>\n",
       "    <tr>\n",
       "      <th>3</th>\n",
       "      <td>wii</td>\n",
       "      <td>891.18</td>\n",
       "    </tr>\n",
       "    <tr>\n",
       "      <th>4</th>\n",
       "      <td>ds</td>\n",
       "      <td>802.78</td>\n",
       "    </tr>\n",
       "    <tr>\n",
       "      <th>5</th>\n",
       "      <td>ps</td>\n",
       "      <td>727.58</td>\n",
       "    </tr>\n",
       "    <tr>\n",
       "      <th>6</th>\n",
       "      <td>ps4</td>\n",
       "      <td>314.14</td>\n",
       "    </tr>\n",
       "    <tr>\n",
       "      <th>7</th>\n",
       "      <td>gba</td>\n",
       "      <td>312.88</td>\n",
       "    </tr>\n",
       "    <tr>\n",
       "      <th>8</th>\n",
       "      <td>psp</td>\n",
       "      <td>289.53</td>\n",
       "    </tr>\n",
       "    <tr>\n",
       "      <th>9</th>\n",
       "      <td>3ds</td>\n",
       "      <td>257.81</td>\n",
       "    </tr>\n",
       "  </tbody>\n",
       "</table>\n",
       "</div>"
      ],
      "text/plain": [
       "  platform  all_sales\n",
       "0      ps2    1233.56\n",
       "1     x360     961.24\n",
       "2      ps3     931.34\n",
       "3      wii     891.18\n",
       "4       ds     802.78\n",
       "5       ps     727.58\n",
       "6      ps4     314.14\n",
       "7      gba     312.88\n",
       "8      psp     289.53\n",
       "9      3ds     257.81"
      ]
     },
     "execution_count": 22,
     "metadata": {},
     "output_type": "execute_result"
    }
   ],
   "source": [
    "top_platforms = games.groupby('platform')['all_sales'].sum().sort_values(ascending = False).head(10).reset_index()\n",
    "top_platforms"
   ]
  },
  {
   "cell_type": "code",
   "execution_count": 23,
   "metadata": {},
   "outputs": [
    {
     "data": {
      "image/png": "[encoded data removed]",
      "text/plain": [
       "<Figure size 432x288 with 1 Axes>"
      ]
     },
     "metadata": {
      "needs_background": "light"
     },
     "output_type": "display_data"
    }
   ],
   "source": [
    "top_platforms.plot(x = 'platform', y = 'all_sales', kind = 'bar')\n",
    "plt.title('Распределение суммарных продаж игр на платформах')\n",
    "plt.xlabel('Платформа')\n",
    "plt.ylabel('Продажи')\n",
    "plt.show()\n"
   ]
  },
  {
   "cell_type": "markdown",
   "metadata": {},
   "source": [
    "Самые большие продажи за все время у ps2, x360 и ps3, это может быть обусловлено тем, что эти платформы были \"прорывом\" в свое время и довольно долго на рынке, но они до сих пор поддерживают некоторые новые игры"
   ]
  },
  {
   "cell_type": "markdown",
   "metadata": {},
   "source": [
    "Посмотрим распределение по годам"
   ]
  },
  {
   "cell_type": "code",
   "execution_count": 24,
   "metadata": {},
   "outputs": [],
   "source": [
    "top_platforms_index = games.groupby('platform')['all_sales'].sum().sort_values(ascending = False).head(10).index"
   ]
  },
  {
   "cell_type": "code",
   "execution_count": 25,
   "metadata": {},
   "outputs": [
    {
     "data": {
      "image/png": "[encoded data removed]",
      "text/plain": [
       "<Figure size 432x288 with 1 Axes>"
      ]
     },
     "metadata": {
      "needs_background": "light"
     },
     "output_type": "display_data"
    }
   ],
   "source": [
    "(games\n",
    " .query('platform in @top_platforms_index')\n",
    " .pivot_table(index=['platform', 'year_of_release'], values='all_sales', aggfunc='sum')\n",
    " .reset_index()\n",
    " .plot(x='platform', y='year_of_release', kind='scatter', alpha=1));\n",
    "plt.title('Распределение продаж игр на платформах по годам')\n",
    "plt.xlabel('Платформа')\n",
    "plt.ylabel('Год')\n",
    "plt.show()\n"
   ]
  },
  {
   "cell_type": "markdown",
   "metadata": {},
   "source": [
    "Заметим, что на платформе ds есть выброс в 1985 году. Удалим его."
   ]
  },
  {
   "cell_type": "code",
   "execution_count": 26,
   "metadata": {},
   "outputs": [],
   "source": [
    "games = games.query('platform!=\"ds\" or year_of_release!=1985')"
   ]
  },
  {
   "cell_type": "markdown",
   "metadata": {},
   "source": [
    "Число игр резко росло с 2000 года, а в 2012 число игр сократилось. Игры стали качественнее и сложнее, их создают крупные разработчики, поэтому число снизилось. \n",
    "\n",
    "Мы рассмотрели суммарные продажи числа игр на разных платформах по годам и можно сделать вывод, что срок жизни платформ составляет около 10 лет.\n",
    "\n",
    "Можно выделить актуальный период для исследования - данные после 2013 года. "
   ]
  },
  {
   "cell_type": "code",
   "execution_count": 27,
   "metadata": {},
   "outputs": [],
   "source": [
    "games_actual = games.query('year_of_release>2012')"
   ]
  },
  {
   "cell_type": "code",
   "execution_count": 28,
   "metadata": {},
   "outputs": [],
   "source": [
    "data_actual_index =games.groupby('platform')['all_sales'].sum().sort_values(ascending = False).index"
   ]
  },
  {
   "cell_type": "code",
   "execution_count": 29,
   "metadata": {},
   "outputs": [
    {
     "data": {
      "image/png": "[encoded data removed]",
      "text/plain": [
       "<Figure size 1080x576 with 1 Axes>"
      ]
     },
     "metadata": {
      "needs_background": "light"
     },
     "output_type": "display_data"
    }
   ],
   "source": [
    "(games_actual\n",
    " .query('platform in @data_actual_index')\n",
    " .pivot_table(index='year_of_release', columns='platform', values='all_sales', aggfunc='sum')\n",
    " .plot(grid=True, figsize=(15,8)));\n",
    "plt.title('Распределение продаж игр на платформах по годам в актуальный период')\n",
    "plt.xlabel('Год выпуска')\n",
    "plt.ylabel('Продажи')\n",
    "plt.show()"
   ]
  },
  {
   "cell_type": "markdown",
   "metadata": {},
   "source": [
    "По графикам можно сказать, что сейчас продажи платформ падают. По продажам в последний год лидируют ps4, 3ds, xone. "
   ]
  },
  {
   "cell_type": "code",
   "execution_count": 30,
   "metadata": {},
   "outputs": [],
   "source": [
    "games_dynamix = games_actual.groupby(['platform','year_of_release']).sum().reset_index()"
   ]
  },
  {
   "cell_type": "code",
   "execution_count": 31,
   "metadata": {},
   "outputs": [
    {
     "data": {
      "image/png": "[encoded data removed]",
      "text/plain": [
       "<Figure size 432x288 with 1 Axes>"
      ]
     },
     "metadata": {
      "needs_background": "light"
     },
     "output_type": "display_data"
    }
   ],
   "source": [
    "sns.boxplot(data = games_dynamix, x = 'platform', y ='all_sales')\n",
    "plt.title('Гистограмма размаха продаж игр на платформах')\n",
    "plt.xlabel('Пратформа')\n",
    "plt.ylabel('Продажи копий (млн)')\n",
    "plt.show()"
   ]
  },
  {
   "cell_type": "code",
   "execution_count": 32,
   "metadata": {},
   "outputs": [
    {
     "data": {
      "image/png": "[encoded data removed]",
      "text/plain": [
       "<Figure size 1008x504 with 1 Axes>"
      ]
     },
     "metadata": {
      "needs_background": "light"
     },
     "output_type": "display_data"
    }
   ],
   "source": [
    "games_actual.boxplot( column=\"all_sales\", by=\"platform\", figsize=(14, 7), grid=True)\n",
    "plt.title('Гистограмма размаха продаж игр на платформах')\n",
    "plt.xlabel('Пратформа')\n",
    "plt.ylabel('Продажи копий (млн)')\n",
    "plt.show()"
   ]
  },
  {
   "cell_type": "markdown",
   "metadata": {},
   "source": [
    "Ps4 - самая потенциально прибыльная платформа с наибольшим числом продаж за последний год, потом 3ds, платформа xone также имеет довольно большие продажи за посление годы.\n",
    "\n",
    "Разница в показателях между платформами достигается из-за эксклюзивности игр на платформах. Портативные системы(3ds, ds, psp, wii, psv, wiiu) становятся не актуальны.\n",
    "\n",
    "На боксплоте можно заметить выбросы в продажах игр на платформах ps3, x360, это можно объяснить тем, что эти платформы были очень успешны в свое время и их пользователи до сих пор пользуются ими и покупают игры. "
   ]
  },
  {
   "cell_type": "markdown",
   "metadata": {},
   "source": [
    "Посмотрим, как влияют на продажи внутри одной популярной платформы отзывы пользователей и критиков. Создадим функцию, которая строит диаграмму рассеяния и считает корреляцию между отзывами и продажами."
   ]
  },
  {
   "cell_type": "code",
   "execution_count": 33,
   "metadata": {},
   "outputs": [],
   "source": [
    "def plot_corr_platform(df):\n",
    "    df.plot(x='critic_score', y='all_sales', kind='scatter', alpha=0.4)\n",
    "    plt.title('Диаграмма рассеяния продаж от оценки критиков')\n",
    "    plt.xlabel('Оценка критиков')\n",
    "    plt.ylabel('Продажи (млн)')\n",
    "    plt.show()\n",
    "    df.plot(x='user_score', y='all_sales', kind='scatter', alpha=0.4)\n",
    "    plt.title('Диаграмма рассеяния продаж от оценки пользователей')\n",
    "    plt.xlabel('Оценка пользователей')\n",
    "    plt.ylabel('Продажи (млн)')\n",
    "    plt.show()\n",
    "    return df.corr()[['critic_score','user_score']].loc['all_sales']"
   ]
  },
  {
   "cell_type": "code",
   "execution_count": 34,
   "metadata": {},
   "outputs": [],
   "source": [
    "ps3 = games.query('platform == \"ps3\"')\n",
    "ps4 = games.query('platform == \"ps4\"')\n",
    "threeds = games.query('platform == \"3ds\"')\n",
    "xone = games.query('platform == \"xone\"')"
   ]
  },
  {
   "cell_type": "code",
   "execution_count": 35,
   "metadata": {},
   "outputs": [
    {
     "data": {
      "image/png": "[encoded data removed]",
      "text/plain": [
       "<Figure size 432x288 with 1 Axes>"
      ]
     },
     "metadata": {
      "needs_background": "light"
     },
     "output_type": "display_data"
    },
    {
     "data": {
      "image/png": "[encoded data removed]",
      "text/plain": [
       "<Figure size 432x288 with 1 Axes>"
      ]
     },
     "metadata": {
      "needs_background": "light"
     },
     "output_type": "display_data"
    },
    {
     "data": {
      "text/plain": [
       "critic_score    0.432759\n",
       "user_score      0.128416\n",
       "Name: all_sales, dtype: float64"
      ]
     },
     "execution_count": 35,
     "metadata": {},
     "output_type": "execute_result"
    }
   ],
   "source": [
    "plot_corr_platform(ps3)"
   ]
  },
  {
   "cell_type": "code",
   "execution_count": 36,
   "metadata": {},
   "outputs": [
    {
     "data": {
      "image/png": "[encoded data removed]",
      "text/plain": [
       "<Figure size 432x288 with 1 Axes>"
      ]
     },
     "metadata": {
      "needs_background": "light"
     },
     "output_type": "display_data"
    },
    {
     "data": {
      "image/png": "[encoded data removed]",
      "text/plain": [
       "<Figure size 432x288 with 1 Axes>"
      ]
     },
     "metadata": {
      "needs_background": "light"
     },
     "output_type": "display_data"
    },
    {
     "data": {
      "text/plain": [
       "critic_score    0.406568\n",
       "user_score     -0.031957\n",
       "Name: all_sales, dtype: float64"
      ]
     },
     "execution_count": 36,
     "metadata": {},
     "output_type": "execute_result"
    }
   ],
   "source": [
    "plot_corr_platform(ps4)"
   ]
  },
  {
   "cell_type": "code",
   "execution_count": 37,
   "metadata": {},
   "outputs": [
    {
     "data": {
      "image/png": "[encoded data removed]",
      "text/plain": [
       "<Figure size 432x288 with 1 Axes>"
      ]
     },
     "metadata": {
      "needs_background": "light"
     },
     "output_type": "display_data"
    },
    {
     "data": {
      "image/png": "[encoded data removed]",
      "text/plain": [
       "<Figure size 432x288 with 1 Axes>"
      ]
     },
     "metadata": {
      "needs_background": "light"
     },
     "output_type": "display_data"
    },
    {
     "data": {
      "text/plain": [
       "critic_score    0.348740\n",
       "user_score      0.222078\n",
       "Name: all_sales, dtype: float64"
      ]
     },
     "execution_count": 37,
     "metadata": {},
     "output_type": "execute_result"
    }
   ],
   "source": [
    "plot_corr_platform(threeds)"
   ]
  },
  {
   "cell_type": "code",
   "execution_count": 38,
   "metadata": {},
   "outputs": [
    {
     "data": {
      "image/png": "[encoded data removed]",
      "text/plain": [
       "<Figure size 432x288 with 1 Axes>"
      ]
     },
     "metadata": {
      "needs_background": "light"
     },
     "output_type": "display_data"
    },
    {
     "data": {
      "image/png": "[encoded data removed]",
      "text/plain": [
       "<Figure size 432x288 with 1 Axes>"
      ]
     },
     "metadata": {
      "needs_background": "light"
     },
     "output_type": "display_data"
    },
    {
     "data": {
      "text/plain": [
       "critic_score    0.416998\n",
       "user_score     -0.068925\n",
       "Name: all_sales, dtype: float64"
      ]
     },
     "execution_count": 38,
     "metadata": {},
     "output_type": "execute_result"
    }
   ],
   "source": [
    "plot_corr_platform(xone)"
   ]
  },
  {
   "cell_type": "markdown",
   "metadata": {},
   "source": [
    "По диаграмме рассеяния видим, что до 70 баллов оценок критиков число продаж низкое, от 70 начинается рост.\n",
    "\n",
    "И по коэффициенту корреляции можем сделать вывод, что небольшая связь между оценками критиков и продажами есть, а связь между оценками пользователей и продажами отсутствует, тк оценка пользователей появляется сильно позже релиза игры."
   ]
  },
  {
   "cell_type": "markdown",
   "metadata": {},
   "source": [
    "Посмотрим на общее распределение игр по жанрам."
   ]
  },
  {
   "cell_type": "code",
   "execution_count": 39,
   "metadata": {},
   "outputs": [
    {
     "data": {
      "image/png": "[encoded data removed]",
      "text/plain": [
       "<Figure size 432x288 with 1 Axes>"
      ]
     },
     "metadata": {
      "needs_background": "light"
     },
     "output_type": "display_data"
    }
   ],
   "source": [
    "games_actual.groupby('genre')['all_sales'].median().sort_values(ascending=False).plot(kind='bar')\n",
    "plt.title('Гистограмма распределения продаж игр по жанрам')\n",
    "plt.xlabel('Жанр')\n",
    "plt.ylabel('Продажи')\n",
    "plt.show()"
   ]
  },
  {
   "cell_type": "markdown",
   "metadata": {},
   "source": [
    "По графику можно сказать, что жанры, где игры стабильно приносят высокий доход в последние годы - это shooter, sports и platform"
   ]
  },
  {
   "cell_type": "markdown",
   "metadata": {},
   "source": [
    "**Вывод:** до 1991 года игр выпускалось очень мало, а самый пик производства игр был в 2008-2009, в 2012 число игр сократилось. Игры стали качественнее и сложнее, их создают крупные разработчики, поэтому число снизилось. Резкий спад популярности платформы может произойти за 3-4 года.\n",
    "\n",
    "Ps4 - самая потенциально прибыльная платформа с наибольшим числом продаж за последний год, потом 3ds, платформа xone также имеет довольно большие продажи за посление годы.\n",
    "\n",
    "Разница в показателях между платформами достигается из-за эксклюзивности игр на платформах. Портативные системы(ds, psp, wii, psv, wiiu) становятся не актуальны.\n",
    "\n",
    "Можно заметить выбросы в продажах игр на платформах ps3, x360, это можно объяснить тем, что эти платформы были очень успешны в свое время и их пользователи до сих пор пользуются ими и покупают игры. \n",
    "\n",
    "по коэффициенту корреляции можем сделать вывод, что связь между оценками критиков и продажами есть, а связь между оценками пользователей и продажами отсутствует.\n",
    "\n",
    "Жанры, где игры стабильно приносят высокий доход в последние годы - это shooter, sports и platform"
   ]
  },
  {
   "cell_type": "markdown",
   "metadata": {},
   "source": [
    "###  Составьте портрет пользователя каждого региона"
   ]
  },
  {
   "cell_type": "markdown",
   "metadata": {},
   "source": [
    "Определим для пользователей каждого региона cамые популярные платформы (топ-5)"
   ]
  },
  {
   "cell_type": "code",
   "execution_count": 40,
   "metadata": {},
   "outputs": [
    {
     "data": {
      "image/png": "[encoded data removed]",
      "text/plain": [
       "<Figure size 432x288 with 1 Axes>"
      ]
     },
     "metadata": {
      "needs_background": "light"
     },
     "output_type": "display_data"
    },
    {
     "data": {
      "image/png": "[encoded data removed]",
      "text/plain": [
       "<Figure size 432x288 with 1 Axes>"
      ]
     },
     "metadata": {
      "needs_background": "light"
     },
     "output_type": "display_data"
    },
    {
     "data": {
      "image/png": "[encoded data removed]",
      "text/plain": [
       "<Figure size 432x288 with 1 Axes>"
      ]
     },
     "metadata": {
      "needs_background": "light"
     },
     "output_type": "display_data"
    }
   ],
   "source": [
    "region = ['na_sales', 'eu_sales', 'jp_sales']\n",
    "title = ['Северной Америке', 'Европе', 'Японии']\n",
    "for i in range(3):\n",
    "    games_actual.groupby('platform').sum()[region[i]].sort_values(ascending = False).head().plot(kind = 'bar')\n",
    "    plt.title('Продажи игр по платформам в {}'.format(title[i]))\n",
    "    plt.xlabel('Платформа')\n",
    "    plt.ylabel('Продажи копий (млн)')\n",
    "    plt.show()"
   ]
  },
  {
   "cell_type": "markdown",
   "metadata": {},
   "source": [
    "В Европе и в Северной Америке самой популярной платформой является ps4, а в Японии - 3ds, портативная игровая система местного производства. Это различие обусловлено сильным различием культур регионов. "
   ]
  },
  {
   "cell_type": "markdown",
   "metadata": {},
   "source": [
    "Самые популярные жанры (топ-5)"
   ]
  },
  {
   "cell_type": "code",
   "execution_count": 41,
   "metadata": {},
   "outputs": [
    {
     "data": {
      "image/png": "[encoded data removed]",
      "text/plain": [
       "<Figure size 432x288 with 1 Axes>"
      ]
     },
     "metadata": {
      "needs_background": "light"
     },
     "output_type": "display_data"
    },
    {
     "data": {
      "image/png": "[encoded data removed]",
      "text/plain": [
       "<Figure size 432x288 with 1 Axes>"
      ]
     },
     "metadata": {
      "needs_background": "light"
     },
     "output_type": "display_data"
    },
    {
     "data": {
      "image/png": "[encoded data removed]",
      "text/plain": [
       "<Figure size 432x288 with 1 Axes>"
      ]
     },
     "metadata": {
      "needs_background": "light"
     },
     "output_type": "display_data"
    }
   ],
   "source": [
    "region = ['na_sales', 'eu_sales', 'jp_sales']\n",
    "title = ['Северной Америке', 'Европе', 'Японии']\n",
    "for i in range(3):\n",
    "    games_actual.groupby('genre').sum()[region[i]].sort_values(ascending = False).head().plot(kind = 'bar')\n",
    "    plt.title('Продажи игр по жанрам в {}'.format(title[i]))\n",
    "    plt.xlabel('Жанр')\n",
    "    plt.ylabel('Продажи (млн)')\n",
    "    plt.show()"
   ]
  },
  {
   "cell_type": "markdown",
   "metadata": {},
   "source": [
    "В Японии самый популярный жанр игры - role-playing, в то время как в Европе и Америке - action."
   ]
  },
  {
   "cell_type": "markdown",
   "metadata": {},
   "source": [
    "Влияет ли рейтинг ESRB на продажи в отдельном регионе?"
   ]
  },
  {
   "cell_type": "code",
   "execution_count": 42,
   "metadata": {},
   "outputs": [
    {
     "data": {
      "image/png": "[encoded data removed]",
      "text/plain": [
       "<Figure size 432x288 with 1 Axes>"
      ]
     },
     "metadata": {
      "needs_background": "light"
     },
     "output_type": "display_data"
    },
    {
     "data": {
      "image/png": "[encoded data removed]",
      "text/plain": [
       "<Figure size 432x288 with 1 Axes>"
      ]
     },
     "metadata": {
      "needs_background": "light"
     },
     "output_type": "display_data"
    },
    {
     "data": {
      "image/png": "[encoded data removed]",
      "text/plain": [
       "<Figure size 432x288 with 1 Axes>"
      ]
     },
     "metadata": {
      "needs_background": "light"
     },
     "output_type": "display_data"
    }
   ],
   "source": [
    "region = ['na_sales', 'eu_sales', 'jp_sales']\n",
    "title = ['Северной Америке', 'Европе', 'Японии']\n",
    "for i in range(3):\n",
    "    games_actual.groupby('rating').sum()[region[i]].sort_values(ascending = False).head().plot(kind = 'bar')\n",
    "    plt.title('Продажи игр по рейтингу ESRB в {}'.format(title[i]))\n",
    "    plt.xlabel('Рейтинг')\n",
    "    plt.ylabel('Продажи копий (млн)')\n",
    "    plt.show()"
   ]
  },
  {
   "cell_type": "markdown",
   "metadata": {},
   "source": [
    "**Вывод:**\n",
    "В Северной Америке самой популярной платформой является x360, наиболее продаваемые жанры action и shooter, рейтинг M(для взрослых). \n",
    "\n",
    "В Европе наибольшее число продаж у платформы ps4 (ps3 на втором месте), предпочтения жанров и рейтингов те же(action, shooter, рейтинг M).\n",
    "\n",
    "В Японии с большим отрывом лидирует платформа 3ds, наиболее популярные жанры role-playing и action. Для Японии производится множество локальных игр, рейтинг для которых не присваивается ESRB, и мы не можем явно определить лидирующие жанры."
   ]
  },
  {
   "cell_type": "markdown",
   "metadata": {},
   "source": [
    "###  Проверьте гипотезы"
   ]
  },
  {
   "cell_type": "markdown",
   "metadata": {},
   "source": [
    "Проверим гипотезу - cредние пользовательские рейтинги платформ Xbox One и PC одинаковые - H0\n",
    "\n",
    "Гипотеза H1 - cредние пользовательские рейтинги платформ Xbox One и PC различается \n",
    "\n",
    "Проверим гипотезы о равенстве среднего двух генеральных совокупностей по взятым из них выборкам применим метод scipy.stats.ttest_ind()"
   ]
  },
  {
   "cell_type": "code",
   "execution_count": 43,
   "metadata": {},
   "outputs": [],
   "source": [
    "games_user = games_actual.query('user_score.notna()')\n",
    "xbox = games_user.query('platform == \"xone\"')\n",
    "pc = games_user.query('platform == \"pc\"')"
   ]
  },
  {
   "cell_type": "code",
   "execution_count": 44,
   "metadata": {},
   "outputs": [
    {
     "name": "stdout",
     "output_type": "stream",
     "text": [
      "1.8965188383045526 3.016306347554631\n"
     ]
    }
   ],
   "source": [
    "disp1 = np.var(xbox['user_score'])\n",
    "disp2 = np.var(pc['user_score'])\n",
    "print(disp1, disp2)"
   ]
  },
  {
   "cell_type": "markdown",
   "metadata": {},
   "source": [
    "Дисперсии выборок отличаются на 1, укажем equal_var = False"
   ]
  },
  {
   "cell_type": "code",
   "execution_count": 45,
   "metadata": {},
   "outputs": [
    {
     "name": "stdout",
     "output_type": "stream",
     "text": [
      "p-значение:  0.14759594013430463\n"
     ]
    }
   ],
   "source": [
    "results = st.ttest_ind(xbox['user_score'], pc['user_score'], equal_var = False)\n",
    "print('p-значение: ', results.pvalue)"
   ]
  },
  {
   "cell_type": "markdown",
   "metadata": {},
   "source": [
    "**Вывод:** При уровне значимости p = 0.05, гипоеза H0 о равенстве cредних пользовательских рейтингах платформ Xbox One и PC не отвергается. "
   ]
  },
  {
   "cell_type": "markdown",
   "metadata": {},
   "source": [
    "Проверим гипотезу - средние пользовательские рейтинги жанров Action и Sports равны - H0\n",
    "\n",
    "Гипотеза H1 -средние пользовательские рейтинги жанров Action и Sports различны\n",
    "\n"
   ]
  },
  {
   "cell_type": "code",
   "execution_count": 46,
   "metadata": {},
   "outputs": [],
   "source": [
    "action = games_user.query('genre == \"action\"')\n",
    "sports= games_user.query('genre == \"sports\"')"
   ]
  },
  {
   "cell_type": "code",
   "execution_count": 47,
   "metadata": {},
   "outputs": [
    {
     "name": "stdout",
     "output_type": "stream",
     "text": [
      "1.7648124186332366 3.160733984375\n"
     ]
    }
   ],
   "source": [
    "disp1 = np.var(action['user_score'])\n",
    "disp2 = np.var(sports['user_score'])\n",
    "print(disp1, disp2)"
   ]
  },
  {
   "cell_type": "markdown",
   "metadata": {},
   "source": [
    "Дисперсии выборок существенно отличаются, укажем equal_var = False"
   ]
  },
  {
   "cell_type": "code",
   "execution_count": 48,
   "metadata": {},
   "outputs": [
    {
     "name": "stdout",
     "output_type": "stream",
     "text": [
      "p-значение:  1.4460039700704315e-20\n"
     ]
    }
   ],
   "source": [
    "results = st.ttest_ind(action['user_score'], sports['user_score'], equal_var = False)\n",
    "print('p-значение: ', results.pvalue)"
   ]
  },
  {
   "cell_type": "markdown",
   "metadata": {},
   "source": [
    "**Вывод:** Гипотеза H0 о равенстве средних пользовательских рейтингов жанров Action и Sports отвергается и принимается альтернативная гипотеза H1 - средние пользовательские рейтинги жанров Action и Sports различны."
   ]
  },
  {
   "cell_type": "markdown",
   "metadata": {},
   "source": [
    "### Напишите общий вывод"
   ]
  },
  {
   "cell_type": "markdown",
   "metadata": {},
   "source": [
    "Мы исследовали исторические данные о продажах игр, оценках пользователей и экспертов, жанрах и платформах.\n",
    "Изучив общую информацию, выяснили, что в данных присутствуют пропуски. Множество пропусков в столбцах с оценками и рейтингом. Возможно, что некоторые игры еще не оценили критики и пользователи (игра не вышла). Мы подготовили данные и приступили к исследовательскому анализу данных.\n",
    "\n",
    "- до 1991 года игр выпускалось очень мало, а самый пик производства игр был в 2008-2009, в 2012 число выпускаемых игр сократилось. Игры стали качественнее и сложнее, их создают крупные разработчики, поэтому число снизилось.\n",
    "\n",
    "- Резкий спад популярности платформы может произойти за 3-4 года.\n",
    "\n",
    "- По продажам в последние годы лидируют ps4, 3ds, xone\n",
    "\n",
    "- Ps4 - самая потенциально прибыльная платформа с наибольшим числом продаж за последний год, потом 3ds, платформа xone также имеет довольно большие продажи за посление годы.\n",
    "\n",
    "- Разница в показателях между платформами достигается из-за эксклюзивности игр на платформах. Портативные системы(ds, psp, wii, psv, wiiu) становятся не актуальны.\n",
    "\n",
    "- по коэффициенту корреляции можем сделать вывод, что связь между оценками критиков и продажами есть, а связь между оценками пользователей и продажами отсутствует.\n",
    "\n",
    "- Жанры, где игры стабильно приносят высокий доход в последние годы - это shooter, sports и platform\n",
    "\n",
    "- В Северной Америке самой популярной платформой является ps4, наиболее продаваемые жанры action и shooter, рейтинг M(для взрослых).\n",
    "\n",
    "- В Европе наибольшее число продаж у платформы ps4, предпочтения жанров и рейтингов те же(action, shooter, рейтинг M).\n",
    "\n",
    "- В Японии с большим отрывом лидирует платформа 3ds, наиболее популярные жанры role-playing и action. Для Японии производится множество локальных игр, рейтинг для которых не присваивается ESRB, и мы не можем явно определить лидирующие жанры.\n",
    "\n",
    "Мы выдвинули и проверили гипотезы. \n",
    "\n",
    "- Гипоеза о равенстве cредних пользовательских рейтингах платформ Xbox One и PC не отвергается. \n",
    "\n",
    "- Гипотеза о равенстве средних пользовательских рейтингов жанров Action и Sports отвергается, принимается альтернативная гипотеза H1 - средние пользовательские рейтинги жанров Action и Sports различны.\n",
    "\n"
   ]
  }
 ],
 "metadata": {
  "ExecuteTimeLog": [
   {
    "duration": 52,
    "start_time": "2022-09-22T23:34:01.335Z"
   },
   {
    "duration": 354,
    "start_time": "2022-09-22T23:34:23.550Z"
   },
   {
    "duration": 96,
    "start_time": "2022-09-22T23:34:24.850Z"
   },
   {
    "duration": 51,
    "start_time": "2022-09-22T23:34:54.702Z"
   },
   {
    "duration": 18,
    "start_time": "2022-09-22T23:34:55.194Z"
   },
   {
    "duration": 15,
    "start_time": "2022-09-22T23:35:18.657Z"
   },
   {
    "duration": 1043,
    "start_time": "2022-09-22T23:36:04.974Z"
   },
   {
    "duration": 15,
    "start_time": "2022-09-22T23:37:09.420Z"
   },
   {
    "duration": 4,
    "start_time": "2022-09-22T23:52:42.322Z"
   },
   {
    "duration": 39,
    "start_time": "2022-09-22T23:53:38.561Z"
   },
   {
    "duration": 4,
    "start_time": "2022-09-22T23:53:45.891Z"
   },
   {
    "duration": 5,
    "start_time": "2022-09-23T00:00:32.137Z"
   },
   {
    "duration": 5,
    "start_time": "2022-09-23T00:00:44.140Z"
   },
   {
    "duration": 4,
    "start_time": "2022-09-23T00:00:57.226Z"
   },
   {
    "duration": 14,
    "start_time": "2022-09-23T00:04:03.606Z"
   },
   {
    "duration": 394,
    "start_time": "2022-09-23T00:04:23.807Z"
   },
   {
    "duration": 51,
    "start_time": "2022-09-23T00:04:24.203Z"
   },
   {
    "duration": 21,
    "start_time": "2022-09-23T00:04:24.256Z"
   },
   {
    "duration": 13,
    "start_time": "2022-09-23T00:04:24.279Z"
   },
   {
    "duration": 952,
    "start_time": "2022-09-23T00:04:24.294Z"
   },
   {
    "duration": 4,
    "start_time": "2022-09-23T00:04:25.247Z"
   },
   {
    "duration": 8,
    "start_time": "2022-09-23T00:04:25.252Z"
   },
   {
    "duration": 5,
    "start_time": "2022-09-23T00:04:25.262Z"
   },
   {
    "duration": 111,
    "start_time": "2022-09-23T00:04:25.269Z"
   },
   {
    "duration": 10,
    "start_time": "2022-09-23T00:07:19.558Z"
   },
   {
    "duration": 48,
    "start_time": "2022-09-23T00:10:04.147Z"
   },
   {
    "duration": 3,
    "start_time": "2022-09-23T00:17:51.342Z"
   },
   {
    "duration": 4,
    "start_time": "2022-09-23T00:17:53.312Z"
   },
   {
    "duration": 9,
    "start_time": "2022-09-23T00:18:41.293Z"
   },
   {
    "duration": 18,
    "start_time": "2022-09-23T00:19:03.757Z"
   },
   {
    "duration": 9,
    "start_time": "2022-09-23T00:19:11.307Z"
   },
   {
    "duration": 14,
    "start_time": "2022-09-23T00:19:15.832Z"
   },
   {
    "duration": 15,
    "start_time": "2022-09-23T00:26:56.874Z"
   },
   {
    "duration": 18,
    "start_time": "2022-09-23T00:27:16.624Z"
   },
   {
    "duration": 57,
    "start_time": "2022-09-23T00:27:29.676Z"
   },
   {
    "duration": 28,
    "start_time": "2022-09-23T00:27:34.418Z"
   },
   {
    "duration": 15,
    "start_time": "2022-09-23T00:27:39.178Z"
   },
   {
    "duration": 21,
    "start_time": "2022-09-23T00:28:16.259Z"
   },
   {
    "duration": 21,
    "start_time": "2022-09-23T00:32:01.608Z"
   },
   {
    "duration": 18,
    "start_time": "2022-09-23T00:32:07.453Z"
   },
   {
    "duration": 18,
    "start_time": "2022-09-23T00:34:07.952Z"
   },
   {
    "duration": 19,
    "start_time": "2022-09-23T00:35:02.406Z"
   },
   {
    "duration": 20,
    "start_time": "2022-09-23T00:36:17.156Z"
   },
   {
    "duration": 22,
    "start_time": "2022-09-23T00:36:24.610Z"
   },
   {
    "duration": 11,
    "start_time": "2022-09-23T01:14:08.433Z"
   },
   {
    "duration": 10,
    "start_time": "2022-09-23T01:14:09.814Z"
   },
   {
    "duration": 4,
    "start_time": "2022-09-23T01:16:42.422Z"
   },
   {
    "duration": 5,
    "start_time": "2022-09-23T01:18:14.693Z"
   },
   {
    "duration": 23,
    "start_time": "2022-09-23T01:18:29.430Z"
   },
   {
    "duration": 6,
    "start_time": "2022-09-23T01:18:42.915Z"
   },
   {
    "duration": 4,
    "start_time": "2022-09-23T01:19:15.238Z"
   },
   {
    "duration": 1124,
    "start_time": "2022-09-23T01:21:18.781Z"
   },
   {
    "duration": 66,
    "start_time": "2022-09-23T01:21:19.907Z"
   },
   {
    "duration": 18,
    "start_time": "2022-09-23T01:21:19.975Z"
   },
   {
    "duration": 14,
    "start_time": "2022-09-23T01:21:19.995Z"
   },
   {
    "duration": 751,
    "start_time": "2022-09-23T01:21:20.011Z"
   },
   {
    "duration": 4,
    "start_time": "2022-09-23T01:21:20.764Z"
   },
   {
    "duration": 13,
    "start_time": "2022-09-23T01:21:20.770Z"
   },
   {
    "duration": 33,
    "start_time": "2022-09-23T01:21:20.785Z"
   },
   {
    "duration": 12,
    "start_time": "2022-09-23T01:21:20.820Z"
   },
   {
    "duration": 79,
    "start_time": "2022-09-23T01:21:20.834Z"
   },
   {
    "duration": 8,
    "start_time": "2022-09-23T01:21:20.915Z"
   },
   {
    "duration": 11,
    "start_time": "2022-09-23T01:21:20.925Z"
   },
   {
    "duration": 8,
    "start_time": "2022-09-23T01:21:20.937Z"
   },
   {
    "duration": 9,
    "start_time": "2022-09-23T01:21:20.947Z"
   },
   {
    "duration": 5,
    "start_time": "2022-09-23T02:33:52.181Z"
   },
   {
    "duration": 15,
    "start_time": "2022-09-23T02:36:41.988Z"
   },
   {
    "duration": 141,
    "start_time": "2022-09-23T02:38:32.777Z"
   },
   {
    "duration": 85,
    "start_time": "2022-09-23T02:40:08.633Z"
   },
   {
    "duration": 22,
    "start_time": "2022-09-23T02:40:45.359Z"
   },
   {
    "duration": 86,
    "start_time": "2022-09-23T02:40:54.634Z"
   },
   {
    "duration": 110,
    "start_time": "2022-09-23T02:41:15.088Z"
   },
   {
    "duration": 13,
    "start_time": "2022-09-23T02:43:32.268Z"
   },
   {
    "duration": 142,
    "start_time": "2022-09-23T02:43:40.951Z"
   },
   {
    "duration": 40,
    "start_time": "2022-09-24T15:20:35.072Z"
   },
   {
    "duration": 1309,
    "start_time": "2022-09-24T15:20:42.030Z"
   },
   {
    "duration": 182,
    "start_time": "2022-09-24T15:20:43.341Z"
   },
   {
    "duration": 21,
    "start_time": "2022-09-24T15:20:43.525Z"
   },
   {
    "duration": 13,
    "start_time": "2022-09-24T15:20:43.548Z"
   },
   {
    "duration": 755,
    "start_time": "2022-09-24T15:20:43.563Z"
   },
   {
    "duration": 9,
    "start_time": "2022-09-24T15:20:44.322Z"
   },
   {
    "duration": 9,
    "start_time": "2022-09-24T15:20:44.336Z"
   },
   {
    "duration": 24,
    "start_time": "2022-09-24T15:20:44.347Z"
   },
   {
    "duration": 19,
    "start_time": "2022-09-24T15:20:44.372Z"
   },
   {
    "duration": 65,
    "start_time": "2022-09-24T15:20:44.393Z"
   },
   {
    "duration": 7,
    "start_time": "2022-09-24T15:20:44.460Z"
   },
   {
    "duration": 14,
    "start_time": "2022-09-24T15:20:44.468Z"
   },
   {
    "duration": 15,
    "start_time": "2022-09-24T15:20:44.483Z"
   },
   {
    "duration": 14,
    "start_time": "2022-09-24T15:20:44.500Z"
   },
   {
    "duration": 5,
    "start_time": "2022-09-24T15:20:44.516Z"
   },
   {
    "duration": 23,
    "start_time": "2022-09-24T15:20:44.523Z"
   },
   {
    "duration": 19,
    "start_time": "2022-09-24T15:20:44.548Z"
   },
   {
    "duration": 102,
    "start_time": "2022-09-24T15:20:44.569Z"
   },
   {
    "duration": 116,
    "start_time": "2022-09-24T15:20:44.674Z"
   },
   {
    "duration": 55,
    "start_time": "2022-09-25T00:11:16.402Z"
   },
   {
    "duration": 1350,
    "start_time": "2022-09-25T00:11:23.555Z"
   },
   {
    "duration": 99,
    "start_time": "2022-09-25T00:11:24.907Z"
   },
   {
    "duration": 21,
    "start_time": "2022-09-25T00:11:25.008Z"
   },
   {
    "duration": 14,
    "start_time": "2022-09-25T00:11:25.031Z"
   },
   {
    "duration": 842,
    "start_time": "2022-09-25T00:11:25.047Z"
   },
   {
    "duration": 4,
    "start_time": "2022-09-25T00:11:25.890Z"
   },
   {
    "duration": 9,
    "start_time": "2022-09-25T00:11:25.896Z"
   },
   {
    "duration": 21,
    "start_time": "2022-09-25T00:11:25.907Z"
   },
   {
    "duration": 28,
    "start_time": "2022-09-25T00:11:25.930Z"
   },
   {
    "duration": 58,
    "start_time": "2022-09-25T00:11:25.961Z"
   },
   {
    "duration": 36,
    "start_time": "2022-09-25T00:11:26.021Z"
   },
   {
    "duration": 9,
    "start_time": "2022-09-25T00:11:26.059Z"
   },
   {
    "duration": 10,
    "start_time": "2022-09-25T00:11:26.069Z"
   },
   {
    "duration": 7,
    "start_time": "2022-09-25T00:11:26.081Z"
   },
   {
    "duration": 5,
    "start_time": "2022-09-25T00:11:26.090Z"
   },
   {
    "duration": 7,
    "start_time": "2022-09-25T00:11:26.096Z"
   },
   {
    "duration": 60,
    "start_time": "2022-09-25T00:11:26.104Z"
   },
   {
    "duration": 109,
    "start_time": "2022-09-25T00:11:26.165Z"
   },
   {
    "duration": 121,
    "start_time": "2022-09-25T00:11:26.275Z"
   },
   {
    "duration": 432,
    "start_time": "2022-09-25T00:11:26.397Z"
   },
   {
    "duration": 130,
    "start_time": "2022-09-25T00:14:50.730Z"
   },
   {
    "duration": 301,
    "start_time": "2022-09-25T00:14:58.010Z"
   },
   {
    "duration": 10,
    "start_time": "2022-09-25T00:17:14.846Z"
   },
   {
    "duration": 9,
    "start_time": "2022-09-25T00:17:20.771Z"
   },
   {
    "duration": 10,
    "start_time": "2022-09-25T00:18:44.645Z"
   },
   {
    "duration": 13,
    "start_time": "2022-09-25T00:19:01.452Z"
   },
   {
    "duration": 8,
    "start_time": "2022-09-25T00:19:07.728Z"
   },
   {
    "duration": 10,
    "start_time": "2022-09-25T00:19:20.704Z"
   },
   {
    "duration": 9,
    "start_time": "2022-09-25T00:20:44.604Z"
   },
   {
    "duration": 6,
    "start_time": "2022-09-25T00:22:59.620Z"
   },
   {
    "duration": 9,
    "start_time": "2022-09-25T00:23:18.627Z"
   },
   {
    "duration": 138,
    "start_time": "2022-09-25T00:23:35.829Z"
   },
   {
    "duration": 128,
    "start_time": "2022-09-25T00:23:52.830Z"
   },
   {
    "duration": 14,
    "start_time": "2022-09-25T00:24:06.836Z"
   },
   {
    "duration": 18,
    "start_time": "2022-09-25T00:24:14.908Z"
   },
   {
    "duration": 8,
    "start_time": "2022-09-25T00:24:29.972Z"
   },
   {
    "duration": 13,
    "start_time": "2022-09-25T00:33:06.484Z"
   },
   {
    "duration": 10,
    "start_time": "2022-09-25T00:33:18.340Z"
   },
   {
    "duration": 11,
    "start_time": "2022-09-25T00:38:02.557Z"
   },
   {
    "duration": 1745,
    "start_time": "2022-09-25T00:40:03.567Z"
   },
   {
    "duration": 153,
    "start_time": "2022-09-25T00:40:25.191Z"
   },
   {
    "duration": 13,
    "start_time": "2022-09-25T00:42:16.657Z"
   },
   {
    "duration": 7,
    "start_time": "2022-09-25T00:42:21.397Z"
   },
   {
    "duration": 168,
    "start_time": "2022-09-25T00:42:23.511Z"
   },
   {
    "duration": 17,
    "start_time": "2022-09-25T00:54:03.232Z"
   },
   {
    "duration": 11,
    "start_time": "2022-09-25T00:54:34.116Z"
   },
   {
    "duration": 159,
    "start_time": "2022-09-25T00:54:34.551Z"
   },
   {
    "duration": 8,
    "start_time": "2022-09-25T00:58:14.763Z"
   },
   {
    "duration": 20,
    "start_time": "2022-09-25T00:58:48.597Z"
   },
   {
    "duration": 132,
    "start_time": "2022-09-25T00:59:23.180Z"
   },
   {
    "duration": 11,
    "start_time": "2022-09-25T01:01:18.176Z"
   },
   {
    "duration": 13,
    "start_time": "2022-09-25T01:01:39.145Z"
   },
   {
    "duration": 10,
    "start_time": "2022-09-25T01:09:09.431Z"
   },
   {
    "duration": 9,
    "start_time": "2022-09-25T01:09:31.195Z"
   },
   {
    "duration": 378,
    "start_time": "2022-09-25T01:09:38.646Z"
   },
   {
    "duration": 12,
    "start_time": "2022-09-25T01:10:33.899Z"
   },
   {
    "duration": 275,
    "start_time": "2022-09-25T01:10:48.612Z"
   },
   {
    "duration": 318,
    "start_time": "2022-09-25T01:11:19.388Z"
   },
   {
    "duration": 1224,
    "start_time": "2022-09-25T01:11:41.505Z"
   },
   {
    "duration": 295,
    "start_time": "2022-09-25T01:11:54.119Z"
   },
   {
    "duration": 284,
    "start_time": "2022-09-25T01:12:03.864Z"
   },
   {
    "duration": 367,
    "start_time": "2022-09-25T01:13:46.821Z"
   },
   {
    "duration": 60,
    "start_time": "2022-09-25T01:19:15.580Z"
   },
   {
    "duration": 59,
    "start_time": "2022-09-25T01:21:15.428Z"
   },
   {
    "duration": 779,
    "start_time": "2022-09-25T01:21:39.959Z"
   },
   {
    "duration": 514,
    "start_time": "2022-09-25T01:22:05.443Z"
   },
   {
    "duration": 23,
    "start_time": "2022-09-25T01:22:25.445Z"
   },
   {
    "duration": 2785,
    "start_time": "2022-09-25T01:22:35.762Z"
   },
   {
    "duration": 2736,
    "start_time": "2022-09-25T01:22:38.849Z"
   },
   {
    "duration": 465,
    "start_time": "2022-09-25T01:23:28.093Z"
   },
   {
    "duration": 9,
    "start_time": "2022-09-25T01:24:16.750Z"
   },
   {
    "duration": 233,
    "start_time": "2022-09-25T01:24:30.962Z"
   },
   {
    "duration": 14,
    "start_time": "2022-09-25T01:24:47.426Z"
   },
   {
    "duration": 650,
    "start_time": "2022-09-25T01:24:56.630Z"
   },
   {
    "duration": 986,
    "start_time": "2022-09-25T01:26:37.778Z"
   },
   {
    "duration": 1161,
    "start_time": "2022-09-25T01:26:54.279Z"
   },
   {
    "duration": 17,
    "start_time": "2022-09-25T01:27:15.228Z"
   },
   {
    "duration": 17,
    "start_time": "2022-09-25T01:27:28.493Z"
   },
   {
    "duration": 62,
    "start_time": "2022-09-25T01:27:40.662Z"
   },
   {
    "duration": 496,
    "start_time": "2022-09-25T01:28:32.992Z"
   },
   {
    "duration": 919,
    "start_time": "2022-09-25T01:31:04.188Z"
   },
   {
    "duration": 14,
    "start_time": "2022-09-25T01:39:15.635Z"
   },
   {
    "duration": 469,
    "start_time": "2022-09-25T01:39:38.802Z"
   },
   {
    "duration": 17,
    "start_time": "2022-09-25T01:43:00.624Z"
   },
   {
    "duration": 22,
    "start_time": "2022-09-25T01:43:09.740Z"
   },
   {
    "duration": 21,
    "start_time": "2022-09-25T01:44:07.391Z"
   },
   {
    "duration": 1516,
    "start_time": "2022-09-25T01:46:13.878Z"
   },
   {
    "duration": 149,
    "start_time": "2022-09-25T01:46:36.579Z"
   },
   {
    "duration": 230,
    "start_time": "2022-09-25T01:46:54.239Z"
   },
   {
    "duration": 31,
    "start_time": "2022-09-25T01:51:19.541Z"
   },
   {
    "duration": 6,
    "start_time": "2022-09-25T01:51:23.208Z"
   },
   {
    "duration": 147,
    "start_time": "2022-09-25T01:51:23.767Z"
   },
   {
    "duration": 146,
    "start_time": "2022-09-25T01:51:39.657Z"
   },
   {
    "duration": 8,
    "start_time": "2022-09-25T02:08:37.537Z"
   },
   {
    "duration": 50,
    "start_time": "2022-09-25T02:11:19.965Z"
   },
   {
    "duration": 154,
    "start_time": "2022-09-25T02:12:13.008Z"
   },
   {
    "duration": 174,
    "start_time": "2022-09-25T02:13:26.877Z"
   },
   {
    "duration": 286,
    "start_time": "2022-09-25T02:13:41.946Z"
   },
   {
    "duration": 7,
    "start_time": "2022-09-25T02:15:20.931Z"
   },
   {
    "duration": 9,
    "start_time": "2022-09-25T02:15:21.336Z"
   },
   {
    "duration": 7,
    "start_time": "2022-09-25T02:15:27.120Z"
   },
   {
    "duration": 9,
    "start_time": "2022-09-25T02:15:27.622Z"
   },
   {
    "duration": 8,
    "start_time": "2022-09-25T02:15:49.741Z"
   },
   {
    "duration": 134,
    "start_time": "2022-09-25T02:15:50.472Z"
   },
   {
    "duration": 1132,
    "start_time": "2022-09-25T02:16:38.324Z"
   },
   {
    "duration": 52,
    "start_time": "2022-09-25T02:16:39.458Z"
   },
   {
    "duration": 19,
    "start_time": "2022-09-25T02:16:39.511Z"
   },
   {
    "duration": 15,
    "start_time": "2022-09-25T02:16:39.532Z"
   },
   {
    "duration": 728,
    "start_time": "2022-09-25T02:16:39.550Z"
   },
   {
    "duration": 4,
    "start_time": "2022-09-25T02:16:40.280Z"
   },
   {
    "duration": 8,
    "start_time": "2022-09-25T02:16:40.285Z"
   },
   {
    "duration": 20,
    "start_time": "2022-09-25T02:16:40.294Z"
   },
   {
    "duration": 9,
    "start_time": "2022-09-25T02:16:40.315Z"
   },
   {
    "duration": 74,
    "start_time": "2022-09-25T02:16:40.326Z"
   },
   {
    "duration": 8,
    "start_time": "2022-09-25T02:16:40.402Z"
   },
   {
    "duration": 12,
    "start_time": "2022-09-25T02:16:40.412Z"
   },
   {
    "duration": 10,
    "start_time": "2022-09-25T02:16:40.425Z"
   },
   {
    "duration": 18,
    "start_time": "2022-09-25T02:16:40.438Z"
   },
   {
    "duration": 7,
    "start_time": "2022-09-25T02:16:40.457Z"
   },
   {
    "duration": 8,
    "start_time": "2022-09-25T02:16:40.465Z"
   },
   {
    "duration": 16,
    "start_time": "2022-09-25T02:16:40.474Z"
   },
   {
    "duration": 112,
    "start_time": "2022-09-25T02:16:40.491Z"
   },
   {
    "duration": 110,
    "start_time": "2022-09-25T02:16:40.605Z"
   },
   {
    "duration": 388,
    "start_time": "2022-09-25T02:16:40.716Z"
   },
   {
    "duration": 12,
    "start_time": "2022-09-25T02:16:41.106Z"
   },
   {
    "duration": 179,
    "start_time": "2022-09-25T02:16:41.119Z"
   },
   {
    "duration": 6,
    "start_time": "2022-09-25T02:16:41.300Z"
   },
   {
    "duration": 195,
    "start_time": "2022-09-25T02:16:41.308Z"
   },
   {
    "duration": 8,
    "start_time": "2022-09-25T02:16:41.505Z"
   },
   {
    "duration": 13,
    "start_time": "2022-09-25T02:16:41.515Z"
   },
   {
    "duration": 193,
    "start_time": "2022-09-25T02:16:41.530Z"
   },
   {
    "duration": 12,
    "start_time": "2022-09-25T02:17:40.829Z"
   },
   {
    "duration": 8,
    "start_time": "2022-09-25T02:18:17.646Z"
   },
   {
    "duration": 167,
    "start_time": "2022-09-25T02:18:19.390Z"
   },
   {
    "duration": 48,
    "start_time": "2022-09-25T02:18:40.718Z"
   },
   {
    "duration": 58,
    "start_time": "2022-09-25T02:19:32.549Z"
   },
   {
    "duration": 144,
    "start_time": "2022-09-25T02:19:43.616Z"
   },
   {
    "duration": 7,
    "start_time": "2022-09-25T02:19:55.720Z"
   },
   {
    "duration": 141,
    "start_time": "2022-09-25T02:19:56.438Z"
   },
   {
    "duration": 153,
    "start_time": "2022-09-25T02:20:36.594Z"
   },
   {
    "duration": 269,
    "start_time": "2022-09-25T02:20:58.486Z"
   },
   {
    "duration": 331,
    "start_time": "2022-09-25T02:21:49.193Z"
   },
   {
    "duration": 6,
    "start_time": "2022-09-25T02:22:36.603Z"
   },
   {
    "duration": 313,
    "start_time": "2022-09-25T02:22:38.969Z"
   },
   {
    "duration": 409,
    "start_time": "2022-09-25T02:22:58.812Z"
   },
   {
    "duration": 329,
    "start_time": "2022-09-25T02:23:10.201Z"
   },
   {
    "duration": 335,
    "start_time": "2022-09-25T02:23:21.729Z"
   },
   {
    "duration": 203,
    "start_time": "2022-09-25T02:30:01.882Z"
   },
   {
    "duration": 115,
    "start_time": "2022-09-25T02:30:13.469Z"
   },
   {
    "duration": 114,
    "start_time": "2022-09-25T02:31:03.465Z"
   },
   {
    "duration": 179,
    "start_time": "2022-09-25T02:31:58.819Z"
   },
   {
    "duration": 521,
    "start_time": "2022-09-25T02:33:46.635Z"
   },
   {
    "duration": 309,
    "start_time": "2022-09-25T02:33:57.535Z"
   },
   {
    "duration": 261,
    "start_time": "2022-09-25T02:34:40.005Z"
   },
   {
    "duration": 261,
    "start_time": "2022-09-25T02:35:34.602Z"
   },
   {
    "duration": 263,
    "start_time": "2022-09-25T02:35:53.234Z"
   },
   {
    "duration": 293,
    "start_time": "2022-09-25T02:36:01.211Z"
   },
   {
    "duration": 280,
    "start_time": "2022-09-25T02:36:33.433Z"
   },
   {
    "duration": 16,
    "start_time": "2022-09-25T02:38:36.189Z"
   },
   {
    "duration": 18,
    "start_time": "2022-09-25T02:39:08.320Z"
   },
   {
    "duration": 13,
    "start_time": "2022-09-25T02:39:34.884Z"
   },
   {
    "duration": 1155,
    "start_time": "2022-09-25T02:39:39.565Z"
   },
   {
    "duration": 57,
    "start_time": "2022-09-25T02:39:40.722Z"
   },
   {
    "duration": 21,
    "start_time": "2022-09-25T02:39:40.781Z"
   },
   {
    "duration": 16,
    "start_time": "2022-09-25T02:39:40.805Z"
   },
   {
    "duration": 858,
    "start_time": "2022-09-25T02:39:40.822Z"
   },
   {
    "duration": 4,
    "start_time": "2022-09-25T02:39:41.683Z"
   },
   {
    "duration": 18,
    "start_time": "2022-09-25T02:39:41.689Z"
   },
   {
    "duration": 21,
    "start_time": "2022-09-25T02:39:41.709Z"
   },
   {
    "duration": 10,
    "start_time": "2022-09-25T02:39:41.732Z"
   },
   {
    "duration": 60,
    "start_time": "2022-09-25T02:39:41.755Z"
   },
   {
    "duration": 8,
    "start_time": "2022-09-25T02:39:41.817Z"
   },
   {
    "duration": 9,
    "start_time": "2022-09-25T02:39:41.827Z"
   },
   {
    "duration": 31,
    "start_time": "2022-09-25T02:39:41.837Z"
   },
   {
    "duration": 16,
    "start_time": "2022-09-25T02:39:41.870Z"
   },
   {
    "duration": 6,
    "start_time": "2022-09-25T02:39:41.888Z"
   },
   {
    "duration": 10,
    "start_time": "2022-09-25T02:39:41.896Z"
   },
   {
    "duration": 17,
    "start_time": "2022-09-25T02:39:41.908Z"
   },
   {
    "duration": 111,
    "start_time": "2022-09-25T02:39:41.926Z"
   },
   {
    "duration": 102,
    "start_time": "2022-09-25T02:39:42.038Z"
   },
   {
    "duration": 388,
    "start_time": "2022-09-25T02:39:42.141Z"
   },
   {
    "duration": 11,
    "start_time": "2022-09-25T02:39:42.530Z"
   },
   {
    "duration": 175,
    "start_time": "2022-09-25T02:39:42.554Z"
   },
   {
    "duration": 6,
    "start_time": "2022-09-25T02:39:42.730Z"
   },
   {
    "duration": 180,
    "start_time": "2022-09-25T02:39:42.737Z"
   },
   {
    "duration": 6,
    "start_time": "2022-09-25T02:39:42.919Z"
   },
   {
    "duration": 8,
    "start_time": "2022-09-25T02:39:42.927Z"
   },
   {
    "duration": 377,
    "start_time": "2022-09-25T02:39:42.936Z"
   },
   {
    "duration": 280,
    "start_time": "2022-09-25T02:39:43.316Z"
   },
   {
    "duration": 113,
    "start_time": "2022-09-25T02:39:43.598Z"
   },
   {
    "duration": 228,
    "start_time": "2022-09-25T02:40:44.741Z"
   },
   {
    "duration": 130,
    "start_time": "2022-09-25T02:41:07.797Z"
   },
   {
    "duration": 238,
    "start_time": "2022-09-25T02:41:19.012Z"
   },
   {
    "duration": 10,
    "start_time": "2022-09-25T02:52:22.657Z"
   },
   {
    "duration": 9,
    "start_time": "2022-09-25T02:52:24.841Z"
   },
   {
    "duration": 360,
    "start_time": "2022-09-25T02:52:25.388Z"
   },
   {
    "duration": 5,
    "start_time": "2022-09-25T03:02:18.830Z"
   },
   {
    "duration": 7,
    "start_time": "2022-09-25T03:03:33.901Z"
   },
   {
    "duration": 10,
    "start_time": "2022-09-25T03:03:34.406Z"
   },
   {
    "duration": 153,
    "start_time": "2022-09-25T03:03:34.975Z"
   },
   {
    "duration": 9,
    "start_time": "2022-09-25T03:03:39.244Z"
   },
   {
    "duration": 6,
    "start_time": "2022-09-25T03:03:39.408Z"
   },
   {
    "duration": 311,
    "start_time": "2022-09-25T03:03:40.210Z"
   },
   {
    "duration": 10,
    "start_time": "2022-09-25T03:03:41.610Z"
   },
   {
    "duration": 234,
    "start_time": "2022-09-25T03:03:43.594Z"
   },
   {
    "duration": 4,
    "start_time": "2022-09-25T03:03:44.960Z"
   },
   {
    "duration": 16,
    "start_time": "2022-09-25T03:04:04.618Z"
   },
   {
    "duration": 14,
    "start_time": "2022-09-25T03:04:25.665Z"
   },
   {
    "duration": 5,
    "start_time": "2022-09-25T03:07:29.460Z"
   },
   {
    "duration": 5,
    "start_time": "2022-09-25T03:09:37.576Z"
   },
   {
    "duration": 340,
    "start_time": "2022-09-25T03:09:52.375Z"
   },
   {
    "duration": 5,
    "start_time": "2022-09-25T03:10:22.440Z"
   },
   {
    "duration": 16,
    "start_time": "2022-09-25T03:10:23.076Z"
   },
   {
    "duration": 333,
    "start_time": "2022-09-25T03:10:23.665Z"
   },
   {
    "duration": 4,
    "start_time": "2022-09-25T03:10:56.156Z"
   },
   {
    "duration": 16,
    "start_time": "2022-09-25T03:10:56.770Z"
   },
   {
    "duration": 420,
    "start_time": "2022-09-25T03:10:57.343Z"
   },
   {
    "duration": 4,
    "start_time": "2022-09-25T03:13:33.813Z"
   },
   {
    "duration": 14,
    "start_time": "2022-09-25T03:13:34.320Z"
   },
   {
    "duration": 350,
    "start_time": "2022-09-25T03:13:34.838Z"
   },
   {
    "duration": 5,
    "start_time": "2022-09-25T03:13:49.113Z"
   },
   {
    "duration": 15,
    "start_time": "2022-09-25T03:13:49.913Z"
   },
   {
    "duration": 268,
    "start_time": "2022-09-25T03:13:50.435Z"
   },
   {
    "duration": 323,
    "start_time": "2022-09-25T03:14:25.239Z"
   },
   {
    "duration": 279,
    "start_time": "2022-09-25T03:14:39.590Z"
   },
   {
    "duration": 288,
    "start_time": "2022-09-25T03:15:09.859Z"
   },
   {
    "duration": 1143,
    "start_time": "2022-09-25T03:15:39.414Z"
   },
   {
    "duration": 53,
    "start_time": "2022-09-25T03:15:40.559Z"
   },
   {
    "duration": 21,
    "start_time": "2022-09-25T03:15:40.616Z"
   },
   {
    "duration": 17,
    "start_time": "2022-09-25T03:15:40.639Z"
   },
   {
    "duration": 774,
    "start_time": "2022-09-25T03:15:40.658Z"
   },
   {
    "duration": 4,
    "start_time": "2022-09-25T03:15:41.434Z"
   },
   {
    "duration": 17,
    "start_time": "2022-09-25T03:15:41.440Z"
   },
   {
    "duration": 34,
    "start_time": "2022-09-25T03:15:41.459Z"
   },
   {
    "duration": 12,
    "start_time": "2022-09-25T03:15:41.497Z"
   },
   {
    "duration": 101,
    "start_time": "2022-09-25T03:15:41.511Z"
   },
   {
    "duration": 12,
    "start_time": "2022-09-25T03:15:41.615Z"
   },
   {
    "duration": 26,
    "start_time": "2022-09-25T03:15:41.629Z"
   },
   {
    "duration": 15,
    "start_time": "2022-09-25T03:15:41.657Z"
   },
   {
    "duration": 20,
    "start_time": "2022-09-25T03:15:41.675Z"
   },
   {
    "duration": 20,
    "start_time": "2022-09-25T03:15:41.697Z"
   },
   {
    "duration": 11,
    "start_time": "2022-09-25T03:15:41.718Z"
   },
   {
    "duration": 26,
    "start_time": "2022-09-25T03:15:41.731Z"
   },
   {
    "duration": 106,
    "start_time": "2022-09-25T03:15:41.759Z"
   },
   {
    "duration": 116,
    "start_time": "2022-09-25T03:15:41.867Z"
   },
   {
    "duration": 390,
    "start_time": "2022-09-25T03:15:41.985Z"
   },
   {
    "duration": 12,
    "start_time": "2022-09-25T03:15:42.377Z"
   },
   {
    "duration": 188,
    "start_time": "2022-09-25T03:15:42.391Z"
   },
   {
    "duration": 5,
    "start_time": "2022-09-25T03:15:42.581Z"
   },
   {
    "duration": 15,
    "start_time": "2022-09-25T03:15:42.588Z"
   },
   {
    "duration": 167,
    "start_time": "2022-09-25T03:15:42.604Z"
   },
   {
    "duration": 6,
    "start_time": "2022-09-25T03:15:42.773Z"
   },
   {
    "duration": 8,
    "start_time": "2022-09-25T03:15:42.782Z"
   },
   {
    "duration": 360,
    "start_time": "2022-09-25T03:15:42.792Z"
   },
   {
    "duration": 10,
    "start_time": "2022-09-25T03:15:43.154Z"
   },
   {
    "duration": 240,
    "start_time": "2022-09-25T03:15:43.165Z"
   },
   {
    "duration": 6,
    "start_time": "2022-09-25T03:15:43.408Z"
   },
   {
    "duration": 19,
    "start_time": "2022-09-25T03:15:43.415Z"
   },
   {
    "duration": 269,
    "start_time": "2022-09-25T03:15:43.435Z"
   },
   {
    "duration": 316,
    "start_time": "2022-09-25T03:15:43.706Z"
   },
   {
    "duration": 416,
    "start_time": "2022-09-25T03:15:44.024Z"
   },
   {
    "duration": 332,
    "start_time": "2022-09-25T03:15:44.442Z"
   },
   {
    "duration": 5,
    "start_time": "2022-09-25T03:22:08.666Z"
   },
   {
    "duration": 14,
    "start_time": "2022-09-25T03:22:09.211Z"
   },
   {
    "duration": 265,
    "start_time": "2022-09-25T03:22:09.542Z"
   },
   {
    "duration": 309,
    "start_time": "2022-09-25T03:22:09.808Z"
   },
   {
    "duration": 302,
    "start_time": "2022-09-25T03:22:10.119Z"
   },
   {
    "duration": 318,
    "start_time": "2022-09-25T03:22:10.423Z"
   },
   {
    "duration": 51,
    "start_time": "2022-09-25T04:46:39.224Z"
   },
   {
    "duration": 42,
    "start_time": "2022-09-25T04:46:58.746Z"
   },
   {
    "duration": 1265,
    "start_time": "2022-09-25T04:47:03.152Z"
   },
   {
    "duration": 93,
    "start_time": "2022-09-25T04:47:04.418Z"
   },
   {
    "duration": 19,
    "start_time": "2022-09-25T04:47:04.512Z"
   },
   {
    "duration": 21,
    "start_time": "2022-09-25T04:47:04.533Z"
   },
   {
    "duration": 757,
    "start_time": "2022-09-25T04:47:04.556Z"
   },
   {
    "duration": 3,
    "start_time": "2022-09-25T04:47:05.315Z"
   },
   {
    "duration": 11,
    "start_time": "2022-09-25T04:47:05.321Z"
   },
   {
    "duration": 26,
    "start_time": "2022-09-25T04:47:05.334Z"
   },
   {
    "duration": 24,
    "start_time": "2022-09-25T04:47:05.361Z"
   },
   {
    "duration": 54,
    "start_time": "2022-09-25T04:47:05.388Z"
   },
   {
    "duration": 9,
    "start_time": "2022-09-25T04:47:05.444Z"
   },
   {
    "duration": 28,
    "start_time": "2022-09-25T04:47:05.454Z"
   },
   {
    "duration": 7,
    "start_time": "2022-09-25T04:47:05.484Z"
   },
   {
    "duration": 12,
    "start_time": "2022-09-25T04:47:05.493Z"
   },
   {
    "duration": 14,
    "start_time": "2022-09-25T04:47:05.507Z"
   },
   {
    "duration": 7,
    "start_time": "2022-09-25T04:47:05.522Z"
   },
   {
    "duration": 23,
    "start_time": "2022-09-25T04:47:05.531Z"
   },
   {
    "duration": 99,
    "start_time": "2022-09-25T04:47:05.556Z"
   },
   {
    "duration": 108,
    "start_time": "2022-09-25T04:47:05.657Z"
   },
   {
    "duration": 371,
    "start_time": "2022-09-25T04:47:05.767Z"
   },
   {
    "duration": 13,
    "start_time": "2022-09-25T04:47:06.139Z"
   },
   {
    "duration": 178,
    "start_time": "2022-09-25T04:47:06.154Z"
   },
   {
    "duration": 6,
    "start_time": "2022-09-25T04:47:06.334Z"
   },
   {
    "duration": 13,
    "start_time": "2022-09-25T04:47:06.342Z"
   },
   {
    "duration": 175,
    "start_time": "2022-09-25T04:47:06.357Z"
   },
   {
    "duration": 5,
    "start_time": "2022-09-25T04:47:06.534Z"
   },
   {
    "duration": 6,
    "start_time": "2022-09-25T04:47:06.541Z"
   },
   {
    "duration": 341,
    "start_time": "2022-09-25T04:47:06.551Z"
   },
   {
    "duration": 12,
    "start_time": "2022-09-25T04:47:06.895Z"
   },
   {
    "duration": 261,
    "start_time": "2022-09-25T04:47:06.909Z"
   },
   {
    "duration": 6,
    "start_time": "2022-09-25T04:47:07.171Z"
   },
   {
    "duration": 44,
    "start_time": "2022-09-25T04:47:07.179Z"
   },
   {
    "duration": 233,
    "start_time": "2022-09-25T04:47:07.224Z"
   },
   {
    "duration": 303,
    "start_time": "2022-09-25T04:47:07.459Z"
   },
   {
    "duration": 358,
    "start_time": "2022-09-25T04:47:07.764Z"
   },
   {
    "duration": 272,
    "start_time": "2022-09-25T04:47:08.124Z"
   },
   {
    "duration": 157,
    "start_time": "2022-09-25T04:47:08.398Z"
   },
   {
    "duration": 1095,
    "start_time": "2022-09-25T04:54:23.760Z"
   },
   {
    "duration": 64,
    "start_time": "2022-09-25T04:54:24.858Z"
   },
   {
    "duration": 26,
    "start_time": "2022-09-25T04:54:24.924Z"
   },
   {
    "duration": 14,
    "start_time": "2022-09-25T04:54:24.952Z"
   },
   {
    "duration": 833,
    "start_time": "2022-09-25T04:54:24.976Z"
   },
   {
    "duration": 4,
    "start_time": "2022-09-25T04:54:25.810Z"
   },
   {
    "duration": 14,
    "start_time": "2022-09-25T04:54:25.816Z"
   },
   {
    "duration": 22,
    "start_time": "2022-09-25T04:54:25.831Z"
   },
   {
    "duration": 9,
    "start_time": "2022-09-25T04:54:25.854Z"
   },
   {
    "duration": 51,
    "start_time": "2022-09-25T04:54:25.876Z"
   },
   {
    "duration": 8,
    "start_time": "2022-09-25T04:54:25.929Z"
   },
   {
    "duration": 10,
    "start_time": "2022-09-25T04:54:25.939Z"
   },
   {
    "duration": 26,
    "start_time": "2022-09-25T04:54:25.951Z"
   },
   {
    "duration": 6,
    "start_time": "2022-09-25T04:54:25.980Z"
   },
   {
    "duration": 7,
    "start_time": "2022-09-25T04:54:25.987Z"
   },
   {
    "duration": 8,
    "start_time": "2022-09-25T04:54:25.995Z"
   },
   {
    "duration": 17,
    "start_time": "2022-09-25T04:54:26.005Z"
   },
   {
    "duration": 118,
    "start_time": "2022-09-25T04:54:26.024Z"
   },
   {
    "duration": 110,
    "start_time": "2022-09-25T04:54:26.144Z"
   },
   {
    "duration": 373,
    "start_time": "2022-09-25T04:54:26.255Z"
   },
   {
    "duration": 12,
    "start_time": "2022-09-25T04:54:26.629Z"
   },
   {
    "duration": 168,
    "start_time": "2022-09-25T04:54:26.642Z"
   },
   {
    "duration": 5,
    "start_time": "2022-09-25T04:54:26.812Z"
   },
   {
    "duration": 17,
    "start_time": "2022-09-25T04:54:26.819Z"
   },
   {
    "duration": 163,
    "start_time": "2022-09-25T04:54:26.837Z"
   },
   {
    "duration": 6,
    "start_time": "2022-09-25T04:54:27.002Z"
   },
   {
    "duration": 19,
    "start_time": "2022-09-25T04:54:27.009Z"
   },
   {
    "duration": 350,
    "start_time": "2022-09-25T04:54:27.030Z"
   },
   {
    "duration": 8,
    "start_time": "2022-09-25T04:54:27.382Z"
   },
   {
    "duration": 233,
    "start_time": "2022-09-25T04:54:27.392Z"
   },
   {
    "duration": 4,
    "start_time": "2022-09-25T04:54:27.626Z"
   },
   {
    "duration": 18,
    "start_time": "2022-09-25T04:54:27.632Z"
   },
   {
    "duration": 256,
    "start_time": "2022-09-25T04:54:27.651Z"
   },
   {
    "duration": 298,
    "start_time": "2022-09-25T04:54:27.908Z"
   },
   {
    "duration": 374,
    "start_time": "2022-09-25T04:54:28.208Z"
   },
   {
    "duration": 307,
    "start_time": "2022-09-25T04:54:28.584Z"
   },
   {
    "duration": 157,
    "start_time": "2022-09-25T04:54:28.893Z"
   },
   {
    "duration": 9,
    "start_time": "2022-09-25T04:56:43.497Z"
   },
   {
    "duration": 1227,
    "start_time": "2022-09-25T04:56:53.451Z"
   },
   {
    "duration": 53,
    "start_time": "2022-09-25T04:56:54.680Z"
   },
   {
    "duration": 20,
    "start_time": "2022-09-25T04:56:54.735Z"
   },
   {
    "duration": 18,
    "start_time": "2022-09-25T04:56:54.758Z"
   },
   {
    "duration": 796,
    "start_time": "2022-09-25T04:56:54.778Z"
   },
   {
    "duration": 4,
    "start_time": "2022-09-25T04:56:55.575Z"
   },
   {
    "duration": 9,
    "start_time": "2022-09-25T04:56:55.581Z"
   },
   {
    "duration": 24,
    "start_time": "2022-09-25T04:56:55.591Z"
   },
   {
    "duration": 14,
    "start_time": "2022-09-25T04:56:55.617Z"
   },
   {
    "duration": 103,
    "start_time": "2022-09-25T04:56:55.635Z"
   },
   {
    "duration": 8,
    "start_time": "2022-09-25T04:56:55.739Z"
   },
   {
    "duration": 11,
    "start_time": "2022-09-25T04:56:55.749Z"
   },
   {
    "duration": 23,
    "start_time": "2022-09-25T04:56:55.762Z"
   },
   {
    "duration": 6,
    "start_time": "2022-09-25T04:56:55.787Z"
   },
   {
    "duration": 4,
    "start_time": "2022-09-25T04:56:55.796Z"
   },
   {
    "duration": 7,
    "start_time": "2022-09-25T04:56:55.802Z"
   },
   {
    "duration": 16,
    "start_time": "2022-09-25T04:56:55.810Z"
   },
   {
    "duration": 124,
    "start_time": "2022-09-25T04:56:55.828Z"
   },
   {
    "duration": 107,
    "start_time": "2022-09-25T04:56:55.954Z"
   },
   {
    "duration": 371,
    "start_time": "2022-09-25T04:56:56.062Z"
   },
   {
    "duration": 11,
    "start_time": "2022-09-25T04:56:56.435Z"
   },
   {
    "duration": 179,
    "start_time": "2022-09-25T04:56:56.448Z"
   },
   {
    "duration": 6,
    "start_time": "2022-09-25T04:56:56.628Z"
   },
   {
    "duration": 161,
    "start_time": "2022-09-25T04:56:56.635Z"
   },
   {
    "duration": 8,
    "start_time": "2022-09-25T04:56:56.798Z"
   },
   {
    "duration": 6,
    "start_time": "2022-09-25T04:56:56.808Z"
   },
   {
    "duration": 7,
    "start_time": "2022-09-25T04:56:56.816Z"
   },
   {
    "duration": 378,
    "start_time": "2022-09-25T04:56:56.826Z"
   },
   {
    "duration": 8,
    "start_time": "2022-09-25T04:56:57.206Z"
   },
   {
    "duration": 222,
    "start_time": "2022-09-25T04:56:57.216Z"
   },
   {
    "duration": 4,
    "start_time": "2022-09-25T04:56:57.440Z"
   },
   {
    "duration": 16,
    "start_time": "2022-09-25T04:56:57.446Z"
   },
   {
    "duration": 255,
    "start_time": "2022-09-25T04:56:57.463Z"
   },
   {
    "duration": 277,
    "start_time": "2022-09-25T04:56:57.720Z"
   },
   {
    "duration": 345,
    "start_time": "2022-09-25T04:56:57.998Z"
   },
   {
    "duration": 281,
    "start_time": "2022-09-25T04:56:58.345Z"
   },
   {
    "duration": 159,
    "start_time": "2022-09-25T04:56:58.628Z"
   },
   {
    "duration": 99,
    "start_time": "2022-09-25T05:06:07.500Z"
   },
   {
    "duration": 352,
    "start_time": "2022-09-25T05:06:17.991Z"
   },
   {
    "duration": 383,
    "start_time": "2022-09-25T05:08:09.240Z"
   },
   {
    "duration": 5,
    "start_time": "2022-09-25T05:12:25.134Z"
   },
   {
    "duration": 5,
    "start_time": "2022-09-25T05:13:14.547Z"
   },
   {
    "duration": 1075,
    "start_time": "2022-09-25T05:13:24.598Z"
   },
   {
    "duration": 50,
    "start_time": "2022-09-25T05:13:25.676Z"
   },
   {
    "duration": 19,
    "start_time": "2022-09-25T05:13:25.728Z"
   },
   {
    "duration": 13,
    "start_time": "2022-09-25T05:13:25.748Z"
   },
   {
    "duration": 696,
    "start_time": "2022-09-25T05:13:25.763Z"
   },
   {
    "duration": 3,
    "start_time": "2022-09-25T05:13:26.461Z"
   },
   {
    "duration": 13,
    "start_time": "2022-09-25T05:13:26.465Z"
   },
   {
    "duration": 22,
    "start_time": "2022-09-25T05:13:26.479Z"
   },
   {
    "duration": 8,
    "start_time": "2022-09-25T05:13:26.503Z"
   },
   {
    "duration": 70,
    "start_time": "2022-09-25T05:13:26.512Z"
   },
   {
    "duration": 8,
    "start_time": "2022-09-25T05:13:26.584Z"
   },
   {
    "duration": 13,
    "start_time": "2022-09-25T05:13:26.594Z"
   },
   {
    "duration": 14,
    "start_time": "2022-09-25T05:13:26.608Z"
   },
   {
    "duration": 7,
    "start_time": "2022-09-25T05:13:26.625Z"
   },
   {
    "duration": 11,
    "start_time": "2022-09-25T05:13:26.633Z"
   },
   {
    "duration": 7,
    "start_time": "2022-09-25T05:13:26.646Z"
   },
   {
    "duration": 30,
    "start_time": "2022-09-25T05:13:26.654Z"
   },
   {
    "duration": 105,
    "start_time": "2022-09-25T05:13:26.686Z"
   },
   {
    "duration": 109,
    "start_time": "2022-09-25T05:13:26.793Z"
   },
   {
    "duration": 378,
    "start_time": "2022-09-25T05:13:26.904Z"
   },
   {
    "duration": 12,
    "start_time": "2022-09-25T05:13:27.284Z"
   },
   {
    "duration": 172,
    "start_time": "2022-09-25T05:13:27.297Z"
   },
   {
    "duration": 9,
    "start_time": "2022-09-25T05:13:27.470Z"
   },
   {
    "duration": 161,
    "start_time": "2022-09-25T05:13:27.481Z"
   },
   {
    "duration": 9,
    "start_time": "2022-09-25T05:13:27.643Z"
   },
   {
    "duration": 6,
    "start_time": "2022-09-25T05:13:27.653Z"
   },
   {
    "duration": 18,
    "start_time": "2022-09-25T05:13:27.660Z"
   },
   {
    "duration": 352,
    "start_time": "2022-09-25T05:13:27.680Z"
   },
   {
    "duration": 8,
    "start_time": "2022-09-25T05:13:28.035Z"
   },
   {
    "duration": 227,
    "start_time": "2022-09-25T05:13:28.045Z"
   },
   {
    "duration": 4,
    "start_time": "2022-09-25T05:13:28.274Z"
   },
   {
    "duration": 16,
    "start_time": "2022-09-25T05:13:28.279Z"
   },
   {
    "duration": 256,
    "start_time": "2022-09-25T05:13:28.296Z"
   },
   {
    "duration": 287,
    "start_time": "2022-09-25T05:13:28.554Z"
   },
   {
    "duration": 366,
    "start_time": "2022-09-25T05:13:28.843Z"
   },
   {
    "duration": 273,
    "start_time": "2022-09-25T05:13:29.211Z"
   },
   {
    "duration": 161,
    "start_time": "2022-09-25T05:13:29.485Z"
   },
   {
    "duration": 351,
    "start_time": "2022-09-25T05:13:29.648Z"
   },
   {
    "duration": 381,
    "start_time": "2022-09-25T05:13:30.000Z"
   },
   {
    "duration": 4,
    "start_time": "2022-09-25T05:13:30.382Z"
   },
   {
    "duration": 6,
    "start_time": "2022-09-25T05:15:30.037Z"
   },
   {
    "duration": 4,
    "start_time": "2022-09-25T05:15:44.237Z"
   },
   {
    "duration": 730,
    "start_time": "2022-09-25T05:15:53.405Z"
   },
   {
    "duration": 1210,
    "start_time": "2022-09-25T05:16:15.308Z"
   },
   {
    "duration": 1084,
    "start_time": "2022-09-25T05:16:21.103Z"
   },
   {
    "duration": 1083,
    "start_time": "2022-09-25T05:16:35.214Z"
   },
   {
    "duration": 51,
    "start_time": "2022-09-25T05:16:36.299Z"
   },
   {
    "duration": 19,
    "start_time": "2022-09-25T05:16:36.351Z"
   },
   {
    "duration": 15,
    "start_time": "2022-09-25T05:16:36.372Z"
   },
   {
    "duration": 748,
    "start_time": "2022-09-25T05:16:36.389Z"
   },
   {
    "duration": 3,
    "start_time": "2022-09-25T05:16:37.139Z"
   },
   {
    "duration": 7,
    "start_time": "2022-09-25T05:16:37.144Z"
   },
   {
    "duration": 41,
    "start_time": "2022-09-25T05:16:37.152Z"
   },
   {
    "duration": 11,
    "start_time": "2022-09-25T05:16:37.195Z"
   },
   {
    "duration": 49,
    "start_time": "2022-09-25T05:16:37.208Z"
   },
   {
    "duration": 24,
    "start_time": "2022-09-25T05:16:37.259Z"
   },
   {
    "duration": 9,
    "start_time": "2022-09-25T05:16:37.285Z"
   },
   {
    "duration": 10,
    "start_time": "2022-09-25T05:16:37.295Z"
   },
   {
    "duration": 5,
    "start_time": "2022-09-25T05:16:37.308Z"
   },
   {
    "duration": 5,
    "start_time": "2022-09-25T05:16:37.315Z"
   },
   {
    "duration": 8,
    "start_time": "2022-09-25T05:16:37.321Z"
   },
   {
    "duration": 46,
    "start_time": "2022-09-25T05:16:37.331Z"
   },
   {
    "duration": 103,
    "start_time": "2022-09-25T05:16:37.379Z"
   },
   {
    "duration": 107,
    "start_time": "2022-09-25T05:16:37.484Z"
   },
   {
    "duration": 361,
    "start_time": "2022-09-25T05:16:37.593Z"
   },
   {
    "duration": 20,
    "start_time": "2022-09-25T05:16:37.956Z"
   },
   {
    "duration": 164,
    "start_time": "2022-09-25T05:16:37.978Z"
   },
   {
    "duration": 6,
    "start_time": "2022-09-25T05:16:38.144Z"
   },
   {
    "duration": 167,
    "start_time": "2022-09-25T05:16:38.151Z"
   },
   {
    "duration": 9,
    "start_time": "2022-09-25T05:16:38.320Z"
   },
   {
    "duration": 6,
    "start_time": "2022-09-25T05:16:38.330Z"
   },
   {
    "duration": 6,
    "start_time": "2022-09-25T05:16:38.337Z"
   },
   {
    "duration": 359,
    "start_time": "2022-09-25T05:16:38.344Z"
   },
   {
    "duration": 9,
    "start_time": "2022-09-25T05:16:38.705Z"
   },
   {
    "duration": 224,
    "start_time": "2022-09-25T05:16:38.716Z"
   },
   {
    "duration": 4,
    "start_time": "2022-09-25T05:16:38.942Z"
   },
   {
    "duration": 16,
    "start_time": "2022-09-25T05:16:38.948Z"
   },
   {
    "duration": 256,
    "start_time": "2022-09-25T05:16:38.976Z"
   },
   {
    "duration": 298,
    "start_time": "2022-09-25T05:16:39.234Z"
   },
   {
    "duration": 362,
    "start_time": "2022-09-25T05:16:39.533Z"
   },
   {
    "duration": 284,
    "start_time": "2022-09-25T05:16:39.897Z"
   },
   {
    "duration": 165,
    "start_time": "2022-09-25T05:16:40.183Z"
   },
   {
    "duration": 401,
    "start_time": "2022-09-25T05:16:40.350Z"
   },
   {
    "duration": 405,
    "start_time": "2022-09-25T05:16:40.754Z"
   },
   {
    "duration": 4,
    "start_time": "2022-09-25T05:16:41.161Z"
   },
   {
    "duration": 3,
    "start_time": "2022-09-25T05:16:59.802Z"
   },
   {
    "duration": 98,
    "start_time": "2022-09-25T05:17:20.945Z"
   },
   {
    "duration": 18,
    "start_time": "2022-09-25T05:17:37.268Z"
   },
   {
    "duration": 14,
    "start_time": "2022-09-25T05:18:24.927Z"
   },
   {
    "duration": 649,
    "start_time": "2022-09-25T05:18:29.476Z"
   },
   {
    "duration": 0,
    "start_time": "2022-09-25T05:18:30.127Z"
   },
   {
    "duration": 1107,
    "start_time": "2022-09-25T05:18:50.767Z"
   },
   {
    "duration": 52,
    "start_time": "2022-09-25T05:18:51.876Z"
   },
   {
    "duration": 19,
    "start_time": "2022-09-25T05:18:51.930Z"
   },
   {
    "duration": 15,
    "start_time": "2022-09-25T05:18:51.951Z"
   },
   {
    "duration": 734,
    "start_time": "2022-09-25T05:18:51.968Z"
   },
   {
    "duration": 4,
    "start_time": "2022-09-25T05:18:52.704Z"
   },
   {
    "duration": 17,
    "start_time": "2022-09-25T05:18:52.709Z"
   },
   {
    "duration": 39,
    "start_time": "2022-09-25T05:18:52.728Z"
   },
   {
    "duration": 8,
    "start_time": "2022-09-25T05:18:52.769Z"
   },
   {
    "duration": 75,
    "start_time": "2022-09-25T05:18:52.778Z"
   },
   {
    "duration": 9,
    "start_time": "2022-09-25T05:18:52.854Z"
   },
   {
    "duration": 18,
    "start_time": "2022-09-25T05:18:52.865Z"
   },
   {
    "duration": 35,
    "start_time": "2022-09-25T05:18:52.885Z"
   },
   {
    "duration": 17,
    "start_time": "2022-09-25T05:18:52.923Z"
   },
   {
    "duration": 22,
    "start_time": "2022-09-25T05:18:52.941Z"
   },
   {
    "duration": 14,
    "start_time": "2022-09-25T05:18:52.965Z"
   },
   {
    "duration": 37,
    "start_time": "2022-09-25T05:18:52.981Z"
   },
   {
    "duration": 105,
    "start_time": "2022-09-25T05:18:53.020Z"
   },
   {
    "duration": 104,
    "start_time": "2022-09-25T05:18:53.127Z"
   },
   {
    "duration": 405,
    "start_time": "2022-09-25T05:18:53.233Z"
   },
   {
    "duration": 13,
    "start_time": "2022-09-25T05:18:53.640Z"
   },
   {
    "duration": 207,
    "start_time": "2022-09-25T05:18:53.655Z"
   },
   {
    "duration": 14,
    "start_time": "2022-09-25T05:18:53.865Z"
   },
   {
    "duration": 167,
    "start_time": "2022-09-25T05:18:53.881Z"
   },
   {
    "duration": 10,
    "start_time": "2022-09-25T05:18:54.050Z"
   },
   {
    "duration": 20,
    "start_time": "2022-09-25T05:18:54.062Z"
   },
   {
    "duration": 6,
    "start_time": "2022-09-25T05:18:54.084Z"
   },
   {
    "duration": 360,
    "start_time": "2022-09-25T05:18:54.092Z"
   },
   {
    "duration": 10,
    "start_time": "2022-09-25T05:18:54.454Z"
   },
   {
    "duration": 237,
    "start_time": "2022-09-25T05:18:54.465Z"
   },
   {
    "duration": 4,
    "start_time": "2022-09-25T05:18:54.704Z"
   },
   {
    "duration": 20,
    "start_time": "2022-09-25T05:18:54.710Z"
   },
   {
    "duration": 273,
    "start_time": "2022-09-25T05:18:54.731Z"
   },
   {
    "duration": 379,
    "start_time": "2022-09-25T05:18:55.006Z"
   },
   {
    "duration": 408,
    "start_time": "2022-09-25T05:18:55.387Z"
   },
   {
    "duration": 295,
    "start_time": "2022-09-25T05:18:55.797Z"
   },
   {
    "duration": 184,
    "start_time": "2022-09-25T05:18:56.094Z"
   },
   {
    "duration": 373,
    "start_time": "2022-09-25T05:18:56.280Z"
   },
   {
    "duration": 420,
    "start_time": "2022-09-25T05:18:56.655Z"
   },
   {
    "duration": 4,
    "start_time": "2022-09-25T05:18:57.077Z"
   },
   {
    "duration": 114,
    "start_time": "2022-09-25T05:18:57.085Z"
   },
   {
    "duration": 15,
    "start_time": "2022-09-25T05:19:12.679Z"
   },
   {
    "duration": 1127,
    "start_time": "2022-09-25T05:21:16.857Z"
   },
   {
    "duration": 54,
    "start_time": "2022-09-25T05:21:17.986Z"
   },
   {
    "duration": 21,
    "start_time": "2022-09-25T05:21:18.041Z"
   },
   {
    "duration": 14,
    "start_time": "2022-09-25T05:21:18.065Z"
   },
   {
    "duration": 766,
    "start_time": "2022-09-25T05:21:18.081Z"
   },
   {
    "duration": 4,
    "start_time": "2022-09-25T05:21:18.849Z"
   },
   {
    "duration": 7,
    "start_time": "2022-09-25T05:21:18.854Z"
   },
   {
    "duration": 28,
    "start_time": "2022-09-25T05:21:18.863Z"
   },
   {
    "duration": 9,
    "start_time": "2022-09-25T05:21:18.893Z"
   },
   {
    "duration": 68,
    "start_time": "2022-09-25T05:21:18.906Z"
   },
   {
    "duration": 8,
    "start_time": "2022-09-25T05:21:18.977Z"
   },
   {
    "duration": 19,
    "start_time": "2022-09-25T05:21:18.987Z"
   },
   {
    "duration": 13,
    "start_time": "2022-09-25T05:21:19.008Z"
   },
   {
    "duration": 25,
    "start_time": "2022-09-25T05:21:19.023Z"
   },
   {
    "duration": 26,
    "start_time": "2022-09-25T05:21:19.049Z"
   },
   {
    "duration": 15,
    "start_time": "2022-09-25T05:21:19.077Z"
   },
   {
    "duration": 17,
    "start_time": "2022-09-25T05:21:19.093Z"
   },
   {
    "duration": 26,
    "start_time": "2022-09-25T05:21:19.112Z"
   },
   {
    "duration": 97,
    "start_time": "2022-09-25T05:21:19.139Z"
   },
   {
    "duration": 114,
    "start_time": "2022-09-25T05:21:19.238Z"
   },
   {
    "duration": 392,
    "start_time": "2022-09-25T05:21:19.354Z"
   },
   {
    "duration": 12,
    "start_time": "2022-09-25T05:21:19.748Z"
   },
   {
    "duration": 175,
    "start_time": "2022-09-25T05:21:19.762Z"
   },
   {
    "duration": 6,
    "start_time": "2022-09-25T05:21:19.939Z"
   },
   {
    "duration": 168,
    "start_time": "2022-09-25T05:21:19.946Z"
   },
   {
    "duration": 10,
    "start_time": "2022-09-25T05:21:20.116Z"
   },
   {
    "duration": 14,
    "start_time": "2022-09-25T05:21:20.128Z"
   },
   {
    "duration": 13,
    "start_time": "2022-09-25T05:21:20.146Z"
   },
   {
    "duration": 360,
    "start_time": "2022-09-25T05:21:20.160Z"
   },
   {
    "duration": 10,
    "start_time": "2022-09-25T05:21:20.522Z"
   },
   {
    "duration": 275,
    "start_time": "2022-09-25T05:21:20.534Z"
   },
   {
    "duration": 5,
    "start_time": "2022-09-25T05:21:20.810Z"
   },
   {
    "duration": 27,
    "start_time": "2022-09-25T05:21:20.817Z"
   },
   {
    "duration": 258,
    "start_time": "2022-09-25T05:21:20.846Z"
   },
   {
    "duration": 296,
    "start_time": "2022-09-25T05:21:21.106Z"
   },
   {
    "duration": 382,
    "start_time": "2022-09-25T05:21:21.404Z"
   },
   {
    "duration": 303,
    "start_time": "2022-09-25T05:21:21.788Z"
   },
   {
    "duration": 157,
    "start_time": "2022-09-25T05:21:22.094Z"
   },
   {
    "duration": 372,
    "start_time": "2022-09-25T05:21:22.253Z"
   },
   {
    "duration": 378,
    "start_time": "2022-09-25T05:21:22.627Z"
   },
   {
    "duration": 439,
    "start_time": "2022-09-25T05:21:23.007Z"
   },
   {
    "duration": 12,
    "start_time": "2022-09-25T05:27:22.837Z"
   },
   {
    "duration": 5,
    "start_time": "2022-09-25T05:27:35.702Z"
   },
   {
    "duration": 5,
    "start_time": "2022-09-25T05:28:18.567Z"
   },
   {
    "duration": 8,
    "start_time": "2022-09-25T05:29:09.609Z"
   },
   {
    "duration": 5,
    "start_time": "2022-09-25T05:29:21.397Z"
   },
   {
    "duration": 5,
    "start_time": "2022-09-25T05:29:42.327Z"
   },
   {
    "duration": 1263,
    "start_time": "2022-09-25T14:56:02.276Z"
   },
   {
    "duration": 107,
    "start_time": "2022-09-25T14:56:03.541Z"
   },
   {
    "duration": 22,
    "start_time": "2022-09-25T14:56:03.650Z"
   },
   {
    "duration": 22,
    "start_time": "2022-09-25T14:56:03.673Z"
   },
   {
    "duration": 875,
    "start_time": "2022-09-25T14:56:03.697Z"
   },
   {
    "duration": 4,
    "start_time": "2022-09-25T14:56:04.574Z"
   },
   {
    "duration": 7,
    "start_time": "2022-09-25T14:56:04.580Z"
   },
   {
    "duration": 35,
    "start_time": "2022-09-25T14:56:04.589Z"
   },
   {
    "duration": 9,
    "start_time": "2022-09-25T14:56:04.626Z"
   },
   {
    "duration": 82,
    "start_time": "2022-09-25T14:56:04.638Z"
   },
   {
    "duration": 10,
    "start_time": "2022-09-25T14:56:04.722Z"
   },
   {
    "duration": 10,
    "start_time": "2022-09-25T14:56:04.733Z"
   },
   {
    "duration": 13,
    "start_time": "2022-09-25T14:56:04.744Z"
   },
   {
    "duration": 13,
    "start_time": "2022-09-25T14:56:04.761Z"
   },
   {
    "duration": 11,
    "start_time": "2022-09-25T14:56:04.776Z"
   },
   {
    "duration": 30,
    "start_time": "2022-09-25T14:56:04.790Z"
   },
   {
    "duration": 6,
    "start_time": "2022-09-25T14:56:04.823Z"
   },
   {
    "duration": 22,
    "start_time": "2022-09-25T14:56:04.831Z"
   },
   {
    "duration": 130,
    "start_time": "2022-09-25T14:56:04.855Z"
   },
   {
    "duration": 121,
    "start_time": "2022-09-25T14:56:04.987Z"
   },
   {
    "duration": 395,
    "start_time": "2022-09-25T14:56:05.111Z"
   },
   {
    "duration": 19,
    "start_time": "2022-09-25T14:56:05.508Z"
   },
   {
    "duration": 209,
    "start_time": "2022-09-25T14:56:05.529Z"
   },
   {
    "duration": 5,
    "start_time": "2022-09-25T14:56:05.740Z"
   },
   {
    "duration": 187,
    "start_time": "2022-09-25T14:56:05.747Z"
   },
   {
    "duration": 10,
    "start_time": "2022-09-25T14:56:05.936Z"
   },
   {
    "duration": 24,
    "start_time": "2022-09-25T14:56:05.948Z"
   },
   {
    "duration": 28,
    "start_time": "2022-09-25T14:56:05.974Z"
   },
   {
    "duration": 366,
    "start_time": "2022-09-25T14:56:06.004Z"
   },
   {
    "duration": 9,
    "start_time": "2022-09-25T14:56:06.371Z"
   },
   {
    "duration": 261,
    "start_time": "2022-09-25T14:56:06.381Z"
   },
   {
    "duration": 5,
    "start_time": "2022-09-25T14:56:06.644Z"
   },
   {
    "duration": 21,
    "start_time": "2022-09-25T14:56:06.651Z"
   },
   {
    "duration": 286,
    "start_time": "2022-09-25T14:56:06.673Z"
   },
   {
    "duration": 328,
    "start_time": "2022-09-25T14:56:06.961Z"
   },
   {
    "duration": 397,
    "start_time": "2022-09-25T14:56:07.291Z"
   },
   {
    "duration": 334,
    "start_time": "2022-09-25T14:56:07.690Z"
   },
   {
    "duration": 174,
    "start_time": "2022-09-25T14:56:08.026Z"
   },
   {
    "duration": 406,
    "start_time": "2022-09-25T14:56:08.202Z"
   },
   {
    "duration": 491,
    "start_time": "2022-09-25T14:56:08.610Z"
   },
   {
    "duration": 515,
    "start_time": "2022-09-25T14:56:09.105Z"
   },
   {
    "duration": 11,
    "start_time": "2022-09-25T14:56:09.622Z"
   },
   {
    "duration": 14,
    "start_time": "2022-09-25T14:56:09.635Z"
   },
   {
    "duration": 10,
    "start_time": "2022-09-25T14:56:09.651Z"
   },
   {
    "duration": 16,
    "start_time": "2022-09-25T14:56:09.663Z"
   },
   {
    "duration": 14,
    "start_time": "2022-09-25T14:56:09.680Z"
   },
   {
    "duration": 9,
    "start_time": "2022-09-25T14:56:09.696Z"
   },
   {
    "duration": 342,
    "start_time": "2022-09-25T15:05:48.600Z"
   },
   {
    "duration": 314,
    "start_time": "2022-09-25T15:10:55.120Z"
   },
   {
    "duration": 105,
    "start_time": "2022-09-25T21:26:55.292Z"
   },
   {
    "duration": 1365,
    "start_time": "2022-09-25T21:40:17.640Z"
   },
   {
    "duration": 94,
    "start_time": "2022-09-25T21:40:19.008Z"
   },
   {
    "duration": 20,
    "start_time": "2022-09-25T21:40:19.104Z"
   },
   {
    "duration": 14,
    "start_time": "2022-09-25T21:40:19.126Z"
   },
   {
    "duration": 760,
    "start_time": "2022-09-25T21:40:19.142Z"
   },
   {
    "duration": 3,
    "start_time": "2022-09-25T21:40:19.904Z"
   },
   {
    "duration": 7,
    "start_time": "2022-09-25T21:40:19.909Z"
   },
   {
    "duration": 24,
    "start_time": "2022-09-25T21:40:19.918Z"
   },
   {
    "duration": 12,
    "start_time": "2022-09-25T21:40:19.955Z"
   },
   {
    "duration": 73,
    "start_time": "2022-09-25T21:40:19.968Z"
   },
   {
    "duration": 11,
    "start_time": "2022-09-25T21:40:20.043Z"
   },
   {
    "duration": 10,
    "start_time": "2022-09-25T21:40:20.056Z"
   },
   {
    "duration": 13,
    "start_time": "2022-09-25T21:40:20.068Z"
   },
   {
    "duration": 8,
    "start_time": "2022-09-25T21:40:20.084Z"
   },
   {
    "duration": 8,
    "start_time": "2022-09-25T21:40:20.093Z"
   },
   {
    "duration": 14,
    "start_time": "2022-09-25T21:40:20.102Z"
   },
   {
    "duration": 6,
    "start_time": "2022-09-25T21:40:20.118Z"
   },
   {
    "duration": 37,
    "start_time": "2022-09-25T21:40:20.126Z"
   },
   {
    "duration": 103,
    "start_time": "2022-09-25T21:40:20.165Z"
   },
   {
    "duration": 114,
    "start_time": "2022-09-25T21:40:20.269Z"
   },
   {
    "duration": 400,
    "start_time": "2022-09-25T21:40:20.385Z"
   },
   {
    "duration": 12,
    "start_time": "2022-09-25T21:40:20.786Z"
   },
   {
    "duration": 178,
    "start_time": "2022-09-25T21:40:20.800Z"
   },
   {
    "duration": 6,
    "start_time": "2022-09-25T21:40:20.980Z"
   },
   {
    "duration": 177,
    "start_time": "2022-09-25T21:40:20.988Z"
   },
   {
    "duration": 9,
    "start_time": "2022-09-25T21:40:21.166Z"
   },
   {
    "duration": 8,
    "start_time": "2022-09-25T21:40:21.177Z"
   },
   {
    "duration": 5,
    "start_time": "2022-09-25T21:40:21.187Z"
   },
   {
    "duration": 411,
    "start_time": "2022-09-25T21:40:21.193Z"
   },
   {
    "duration": 9,
    "start_time": "2022-09-25T21:40:21.606Z"
   },
   {
    "duration": 244,
    "start_time": "2022-09-25T21:40:21.617Z"
   },
   {
    "duration": 4,
    "start_time": "2022-09-25T21:40:21.863Z"
   },
   {
    "duration": 20,
    "start_time": "2022-09-25T21:40:21.869Z"
   },
   {
    "duration": 266,
    "start_time": "2022-09-25T21:40:21.890Z"
   },
   {
    "duration": 297,
    "start_time": "2022-09-25T21:40:22.157Z"
   },
   {
    "duration": 382,
    "start_time": "2022-09-25T21:40:22.456Z"
   },
   {
    "duration": 307,
    "start_time": "2022-09-25T21:40:22.840Z"
   },
   {
    "duration": 182,
    "start_time": "2022-09-25T21:40:23.148Z"
   },
   {
    "duration": 378,
    "start_time": "2022-09-25T21:40:23.332Z"
   },
   {
    "duration": 389,
    "start_time": "2022-09-25T21:40:23.712Z"
   },
   {
    "duration": 438,
    "start_time": "2022-09-25T21:40:24.105Z"
   },
   {
    "duration": 18,
    "start_time": "2022-09-25T21:40:24.544Z"
   },
   {
    "duration": 4,
    "start_time": "2022-09-25T21:40:24.564Z"
   },
   {
    "duration": 12,
    "start_time": "2022-09-25T21:40:24.569Z"
   },
   {
    "duration": 10,
    "start_time": "2022-09-25T21:40:24.582Z"
   },
   {
    "duration": 8,
    "start_time": "2022-09-25T21:40:24.594Z"
   },
   {
    "duration": 7,
    "start_time": "2022-09-25T21:40:24.603Z"
   },
   {
    "duration": 728,
    "start_time": "2022-09-25T21:43:16.665Z"
   },
   {
    "duration": 147,
    "start_time": "2022-09-25T21:43:30.611Z"
   },
   {
    "duration": 146,
    "start_time": "2022-09-25T21:43:52.766Z"
   },
   {
    "duration": 146,
    "start_time": "2022-09-25T21:44:19.849Z"
   },
   {
    "duration": 147,
    "start_time": "2022-09-25T21:45:37.048Z"
   },
   {
    "duration": 1021,
    "start_time": "2022-09-25T21:45:49.528Z"
   },
   {
    "duration": 231,
    "start_time": "2022-09-25T21:46:30.931Z"
   },
   {
    "duration": 324,
    "start_time": "2022-09-25T21:47:17.425Z"
   },
   {
    "duration": 1128,
    "start_time": "2022-09-25T21:47:54.701Z"
   },
   {
    "duration": 64,
    "start_time": "2022-09-25T21:47:55.831Z"
   },
   {
    "duration": 20,
    "start_time": "2022-09-25T21:47:55.897Z"
   },
   {
    "duration": 13,
    "start_time": "2022-09-25T21:47:55.919Z"
   },
   {
    "duration": 798,
    "start_time": "2022-09-25T21:47:55.934Z"
   },
   {
    "duration": 3,
    "start_time": "2022-09-25T21:47:56.734Z"
   },
   {
    "duration": 17,
    "start_time": "2022-09-25T21:47:56.738Z"
   },
   {
    "duration": 38,
    "start_time": "2022-09-25T21:47:56.756Z"
   },
   {
    "duration": 16,
    "start_time": "2022-09-25T21:47:56.796Z"
   },
   {
    "duration": 59,
    "start_time": "2022-09-25T21:47:56.815Z"
   },
   {
    "duration": 9,
    "start_time": "2022-09-25T21:47:56.875Z"
   },
   {
    "duration": 12,
    "start_time": "2022-09-25T21:47:56.885Z"
   },
   {
    "duration": 7,
    "start_time": "2022-09-25T21:47:56.899Z"
   },
   {
    "duration": 7,
    "start_time": "2022-09-25T21:47:56.908Z"
   },
   {
    "duration": 12,
    "start_time": "2022-09-25T21:47:56.916Z"
   },
   {
    "duration": 5,
    "start_time": "2022-09-25T21:47:56.930Z"
   },
   {
    "duration": 34,
    "start_time": "2022-09-25T21:47:56.936Z"
   },
   {
    "duration": 18,
    "start_time": "2022-09-25T21:47:56.972Z"
   },
   {
    "duration": 109,
    "start_time": "2022-09-25T21:47:56.992Z"
   },
   {
    "duration": 111,
    "start_time": "2022-09-25T21:47:57.103Z"
   },
   {
    "duration": 458,
    "start_time": "2022-09-25T21:47:57.215Z"
   },
   {
    "duration": 13,
    "start_time": "2022-09-25T21:47:57.674Z"
   },
   {
    "duration": 283,
    "start_time": "2022-09-25T21:47:57.689Z"
   },
   {
    "duration": 6,
    "start_time": "2022-09-25T21:47:57.974Z"
   },
   {
    "duration": 178,
    "start_time": "2022-09-25T21:47:57.981Z"
   },
   {
    "duration": 11,
    "start_time": "2022-09-25T21:47:58.161Z"
   },
   {
    "duration": 6,
    "start_time": "2022-09-25T21:47:58.174Z"
   },
   {
    "duration": 6,
    "start_time": "2022-09-25T21:47:58.184Z"
   },
   {
    "duration": 380,
    "start_time": "2022-09-25T21:47:58.192Z"
   },
   {
    "duration": 283,
    "start_time": "2022-09-25T21:47:58.574Z"
   },
   {
    "duration": 7,
    "start_time": "2022-09-25T21:47:58.860Z"
   },
   {
    "duration": 22,
    "start_time": "2022-09-25T21:47:58.869Z"
   },
   {
    "duration": 278,
    "start_time": "2022-09-25T21:47:58.894Z"
   },
   {
    "duration": 333,
    "start_time": "2022-09-25T21:47:59.174Z"
   },
   {
    "duration": 411,
    "start_time": "2022-09-25T21:47:59.509Z"
   },
   {
    "duration": 313,
    "start_time": "2022-09-25T21:47:59.923Z"
   },
   {
    "duration": 189,
    "start_time": "2022-09-25T21:48:00.238Z"
   },
   {
    "duration": 425,
    "start_time": "2022-09-25T21:48:00.429Z"
   },
   {
    "duration": 418,
    "start_time": "2022-09-25T21:48:00.857Z"
   },
   {
    "duration": 568,
    "start_time": "2022-09-25T21:48:01.277Z"
   },
   {
    "duration": 17,
    "start_time": "2022-09-25T21:48:01.847Z"
   },
   {
    "duration": 42,
    "start_time": "2022-09-25T21:48:01.866Z"
   },
   {
    "duration": 34,
    "start_time": "2022-09-25T21:48:01.910Z"
   },
   {
    "duration": 37,
    "start_time": "2022-09-25T21:48:01.946Z"
   },
   {
    "duration": 26,
    "start_time": "2022-09-25T21:48:01.985Z"
   },
   {
    "duration": 28,
    "start_time": "2022-09-25T21:48:02.012Z"
   },
   {
    "duration": 336,
    "start_time": "2022-09-25T21:52:54.830Z"
   },
   {
    "duration": 104,
    "start_time": "2022-09-25T21:55:53.115Z"
   },
   {
    "duration": 13,
    "start_time": "2022-09-25T21:56:00.031Z"
   },
   {
    "duration": 500,
    "start_time": "2022-09-25T21:56:00.046Z"
   },
   {
    "duration": 16,
    "start_time": "2022-09-25T22:14:18.676Z"
   },
   {
    "duration": 20,
    "start_time": "2022-09-25T22:17:22.455Z"
   },
   {
    "duration": 12,
    "start_time": "2022-09-25T22:17:44.612Z"
   },
   {
    "duration": 10,
    "start_time": "2022-09-25T22:17:55.082Z"
   },
   {
    "duration": 11,
    "start_time": "2022-09-25T22:18:07.994Z"
   },
   {
    "duration": 21,
    "start_time": "2022-09-25T22:18:16.657Z"
   },
   {
    "duration": 19,
    "start_time": "2022-09-25T22:18:36.384Z"
   },
   {
    "duration": 12,
    "start_time": "2022-09-25T22:20:29.225Z"
   },
   {
    "duration": 12,
    "start_time": "2022-09-25T22:26:28.983Z"
   },
   {
    "duration": 13,
    "start_time": "2022-09-25T22:27:48.278Z"
   },
   {
    "duration": 163,
    "start_time": "2022-09-25T22:28:03.609Z"
   },
   {
    "duration": 13,
    "start_time": "2022-09-25T22:28:14.416Z"
   },
   {
    "duration": 13,
    "start_time": "2022-09-25T22:28:28.865Z"
   },
   {
    "duration": 13,
    "start_time": "2022-09-25T22:31:42.694Z"
   },
   {
    "duration": 7,
    "start_time": "2022-09-25T22:31:53.576Z"
   },
   {
    "duration": 16,
    "start_time": "2022-09-25T22:32:14.853Z"
   },
   {
    "duration": 153,
    "start_time": "2022-09-25T22:32:19.381Z"
   },
   {
    "duration": 170,
    "start_time": "2022-09-25T22:34:38.225Z"
   },
   {
    "duration": 182,
    "start_time": "2022-09-25T22:37:41.114Z"
   },
   {
    "duration": 16,
    "start_time": "2022-09-25T22:38:56.743Z"
   },
   {
    "duration": 16,
    "start_time": "2022-09-25T22:39:06.664Z"
   },
   {
    "duration": 162,
    "start_time": "2022-09-25T22:39:19.879Z"
   },
   {
    "duration": 335,
    "start_time": "2022-09-25T23:02:03.525Z"
   },
   {
    "duration": 1023,
    "start_time": "2023-03-21T20:59:52.248Z"
   },
   {
    "duration": 92,
    "start_time": "2023-03-21T20:59:53.273Z"
   },
   {
    "duration": 16,
    "start_time": "2023-03-21T20:59:53.366Z"
   },
   {
    "duration": 11,
    "start_time": "2023-03-21T20:59:53.383Z"
   },
   {
    "duration": 619,
    "start_time": "2023-03-21T20:59:53.396Z"
   },
   {
    "duration": 7,
    "start_time": "2023-03-21T20:59:54.016Z"
   },
   {
    "duration": 12,
    "start_time": "2023-03-21T20:59:54.024Z"
   },
   {
    "duration": 24,
    "start_time": "2023-03-21T20:59:54.038Z"
   },
   {
    "duration": 15,
    "start_time": "2023-03-21T20:59:54.064Z"
   },
   {
    "duration": 59,
    "start_time": "2023-03-21T20:59:54.081Z"
   },
   {
    "duration": 7,
    "start_time": "2023-03-21T20:59:54.141Z"
   },
   {
    "duration": 10,
    "start_time": "2023-03-21T20:59:54.149Z"
   },
   {
    "duration": 6,
    "start_time": "2023-03-21T20:59:54.161Z"
   },
   {
    "duration": 5,
    "start_time": "2023-03-21T20:59:54.170Z"
   },
   {
    "duration": 18,
    "start_time": "2023-03-21T20:59:54.177Z"
   },
   {
    "duration": 6,
    "start_time": "2023-03-21T20:59:54.197Z"
   },
   {
    "duration": 6,
    "start_time": "2023-03-21T20:59:54.205Z"
   },
   {
    "duration": 19,
    "start_time": "2023-03-21T20:59:54.212Z"
   },
   {
    "duration": 94,
    "start_time": "2023-03-21T20:59:54.233Z"
   },
   {
    "duration": 81,
    "start_time": "2023-03-21T20:59:54.328Z"
   },
   {
    "duration": 365,
    "start_time": "2023-03-21T20:59:54.410Z"
   },
   {
    "duration": 11,
    "start_time": "2023-03-21T20:59:54.776Z"
   },
   {
    "duration": 145,
    "start_time": "2023-03-21T20:59:54.789Z"
   },
   {
    "duration": 6,
    "start_time": "2023-03-21T20:59:54.936Z"
   },
   {
    "duration": 148,
    "start_time": "2023-03-21T20:59:54.943Z"
   },
   {
    "duration": 7,
    "start_time": "2023-03-21T20:59:55.093Z"
   },
   {
    "duration": 10,
    "start_time": "2023-03-21T20:59:55.102Z"
   },
   {
    "duration": 10,
    "start_time": "2023-03-21T20:59:55.113Z"
   },
   {
    "duration": 304,
    "start_time": "2023-03-21T20:59:55.124Z"
   },
   {
    "duration": 7,
    "start_time": "2023-03-21T20:59:55.430Z"
   },
   {
    "duration": 212,
    "start_time": "2023-03-21T20:59:55.439Z"
   },
   {
    "duration": 239,
    "start_time": "2023-03-21T20:59:55.653Z"
   },
   {
    "duration": 5,
    "start_time": "2023-03-21T20:59:55.894Z"
   },
   {
    "duration": 24,
    "start_time": "2023-03-21T20:59:55.901Z"
   },
   {
    "duration": 279,
    "start_time": "2023-03-21T20:59:55.926Z"
   },
   {
    "duration": 332,
    "start_time": "2023-03-21T20:59:56.207Z"
   },
   {
    "duration": 243,
    "start_time": "2023-03-21T20:59:56.540Z"
   },
   {
    "duration": 241,
    "start_time": "2023-03-21T20:59:56.784Z"
   },
   {
    "duration": 139,
    "start_time": "2023-03-21T20:59:57.027Z"
   },
   {
    "duration": 312,
    "start_time": "2023-03-21T20:59:57.167Z"
   },
   {
    "duration": 318,
    "start_time": "2023-03-21T20:59:57.482Z"
   },
   {
    "duration": 385,
    "start_time": "2023-03-21T20:59:57.802Z"
   },
   {
    "duration": 9,
    "start_time": "2023-03-21T20:59:58.189Z"
   },
   {
    "duration": 6,
    "start_time": "2023-03-21T20:59:58.199Z"
   },
   {
    "duration": 16,
    "start_time": "2023-03-21T20:59:58.206Z"
   },
   {
    "duration": 16,
    "start_time": "2023-03-21T20:59:58.223Z"
   },
   {
    "duration": 15,
    "start_time": "2023-03-21T20:59:58.240Z"
   },
   {
    "duration": 6,
    "start_time": "2023-03-21T20:59:58.256Z"
   }
  ],
  "kernelspec": {
   "display_name": "Python 3 (ipykernel)",
   "language": "python",
   "name": "python3"
  },
  "language_info": {
   "codemirror_mode": {
    "name": "ipython",
    "version": 3
   },
   "file_extension": ".py",
   "mimetype": "text/x-python",
   "name": "python",
   "nbconvert_exporter": "python",
   "pygments_lexer": "ipython3",
   "version": "3.9.5"
  },
  "toc": {
   "base_numbering": 1,
   "nav_menu": {},
   "number_sections": true,
   "sideBar": true,
   "skip_h1_title": true,
   "title_cell": "Table of Contents",
   "title_sidebar": "Contents",
   "toc_cell": false,
   "toc_position": {
    "height": "calc(100% - 180px)",
    "left": "10px",
    "top": "150px",
    "width": "302.214px"
   },
   "toc_section_display": true,
   "toc_window_display": true
  }
 },
 "nbformat": 4,
 "nbformat_minor": 2
}
