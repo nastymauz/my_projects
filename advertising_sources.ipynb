{
 "cells": [
  {
   "cell_type": "markdown",
   "metadata": {},
   "source": [
    "# Игры - Анализ рекламных источников."
   ]
  },
  {
   "cell_type": "markdown",
   "metadata": {},
   "source": [
    "[Презентация](https://disk.yandex.ru/i/AYk2rngFPpjBsg)"
   ]
  },
  {
   "cell_type": "markdown",
   "metadata": {},
   "source": [
    "Задача: Анализ поведения игроков в зависимости от источника перехода"
   ]
  },
  {
   "cell_type": "markdown",
   "metadata": {},
   "source": [
    "**Описание датасетов:**\n",
    "\n",
    "Основной датасет содержит данные о событиях, совершенных в мобильной игре «Космические братья». В ней пользователи строят свою космическую программу и пытаются преуспеть в нелёгком деле колонизации галактики.\n",
    "\n",
    "Основная монетизация игры — только планируется. Но предполагается, что в приложении будет происходить показ рекламы на экране с выбором типа объекта для постройки.\n",
    "\n",
    "В датасете представлены данные по игре пользователей на первом уровне. Завершение первого уровня требует от игрока выполнения одного из двух условий:\n",
    "\n",
    "- Победа над первым врагом\n",
    "- Реализация проекта - разработка орбитальной сборки спутников\n",
    "\n",
    "В датасете содержатся данные первых пользователей приложения — когорты пользователей, которые начали пользоваться приложением в период с 4 по 10 мая включительно.\n",
    "\n",
    "Датасет *game_actions.csv*:\n",
    "\n",
    "- `event_datetime` — время события;\n",
    "- `event` — одно из трёх событий:\n",
    "    1. `building` — объект построен,\n",
    "    2. `finished_stage_1` — первый уровень завершён,\n",
    "    3. `project` — проект завершён;\n",
    "- `building_type` — один из трёх типов здания:\n",
    "    1. `assembly_shop` — сборочный цех,\n",
    "    2. `spaceport` — космопорт,\n",
    "    3. `research_center` — исследовательский центр;\n",
    "- `user_id` — идентификатор пользователя;\n",
    "- `project_type` — тип реализованного проекта;\n",
    "\n",
    "Помимо основного датасета есть два датасета с информацией о рекламных активностях. Они также помогут в решении задачи.\n",
    "\n",
    "Датасет *ad_costs.csv*:\n",
    "\n",
    "- `day` - день, в который был совершен клик по объявлению\n",
    "- `source` - источник трафика\n",
    "- `cost` - стоимость кликов\n",
    "\n",
    "Датасет user_source.csv содержит колонки:\n",
    "\n",
    "- `user_id` - идентификатор пользователя\n",
    "- `source` - источников, с которого пришёл пользователь, установивший приложение"
   ]
  },
  {
   "cell_type": "markdown",
   "metadata": {},
   "source": [
    "**Таким образом, исследование пройдёт в несколько этапов:**"
   ]
  },
  {
   "cell_type": "markdown",
   "metadata": {},
   "source": [
    "**Шаг 1. Знакомство с данными**\n",
    "\n",
    "- Обзор данных\n",
    "- Предобработка данных\n",
    "\n",
    "**Шаг 2. Исследовательский анализ данных**\n",
    "\n",
    "- Общий анализ представленных данных из всех доступны таблиц.\n",
    "- Узнать распределение событий\n",
    "   - по дням\n",
    "   - по типу\n",
    "- Распределение построек по типу\n",
    "- Распределение игроков по каналам привлечения\n",
    "- Просмотреть группы завершившийх и незавершивших уровень.\n",
    "- Расчёт стоимости привлечения игрока по разным каналам привлечения\n",
    "\n",
    "**Анализ влияния источника перехода в игру на поведение пользователя**\n",
    "\n",
    "- Динамика количества пользователей \n",
    "- Посчитать для каждого пользователя время, потраченное на прохождение первого уровня\n",
    "- Поведение игроков в зависимости от источника\n",
    "- Способы прохождения уровня в зависимости от источника\n",
    "\n",
    "**Шаг 3. Статистические гипотезы**\n",
    "\n",
    "- Проверьте гипотезу: *время завершения уровня различается в зависимости способа прохождения*:\n",
    "  - через реализацию проекта,\n",
    "  - через победу над первым врагом.\n",
    "- Рассчитать среднее время завершения и оценить распределение времени завершения в группе завершивших через разные способы прохождения первого уровня\n",
    "- при распределении близком к нормальному использовать t-тест для непарных выборок, при ненормальном распределении использовать критерий Манна-Уитни;\n",
    "\n",
    "- Проверьте гипотезу: *доля игроков завершивших первый уровень различается в зависимости от канала привлечения*\n",
    "- выбрать уровень статистической значимости с поправкой Бонферрони\n",
    "- сравнить ранее рассчитанные доли игроков завершивших первый уровень в разных каналах привлечения, используя z-тест;\n"
   ]
  },
  {
   "cell_type": "code",
   "execution_count": 1,
   "metadata": {},
   "outputs": [
    {
     "name": "stdout",
     "output_type": "stream",
     "text": [
      "Requirement already satisfied: matplotlib in /opt/conda/lib/python3.9/site-packages (3.7.1)\n",
      "Requirement already satisfied: importlib-resources>=3.2.0 in /opt/conda/lib/python3.9/site-packages (from matplotlib) (5.12.0)\n",
      "Requirement already satisfied: numpy>=1.20 in /opt/conda/lib/python3.9/site-packages (from matplotlib) (1.21.1)\n",
      "Requirement already satisfied: kiwisolver>=1.0.1 in /opt/conda/lib/python3.9/site-packages (from matplotlib) (1.4.4)\n",
      "Requirement already satisfied: cycler>=0.10 in /opt/conda/lib/python3.9/site-packages (from matplotlib) (0.11.0)\n",
      "Requirement already satisfied: contourpy>=1.0.1 in /opt/conda/lib/python3.9/site-packages (from matplotlib) (1.0.7)\n",
      "Requirement already satisfied: pyparsing>=2.3.1 in /opt/conda/lib/python3.9/site-packages (from matplotlib) (2.4.7)\n",
      "Requirement already satisfied: packaging>=20.0 in /opt/conda/lib/python3.9/site-packages (from matplotlib) (21.3)\n",
      "Requirement already satisfied: pillow>=6.2.0 in /opt/conda/lib/python3.9/site-packages (from matplotlib) (8.4.0)\n",
      "Requirement already satisfied: fonttools>=4.22.0 in /opt/conda/lib/python3.9/site-packages (from matplotlib) (4.39.4)\n",
      "Requirement already satisfied: python-dateutil>=2.7 in /opt/conda/lib/python3.9/site-packages (from matplotlib) (2.8.1)\n",
      "Requirement already satisfied: zipp>=3.1.0 in /opt/conda/lib/python3.9/site-packages (from importlib-resources>=3.2.0->matplotlib) (3.5.0)\n",
      "Requirement already satisfied: six>=1.5 in /opt/conda/lib/python3.9/site-packages (from python-dateutil>=2.7->matplotlib) (1.16.0)\n",
      "Note: you may need to restart the kernel to use updated packages.\n"
     ]
    }
   ],
   "source": [
    "pip install matplotlib --upgrade"
   ]
  },
  {
   "cell_type": "code",
   "execution_count": 2,
   "metadata": {},
   "outputs": [],
   "source": [
    "import pandas as pd\n",
    "import seaborn as sns\n",
    "import matplotlib.pyplot as plt\n",
    "from datetime import datetime, timedelta\n",
    "import numpy as np\n",
    "from scipy import stats as st\n",
    "import math as mth"
   ]
  },
  {
   "cell_type": "code",
   "execution_count": 3,
   "metadata": {},
   "outputs": [
    {
     "name": "stdout",
     "output_type": "stream",
     "text": [
      "Collecting kaleido\n",
      "  Downloading kaleido-0.2.1-py2.py3-none-manylinux1_x86_64.whl (79.9 MB)\n",
      "\u001b[K     |████████████████████████████████| 79.9 MB 72 kB/s s eta 0:00:01     |██████████▏                     | 25.5 MB 2.7 MB/s eta 0:00:21     |██████████████████████████████▊ | 76.8 MB 17.2 MB/s eta 0:00:01\n",
      "\u001b[?25hInstalling collected packages: kaleido\n",
      "Successfully installed kaleido-0.2.1\n",
      "Note: you may need to restart the kernel to use updated packages.\n"
     ]
    }
   ],
   "source": [
    "pip install -U kaleido"
   ]
  },
  {
   "cell_type": "code",
   "execution_count": 4,
   "metadata": {},
   "outputs": [],
   "source": [
    "import plotly.io as pio\n",
    "pio.renderers.default = \"png\""
   ]
  },
  {
   "cell_type": "markdown",
   "metadata": {},
   "source": [
    "## Знакомство с данными"
   ]
  },
  {
   "cell_type": "markdown",
   "metadata": {},
   "source": [
    "### Обзор данных и предобработка"
   ]
  },
  {
   "cell_type": "code",
   "execution_count": 5,
   "metadata": {},
   "outputs": [],
   "source": [
    "ad_costs = pd.read_csv('/datasets/ad_costs.csv')\n",
    "game_actions = pd.read_csv('/datasets/game_actions.csv')\n",
    "user_source = pd.read_csv('/datasets/user_source.csv')"
   ]
  },
  {
   "cell_type": "code",
   "execution_count": 6,
   "metadata": {},
   "outputs": [],
   "source": [
    "def information(df):\n",
    "    print(df.head(3))\n",
    "    print(df.info())\n",
    "    print('Количество дубликатов:', df.duplicated().sum())\n",
    "    print('Количество пропусков:')\n",
    "    display(df.isna().sum())"
   ]
  },
  {
   "cell_type": "code",
   "execution_count": 7,
   "metadata": {},
   "outputs": [
    {
     "name": "stdout",
     "output_type": "stream",
     "text": [
      "         source         day        cost\n",
      "0  facebook_ads  2020-05-03  935.882786\n",
      "1  facebook_ads  2020-05-04  548.354480\n",
      "2  facebook_ads  2020-05-05  260.185754\n",
      "<class 'pandas.core.frame.DataFrame'>\n",
      "RangeIndex: 28 entries, 0 to 27\n",
      "Data columns (total 3 columns):\n",
      " #   Column  Non-Null Count  Dtype  \n",
      "---  ------  --------------  -----  \n",
      " 0   source  28 non-null     object \n",
      " 1   day     28 non-null     object \n",
      " 2   cost    28 non-null     float64\n",
      "dtypes: float64(1), object(2)\n",
      "memory usage: 800.0+ bytes\n",
      "None\n",
      "Количество дубликатов: 0\n",
      "Количество пропусков:\n"
     ]
    },
    {
     "data": {
      "text/plain": [
       "source    0\n",
       "day       0\n",
       "cost      0\n",
       "dtype: int64"
      ]
     },
     "metadata": {},
     "output_type": "display_data"
    }
   ],
   "source": [
    "information(ad_costs)"
   ]
  },
  {
   "cell_type": "markdown",
   "metadata": {},
   "source": [
    "В датафрейме с данными о стоимости рекламы по дням и каналам пропущенные значения и дубликаты отсутствуют. 28 строк и 3 столбца."
   ]
  },
  {
   "cell_type": "code",
   "execution_count": 8,
   "metadata": {},
   "outputs": [
    {
     "name": "stdout",
     "output_type": "stream",
     "text": [
      "        event_datetime     event  building_type  \\\n",
      "0  2020-05-04 00:00:01  building  assembly_shop   \n",
      "1  2020-05-04 00:00:03  building  assembly_shop   \n",
      "2  2020-05-04 00:00:16  building  assembly_shop   \n",
      "\n",
      "                                user_id project_type  \n",
      "0  55e92310-cb8e-4754-b622-597e124b03de          NaN  \n",
      "1  c07b1c10-f477-44dc-81dc-ec82254b1347          NaN  \n",
      "2  6edd42cc-e753-4ff6-a947-2107cd560710          NaN  \n",
      "<class 'pandas.core.frame.DataFrame'>\n",
      "RangeIndex: 135640 entries, 0 to 135639\n",
      "Data columns (total 5 columns):\n",
      " #   Column          Non-Null Count   Dtype \n",
      "---  ------          --------------   ----- \n",
      " 0   event_datetime  135640 non-null  object\n",
      " 1   event           135640 non-null  object\n",
      " 2   building_type   127957 non-null  object\n",
      " 3   user_id         135640 non-null  object\n",
      " 4   project_type    1866 non-null    object\n",
      "dtypes: object(5)\n",
      "memory usage: 5.2+ MB\n",
      "None\n",
      "Количество дубликатов: 1\n",
      "Количество пропусков:\n"
     ]
    },
    {
     "data": {
      "text/plain": [
       "event_datetime         0\n",
       "event                  0\n",
       "building_type       7683\n",
       "user_id                0\n",
       "project_type      133774\n",
       "dtype: int64"
      ]
     },
     "metadata": {},
     "output_type": "display_data"
    }
   ],
   "source": [
    "information(game_actions)"
   ]
  },
  {
   "cell_type": "markdown",
   "metadata": {},
   "source": [
    "Столбец с датой и временем приведем к правильному типу datetime:"
   ]
  },
  {
   "cell_type": "code",
   "execution_count": 9,
   "metadata": {},
   "outputs": [],
   "source": [
    "game_actions['event_datetime']=pd.to_datetime(game_actions['event_datetime'])"
   ]
  },
  {
   "cell_type": "code",
   "execution_count": 10,
   "metadata": {},
   "outputs": [
    {
     "data": {
      "text/html": [
       "<style  type=\"text/css\" >\n",
       "#T_2f2d7_row0_col0,#T_2f2d7_row1_col0,#T_2f2d7_row3_col0{\n",
       "            background-color:  #3b4cc0;\n",
       "            color:  #f1f1f1;\n",
       "        }#T_2f2d7_row2_col0{\n",
       "            background-color:  #4c66d6;\n",
       "            color:  #000000;\n",
       "        }#T_2f2d7_row4_col0{\n",
       "            background-color:  #b40426;\n",
       "            color:  #f1f1f1;\n",
       "        }</style><table id=\"T_2f2d7_\" ><thead>    <tr>        <th class=\"blank level0\" ></th>        <th class=\"col_heading level0 col0\" >0</th>    </tr></thead><tbody>\n",
       "                <tr>\n",
       "                        <th id=\"T_2f2d7_level0_row0\" class=\"row_heading level0 row0\" >event_datetime</th>\n",
       "                        <td id=\"T_2f2d7_row0_col0\" class=\"data row0 col0\" >0.000000</td>\n",
       "            </tr>\n",
       "            <tr>\n",
       "                        <th id=\"T_2f2d7_level0_row1\" class=\"row_heading level0 row1\" >event</th>\n",
       "                        <td id=\"T_2f2d7_row1_col0\" class=\"data row1 col0\" >0.000000</td>\n",
       "            </tr>\n",
       "            <tr>\n",
       "                        <th id=\"T_2f2d7_level0_row2\" class=\"row_heading level0 row2\" >building_type</th>\n",
       "                        <td id=\"T_2f2d7_row2_col0\" class=\"data row2 col0\" >6.000000</td>\n",
       "            </tr>\n",
       "            <tr>\n",
       "                        <th id=\"T_2f2d7_level0_row3\" class=\"row_heading level0 row3\" >user_id</th>\n",
       "                        <td id=\"T_2f2d7_row3_col0\" class=\"data row3 col0\" >0.000000</td>\n",
       "            </tr>\n",
       "            <tr>\n",
       "                        <th id=\"T_2f2d7_level0_row4\" class=\"row_heading level0 row4\" >project_type</th>\n",
       "                        <td id=\"T_2f2d7_row4_col0\" class=\"data row4 col0\" >99.000000</td>\n",
       "            </tr>\n",
       "    </tbody></table>"
      ],
      "text/plain": [
       "<pandas.io.formats.style.Styler at 0x7f8fb1bf5610>"
      ]
     },
     "execution_count": 10,
     "metadata": {},
     "output_type": "execute_result"
    }
   ],
   "source": [
    "pd.DataFrame(round(game_actions.isna().mean()*100)).style.background_gradient('coolwarm')"
   ]
  },
  {
   "cell_type": "markdown",
   "metadata": {},
   "source": [
    "Датафрейм, содержащий данные о действиях игроков содержит 135640 строк и 5 столбцов. В нем присутствуют пропуски.\n",
    "\n",
    "Количество пропусков в столбце building_type -  6%, вероятно эти пропуски соответствуют строкам в которых отражено событие-прохождение первого уровня одним из доступных способов, и обрабатывать данные пропуски не нужно.\n",
    "\n",
    "Столбец project_type — тип реализованного проект содержит 99% пропусков. В данном столбце ячейка заполняется только в том случае, если первый уровень пройден путём завершения проекта. Обрабатывать пропуски тут не будем\n",
    "\n",
    "Также в датафрейме присутствует один дубликат, который можно просто удалить."
   ]
  },
  {
   "cell_type": "markdown",
   "metadata": {},
   "source": [
    "Проверим пропуски в `building_type` "
   ]
  },
  {
   "cell_type": "code",
   "execution_count": 11,
   "metadata": {},
   "outputs": [
    {
     "data": {
      "text/html": [
       "<div>\n",
       "<style scoped>\n",
       "    .dataframe tbody tr th:only-of-type {\n",
       "        vertical-align: middle;\n",
       "    }\n",
       "\n",
       "    .dataframe tbody tr th {\n",
       "        vertical-align: top;\n",
       "    }\n",
       "\n",
       "    .dataframe thead th {\n",
       "        text-align: right;\n",
       "    }\n",
       "</style>\n",
       "<table border=\"1\" class=\"dataframe\">\n",
       "  <thead>\n",
       "    <tr style=\"text-align: right;\">\n",
       "      <th></th>\n",
       "      <th>index</th>\n",
       "      <th>event</th>\n",
       "    </tr>\n",
       "  </thead>\n",
       "  <tbody>\n",
       "    <tr>\n",
       "      <th>0</th>\n",
       "      <td>finished_stage_1</td>\n",
       "      <td>5817</td>\n",
       "    </tr>\n",
       "    <tr>\n",
       "      <th>1</th>\n",
       "      <td>project</td>\n",
       "      <td>1866</td>\n",
       "    </tr>\n",
       "  </tbody>\n",
       "</table>\n",
       "</div>"
      ],
      "text/plain": [
       "              index  event\n",
       "0  finished_stage_1   5817\n",
       "1           project   1866"
      ]
     },
     "execution_count": 11,
     "metadata": {},
     "output_type": "execute_result"
    }
   ],
   "source": [
    "game_actions[game_actions['building_type'].isna()]['event'].value_counts().reset_index()"
   ]
  },
  {
   "cell_type": "markdown",
   "metadata": {},
   "source": [
    "Пропуски в этом столбце соответствуют строкам в которых отражено событие-прохождение первого уровня одним из доступных способов. Никакого типа здания там не построено. Аномальные пропуски в столбце building_type отсутствуют. \n"
   ]
  },
  {
   "cell_type": "markdown",
   "metadata": {},
   "source": [
    "Проверим пропуски в `project_type` "
   ]
  },
  {
   "cell_type": "code",
   "execution_count": 12,
   "metadata": {},
   "outputs": [
    {
     "data": {
      "text/plain": [
       "project    1866\n",
       "Name: event, dtype: int64"
      ]
     },
     "execution_count": 12,
     "metadata": {},
     "output_type": "execute_result"
    }
   ],
   "source": [
    "game_actions[~(game_actions['project_type'].isna())]['event'].value_counts()"
   ]
  },
  {
   "cell_type": "markdown",
   "metadata": {},
   "source": [
    "В этом столбце ячейка заполняется только, там где способ прохождения 1 уровня - создание проекта. "
   ]
  },
  {
   "cell_type": "markdown",
   "metadata": {},
   "source": [
    "Ошибочные пропуски отсутсвуют"
   ]
  },
  {
   "cell_type": "code",
   "execution_count": 13,
   "metadata": {},
   "outputs": [],
   "source": [
    "game_actions = game_actions.drop_duplicates().reset_index(drop=True)"
   ]
  },
  {
   "cell_type": "code",
   "execution_count": 14,
   "metadata": {},
   "outputs": [
    {
     "name": "stdout",
     "output_type": "stream",
     "text": [
      "                                user_id                   source\n",
      "0  0001f83c-c6ac-4621-b7f0-8a28b283ac30             facebook_ads\n",
      "1  00151b4f-ba38-44a8-a650-d7cf130a0105            yandex_direct\n",
      "2  001aaea6-3d14-43f1-8ca8-7f48820f17aa  youtube_channel_reklama\n",
      "<class 'pandas.core.frame.DataFrame'>\n",
      "RangeIndex: 13576 entries, 0 to 13575\n",
      "Data columns (total 2 columns):\n",
      " #   Column   Non-Null Count  Dtype \n",
      "---  ------   --------------  ----- \n",
      " 0   user_id  13576 non-null  object\n",
      " 1   source   13576 non-null  object\n",
      "dtypes: object(2)\n",
      "memory usage: 212.2+ KB\n",
      "None\n",
      "Количество дубликатов: 0\n",
      "Количество пропусков:\n"
     ]
    },
    {
     "data": {
      "text/plain": [
       "user_id    0\n",
       "source     0\n",
       "dtype: int64"
      ]
     },
     "metadata": {},
     "output_type": "display_data"
    }
   ],
   "source": [
    "information(user_source)"
   ]
  },
  {
   "cell_type": "markdown",
   "metadata": {},
   "source": [
    "В датасете с каналами прихода игроков 2 столбца и 13576 строк, дубликаты и пропуски отсутствуют."
   ]
  },
  {
   "cell_type": "markdown",
   "metadata": {},
   "source": [
    "**Промежуточный вывод:** В датафреймах с данными о рекламе и каналах привлечения клиентов отсутствуют дубликаты и пропуски.\n",
    "Датасет с информацией об активностях игроков содержит 6% пропусков в столбце building_type и 99% пропусков в столбце project_type, пропуски не требуют обработки. Также датафрейм содержал 1 дубликат который был удалён. В столбце с датой и временем события формат object был заменен на datetime.\n",
    "В датасете с каналами прихода игроков дубликаты и пропуски отсутствуют.\n"
   ]
  },
  {
   "cell_type": "markdown",
   "metadata": {},
   "source": [
    "##  Исследовательский анализ данных"
   ]
  },
  {
   "cell_type": "markdown",
   "metadata": {},
   "source": [
    "### Распределение событий по дням"
   ]
  },
  {
   "cell_type": "code",
   "execution_count": 15,
   "metadata": {},
   "outputs": [],
   "source": [
    "game_actions['event_date'] = game_actions['event_datetime'].dt.date"
   ]
  },
  {
   "cell_type": "code",
   "execution_count": 16,
   "metadata": {},
   "outputs": [
    {
     "data": {
      "image/png": "[encoded data removed]",
      "text/plain": [
       "<Figure size 1800x864 with 1 Axes>"
      ]
     },
     "metadata": {
      "needs_background": "light"
     },
     "output_type": "display_data"
    }
   ],
   "source": [
    "plt.figure(figsize=(25, 12))\n",
    "plt.title('Распределение событий по дням', fontsize=20)\n",
    "ax = sns.barplot(x=game_actions.groupby('event_date').agg({'event' : 'count'}).index, \n",
    "            y=game_actions.groupby('event_date').agg({'event' : 'count'})['event'])\n",
    "ax.bar_label(ax.containers[0], fontsize=15)\n",
    "plt.xlabel('Дата', fontsize=15)\n",
    "plt.ylabel('Количество событий', fontsize=15)\n",
    "plt.xticks(rotation=90)\n",
    "plt.show()"
   ]
  },
  {
   "cell_type": "markdown",
   "metadata": {},
   "source": [
    "Количество событий растёт с 4.05 по 10.05 , 11.05 количество событий резко снижается и продолжает ежедневно снижаться (5.06 количество событий составило всего 5). Т.е. наибольшую активность пользователи проявляют в течении нескольких дней после привлечения"
   ]
  },
  {
   "cell_type": "markdown",
   "metadata": {},
   "source": [
    "### Распределение событий по типу"
   ]
  },
  {
   "cell_type": "code",
   "execution_count": 17,
   "metadata": {},
   "outputs": [
    {
     "data": {
      "image/png": "[encoded data removed]",
      "text/plain": [
       "<Figure size 1080x504 with 1 Axes>"
      ]
     },
     "metadata": {
      "needs_background": "light"
     },
     "output_type": "display_data"
    }
   ],
   "source": [
    "plt.figure(figsize=(15, 7))\n",
    "a = sns.barplot( x=game_actions.groupby('event').agg({'user_id' : 'count'}).index, \n",
    "            y=game_actions.groupby('event').agg({'user_id' : 'count'})['user_id'], palette='Set3')\n",
    "a.bar_label(a.containers[0], fontsize=15)\n",
    "a.set_title('Распределение событий по типу', fontsize=20)\n",
    "a.set_xlabel('Тип события', fontsize=20)\n",
    "a.set_ylabel('Количество событий', fontsize=20)\n",
    "\n",
    "plt.show()"
   ]
  },
  {
   "cell_type": "markdown",
   "metadata": {},
   "source": [
    "Самое частое событие - это постройка здания ('building'), оно произошло 127956 раз. Вторым по частоте является событие 'final_stage_1', которое означает, что игрок завершил первый уровень через победу над врагом, так первый уровень был завершён 5817 раз. Реже всего происходило событие 'project', завершение уровня через реализацию проекта, данное событие произошло 1866 раз и составляет 1,4% от всех событий."
   ]
  },
  {
   "cell_type": "markdown",
   "metadata": {},
   "source": [
    "### Распределение построек по типу"
   ]
  },
  {
   "cell_type": "code",
   "execution_count": 18,
   "metadata": {},
   "outputs": [
    {
     "data": {
      "image/png": "[encoded data removed]",
      "text/plain": [
       "<Figure size 1080x504 with 1 Axes>"
      ]
     },
     "metadata": {
      "needs_background": "light"
     },
     "output_type": "display_data"
    }
   ],
   "source": [
    "plt.figure(figsize=(15, 7))\n",
    "a = sns.barplot(x=game_actions.groupby('building_type').agg({'user_id' : 'count'}).sort_values(by='user_id', ascending=False).index, \n",
    "            y=game_actions.groupby('building_type').agg({'user_id' : 'count'}).sort_values(by='user_id', ascending=False)['user_id'], palette='Set3')\n",
    "a.bar_label(a.containers[0], fontsize=15)\n",
    "a.set_title('Распределение построек по типу', fontsize=20)\n",
    "a.set_xlabel('Тип постройки', fontsize=20)\n",
    "a.set_ylabel('Количество построек', fontsize=20)\n",
    "plt.show()"
   ]
  },
  {
   "cell_type": "markdown",
   "metadata": {},
   "source": [
    "Чаще всего игроки строят 'spaceport', всего построено 59325 зданий такого типа. На втором месте по популярности у пользователей стоит 'assembly_shop' - 54494. Самая редкая постройка - 'research_center' - её построили всего 14137 раз или 11,0%. Такое распределение может быть связано с тем, что 'research_center' необходимо построить только один раз, а остальные постройки можно возводить по несколько раз. Кроме того, постройка 'research_center' может быть связана с завершением уровня через реализацию проекта, из предыдущего пункта нам известно, что таким образом заканчивают уровень наименьшее количество игроков, то логично, что и постройка данного типа должна быть наименее популярной."
   ]
  },
  {
   "cell_type": "markdown",
   "metadata": {},
   "source": [
    "### Распределение игроков по каналам привлечения"
   ]
  },
  {
   "cell_type": "code",
   "execution_count": 19,
   "metadata": {},
   "outputs": [
    {
     "data": {
      "image/png": "[encoded data removed]",
      "text/plain": [
       "<Figure size 1080x504 with 1 Axes>"
      ]
     },
     "metadata": {
      "needs_background": "light"
     },
     "output_type": "display_data"
    }
   ],
   "source": [
    "plt.figure(figsize=(15, 7))\n",
    "a = sns.barplot(x=user_source.groupby('source').agg({'user_id' : 'count'}).sort_values(by='user_id', ascending=False).index, \n",
    "            y=user_source.groupby('source').agg({'user_id' : 'count'}).sort_values(by='user_id', ascending=False)['user_id'], palette='Set3')\n",
    "a.bar_label(a.containers[0], fontsize=15)\n",
    "a.set_title('Распределение игроков по источникам привлечения', fontsize=20)\n",
    "a.set_xlabel('Источники привлечения', fontsize=20)\n",
    "a.set_ylabel('Количество привлеченных игроков', fontsize=20)\n",
    "plt.show()"
   ]
  },
  {
   "cell_type": "code",
   "execution_count": 20,
   "metadata": {},
   "outputs": [
    {
     "data": {
      "image/png": "[encoded data removed]",
      "text/plain": [
       "<Figure size 576x432 with 1 Axes>"
      ]
     },
     "metadata": {},
     "output_type": "display_data"
    }
   ],
   "source": [
    "plt.figure(figsize=(8, 6))\n",
    "plt.title('Распределение игроков по источникам привлечения, %', fontsize=15)\n",
    "plt.pie(x=user_source.groupby('source').agg({'user_id' : 'count'}).sort_values(by='user_id', ascending=False)['user_id'], \n",
    "        labels=user_source.groupby('source').agg({'user_id' : 'count'}).sort_values(by='user_id', ascending=False).index, \n",
    "        autopct='%.1f%%', textprops={'fontsize': 14})\n",
    "plt.show()"
   ]
  },
  {
   "cell_type": "markdown",
   "metadata": {},
   "source": [
    "По графикам видно, что наибольшая часть игроков пришли через Yandex - их количество 4817 (35,5% от всех игроков). Через Instagram пришло 3347 игроков, 24,7%. Практически одинаковое количество игроков были привлечены через Facebook и Youtube - по 20%"
   ]
  },
  {
   "cell_type": "markdown",
   "metadata": {},
   "source": [
    "### Расчёт стоимости привлечения игрока через разные источники"
   ]
  },
  {
   "cell_type": "markdown",
   "metadata": {},
   "source": [
    "Для расчёта CAC необходимо общие затраты на рекламу через определённый канал поделить на количество привлечённых игроков. "
   ]
  },
  {
   "cell_type": "code",
   "execution_count": 21,
   "metadata": {},
   "outputs": [],
   "source": [
    "ad_costs = ad_costs.replace({'source' : {'yandex_direct' : 'Yandex', 'instagram_new_adverts' : 'Instagram', \n",
    "                                               'facebook_ads' : 'Facebook', 'youtube_channel_reklama' : 'Youtube'}})"
   ]
  },
  {
   "cell_type": "code",
   "execution_count": 22,
   "metadata": {},
   "outputs": [],
   "source": [
    "user_source = user_source.replace({'source' : {'yandex_direct' : 'Yandex', 'instagram_new_adverts' : 'Instagram', \n",
    "                                               'facebook_ads' : 'Facebook', 'youtube_channel_reklama' : 'Youtube'}})"
   ]
  },
  {
   "cell_type": "code",
   "execution_count": 23,
   "metadata": {},
   "outputs": [],
   "source": [
    "game_actions = game_actions.merge(user_source, on='user_id', how='left')"
   ]
  },
  {
   "cell_type": "code",
   "execution_count": 24,
   "metadata": {},
   "outputs": [],
   "source": [
    "def cac(data):\n",
    "    print('САС игроков через {}: {:.2f}'.format(data, (ad_costs[ad_costs['source'] == data]['cost'].sum() / \n",
    "                                                      game_actions[game_actions['source'] == data]['user_id'].nunique())))"
   ]
  },
  {
   "cell_type": "code",
   "execution_count": 25,
   "metadata": {},
   "outputs": [
    {
     "name": "stdout",
     "output_type": "stream",
     "text": [
      "САС игроков через Yandex: 0.46\n"
     ]
    }
   ],
   "source": [
    "cac('Yandex')"
   ]
  },
  {
   "cell_type": "code",
   "execution_count": 26,
   "metadata": {},
   "outputs": [
    {
     "name": "stdout",
     "output_type": "stream",
     "text": [
      "САС игроков через Facebook: 0.79\n"
     ]
    }
   ],
   "source": [
    "cac('Facebook')"
   ]
  },
  {
   "cell_type": "code",
   "execution_count": 27,
   "metadata": {},
   "outputs": [
    {
     "name": "stdout",
     "output_type": "stream",
     "text": [
      "САС игроков через Instagram: 0.65\n"
     ]
    }
   ],
   "source": [
    "cac('Instagram')"
   ]
  },
  {
   "cell_type": "code",
   "execution_count": 28,
   "metadata": {},
   "outputs": [
    {
     "name": "stdout",
     "output_type": "stream",
     "text": [
      "САС игроков через Youtube: 0.40\n"
     ]
    }
   ],
   "source": [
    "cac('Youtube')"
   ]
  },
  {
   "cell_type": "markdown",
   "metadata": {},
   "source": [
    "Через Facebook привлечение пользователей обходится дороже всего - 0,79 у.е. Немного дешевле через Instagram - 0,65 у.е. Стоимость привлечения игрока через Yandex 0,46 у.е., и самая низкая стоимость привлечения через Youtube - 0,40 у.е."
   ]
  },
  {
   "cell_type": "markdown",
   "metadata": {},
   "source": [
    "### Распределение событий"
   ]
  },
  {
   "cell_type": "code",
   "execution_count": 29,
   "metadata": {},
   "outputs": [
    {
     "data": {
      "image/png": "[encoded data removed]",
      "text/plain": [
       "<Figure size 576x360 with 1 Axes>"
      ]
     },
     "metadata": {
      "needs_background": "light"
     },
     "output_type": "display_data"
    }
   ],
   "source": [
    "plt.figure(figsize=(8,5))\n",
    "plt.title('Распределение количества событий, совершенных каждом игроком', fontsize=15)\n",
    "plt.hist(game_actions.groupby('user_id').agg({'event' : 'count'}), bins=22)\n",
    "plt.xlabel('Количество событий')\n",
    "plt.ylabel('Количество игроков')\n",
    "plt.show()"
   ]
  },
  {
   "cell_type": "markdown",
   "metadata": {},
   "source": [
    "На гистограмме видно два пика: 5-6 событий и 10-15 событий, совершаемых игроками. Это вне зависимости от каналов привлечения"
   ]
  },
  {
   "cell_type": "markdown",
   "metadata": {},
   "source": [
    "**Распределение событий в зависимости от канала привлечения:**"
   ]
  },
  {
   "cell_type": "code",
   "execution_count": 30,
   "metadata": {},
   "outputs": [
    {
     "data": {
      "image/png": "[encoded data removed]",
      "text/plain": [
       "<Figure size 1080x504 with 1 Axes>"
      ]
     },
     "metadata": {
      "needs_background": "light"
     },
     "output_type": "display_data"
    }
   ],
   "source": [
    "plt.figure(figsize=(15, 7))\n",
    "ax = sns.violinplot(x='source', y='event', data=game_actions.groupby(['user_id', 'source']).agg({'event' : 'count'}, \n",
    "                                                                                       ).reset_index(), palette='rainbow')\n",
    "ax.set_title('Распределение количества событий, генерируемых игроками, в разрезе каналов привлечения', fontsize=20)\n",
    "ax.set_ylabel('Количество событий, генерируемых игроками', fontsize=14)\n",
    "ax.set_xlabel('Каналы привлечения', fontsize=14)\n",
    "plt.show()"
   ]
  },
  {
   "cell_type": "markdown",
   "metadata": {},
   "source": [
    "В распределении количества событий, совершаемых игроками, в зависимости от канала привлечения отсутствуют значимые различия. Везде в среднем 10 событий."
   ]
  },
  {
   "cell_type": "markdown",
   "metadata": {},
   "source": [
    "### Игроки завершившие первый уровень"
   ]
  },
  {
   "cell_type": "markdown",
   "metadata": {},
   "source": [
    "Завершение первого уровня требует от игрока выполнения одного из двух условий:\n",
    "\n",
    "- Победа над первым врагом\n",
    "- Реализация проекта - разработка орбитальной сборки спутников"
   ]
  },
  {
   "cell_type": "code",
   "execution_count": 31,
   "metadata": {},
   "outputs": [],
   "source": [
    "users_finish = game_actions.groupby(['user_id', 'source']).agg({'event' : 'unique'}).reset_index()"
   ]
  },
  {
   "cell_type": "code",
   "execution_count": 32,
   "metadata": {},
   "outputs": [
    {
     "data": {
      "text/html": [
       "<div>\n",
       "<style scoped>\n",
       "    .dataframe tbody tr th:only-of-type {\n",
       "        vertical-align: middle;\n",
       "    }\n",
       "\n",
       "    .dataframe tbody tr th {\n",
       "        vertical-align: top;\n",
       "    }\n",
       "\n",
       "    .dataframe thead th {\n",
       "        text-align: right;\n",
       "    }\n",
       "</style>\n",
       "<table border=\"1\" class=\"dataframe\">\n",
       "  <thead>\n",
       "    <tr style=\"text-align: right;\">\n",
       "      <th></th>\n",
       "      <th>user_id</th>\n",
       "      <th>source</th>\n",
       "      <th>event</th>\n",
       "    </tr>\n",
       "  </thead>\n",
       "  <tbody>\n",
       "    <tr>\n",
       "      <th>0</th>\n",
       "      <td>0001f83c-c6ac-4621-b7f0-8a28b283ac30</td>\n",
       "      <td>Facebook</td>\n",
       "      <td>[building]</td>\n",
       "    </tr>\n",
       "    <tr>\n",
       "      <th>1</th>\n",
       "      <td>00151b4f-ba38-44a8-a650-d7cf130a0105</td>\n",
       "      <td>Yandex</td>\n",
       "      <td>[building]</td>\n",
       "    </tr>\n",
       "    <tr>\n",
       "      <th>2</th>\n",
       "      <td>001aaea6-3d14-43f1-8ca8-7f48820f17aa</td>\n",
       "      <td>Youtube</td>\n",
       "      <td>[building]</td>\n",
       "    </tr>\n",
       "    <tr>\n",
       "      <th>3</th>\n",
       "      <td>001d39dc-366c-4021-9604-6a3b9ff01e25</td>\n",
       "      <td>Instagram</td>\n",
       "      <td>[building, finished_stage_1]</td>\n",
       "    </tr>\n",
       "    <tr>\n",
       "      <th>4</th>\n",
       "      <td>002f508f-67b6-479f-814b-b05f00d4e995</td>\n",
       "      <td>Facebook</td>\n",
       "      <td>[building]</td>\n",
       "    </tr>\n",
       "    <tr>\n",
       "      <th>...</th>\n",
       "      <td>...</td>\n",
       "      <td>...</td>\n",
       "      <td>...</td>\n",
       "    </tr>\n",
       "    <tr>\n",
       "      <th>13571</th>\n",
       "      <td>ffef4fed-164c-40e1-bde1-3980f76d0fb5</td>\n",
       "      <td>Instagram</td>\n",
       "      <td>[building, finished_stage_1]</td>\n",
       "    </tr>\n",
       "    <tr>\n",
       "      <th>13572</th>\n",
       "      <td>fffab3da-da0e-4e30-ae62-10d0a2e24a4e</td>\n",
       "      <td>Facebook</td>\n",
       "      <td>[building]</td>\n",
       "    </tr>\n",
       "    <tr>\n",
       "      <th>13573</th>\n",
       "      <td>fffb626c-5ab6-47c9-8113-2062a2f18494</td>\n",
       "      <td>Yandex</td>\n",
       "      <td>[building, finished_stage_1]</td>\n",
       "    </tr>\n",
       "    <tr>\n",
       "      <th>13574</th>\n",
       "      <td>ffff194a-56b7-4c12-860d-3485242ae7f5</td>\n",
       "      <td>Instagram</td>\n",
       "      <td>[building]</td>\n",
       "    </tr>\n",
       "    <tr>\n",
       "      <th>13575</th>\n",
       "      <td>ffff69cc-fec1-4fd3-9f98-93be1112a6b8</td>\n",
       "      <td>Facebook</td>\n",
       "      <td>[building, project, finished_stage_1]</td>\n",
       "    </tr>\n",
       "  </tbody>\n",
       "</table>\n",
       "<p>13576 rows × 3 columns</p>\n",
       "</div>"
      ],
      "text/plain": [
       "                                    user_id     source  \\\n",
       "0      0001f83c-c6ac-4621-b7f0-8a28b283ac30   Facebook   \n",
       "1      00151b4f-ba38-44a8-a650-d7cf130a0105     Yandex   \n",
       "2      001aaea6-3d14-43f1-8ca8-7f48820f17aa    Youtube   \n",
       "3      001d39dc-366c-4021-9604-6a3b9ff01e25  Instagram   \n",
       "4      002f508f-67b6-479f-814b-b05f00d4e995   Facebook   \n",
       "...                                     ...        ...   \n",
       "13571  ffef4fed-164c-40e1-bde1-3980f76d0fb5  Instagram   \n",
       "13572  fffab3da-da0e-4e30-ae62-10d0a2e24a4e   Facebook   \n",
       "13573  fffb626c-5ab6-47c9-8113-2062a2f18494     Yandex   \n",
       "13574  ffff194a-56b7-4c12-860d-3485242ae7f5  Instagram   \n",
       "13575  ffff69cc-fec1-4fd3-9f98-93be1112a6b8   Facebook   \n",
       "\n",
       "                                       event  \n",
       "0                                 [building]  \n",
       "1                                 [building]  \n",
       "2                                 [building]  \n",
       "3               [building, finished_stage_1]  \n",
       "4                                 [building]  \n",
       "...                                      ...  \n",
       "13571           [building, finished_stage_1]  \n",
       "13572                             [building]  \n",
       "13573           [building, finished_stage_1]  \n",
       "13574                             [building]  \n",
       "13575  [building, project, finished_stage_1]  \n",
       "\n",
       "[13576 rows x 3 columns]"
      ]
     },
     "execution_count": 32,
     "metadata": {},
     "output_type": "execute_result"
    }
   ],
   "source": [
    "users_finish"
   ]
  },
  {
   "cell_type": "markdown",
   "metadata": {},
   "source": [
    "Добавим критерий прохождения игроком первого уровня"
   ]
  },
  {
   "cell_type": "code",
   "execution_count": 33,
   "metadata": {},
   "outputs": [],
   "source": [
    "def event(row): #функция для категоризации\n",
    "    if 'finished_stage_1' not in row['event']:\n",
    "        return 'not_finished'\n",
    "    elif 'finished_stage_1' in row['event'] and 'project' not in row['event']:\n",
    "        return 'enemy'\n",
    "    elif 'project' in row['event']:\n",
    "        return 'project'\n",
    "    else:\n",
    "        return ''"
   ]
  },
  {
   "cell_type": "code",
   "execution_count": 34,
   "metadata": {},
   "outputs": [],
   "source": [
    "users_finish['first_lvl'] = users_finish.apply(event, axis=1)"
   ]
  },
  {
   "cell_type": "code",
   "execution_count": 35,
   "metadata": {},
   "outputs": [
    {
     "data": {
      "image/png": "[encoded data removed]",
      "text/plain": [
       "<Figure size 1080x504 with 2 Axes>"
      ]
     },
     "metadata": {
      "needs_background": "light"
     },
     "output_type": "display_data"
    }
   ],
   "source": [
    "fig, ax = plt.subplots(1, 2, figsize=(15, 7))\n",
    "a = sns.barplot(ax=ax[0], x=users_finish.groupby('first_lvl').agg({'user_id' : 'count'}).sort_values(by='user_id', ascending=False).index, \n",
    "            y=users_finish.groupby('first_lvl').agg({'user_id' : 'count'}).sort_values(by='user_id', ascending=False)['user_id'], palette='Set3')\n",
    "a.bar_label(a.containers[0], fontsize=15)\n",
    "a.set_title('Распределение игроков поспособу завершения 1-го уровня', fontsize=20)\n",
    "a.set_xlabel('Как игроки завершают 1-ый уровень', fontsize=14)\n",
    "a.set_ylabel('Количество игроков', fontsize=14)\n",
    "\n",
    "plt.title('Способы завершения 1-го уровня, %', fontsize=20)\n",
    "plt.pie(x=users_finish.groupby('first_lvl').agg({'user_id' : 'count'}).sort_values(by='user_id', ascending=False)['user_id'], \n",
    "        labels=users_finish.groupby('first_lvl').agg({'user_id' : 'count'}).sort_values(by='user_id', ascending=False).index, \n",
    "        autopct='%.1f%%', textprops={'fontsize': 14})\n",
    "plt.show()"
   ]
  },
  {
   "cell_type": "markdown",
   "metadata": {},
   "source": [
    "Первый уровень был завершён 5817 игроками, что составило 43% от общего количества пользователей. Через победу над первым игроком первый уровень завершил 3951 игрок, а через реализацию проекта 1866 игроков, что составило 29% и 14% от общего количества игроков."
   ]
  },
  {
   "cell_type": "markdown",
   "metadata": {},
   "source": [
    "**Теперь посмотрим как игроки завершают уровень в зависимости от канала привлечения**"
   ]
  },
  {
   "cell_type": "code",
   "execution_count": 36,
   "metadata": {},
   "outputs": [],
   "source": [
    "def fst_lvl(df):\n",
    "    print(f'Количество игроков, привлеченных через {df} и завершивших первый уровень:', \n",
    "          len(users_finish[users_finish['source'] == df].query('first_lvl != \"not_finished\"'))\n",
    "         )\n",
    "    print(f'Количество игроков, привлеченных через {df} и завершивших первый уровень через победу над противником:', \n",
    "          len(users_finish[users_finish['source'] == df].query('first_lvl == \"enemy\"'))\n",
    "         )\n",
    "    print('Количество игроков, завершивших первый уровень через реализацию проекта:', \n",
    "          len(users_finish[users_finish['source'] == df].query('first_lvl == \"project\"'))\n",
    "         )\n",
    "    print('Доля игроков, завершивших первый уровень, среди привлеченных через {}: {:.0%}'.format(df, \n",
    "        len(users_finish[users_finish['source'] == df].query('first_lvl != \"not_finished\"')) / \n",
    "        len(users_finish[users_finish['source'] == df]))\n",
    "         )"
   ]
  },
  {
   "cell_type": "code",
   "execution_count": 37,
   "metadata": {},
   "outputs": [
    {
     "name": "stdout",
     "output_type": "stream",
     "text": [
      "Количество игроков, привлеченных через Youtube и завершивших первый уровень: 1159\n",
      "Количество игроков, привлеченных через Youtube и завершивших первый уровень через победу над противником: 780\n",
      "Количество игроков, завершивших первый уровень через реализацию проекта: 379\n",
      "Доля игроков, завершивших первый уровень, среди привлеченных через Youtube: 43%\n"
     ]
    }
   ],
   "source": [
    "fst_lvl('Youtube')"
   ]
  },
  {
   "cell_type": "code",
   "execution_count": 38,
   "metadata": {},
   "outputs": [
    {
     "name": "stdout",
     "output_type": "stream",
     "text": [
      "Количество игроков, привлеченных через Facebook и завершивших первый уровень: 1150\n",
      "Количество игроков, привлеченных через Facebook и завершивших первый уровень через победу над противником: 759\n",
      "Количество игроков, завершивших первый уровень через реализацию проекта: 391\n",
      "Доля игроков, завершивших первый уровень, среди привлеченных через Facebook: 42%\n"
     ]
    }
   ],
   "source": [
    "fst_lvl('Facebook')"
   ]
  },
  {
   "cell_type": "code",
   "execution_count": 39,
   "metadata": {},
   "outputs": [
    {
     "name": "stdout",
     "output_type": "stream",
     "text": [
      "Количество игроков, привлеченных через Instagram и завершивших первый уровень: 1466\n",
      "Количество игроков, привлеченных через Instagram и завершивших первый уровень через победу над противником: 990\n",
      "Количество игроков, завершивших первый уровень через реализацию проекта: 476\n",
      "Доля игроков, завершивших первый уровень, среди привлеченных через Instagram: 44%\n"
     ]
    }
   ],
   "source": [
    "fst_lvl('Instagram')"
   ]
  },
  {
   "cell_type": "code",
   "execution_count": 40,
   "metadata": {},
   "outputs": [
    {
     "name": "stdout",
     "output_type": "stream",
     "text": [
      "Количество игроков, привлеченных через Yandex и завершивших первый уровень: 2042\n",
      "Количество игроков, привлеченных через Yandex и завершивших первый уровень через победу над противником: 1422\n",
      "Количество игроков, завершивших первый уровень через реализацию проекта: 620\n",
      "Доля игроков, завершивших первый уровень, среди привлеченных через Yandex: 42%\n"
     ]
    }
   ],
   "source": [
    "fst_lvl('Yandex')"
   ]
  },
  {
   "cell_type": "code",
   "execution_count": 41,
   "metadata": {},
   "outputs": [],
   "source": [
    "import plotly.express as px"
   ]
  },
  {
   "cell_type": "code",
   "execution_count": 42,
   "metadata": {},
   "outputs": [],
   "source": [
    "a=users_finish.groupby(['first_lvl', 'source' ], as_index=False).count()"
   ]
  },
  {
   "cell_type": "code",
   "execution_count": 43,
   "metadata": {},
   "outputs": [
    {
     "data": {
      "image/png": "[encoded data removed]"
     },
     "metadata": {},
     "output_type": "display_data"
    }
   ],
   "source": [
    "fig = px.bar(a, x='source', y = 'user_id', color='first_lvl', template='seaborn', )\n",
    "fig.update_layout(title='Количество игроков, привлеченных через разные каналы и завершившие первый уровень',\n",
    "                   xaxis_title='Название источника',\n",
    "                   yaxis_title='Количество игроков')\n",
    "fig.update_layout(xaxis={'categoryorder':'total descending'})\n",
    "fig.show()"
   ]
  },
  {
   "cell_type": "markdown",
   "metadata": {},
   "source": [
    "Нет явных различий между пользователями, привлеченными из разных источников. Самая высокая доля игроков, завершивших первый уровень - 44% - наблюдается среди игроков, привлеченных через Instagram и Youtube - 43%. Среди игроков, привлеченных через Yandex и Facebook, доля завершивших первый уровень, составляет по 42%. Что очень близко."
   ]
  },
  {
   "cell_type": "markdown",
   "metadata": {},
   "source": [
    "**Промежуточный вывод**\n",
    "\n",
    "Количество событий растёт с 4.05 по 10.05 , 11.05 количество событий резко снижается и продолжает ежедневно снижаться (5.06 количество событий составило всего 5). Т.е. наибольшую ативность пользователи проявляют в течении нескольких дней после привлечения\n",
    "\n",
    "Самое частое событие - это постройка здания ('building'). Вторым по частоте является событие 'final_stage_1', которое означает, что игрок завершил первый уровень через победу над врагом. Реже всего происходило событие 'project', завершение уровня через реализацию проекта.\n",
    "\n",
    "Чаще всего игроки строят 'spaceport'. На втором месте по популярности у пользователей стоит 'assembly_shop'. Самая редкая постройка - 'research_center'. Такое распределение может быть связано с тем, что 'research_center' необходимо построить только один раз, а остальные постройки можно возводить по несколько раз. Кроме того, постройка 'research_center' может быть связана с завершением уровня через реализацию проекта, из предыдущего пункта нам известно, что таким образом заканчивают уровень наименьшее количество игроков, то логично, что и постройка данного типа должна быть наименее популярной.\n",
    "\n",
    "\n",
    "Также мы посмотрели на поведение игроков в зависимости от источника привлечения и сделали выводы:\n",
    "\n",
    "- наибольшая часть игроков пришли через Yandex - их количество 4817 (35,5% от всех игроков). Через Instagram пришло 24,7%. Практически одинаковое количество игроков были привлечены через Facebook и Youtube - по 20%\n",
    "\n",
    "- среднее количество событий генерируемых игроками в зависимости от канала привлечения существенно не различается\n",
    "\n",
    "- доли игроков завершивших первый уровень, практически идентичны показателям доли завершивших первый уровень 42-44%\n",
    "\n",
    "Через Facebook привлечение пользователей обходится дороже всего - 0,79 у.е. Немного дешевле через Instagram - 0,65 у.е. Стоимость привлечения игрока через Yandex 0,46 у.е., и самая низкая стоимость привлечения через Youtube - 0,40 у.е."
   ]
  },
  {
   "cell_type": "markdown",
   "metadata": {},
   "source": [
    "## Статистические гипотезы"
   ]
  },
  {
   "cell_type": "markdown",
   "metadata": {},
   "source": [
    "### \"Время завершения уровня различается в зависимости от способа прохождения\""
   ]
  },
  {
   "cell_type": "markdown",
   "metadata": {},
   "source": [
    "Посчитаем для каждого пользователя время, потраченное на прохождение первого уровня"
   ]
  },
  {
   "cell_type": "code",
   "execution_count": 44,
   "metadata": {},
   "outputs": [],
   "source": [
    "game_actions = game_actions.merge(users_finish[['user_id', 'first_lvl']], on='user_id', how='left') "
   ]
  },
  {
   "cell_type": "code",
   "execution_count": 45,
   "metadata": {},
   "outputs": [
    {
     "name": "stdout",
     "output_type": "stream",
     "text": [
      "Среднее количество дней, затраченных на завершение 1-ого уровня: 12\n"
     ]
    }
   ],
   "source": [
    "print('Среднее количество дней, затраченных на завершение 1-ого уровня:', (game_actions.query(\n",
    "    'first_lvl != \"not_finished\"').groupby('user_id').agg({'event_datetime' : 'max'})['event_datetime'] - \n",
    "    game_actions.query('first_lvl != \"not_finished\"').groupby('user_id').agg(\n",
    "        {'event_datetime' : 'min'})['event_datetime']).mean().round('1d').days)\n",
    "\n"
   ]
  },
  {
   "cell_type": "code",
   "execution_count": 46,
   "metadata": {},
   "outputs": [
    {
     "data": {
      "image/png": "[encoded data removed]",
      "text/plain": [
       "<Figure size 432x288 with 1 Axes>"
      ]
     },
     "metadata": {
      "needs_background": "light"
     },
     "output_type": "display_data"
    }
   ],
   "source": [
    "plt.hist((game_actions.query('first_lvl != \"not_finished\"').groupby('user_id').agg(\n",
    "    {'event_datetime' : 'max'})['event_datetime'] - game_actions.query('first_lvl != \"not_finished\"').groupby(\n",
    "    'user_id').agg({'event_datetime' : 'min'})['event_datetime']).apply(lambda x: x.days), bins=30)\n",
    "plt.title('Распределение количества дней, затраченных игроками на прохождение 1-ого уровня')\n",
    "plt.ylabel('Количество игроков')\n",
    "plt.xlabel('Дни')\n",
    "plt.show()"
   ]
  },
  {
   "cell_type": "markdown",
   "metadata": {},
   "source": [
    "В среднем на прохождение 1-ого уровня игроками затрачивается 12 дней, распределение значений показателя близко к нормальному, поэтому для проверки статистической гипотезыможно использовать t-критерий Стьюдента. \n",
    "\n",
    "сформулируем нулевую и альтернативную гипотезы:\n",
    "\n",
    "Н0: \"Среднее время завершения уровня не различается в зависимости от способа прохождения\".\n",
    "\n",
    "Н1: \"Среднее время завершения уровня различается в зависимости от способа прохождения\"."
   ]
  },
  {
   "cell_type": "code",
   "execution_count": 47,
   "metadata": {},
   "outputs": [
    {
     "name": "stdout",
     "output_type": "stream",
     "text": [
      "Среднее количество дней, затраченных на завершение 1-ого уровня через победу над противником: 11\n",
      "Среднее количество дней, затраченных на завершение 1-ого уровня через реализацию проекта: 13\n",
      "p-значение:  1.0867598832876934e-106\n",
      "Нулевая гипотеза отвергнута\n"
     ]
    }
   ],
   "source": [
    "#дни, затраченные игроками на завершение 1-ого уровня через победу над противником\n",
    "days_enemy = (game_actions.query('first_lvl == \"enemy\"').groupby('user_id').agg(\n",
    "    {'event_datetime' : 'max'})['event_datetime'] - game_actions.query('first_lvl == \"enemy\"').groupby('user_id').agg(\n",
    "          {'event_datetime' : 'min'})['event_datetime']).round('1d').apply(lambda x: x.days)\n",
    "\n",
    "#дни, затраченные игроками на завершение 1-ого уровня через реализацию проекта\n",
    "days_project = (game_actions.query('first_lvl == \"project\"').groupby('user_id').agg(\n",
    "    {'event_datetime' : 'max'})['event_datetime'] - game_actions.query('first_lvl == \"project\"').groupby('user_id').agg(\n",
    "          {'event_datetime' : 'min'})['event_datetime']).round('1d').apply(lambda x: x.days)\n",
    "alpha = 0.05 #критический уровень статистической значимости\n",
    "\n",
    "results = st.ttest_ind(days_enemy, days_project, equal_var=False)\n",
    "\n",
    "print('Среднее количество дней, затраченных на завершение 1-ого уровня через победу над противником: {:.0f}'.format(\n",
    "    days_enemy.mean())\n",
    "     )\n",
    "print('Среднее количество дней, затраченных на завершение 1-ого уровня через реализацию проекта: {:.0f}'.format(\n",
    "    days_project.mean())\n",
    "     )\n",
    "print('p-значение: ', results.pvalue)\n",
    "\n",
    "if results.pvalue < alpha:\n",
    "    print('Нулевая гипотеза отвергнута')\n",
    "else:\n",
    "    print('Нельзя отвергнуть нулевую гипотезу')"
   ]
  },
  {
   "cell_type": "markdown",
   "metadata": {},
   "source": [
    "Игроки завершающие уровень через победу над врагом тратят на это в среднем 11 дней, а игроки реализующие проект - 13 дней."
   ]
  },
  {
   "cell_type": "markdown",
   "metadata": {},
   "source": [
    "### \"Доля игроков завершивших первый уровень различается в зависимости от канала привлечения\""
   ]
  },
  {
   "cell_type": "markdown",
   "metadata": {},
   "source": [
    "Используем z-тест для сравнения долей в каждой группе игроков, привлеченных из разных источников. Доля игроков Yandex и Facebook, завершивших 1-ый уровень составляет по 42%, поэтому не будем их сравнивать. Необходимо учесть, что мы будем проводить множественные сравнения, а значит нужно сделать поправку критического уровня статистической значимости, для чего используем поправку Бонферрони.\n",
    "\n",
    "Н0: \"Доли игроков заврешивших первый уровень не различаются в разных каналах привлечения\". \n",
    "\n",
    "Н1: \"Доли игроков заврешивших первый уровень различаются в разных каналах привлечения\"."
   ]
  },
  {
   "cell_type": "code",
   "execution_count": 48,
   "metadata": {},
   "outputs": [],
   "source": [
    "def z_test(x1, n1, x2, n2):\n",
    "    \n",
    "    bonferroni_alpha = .05/6 #критический уровень статистической значимости c поправкой Бонферрони\n",
    "\n",
    "    event = np.array([x1, x2]) #количество совершивших событие пользователей\n",
    "    group = np.array([n1, n2]) #количество пользователей в группах\n",
    "        \n",
    "    p1 = event[0]/group[0] #доля пользователей, совершивших событие в первой группе\n",
    "    p2 = event[1]/group[1]  #доля пользователей, совершивших событие во второй группе\n",
    "\n",
    "    p_combined = (event[0] + event[1]) / (group[0] + group[1]) #доля пользователей, совершивших события в объединённой группе\n",
    "\n",
    "    difference = p1 - p2 #разница долей в группах\n",
    "    \n",
    "    z_value = difference / mth.sqrt(p_combined * (1 - p_combined) * (1 / event[0] + 1 / event[1])) #расчет z-статистики\n",
    "\n",
    "    distr = st.norm(0, 1) #задаем стандартное нормальное распределение (среднее 0, ст.отклонение 1)\n",
    "\n",
    "    p_value = (1 - distr.cdf(abs(z_value))) * 2\n",
    "    \n",
    "    print('p-значение: ', p_value)\n",
    "    \n",
    "    if p_value < bonferroni_alpha:\n",
    "        print('Отвергаем нулевую гипотезу: между долями есть значимая разница')\n",
    "    else:\n",
    "        print('Не получилось отвергнуть нулевую гипотезу, нет оснований считать доли разными') "
   ]
  },
  {
   "cell_type": "markdown",
   "metadata": {},
   "source": [
    "Получается нам нужно сравнить Yandex, Instagram, Youtube, Facebook.\n",
    "будем сравнивать по парам \n",
    "\n",
    "- Yandex - Instagram\n",
    "- Yandex - Youtube\n",
    "- Yandex - Facebook\n",
    "- Instagram - Youtube\n",
    "- Instagram - Facebook\n",
    "- Youtube - Facebook"
   ]
  },
  {
   "cell_type": "markdown",
   "metadata": {},
   "source": [
    "#### Yandex - Instagram"
   ]
  },
  {
   "cell_type": "code",
   "execution_count": 49,
   "metadata": {},
   "outputs": [
    {
     "name": "stdout",
     "output_type": "stream",
     "text": [
      "p-значение:  0.4057495175003498\n",
      "Не получилось отвергнуть нулевую гипотезу, нет оснований считать доли разными\n"
     ]
    }
   ],
   "source": [
    "z_test(game_actions[game_actions['source'] == 'Yandex'].query('event == \"finished_stage_1\"')['user_id'].nunique(), \n",
    "       game_actions[game_actions['source'] == 'Yandex']['user_id'].nunique(),\n",
    "      game_actions[game_actions['source'] == 'Instagram'].query('event == \"finished_stage_1\"')['user_id'].nunique(),\n",
    "      game_actions[game_actions['source'] == 'Instagram']['user_id'].nunique())"
   ]
  },
  {
   "cell_type": "markdown",
   "metadata": {},
   "source": [
    "#### Yandex - Youtube"
   ]
  },
  {
   "cell_type": "code",
   "execution_count": 50,
   "metadata": {},
   "outputs": [
    {
     "name": "stdout",
     "output_type": "stream",
     "text": [
      "p-значение:  0.6768229801770342\n",
      "Не получилось отвергнуть нулевую гипотезу, нет оснований считать доли разными\n"
     ]
    }
   ],
   "source": [
    "z_test(game_actions[game_actions['source'] == 'Yandex'].query('event == \"finished_stage_1\"')['user_id'].nunique(), \n",
    "       game_actions[game_actions['source'] == 'Yandex']['user_id'].nunique(),\n",
    "      game_actions[game_actions['source'] == 'Youtube'].query('event == \"finished_stage_1\"')['user_id'].nunique(),\n",
    "      game_actions[game_actions['source'] == 'Youtube']['user_id'].nunique())"
   ]
  },
  {
   "cell_type": "markdown",
   "metadata": {},
   "source": [
    "#### Yandex - Facebook"
   ]
  },
  {
   "cell_type": "code",
   "execution_count": 51,
   "metadata": {},
   "outputs": [
    {
     "name": "stdout",
     "output_type": "stream",
     "text": [
      "p-значение:  0.9103163488352839\n",
      "Не получилось отвергнуть нулевую гипотезу, нет оснований считать доли разными\n"
     ]
    }
   ],
   "source": [
    "z_test(game_actions[game_actions['source'] == 'Yandex'].query('event == \"finished_stage_1\"')['user_id'].nunique(), \n",
    "       game_actions[game_actions['source'] == 'Yandex']['user_id'].nunique(),\n",
    "      game_actions[game_actions['source'] == 'Facebook'].query('event == \"finished_stage_1\"')['user_id'].nunique(),\n",
    "      game_actions[game_actions['source'] == 'Facebook']['user_id'].nunique())"
   ]
  },
  {
   "cell_type": "markdown",
   "metadata": {},
   "source": [
    "#### Instagram - Youtube"
   ]
  },
  {
   "cell_type": "code",
   "execution_count": 52,
   "metadata": {},
   "outputs": [
    {
     "name": "stdout",
     "output_type": "stream",
     "text": [
      "p-значение:  0.7384185096583284\n",
      "Не получилось отвергнуть нулевую гипотезу, нет оснований считать доли разными\n"
     ]
    }
   ],
   "source": [
    "z_test(game_actions[game_actions['source'] == 'Instagram'].query('event == \"finished_stage_1\"')['user_id'].nunique(), \n",
    "       game_actions[game_actions['source'] == 'Instagram']['user_id'].nunique(),\n",
    "      game_actions[game_actions['source'] == 'Youtube'].query('event == \"finished_stage_1\"')['user_id'].nunique(),\n",
    "      game_actions[game_actions['source'] == 'Youtube']['user_id'].nunique())"
   ]
  },
  {
   "cell_type": "markdown",
   "metadata": {},
   "source": [
    "#### Instagram - Facebook"
   ]
  },
  {
   "cell_type": "code",
   "execution_count": 53,
   "metadata": {},
   "outputs": [
    {
     "name": "stdout",
     "output_type": "stream",
     "text": [
      "p-значение:  0.40797025861071834\n",
      "Не получилось отвергнуть нулевую гипотезу, нет оснований считать доли разными\n"
     ]
    }
   ],
   "source": [
    "z_test(game_actions[game_actions['source'] == 'Instagram'].query('event == \"finished_stage_1\"')['user_id'].nunique(), \n",
    "       game_actions[game_actions['source'] == 'Instagram']['user_id'].nunique(),\n",
    "      game_actions[game_actions['source'] == 'Facebook'].query('event == \"finished_stage_1\"')['user_id'].nunique(),\n",
    "      game_actions[game_actions['source'] == 'Facebook']['user_id'].nunique())"
   ]
  },
  {
   "cell_type": "markdown",
   "metadata": {},
   "source": [
    "#### Youtube - Facebook"
   ]
  },
  {
   "cell_type": "code",
   "execution_count": 54,
   "metadata": {},
   "outputs": [
    {
     "name": "stdout",
     "output_type": "stream",
     "text": [
      "p-значение:  0.6398197240187653\n",
      "Не получилось отвергнуть нулевую гипотезу, нет оснований считать доли разными\n"
     ]
    }
   ],
   "source": [
    "z_test(game_actions[game_actions['source'] == 'Youtube'].query('event == \"finished_stage_1\"')['user_id'].nunique(), \n",
    "       game_actions[game_actions['source'] == 'Youtube']['user_id'].nunique(),\n",
    "      game_actions[game_actions['source'] == 'Facebook'].query('event == \"finished_stage_1\"')['user_id'].nunique(),\n",
    "      game_actions[game_actions['source'] == 'Facebook']['user_id'].nunique())"
   ]
  },
  {
   "cell_type": "markdown",
   "metadata": {},
   "source": [
    "Вывод: В результате проверки выдвинутой гипотезы можно сделать вывод, что между долями игроков из разных каналов привлечения, завершивших первый уровень, отсутствует статистически достоверная разница."
   ]
  },
  {
   "cell_type": "markdown",
   "metadata": {},
   "source": [
    "## Вывод"
   ]
  },
  {
   "cell_type": "markdown",
   "metadata": {},
   "source": [
    "Датасет с информацией об активностях игроков содержал 6% пропусков в столбце building_type и 99% пропусков в столбце project_type, пропуски не требуют обработки. Также датафрейм содержал 1 дубликат который был удалён. В столбце с датой и временем события формат object был заменен на datetime.\n",
    "\n",
    "Количество событий растёт с 4.05 по 10.05 , наибольшую ативность пользователи проявляют в течении нескольких дней после привлечения\n",
    "\n",
    "Самое частое событие - это постройка здания ('building'). Реже всего происходило событие 'project', завершение уровня через реализацию проекта.\n",
    "\n",
    "Чаще всего игроки строят 'spaceport'. Самая редкая постройка - 'research_center'. Такое распределение может быть связано с тем, что 'research_center' необходимо построить только один раз, а остальные постройки можно возводить по несколько раз. Кроме того, постройка 'research_center' может быть связана с завершением уровня через реализацию проекта, из предыдущего пункта нам известно, что таким образом заканчивают уровень наименьшее количество игроков, то логично, что и постройка данного типа должна быть наименее популярной.\n",
    "\n",
    "Также мы посмотрели на поведение игроков в зависимости от источника привлечения и сделали выводы:\n",
    "\n",
    "- наибольшая часть игроков пришли через Yandex - их количество 4817 (35,5% от всех игроков). Через Instagram пришло 24,7%. Практически одинаковое количество игроков были привлечены через Facebook и Youtube - по 20%\n",
    "\n",
    "- среднее количество событий генерируемых игроками в зависимости от канала привлечения сущесственно не различается и варьируется от 9,87 для игроков, привлечённых через Youtube, до 10,15 для игроков, привлечённых через Facebook, распределение данного показателя для каждого из каналов привлечения сходно с таковым для общей совокупности;\n",
    "\n",
    "- доли игроков завершивших первый уровень, в т.ч. разными способами, практически идентичны аналогичным показателям для общей совокупности, а именно доля завершивших первый уровень 42-44%; через победу над противником - 28-30%; через реализацию исследовательского проекта - 13-14%.\n",
    "\n",
    "Через Facebook привлечение пользователей обходится дороже всего - 0,79 у.е. Немного дешевле через Instagram - 0,65 у.е. Стоимость привлечения игрока через Yandex 0,46 у.е., и самая низкая стоимость привлечения через Youtube - 0,40 у.е.\n",
    "\n",
    "\n",
    "Результаты проверок статистических гипотез:\n",
    "\n",
    "- игроки, завершающие 1-ый уровень, через реализацию проекта тратят на прохождение уровня в среднем на 2 дня дольше, чем игроки, завершающие 1-ый уровень через победу над противником \n",
    "- доля игроков, завершающих 1-ый уровень, статистически не различается в разрезе каналов привлечения;\n",
    "\n",
    "Рекомендации\n",
    "\n",
    "- В ходе исследования не было выявлено существенных различий в поведении игроков, привлеченных через разные каналы, поэтому при выборе наиболее оптимальных рекламных каналов стоит, в первую очередь, ориентироваться на стоимость привлечения игрока. По данному параметру предпочтение стоит отдать рекламе через Youtube и Yandex.\n",
    "\n",
    "- Мы выясняли, что те кто завершает 1-ый уровень через реализацию проекта, возводят больше построек, чем игроки, завершающие его через победу над противником. Учитывая, что монетизация планируется через показ рекламы на экране выбора постройки, стоит предусмотреть меры побуждения игроков к прохождению уровней через реализацию проекта (внутриигровые награды)"
   ]
  },
  {
   "cell_type": "code",
   "execution_count": null,
   "metadata": {},
   "outputs": [],
   "source": []
  },
  {
   "cell_type": "code",
   "execution_count": null,
   "metadata": {},
   "outputs": [],
   "source": []
  }
 ],
 "metadata": {
  "ExecuteTimeLog": [
   {
    "duration": 45,
    "start_time": "2023-02-24T09:21:29.665Z"
   },
   {
    "duration": 415,
    "start_time": "2023-02-24T09:21:42.302Z"
   },
   {
    "duration": 95,
    "start_time": "2023-02-24T09:21:43.902Z"
   },
   {
    "duration": 1932,
    "start_time": "2023-03-02T19:50:44.724Z"
   },
   {
    "duration": 1795,
    "start_time": "2023-03-02T20:00:10.200Z"
   },
   {
    "duration": 5,
    "start_time": "2023-03-02T20:02:09.356Z"
   },
   {
    "duration": 4,
    "start_time": "2023-03-02T20:03:08.499Z"
   },
   {
    "duration": 27,
    "start_time": "2023-03-02T20:03:24.670Z"
   },
   {
    "duration": 250,
    "start_time": "2023-03-02T20:03:53.034Z"
   },
   {
    "duration": 5,
    "start_time": "2023-03-02T20:07:09.835Z"
   },
   {
    "duration": 57,
    "start_time": "2023-03-02T20:07:10.451Z"
   },
   {
    "duration": 4,
    "start_time": "2023-03-02T20:07:21.164Z"
   },
   {
    "duration": 9,
    "start_time": "2023-03-02T20:07:31.031Z"
   },
   {
    "duration": 4,
    "start_time": "2023-03-02T20:08:22.053Z"
   },
   {
    "duration": 25,
    "start_time": "2023-03-02T20:08:25.500Z"
   },
   {
    "duration": 5,
    "start_time": "2023-03-02T20:08:37.296Z"
   },
   {
    "duration": 10,
    "start_time": "2023-03-02T20:09:49.130Z"
   },
   {
    "duration": 3,
    "start_time": "2023-03-02T20:11:34.876Z"
   },
   {
    "duration": 5,
    "start_time": "2023-03-02T20:11:38.352Z"
   },
   {
    "duration": 18,
    "start_time": "2023-03-02T20:11:39.047Z"
   },
   {
    "duration": 139,
    "start_time": "2023-03-02T20:11:46.429Z"
   },
   {
    "duration": 159,
    "start_time": "2023-03-02T20:11:58.964Z"
   },
   {
    "duration": 33,
    "start_time": "2023-03-02T20:12:12.164Z"
   },
   {
    "duration": 110,
    "start_time": "2023-03-02T20:18:36.641Z"
   },
   {
    "duration": 96,
    "start_time": "2023-03-02T20:19:16.797Z"
   },
   {
    "duration": 19,
    "start_time": "2023-03-02T20:20:46.868Z"
   },
   {
    "duration": 43,
    "start_time": "2023-03-02T20:26:21.133Z"
   },
   {
    "duration": 54,
    "start_time": "2023-03-02T20:26:22.618Z"
   },
   {
    "duration": 1261,
    "start_time": "2023-03-02T20:35:20.141Z"
   },
   {
    "duration": 323,
    "start_time": "2023-03-02T20:35:21.404Z"
   },
   {
    "duration": 4,
    "start_time": "2023-03-02T20:35:21.731Z"
   },
   {
    "duration": 30,
    "start_time": "2023-03-02T20:35:21.737Z"
   },
   {
    "duration": 191,
    "start_time": "2023-03-02T20:35:21.768Z"
   },
   {
    "duration": 36,
    "start_time": "2023-03-02T20:35:21.961Z"
   },
   {
    "duration": 86,
    "start_time": "2023-03-02T20:35:21.999Z"
   },
   {
    "duration": 99,
    "start_time": "2023-03-02T20:35:22.087Z"
   },
   {
    "duration": 47,
    "start_time": "2023-03-02T20:35:22.188Z"
   },
   {
    "duration": 41,
    "start_time": "2023-03-02T20:37:41.938Z"
   },
   {
    "duration": 644,
    "start_time": "2023-03-02T20:37:50.064Z"
   },
   {
    "duration": 519,
    "start_time": "2023-03-02T20:38:44.730Z"
   },
   {
    "duration": 503,
    "start_time": "2023-03-02T20:39:01.668Z"
   },
   {
    "duration": 39,
    "start_time": "2023-03-02T20:39:13.967Z"
   },
   {
    "duration": 494,
    "start_time": "2023-03-02T20:39:14.606Z"
   },
   {
    "duration": 618,
    "start_time": "2023-03-02T20:39:28.035Z"
   },
   {
    "duration": 586,
    "start_time": "2023-03-02T20:39:35.212Z"
   },
   {
    "duration": 521,
    "start_time": "2023-03-02T20:40:39.759Z"
   },
   {
    "duration": 548,
    "start_time": "2023-03-02T20:41:08.368Z"
   },
   {
    "duration": 5,
    "start_time": "2023-03-02T20:41:21.684Z"
   },
   {
    "duration": 18,
    "start_time": "2023-03-02T20:41:26.703Z"
   },
   {
    "duration": 11,
    "start_time": "2023-03-02T20:41:38.956Z"
   },
   {
    "duration": 5,
    "start_time": "2023-03-02T20:42:04.399Z"
   },
   {
    "duration": 47,
    "start_time": "2023-03-02T20:42:13.476Z"
   },
   {
    "duration": 646,
    "start_time": "2023-03-02T20:42:18.884Z"
   },
   {
    "duration": 13064,
    "start_time": "2023-03-02T20:46:38.334Z"
   },
   {
    "duration": 3310,
    "start_time": "2023-03-02T20:46:56.201Z"
   },
   {
    "duration": 863,
    "start_time": "2023-03-02T20:46:59.514Z"
   },
   {
    "duration": 632,
    "start_time": "2023-03-02T20:47:03.961Z"
   },
   {
    "duration": 1527,
    "start_time": "2023-03-02T20:47:09.879Z"
   },
   {
    "duration": 315,
    "start_time": "2023-03-02T20:47:11.408Z"
   },
   {
    "duration": 3,
    "start_time": "2023-03-02T20:47:11.725Z"
   },
   {
    "duration": 35,
    "start_time": "2023-03-02T20:47:11.730Z"
   },
   {
    "duration": 176,
    "start_time": "2023-03-02T20:47:11.768Z"
   },
   {
    "duration": 48,
    "start_time": "2023-03-02T20:47:11.946Z"
   },
   {
    "duration": 94,
    "start_time": "2023-03-02T20:47:11.995Z"
   },
   {
    "duration": 105,
    "start_time": "2023-03-02T20:47:12.091Z"
   },
   {
    "duration": 29,
    "start_time": "2023-03-02T20:47:12.197Z"
   },
   {
    "duration": 57,
    "start_time": "2023-03-02T20:47:12.227Z"
   },
   {
    "duration": 3580,
    "start_time": "2023-03-02T20:47:12.286Z"
   },
   {
    "duration": 914,
    "start_time": "2023-03-02T20:47:16.841Z"
   },
   {
    "duration": 564,
    "start_time": "2023-03-02T21:09:39.197Z"
   },
   {
    "duration": 46,
    "start_time": "2023-03-02T21:09:48.649Z"
   },
   {
    "duration": 52,
    "start_time": "2023-03-02T21:09:55.841Z"
   },
   {
    "duration": 430,
    "start_time": "2023-03-02T21:10:06.002Z"
   },
   {
    "duration": 320,
    "start_time": "2023-03-02T21:10:16.171Z"
   },
   {
    "duration": 503,
    "start_time": "2023-03-02T21:10:21.852Z"
   },
   {
    "duration": 319,
    "start_time": "2023-03-02T21:10:51.168Z"
   },
   {
    "duration": 329,
    "start_time": "2023-03-02T21:11:07.972Z"
   },
   {
    "duration": 472,
    "start_time": "2023-03-02T21:11:20.837Z"
   },
   {
    "duration": 399,
    "start_time": "2023-03-02T21:19:40.844Z"
   },
   {
    "duration": 439,
    "start_time": "2023-03-02T21:21:16.277Z"
   },
   {
    "duration": 405,
    "start_time": "2023-03-02T21:21:25.646Z"
   },
   {
    "duration": 346,
    "start_time": "2023-03-02T21:25:23.184Z"
   },
   {
    "duration": 337,
    "start_time": "2023-03-02T21:25:58.634Z"
   },
   {
    "duration": 354,
    "start_time": "2023-03-02T21:26:09.891Z"
   },
   {
    "duration": 353,
    "start_time": "2023-03-02T21:26:19.532Z"
   },
   {
    "duration": 25,
    "start_time": "2023-03-02T21:28:29.141Z"
   },
   {
    "duration": 95,
    "start_time": "2023-03-02T21:28:45.475Z"
   },
   {
    "duration": 1327,
    "start_time": "2023-03-02T22:03:48.259Z"
   },
   {
    "duration": 288,
    "start_time": "2023-03-02T22:03:49.589Z"
   },
   {
    "duration": 3,
    "start_time": "2023-03-02T22:03:49.879Z"
   },
   {
    "duration": 22,
    "start_time": "2023-03-02T22:03:49.883Z"
   },
   {
    "duration": 166,
    "start_time": "2023-03-02T22:03:49.907Z"
   },
   {
    "duration": 52,
    "start_time": "2023-03-02T22:03:50.075Z"
   },
   {
    "duration": 72,
    "start_time": "2023-03-02T22:03:50.129Z"
   },
   {
    "duration": 91,
    "start_time": "2023-03-02T22:03:50.203Z"
   },
   {
    "duration": 42,
    "start_time": "2023-03-02T22:03:50.296Z"
   },
   {
    "duration": 46,
    "start_time": "2023-03-02T22:03:50.343Z"
   },
   {
    "duration": 773,
    "start_time": "2023-03-02T22:03:50.390Z"
   },
   {
    "duration": 430,
    "start_time": "2023-03-02T22:03:51.165Z"
   },
   {
    "duration": 429,
    "start_time": "2023-03-02T22:03:51.597Z"
   },
   {
    "duration": 389,
    "start_time": "2023-03-02T22:03:52.033Z"
   },
   {
    "duration": 395,
    "start_time": "2023-03-02T22:05:30.265Z"
   },
   {
    "duration": 170,
    "start_time": "2023-03-02T22:06:00.773Z"
   },
   {
    "duration": 295,
    "start_time": "2023-03-02T22:06:16.381Z"
   },
   {
    "duration": 287,
    "start_time": "2023-03-02T22:06:24.445Z"
   },
   {
    "duration": 268,
    "start_time": "2023-03-02T22:06:31.650Z"
   },
   {
    "duration": 195,
    "start_time": "2023-03-02T22:06:37.547Z"
   },
   {
    "duration": 210,
    "start_time": "2023-03-02T22:06:43.437Z"
   },
   {
    "duration": 197,
    "start_time": "2023-03-02T22:06:50.239Z"
   },
   {
    "duration": 179,
    "start_time": "2023-03-02T22:06:54.969Z"
   },
   {
    "duration": 4,
    "start_time": "2023-03-02T22:20:36.767Z"
   },
   {
    "duration": 3,
    "start_time": "2023-03-02T22:21:40.750Z"
   },
   {
    "duration": 1822,
    "start_time": "2023-03-02T22:22:12.784Z"
   },
   {
    "duration": 4,
    "start_time": "2023-03-02T22:22:22.966Z"
   },
   {
    "duration": 3,
    "start_time": "2023-03-02T22:22:24.479Z"
   },
   {
    "duration": 20,
    "start_time": "2023-03-02T22:23:11.042Z"
   },
   {
    "duration": 9,
    "start_time": "2023-03-02T22:23:26.212Z"
   },
   {
    "duration": 1608,
    "start_time": "2023-03-02T22:23:26.678Z"
   },
   {
    "duration": 3,
    "start_time": "2023-03-02T22:24:05.299Z"
   },
   {
    "duration": 1655,
    "start_time": "2023-03-02T22:24:05.834Z"
   },
   {
    "duration": 7,
    "start_time": "2023-03-02T22:25:34.632Z"
   },
   {
    "duration": 50,
    "start_time": "2023-03-02T22:26:42.798Z"
   },
   {
    "duration": 8,
    "start_time": "2023-03-02T22:26:43.815Z"
   },
   {
    "duration": 6,
    "start_time": "2023-03-02T22:26:44.626Z"
   },
   {
    "duration": 46,
    "start_time": "2023-03-02T22:26:46.297Z"
   },
   {
    "duration": 95,
    "start_time": "2023-03-02T22:27:28.687Z"
   },
   {
    "duration": 11,
    "start_time": "2023-03-02T22:27:29.242Z"
   },
   {
    "duration": 92,
    "start_time": "2023-03-02T22:27:42.841Z"
   },
   {
    "duration": 1412,
    "start_time": "2023-03-02T22:28:33.804Z"
   },
   {
    "duration": 309,
    "start_time": "2023-03-02T22:28:35.220Z"
   },
   {
    "duration": 5,
    "start_time": "2023-03-02T22:28:35.531Z"
   },
   {
    "duration": 38,
    "start_time": "2023-03-02T22:28:35.537Z"
   },
   {
    "duration": 155,
    "start_time": "2023-03-02T22:28:35.577Z"
   },
   {
    "duration": 40,
    "start_time": "2023-03-02T22:28:35.734Z"
   },
   {
    "duration": 77,
    "start_time": "2023-03-02T22:28:35.776Z"
   },
   {
    "duration": 79,
    "start_time": "2023-03-02T22:28:35.854Z"
   },
   {
    "duration": 25,
    "start_time": "2023-03-02T22:28:35.938Z"
   },
   {
    "duration": 71,
    "start_time": "2023-03-02T22:28:35.965Z"
   },
   {
    "duration": 815,
    "start_time": "2023-03-02T22:28:36.037Z"
   },
   {
    "duration": 429,
    "start_time": "2023-03-02T22:28:36.855Z"
   },
   {
    "duration": 413,
    "start_time": "2023-03-02T22:28:37.286Z"
   },
   {
    "duration": 402,
    "start_time": "2023-03-02T22:28:37.701Z"
   },
   {
    "duration": 212,
    "start_time": "2023-03-02T22:28:38.105Z"
   },
   {
    "duration": 48,
    "start_time": "2023-03-02T22:28:38.327Z"
   },
   {
    "duration": 4,
    "start_time": "2023-03-02T22:28:38.377Z"
   },
   {
    "duration": 114,
    "start_time": "2023-03-02T22:28:38.382Z"
   },
   {
    "duration": 121,
    "start_time": "2023-03-02T22:28:38.498Z"
   },
   {
    "duration": 83,
    "start_time": "2023-03-02T22:28:56.456Z"
   },
   {
    "duration": 9,
    "start_time": "2023-03-02T22:28:57.091Z"
   },
   {
    "duration": 14,
    "start_time": "2023-03-02T22:29:31.357Z"
   },
   {
    "duration": 5,
    "start_time": "2023-03-02T22:30:23.898Z"
   },
   {
    "duration": 7,
    "start_time": "2023-03-02T22:30:24.548Z"
   },
   {
    "duration": 48,
    "start_time": "2023-03-02T22:30:25.693Z"
   },
   {
    "duration": 1444,
    "start_time": "2023-03-02T22:30:26.357Z"
   },
   {
    "duration": 41,
    "start_time": "2023-03-02T22:30:34.440Z"
   },
   {
    "duration": 141,
    "start_time": "2023-03-02T22:30:35.206Z"
   },
   {
    "duration": 36,
    "start_time": "2023-03-02T22:30:37.591Z"
   },
   {
    "duration": 4,
    "start_time": "2023-03-02T22:30:42.738Z"
   },
   {
    "duration": 50,
    "start_time": "2023-03-02T22:30:44.788Z"
   },
   {
    "duration": 22,
    "start_time": "2023-03-02T22:31:00.641Z"
   },
   {
    "duration": 32,
    "start_time": "2023-03-02T22:31:41.407Z"
   },
   {
    "duration": 24,
    "start_time": "2023-03-02T22:31:55.135Z"
   },
   {
    "duration": 19,
    "start_time": "2023-03-02T22:32:12.089Z"
   },
   {
    "duration": 419,
    "start_time": "2023-03-02T22:36:22.505Z"
   },
   {
    "duration": 388,
    "start_time": "2023-03-02T22:36:46.828Z"
   },
   {
    "duration": 714,
    "start_time": "2023-03-02T22:38:24.711Z"
   },
   {
    "duration": 493,
    "start_time": "2023-03-02T22:42:03.709Z"
   },
   {
    "duration": 904,
    "start_time": "2023-03-02T22:50:15.973Z"
   },
   {
    "duration": 12,
    "start_time": "2023-03-02T22:50:22.586Z"
   },
   {
    "duration": 1473,
    "start_time": "2023-03-02T22:51:33.127Z"
   },
   {
    "duration": 1538,
    "start_time": "2023-03-02T22:51:46.606Z"
   },
   {
    "duration": 860,
    "start_time": "2023-03-02T22:52:02.276Z"
   },
   {
    "duration": 4,
    "start_time": "2023-03-02T22:53:36.135Z"
   },
   {
    "duration": 9,
    "start_time": "2023-03-02T22:54:01.839Z"
   },
   {
    "duration": 246,
    "start_time": "2023-03-02T22:54:12.429Z"
   },
   {
    "duration": 419,
    "start_time": "2023-03-02T22:54:34.355Z"
   },
   {
    "duration": 76,
    "start_time": "2023-03-02T22:55:06.536Z"
   },
   {
    "duration": 419,
    "start_time": "2023-03-02T22:55:58.510Z"
   },
   {
    "duration": 362,
    "start_time": "2023-03-02T22:56:20.410Z"
   },
   {
    "duration": 331,
    "start_time": "2023-03-02T22:56:28.037Z"
   },
   {
    "duration": 339,
    "start_time": "2023-03-02T22:56:38.895Z"
   },
   {
    "duration": 340,
    "start_time": "2023-03-02T22:56:47.300Z"
   },
   {
    "duration": 346,
    "start_time": "2023-03-02T22:56:52.734Z"
   },
   {
    "duration": 216,
    "start_time": "2023-03-02T22:57:01.804Z"
   },
   {
    "duration": 98,
    "start_time": "2023-03-02T22:57:57.412Z"
   },
   {
    "duration": 444,
    "start_time": "2023-03-02T22:58:05.041Z"
   },
   {
    "duration": 441,
    "start_time": "2023-03-02T22:58:40.129Z"
   },
   {
    "duration": 443,
    "start_time": "2023-03-02T23:00:12.934Z"
   },
   {
    "duration": 477,
    "start_time": "2023-03-02T23:00:38.757Z"
   },
   {
    "duration": 577,
    "start_time": "2023-03-02T23:01:05.205Z"
   },
   {
    "duration": 571,
    "start_time": "2023-03-02T23:01:10.742Z"
   },
   {
    "duration": 129,
    "start_time": "2023-03-03T13:05:43.691Z"
   },
   {
    "duration": 56,
    "start_time": "2023-03-03T13:06:09.836Z"
   },
   {
    "duration": 1402,
    "start_time": "2023-03-03T13:06:18.476Z"
   },
   {
    "duration": 984,
    "start_time": "2023-03-03T13:06:19.880Z"
   },
   {
    "duration": 3,
    "start_time": "2023-03-03T13:06:20.866Z"
   },
   {
    "duration": 29,
    "start_time": "2023-03-03T13:06:20.871Z"
   },
   {
    "duration": 176,
    "start_time": "2023-03-03T13:06:20.902Z"
   },
   {
    "duration": 39,
    "start_time": "2023-03-03T13:06:21.081Z"
   },
   {
    "duration": 94,
    "start_time": "2023-03-03T13:06:21.121Z"
   },
   {
    "duration": 98,
    "start_time": "2023-03-03T13:06:21.216Z"
   },
   {
    "duration": 37,
    "start_time": "2023-03-03T13:06:21.316Z"
   },
   {
    "duration": 48,
    "start_time": "2023-03-03T13:06:21.356Z"
   },
   {
    "duration": 650,
    "start_time": "2023-03-03T13:06:21.406Z"
   },
   {
    "duration": 0,
    "start_time": "2023-03-03T13:06:22.061Z"
   },
   {
    "duration": 0,
    "start_time": "2023-03-03T13:06:22.063Z"
   },
   {
    "duration": 0,
    "start_time": "2023-03-03T13:06:22.064Z"
   },
   {
    "duration": 0,
    "start_time": "2023-03-03T13:06:22.065Z"
   },
   {
    "duration": 0,
    "start_time": "2023-03-03T13:06:22.067Z"
   },
   {
    "duration": 0,
    "start_time": "2023-03-03T13:06:22.068Z"
   },
   {
    "duration": 0,
    "start_time": "2023-03-03T13:06:22.069Z"
   },
   {
    "duration": 0,
    "start_time": "2023-03-03T13:06:22.071Z"
   },
   {
    "duration": 0,
    "start_time": "2023-03-03T13:06:22.072Z"
   },
   {
    "duration": 0,
    "start_time": "2023-03-03T13:06:22.074Z"
   },
   {
    "duration": 0,
    "start_time": "2023-03-03T13:06:22.075Z"
   },
   {
    "duration": 0,
    "start_time": "2023-03-03T13:06:22.076Z"
   },
   {
    "duration": 0,
    "start_time": "2023-03-03T13:06:22.078Z"
   },
   {
    "duration": 0,
    "start_time": "2023-03-03T13:06:22.079Z"
   },
   {
    "duration": 0,
    "start_time": "2023-03-03T13:06:22.081Z"
   },
   {
    "duration": 0,
    "start_time": "2023-03-03T13:06:22.083Z"
   },
   {
    "duration": 0,
    "start_time": "2023-03-03T13:06:22.084Z"
   },
   {
    "duration": 0,
    "start_time": "2023-03-03T13:06:22.085Z"
   },
   {
    "duration": 1161,
    "start_time": "2023-03-03T13:09:42.345Z"
   },
   {
    "duration": 311,
    "start_time": "2023-03-03T13:09:43.509Z"
   },
   {
    "duration": 7,
    "start_time": "2023-03-03T13:09:43.822Z"
   },
   {
    "duration": 35,
    "start_time": "2023-03-03T13:09:43.830Z"
   },
   {
    "duration": 148,
    "start_time": "2023-03-03T13:09:43.868Z"
   },
   {
    "duration": 51,
    "start_time": "2023-03-03T13:09:44.018Z"
   },
   {
    "duration": 95,
    "start_time": "2023-03-03T13:09:44.071Z"
   },
   {
    "duration": 92,
    "start_time": "2023-03-03T13:09:44.167Z"
   },
   {
    "duration": 25,
    "start_time": "2023-03-03T13:09:44.261Z"
   },
   {
    "duration": 58,
    "start_time": "2023-03-03T13:09:44.288Z"
   },
   {
    "duration": 609,
    "start_time": "2023-03-03T13:09:44.348Z"
   },
   {
    "duration": 0,
    "start_time": "2023-03-03T13:09:44.959Z"
   },
   {
    "duration": 0,
    "start_time": "2023-03-03T13:09:44.961Z"
   },
   {
    "duration": 0,
    "start_time": "2023-03-03T13:09:44.962Z"
   },
   {
    "duration": 0,
    "start_time": "2023-03-03T13:09:44.963Z"
   },
   {
    "duration": 0,
    "start_time": "2023-03-03T13:09:44.964Z"
   },
   {
    "duration": 0,
    "start_time": "2023-03-03T13:09:44.965Z"
   },
   {
    "duration": 1,
    "start_time": "2023-03-03T13:09:44.965Z"
   },
   {
    "duration": 0,
    "start_time": "2023-03-03T13:09:44.966Z"
   },
   {
    "duration": 0,
    "start_time": "2023-03-03T13:09:44.967Z"
   },
   {
    "duration": 0,
    "start_time": "2023-03-03T13:09:44.968Z"
   },
   {
    "duration": 0,
    "start_time": "2023-03-03T13:09:44.969Z"
   },
   {
    "duration": 0,
    "start_time": "2023-03-03T13:09:44.970Z"
   },
   {
    "duration": 0,
    "start_time": "2023-03-03T13:09:44.971Z"
   },
   {
    "duration": 0,
    "start_time": "2023-03-03T13:09:44.972Z"
   },
   {
    "duration": 0,
    "start_time": "2023-03-03T13:09:44.973Z"
   },
   {
    "duration": 0,
    "start_time": "2023-03-03T13:09:44.974Z"
   },
   {
    "duration": 0,
    "start_time": "2023-03-03T13:09:44.975Z"
   },
   {
    "duration": 0,
    "start_time": "2023-03-03T13:09:44.975Z"
   },
   {
    "duration": 7,
    "start_time": "2023-03-03T13:10:02.056Z"
   },
   {
    "duration": 8,
    "start_time": "2023-03-03T13:10:02.683Z"
   },
   {
    "duration": 51,
    "start_time": "2023-03-03T13:10:03.117Z"
   },
   {
    "duration": 4,
    "start_time": "2023-03-03T13:10:03.482Z"
   },
   {
    "duration": 65,
    "start_time": "2023-03-03T13:10:04.085Z"
   },
   {
    "duration": 525,
    "start_time": "2023-03-03T13:10:11.453Z"
   },
   {
    "duration": 8680,
    "start_time": "2023-03-03T13:10:48.683Z"
   },
   {
    "duration": 631,
    "start_time": "2023-03-03T13:11:01.563Z"
   },
   {
    "duration": 2901,
    "start_time": "2023-03-03T13:13:47.562Z"
   },
   {
    "duration": 62,
    "start_time": "2023-03-03T13:13:50.466Z"
   },
   {
    "duration": 1396,
    "start_time": "2023-03-03T13:13:50.662Z"
   },
   {
    "duration": 285,
    "start_time": "2023-03-03T13:13:52.065Z"
   },
   {
    "duration": 4,
    "start_time": "2023-03-03T13:13:52.360Z"
   },
   {
    "duration": 28,
    "start_time": "2023-03-03T13:13:52.366Z"
   },
   {
    "duration": 159,
    "start_time": "2023-03-03T13:13:52.397Z"
   },
   {
    "duration": 41,
    "start_time": "2023-03-03T13:13:52.558Z"
   },
   {
    "duration": 98,
    "start_time": "2023-03-03T13:13:52.600Z"
   },
   {
    "duration": 83,
    "start_time": "2023-03-03T13:13:52.699Z"
   },
   {
    "duration": 22,
    "start_time": "2023-03-03T13:13:52.784Z"
   },
   {
    "duration": 65,
    "start_time": "2023-03-03T13:13:52.807Z"
   },
   {
    "duration": 3061,
    "start_time": "2023-03-03T13:13:52.873Z"
   },
   {
    "duration": 921,
    "start_time": "2023-03-03T13:13:55.936Z"
   },
   {
    "duration": 422,
    "start_time": "2023-03-03T13:13:56.859Z"
   },
   {
    "duration": 490,
    "start_time": "2023-03-03T13:13:57.285Z"
   },
   {
    "duration": 479,
    "start_time": "2023-03-03T13:13:57.777Z"
   },
   {
    "duration": 208,
    "start_time": "2023-03-03T13:13:58.259Z"
   },
   {
    "duration": 6,
    "start_time": "2023-03-03T13:13:58.469Z"
   },
   {
    "duration": 10,
    "start_time": "2023-03-03T13:13:58.477Z"
   },
   {
    "duration": 92,
    "start_time": "2023-03-03T13:13:58.489Z"
   },
   {
    "duration": 4,
    "start_time": "2023-03-03T13:13:58.583Z"
   },
   {
    "duration": 72,
    "start_time": "2023-03-03T13:13:58.588Z"
   },
   {
    "duration": 29,
    "start_time": "2023-03-03T13:13:58.662Z"
   },
   {
    "duration": 20,
    "start_time": "2023-03-03T13:13:58.693Z"
   },
   {
    "duration": 45,
    "start_time": "2023-03-03T13:13:58.715Z"
   },
   {
    "duration": 407,
    "start_time": "2023-03-03T13:13:58.762Z"
   },
   {
    "duration": 475,
    "start_time": "2023-03-03T13:13:59.171Z"
   },
   {
    "duration": 914,
    "start_time": "2023-03-03T13:13:59.655Z"
   },
   {
    "duration": 5,
    "start_time": "2023-03-03T13:14:00.571Z"
   },
   {
    "duration": 295,
    "start_time": "2023-03-03T13:14:00.578Z"
   },
   {
    "duration": 505,
    "start_time": "2023-03-03T13:14:00.875Z"
   },
   {
    "duration": 487,
    "start_time": "2023-03-03T13:14:48.978Z"
   },
   {
    "duration": 123,
    "start_time": "2023-03-03T13:15:09.913Z"
   },
   {
    "duration": 502,
    "start_time": "2023-03-03T13:15:22.660Z"
   },
   {
    "duration": 532,
    "start_time": "2023-03-03T13:15:50.265Z"
   },
   {
    "duration": 559,
    "start_time": "2023-03-03T13:16:26.214Z"
   },
   {
    "duration": 433,
    "start_time": "2023-03-03T13:20:43.342Z"
   },
   {
    "duration": 83,
    "start_time": "2023-03-03T13:21:38.266Z"
   },
   {
    "duration": 454,
    "start_time": "2023-03-03T13:21:54.465Z"
   },
   {
    "duration": 493,
    "start_time": "2023-03-03T13:22:19.477Z"
   },
   {
    "duration": 4,
    "start_time": "2023-03-03T13:28:28.897Z"
   },
   {
    "duration": 16,
    "start_time": "2023-03-03T13:29:05.443Z"
   },
   {
    "duration": 73,
    "start_time": "2023-03-03T13:30:54.306Z"
   },
   {
    "duration": 16,
    "start_time": "2023-03-03T13:30:55.118Z"
   },
   {
    "duration": 82,
    "start_time": "2023-03-03T13:31:23.586Z"
   },
   {
    "duration": 6,
    "start_time": "2023-03-03T13:32:01.168Z"
   },
   {
    "duration": 51,
    "start_time": "2023-03-03T13:32:01.765Z"
   },
   {
    "duration": 34,
    "start_time": "2023-03-03T13:32:18.429Z"
   },
   {
    "duration": 38,
    "start_time": "2023-03-03T13:32:38.506Z"
   },
   {
    "duration": 41,
    "start_time": "2023-03-03T13:33:09.537Z"
   },
   {
    "duration": 340,
    "start_time": "2023-03-03T13:35:27.618Z"
   },
   {
    "duration": 328,
    "start_time": "2023-03-03T13:36:02.278Z"
   },
   {
    "duration": 343,
    "start_time": "2023-03-03T13:36:48.763Z"
   },
   {
    "duration": 435,
    "start_time": "2023-03-03T13:37:25.198Z"
   },
   {
    "duration": 312,
    "start_time": "2023-03-03T13:38:15.159Z"
   },
   {
    "duration": 342,
    "start_time": "2023-03-03T13:39:03.559Z"
   },
   {
    "duration": 426,
    "start_time": "2023-03-03T13:39:20.559Z"
   },
   {
    "duration": 6,
    "start_time": "2023-03-03T13:39:43.466Z"
   },
   {
    "duration": 21,
    "start_time": "2023-03-03T13:39:43.881Z"
   },
   {
    "duration": 22,
    "start_time": "2023-03-03T13:39:44.618Z"
   },
   {
    "duration": 22,
    "start_time": "2023-03-03T13:39:45.290Z"
   },
   {
    "duration": 19,
    "start_time": "2023-03-03T13:39:54.658Z"
   },
   {
    "duration": 10,
    "start_time": "2023-03-03T13:40:22.958Z"
   },
   {
    "duration": 26,
    "start_time": "2023-03-03T13:40:24.837Z"
   },
   {
    "duration": 22,
    "start_time": "2023-03-03T13:40:25.430Z"
   },
   {
    "duration": 22,
    "start_time": "2023-03-03T13:40:25.879Z"
   },
   {
    "duration": 23,
    "start_time": "2023-03-03T13:40:26.508Z"
   },
   {
    "duration": 13,
    "start_time": "2023-03-03T13:43:24.197Z"
   },
   {
    "duration": 260,
    "start_time": "2023-03-03T13:43:49.661Z"
   },
   {
    "duration": 18,
    "start_time": "2023-03-03T13:43:50.619Z"
   },
   {
    "duration": 746,
    "start_time": "2023-03-03T13:44:12.134Z"
   },
   {
    "duration": 98,
    "start_time": "2023-03-03T13:44:52.458Z"
   },
   {
    "duration": 28,
    "start_time": "2023-03-03T13:45:56.234Z"
   },
   {
    "duration": 848,
    "start_time": "2023-03-03T13:46:20.481Z"
   },
   {
    "duration": 276,
    "start_time": "2023-03-03T13:46:36.389Z"
   },
   {
    "duration": 245,
    "start_time": "2023-03-03T13:46:52.515Z"
   },
   {
    "duration": 356,
    "start_time": "2023-03-03T13:47:05.298Z"
   },
   {
    "duration": 1553,
    "start_time": "2023-03-03T13:47:22.548Z"
   },
   {
    "duration": 377,
    "start_time": "2023-03-03T13:47:24.103Z"
   },
   {
    "duration": 4,
    "start_time": "2023-03-03T13:47:24.482Z"
   },
   {
    "duration": 35,
    "start_time": "2023-03-03T13:47:24.488Z"
   },
   {
    "duration": 238,
    "start_time": "2023-03-03T13:47:24.526Z"
   },
   {
    "duration": 59,
    "start_time": "2023-03-03T13:47:24.766Z"
   },
   {
    "duration": 116,
    "start_time": "2023-03-03T13:47:24.840Z"
   },
   {
    "duration": 113,
    "start_time": "2023-03-03T13:47:24.957Z"
   },
   {
    "duration": 30,
    "start_time": "2023-03-03T13:47:25.072Z"
   },
   {
    "duration": 77,
    "start_time": "2023-03-03T13:47:25.104Z"
   },
   {
    "duration": 1163,
    "start_time": "2023-03-03T13:47:25.183Z"
   },
   {
    "duration": 591,
    "start_time": "2023-03-03T13:47:26.348Z"
   },
   {
    "duration": 582,
    "start_time": "2023-03-03T13:47:26.942Z"
   },
   {
    "duration": 479,
    "start_time": "2023-03-03T13:47:27.529Z"
   },
   {
    "duration": 257,
    "start_time": "2023-03-03T13:47:28.010Z"
   },
   {
    "duration": 5,
    "start_time": "2023-03-03T13:47:28.269Z"
   },
   {
    "duration": 15,
    "start_time": "2023-03-03T13:47:28.276Z"
   },
   {
    "duration": 97,
    "start_time": "2023-03-03T13:47:28.293Z"
   },
   {
    "duration": 4,
    "start_time": "2023-03-03T13:47:28.392Z"
   },
   {
    "duration": 78,
    "start_time": "2023-03-03T13:47:28.397Z"
   },
   {
    "duration": 21,
    "start_time": "2023-03-03T13:47:28.478Z"
   },
   {
    "duration": 22,
    "start_time": "2023-03-03T13:47:28.502Z"
   },
   {
    "duration": 33,
    "start_time": "2023-03-03T13:47:28.526Z"
   },
   {
    "duration": 458,
    "start_time": "2023-03-03T13:47:28.561Z"
   },
   {
    "duration": 627,
    "start_time": "2023-03-03T13:47:29.021Z"
   },
   {
    "duration": 1312,
    "start_time": "2023-03-03T13:47:29.650Z"
   },
   {
    "duration": 5,
    "start_time": "2023-03-03T13:47:30.964Z"
   },
   {
    "duration": 359,
    "start_time": "2023-03-03T13:47:30.971Z"
   },
   {
    "duration": 624,
    "start_time": "2023-03-03T13:47:31.332Z"
   },
   {
    "duration": 5,
    "start_time": "2023-03-03T13:47:31.958Z"
   },
   {
    "duration": 31,
    "start_time": "2023-03-03T13:47:31.965Z"
   },
   {
    "duration": 20,
    "start_time": "2023-03-03T13:47:31.998Z"
   },
   {
    "duration": 36,
    "start_time": "2023-03-03T13:47:32.020Z"
   },
   {
    "duration": 58,
    "start_time": "2023-03-03T13:47:32.058Z"
   },
   {
    "duration": 452,
    "start_time": "2023-03-03T13:47:32.120Z"
   },
   {
    "duration": 150,
    "start_time": "2023-03-03T13:47:32.573Z"
   },
   {
    "duration": 751,
    "start_time": "2023-03-03T13:47:32.725Z"
   },
   {
    "duration": 236,
    "start_time": "2023-03-03T13:48:34.517Z"
   },
   {
    "duration": 292,
    "start_time": "2023-03-03T13:48:53.155Z"
   },
   {
    "duration": 753,
    "start_time": "2023-03-03T13:49:01.378Z"
   },
   {
    "duration": 318,
    "start_time": "2023-03-03T13:49:42.185Z"
   },
   {
    "duration": 239,
    "start_time": "2023-03-03T13:50:11.038Z"
   },
   {
    "duration": 215,
    "start_time": "2023-03-03T13:50:17.278Z"
   },
   {
    "duration": 230,
    "start_time": "2023-03-03T13:50:26.778Z"
   },
   {
    "duration": 349,
    "start_time": "2023-03-03T13:50:35.116Z"
   },
   {
    "duration": 216,
    "start_time": "2023-03-03T13:52:18.703Z"
   },
   {
    "duration": 217,
    "start_time": "2023-03-03T13:53:06.983Z"
   },
   {
    "duration": 218,
    "start_time": "2023-03-03T13:53:20.138Z"
   },
   {
    "duration": 216,
    "start_time": "2023-03-03T13:54:44.259Z"
   },
   {
    "duration": 230,
    "start_time": "2023-03-03T13:55:14.058Z"
   },
   {
    "duration": 319,
    "start_time": "2023-03-03T13:56:00.691Z"
   },
   {
    "duration": 17,
    "start_time": "2023-03-03T13:57:11.568Z"
   },
   {
    "duration": 73,
    "start_time": "2023-03-03T13:57:22.991Z"
   },
   {
    "duration": 14,
    "start_time": "2023-03-03T13:57:28.010Z"
   },
   {
    "duration": 226,
    "start_time": "2023-03-03T13:57:35.109Z"
   },
   {
    "duration": 220,
    "start_time": "2023-03-03T13:58:12.606Z"
   },
   {
    "duration": 6,
    "start_time": "2023-03-03T13:59:49.353Z"
   },
   {
    "duration": 29,
    "start_time": "2023-03-03T13:59:50.117Z"
   },
   {
    "duration": 22,
    "start_time": "2023-03-03T13:59:55.397Z"
   },
   {
    "duration": 40,
    "start_time": "2023-03-03T13:59:55.765Z"
   },
   {
    "duration": 31,
    "start_time": "2023-03-03T13:59:56.037Z"
   },
   {
    "duration": 3,
    "start_time": "2023-03-03T13:59:56.977Z"
   },
   {
    "duration": 225,
    "start_time": "2023-03-03T13:59:58.309Z"
   },
   {
    "duration": 1601,
    "start_time": "2023-03-03T14:14:16.196Z"
   },
   {
    "duration": 299,
    "start_time": "2023-03-03T14:14:17.800Z"
   },
   {
    "duration": 4,
    "start_time": "2023-03-03T14:14:18.101Z"
   },
   {
    "duration": 42,
    "start_time": "2023-03-03T14:14:18.107Z"
   },
   {
    "duration": 147,
    "start_time": "2023-03-03T14:14:18.150Z"
   },
   {
    "duration": 49,
    "start_time": "2023-03-03T14:14:18.299Z"
   },
   {
    "duration": 113,
    "start_time": "2023-03-03T14:14:18.350Z"
   },
   {
    "duration": 90,
    "start_time": "2023-03-03T14:14:18.465Z"
   },
   {
    "duration": 29,
    "start_time": "2023-03-03T14:14:18.557Z"
   },
   {
    "duration": 54,
    "start_time": "2023-03-03T14:14:18.590Z"
   },
   {
    "duration": 1064,
    "start_time": "2023-03-03T14:14:18.646Z"
   },
   {
    "duration": 459,
    "start_time": "2023-03-03T14:14:19.712Z"
   },
   {
    "duration": 561,
    "start_time": "2023-03-03T14:14:20.174Z"
   },
   {
    "duration": 513,
    "start_time": "2023-03-03T14:14:20.741Z"
   },
   {
    "duration": 304,
    "start_time": "2023-03-03T14:14:21.256Z"
   },
   {
    "duration": 15,
    "start_time": "2023-03-03T14:14:21.563Z"
   },
   {
    "duration": 14,
    "start_time": "2023-03-03T14:14:21.580Z"
   },
   {
    "duration": 68,
    "start_time": "2023-03-03T14:14:21.596Z"
   },
   {
    "duration": 3,
    "start_time": "2023-03-03T14:14:21.667Z"
   },
   {
    "duration": 79,
    "start_time": "2023-03-03T14:14:21.673Z"
   },
   {
    "duration": 36,
    "start_time": "2023-03-03T14:14:21.756Z"
   },
   {
    "duration": 33,
    "start_time": "2023-03-03T14:14:21.796Z"
   },
   {
    "duration": 32,
    "start_time": "2023-03-03T14:14:21.831Z"
   },
   {
    "duration": 437,
    "start_time": "2023-03-03T14:14:21.865Z"
   },
   {
    "duration": 624,
    "start_time": "2023-03-03T14:14:22.304Z"
   },
   {
    "duration": 1287,
    "start_time": "2023-03-03T14:14:22.930Z"
   },
   {
    "duration": 5,
    "start_time": "2023-03-03T14:14:24.219Z"
   },
   {
    "duration": 374,
    "start_time": "2023-03-03T14:14:24.240Z"
   },
   {
    "duration": 578,
    "start_time": "2023-03-03T14:14:24.616Z"
   },
   {
    "duration": 5,
    "start_time": "2023-03-03T14:14:25.197Z"
   },
   {
    "duration": 40,
    "start_time": "2023-03-03T14:14:25.204Z"
   },
   {
    "duration": 31,
    "start_time": "2023-03-03T14:14:25.246Z"
   },
   {
    "duration": 27,
    "start_time": "2023-03-03T14:14:25.279Z"
   },
   {
    "duration": 54,
    "start_time": "2023-03-03T14:14:25.308Z"
   },
   {
    "duration": 155,
    "start_time": "2023-03-03T14:14:25.365Z"
   },
   {
    "duration": 851,
    "start_time": "2023-03-03T14:14:25.522Z"
   },
   {
    "duration": 242,
    "start_time": "2023-03-03T14:14:38.609Z"
   },
   {
    "duration": 225,
    "start_time": "2023-03-03T14:14:59.541Z"
   },
   {
    "duration": 59,
    "start_time": "2023-03-03T14:26:27.816Z"
   },
   {
    "duration": 106,
    "start_time": "2023-03-03T14:27:14.830Z"
   },
   {
    "duration": 62,
    "start_time": "2023-03-03T14:30:15.997Z"
   },
   {
    "duration": 496,
    "start_time": "2023-03-03T14:30:18.693Z"
   },
   {
    "duration": 390,
    "start_time": "2023-03-03T14:31:21.189Z"
   },
   {
    "duration": 381,
    "start_time": "2023-03-03T14:31:32.899Z"
   },
   {
    "duration": 385,
    "start_time": "2023-03-03T14:33:04.412Z"
   },
   {
    "duration": 467,
    "start_time": "2023-03-03T14:33:12.331Z"
   },
   {
    "duration": 75,
    "start_time": "2023-03-03T14:33:27.715Z"
   },
   {
    "duration": 79,
    "start_time": "2023-03-03T14:33:44.209Z"
   },
   {
    "duration": 453,
    "start_time": "2023-03-03T14:34:09.945Z"
   },
   {
    "duration": 332,
    "start_time": "2023-03-03T14:34:24.734Z"
   },
   {
    "duration": 450,
    "start_time": "2023-03-03T14:34:43.149Z"
   },
   {
    "duration": 112,
    "start_time": "2023-03-03T14:36:42.818Z"
   },
   {
    "duration": 141,
    "start_time": "2023-03-03T14:37:07.746Z"
   },
   {
    "duration": 5,
    "start_time": "2023-03-03T14:43:50.801Z"
   },
   {
    "duration": 136,
    "start_time": "2023-03-03T14:47:16.358Z"
   },
   {
    "duration": 4,
    "start_time": "2023-03-03T14:48:13.564Z"
   },
   {
    "duration": 8,
    "start_time": "2023-03-03T14:48:18.459Z"
   },
   {
    "duration": 102,
    "start_time": "2023-03-03T14:48:20.597Z"
   },
   {
    "duration": 67,
    "start_time": "2023-03-03T14:51:28.994Z"
   },
   {
    "duration": 93,
    "start_time": "2023-03-03T14:51:41.427Z"
   },
   {
    "duration": 98,
    "start_time": "2023-03-03T14:51:50.568Z"
   },
   {
    "duration": 67,
    "start_time": "2023-03-03T14:52:00.227Z"
   },
   {
    "duration": 70,
    "start_time": "2023-03-03T14:52:13.202Z"
   },
   {
    "duration": 427,
    "start_time": "2023-03-03T15:08:44.200Z"
   },
   {
    "duration": 476,
    "start_time": "2023-03-03T15:08:53.870Z"
   },
   {
    "duration": 433,
    "start_time": "2023-03-03T15:09:00.108Z"
   },
   {
    "duration": 424,
    "start_time": "2023-03-03T15:09:05.668Z"
   },
   {
    "duration": 397,
    "start_time": "2023-03-03T15:09:12.768Z"
   },
   {
    "duration": 414,
    "start_time": "2023-03-03T15:09:19.276Z"
   },
   {
    "duration": 788,
    "start_time": "2023-03-03T15:09:48.810Z"
   },
   {
    "duration": 776,
    "start_time": "2023-03-03T15:09:55.169Z"
   },
   {
    "duration": 1279,
    "start_time": "2023-03-04T11:09:03.373Z"
   },
   {
    "duration": 287,
    "start_time": "2023-03-04T11:09:04.654Z"
   },
   {
    "duration": 4,
    "start_time": "2023-03-04T11:09:04.943Z"
   },
   {
    "duration": 20,
    "start_time": "2023-03-04T11:09:04.949Z"
   },
   {
    "duration": 154,
    "start_time": "2023-03-04T11:09:04.971Z"
   },
   {
    "duration": 39,
    "start_time": "2023-03-04T11:09:05.127Z"
   },
   {
    "duration": 93,
    "start_time": "2023-03-04T11:09:05.168Z"
   },
   {
    "duration": 90,
    "start_time": "2023-03-04T11:09:05.263Z"
   },
   {
    "duration": 23,
    "start_time": "2023-03-04T11:09:05.355Z"
   },
   {
    "duration": 53,
    "start_time": "2023-03-04T11:09:05.381Z"
   },
   {
    "duration": 608,
    "start_time": "2023-03-04T11:09:05.436Z"
   },
   {
    "duration": 0,
    "start_time": "2023-03-04T11:09:06.047Z"
   },
   {
    "duration": 0,
    "start_time": "2023-03-04T11:09:06.048Z"
   },
   {
    "duration": 0,
    "start_time": "2023-03-04T11:09:06.049Z"
   },
   {
    "duration": 0,
    "start_time": "2023-03-04T11:09:06.050Z"
   },
   {
    "duration": 0,
    "start_time": "2023-03-04T11:09:06.052Z"
   },
   {
    "duration": 0,
    "start_time": "2023-03-04T11:09:06.053Z"
   },
   {
    "duration": 0,
    "start_time": "2023-03-04T11:09:06.054Z"
   },
   {
    "duration": 0,
    "start_time": "2023-03-04T11:09:06.056Z"
   },
   {
    "duration": 0,
    "start_time": "2023-03-04T11:09:06.057Z"
   },
   {
    "duration": 0,
    "start_time": "2023-03-04T11:09:06.057Z"
   },
   {
    "duration": 0,
    "start_time": "2023-03-04T11:09:06.058Z"
   },
   {
    "duration": 0,
    "start_time": "2023-03-04T11:09:06.059Z"
   },
   {
    "duration": 0,
    "start_time": "2023-03-04T11:09:06.061Z"
   },
   {
    "duration": 0,
    "start_time": "2023-03-04T11:09:06.062Z"
   },
   {
    "duration": 0,
    "start_time": "2023-03-04T11:09:06.063Z"
   },
   {
    "duration": 0,
    "start_time": "2023-03-04T11:09:06.064Z"
   },
   {
    "duration": 0,
    "start_time": "2023-03-04T11:09:06.065Z"
   },
   {
    "duration": 0,
    "start_time": "2023-03-04T11:09:06.067Z"
   },
   {
    "duration": 0,
    "start_time": "2023-03-04T11:09:06.067Z"
   },
   {
    "duration": 0,
    "start_time": "2023-03-04T11:09:06.069Z"
   },
   {
    "duration": 0,
    "start_time": "2023-03-04T11:09:06.070Z"
   },
   {
    "duration": 0,
    "start_time": "2023-03-04T11:09:06.071Z"
   },
   {
    "duration": 0,
    "start_time": "2023-03-04T11:09:06.072Z"
   },
   {
    "duration": 0,
    "start_time": "2023-03-04T11:09:06.124Z"
   },
   {
    "duration": 0,
    "start_time": "2023-03-04T11:09:06.125Z"
   },
   {
    "duration": 0,
    "start_time": "2023-03-04T11:09:06.126Z"
   },
   {
    "duration": 0,
    "start_time": "2023-03-04T11:09:06.127Z"
   },
   {
    "duration": 0,
    "start_time": "2023-03-04T11:09:06.128Z"
   },
   {
    "duration": 0,
    "start_time": "2023-03-04T11:09:06.129Z"
   },
   {
    "duration": 0,
    "start_time": "2023-03-04T11:09:06.130Z"
   },
   {
    "duration": 0,
    "start_time": "2023-03-04T11:09:06.131Z"
   },
   {
    "duration": 0,
    "start_time": "2023-03-04T11:09:06.133Z"
   },
   {
    "duration": 0,
    "start_time": "2023-03-04T11:09:06.134Z"
   },
   {
    "duration": 0,
    "start_time": "2023-03-04T11:09:06.135Z"
   },
   {
    "duration": 0,
    "start_time": "2023-03-04T11:09:06.136Z"
   },
   {
    "duration": 0,
    "start_time": "2023-03-04T11:09:06.137Z"
   },
   {
    "duration": 107,
    "start_time": "2023-03-04T11:14:18.824Z"
   },
   {
    "duration": 248,
    "start_time": "2023-03-04T11:14:23.880Z"
   },
   {
    "duration": 246,
    "start_time": "2023-03-04T11:14:35.720Z"
   },
   {
    "duration": 229,
    "start_time": "2023-03-04T11:14:36.297Z"
   },
   {
    "duration": 0,
    "start_time": "2023-03-04T11:14:36.527Z"
   },
   {
    "duration": 5,
    "start_time": "2023-03-04T11:14:37.145Z"
   },
   {
    "duration": 7,
    "start_time": "2023-03-04T11:14:37.177Z"
   },
   {
    "duration": 46,
    "start_time": "2023-03-04T11:14:37.209Z"
   },
   {
    "duration": 3,
    "start_time": "2023-03-04T11:14:37.257Z"
   },
   {
    "duration": 52,
    "start_time": "2023-03-04T11:14:37.284Z"
   },
   {
    "duration": 22,
    "start_time": "2023-03-04T11:14:37.338Z"
   },
   {
    "duration": 23,
    "start_time": "2023-03-04T11:14:37.362Z"
   },
   {
    "duration": 43,
    "start_time": "2023-03-04T11:14:37.387Z"
   },
   {
    "duration": 199,
    "start_time": "2023-03-04T11:14:37.472Z"
   },
   {
    "duration": 361,
    "start_time": "2023-03-04T11:14:37.673Z"
   },
   {
    "duration": 972,
    "start_time": "2023-03-04T11:14:38.036Z"
   },
   {
    "duration": 5,
    "start_time": "2023-03-04T11:14:39.010Z"
   },
   {
    "duration": 270,
    "start_time": "2023-03-04T11:14:39.025Z"
   },
   {
    "duration": 310,
    "start_time": "2023-03-04T11:14:39.297Z"
   },
   {
    "duration": 0,
    "start_time": "2023-03-04T11:14:39.609Z"
   },
   {
    "duration": 0,
    "start_time": "2023-03-04T11:14:39.610Z"
   },
   {
    "duration": 0,
    "start_time": "2023-03-04T11:14:39.611Z"
   },
   {
    "duration": 0,
    "start_time": "2023-03-04T11:14:39.612Z"
   },
   {
    "duration": 0,
    "start_time": "2023-03-04T11:14:39.613Z"
   },
   {
    "duration": 0,
    "start_time": "2023-03-04T11:14:39.624Z"
   },
   {
    "duration": 0,
    "start_time": "2023-03-04T11:14:39.625Z"
   },
   {
    "duration": 0,
    "start_time": "2023-03-04T11:14:39.626Z"
   },
   {
    "duration": 0,
    "start_time": "2023-03-04T11:14:39.627Z"
   },
   {
    "duration": 0,
    "start_time": "2023-03-04T11:14:39.628Z"
   },
   {
    "duration": 0,
    "start_time": "2023-03-04T11:14:39.629Z"
   },
   {
    "duration": 0,
    "start_time": "2023-03-04T11:14:39.630Z"
   },
   {
    "duration": 0,
    "start_time": "2023-03-04T11:14:39.631Z"
   },
   {
    "duration": 0,
    "start_time": "2023-03-04T11:14:39.632Z"
   },
   {
    "duration": 0,
    "start_time": "2023-03-04T11:14:39.634Z"
   },
   {
    "duration": 0,
    "start_time": "2023-03-04T11:14:39.635Z"
   },
   {
    "duration": 0,
    "start_time": "2023-03-04T11:14:39.636Z"
   },
   {
    "duration": 10,
    "start_time": "2023-03-04T11:14:39.688Z"
   },
   {
    "duration": 5,
    "start_time": "2023-03-04T11:19:16.455Z"
   },
   {
    "duration": 21,
    "start_time": "2023-03-04T11:19:16.638Z"
   },
   {
    "duration": 20,
    "start_time": "2023-03-04T11:19:16.918Z"
   },
   {
    "duration": 19,
    "start_time": "2023-03-04T11:19:17.127Z"
   },
   {
    "duration": 21,
    "start_time": "2023-03-04T11:19:17.406Z"
   },
   {
    "duration": 92,
    "start_time": "2023-03-04T11:19:17.639Z"
   },
   {
    "duration": 560,
    "start_time": "2023-03-04T11:19:17.887Z"
   },
   {
    "duration": 41,
    "start_time": "2023-03-04T11:19:20.681Z"
   },
   {
    "duration": 95,
    "start_time": "2023-03-04T11:19:21.871Z"
   },
   {
    "duration": 355,
    "start_time": "2023-03-04T11:19:22.102Z"
   },
   {
    "duration": 107,
    "start_time": "2023-03-04T11:19:22.903Z"
   },
   {
    "duration": 7,
    "start_time": "2023-03-04T11:19:25.570Z"
   },
   {
    "duration": 76,
    "start_time": "2023-03-04T11:19:26.710Z"
   },
   {
    "duration": 72,
    "start_time": "2023-03-04T11:19:27.568Z"
   },
   {
    "duration": 70,
    "start_time": "2023-03-04T11:19:28.046Z"
   },
   {
    "duration": 65,
    "start_time": "2023-03-04T11:19:28.542Z"
   },
   {
    "duration": 81,
    "start_time": "2023-03-04T11:19:28.982Z"
   },
   {
    "duration": 65,
    "start_time": "2023-03-04T11:19:29.442Z"
   },
   {
    "duration": 111,
    "start_time": "2023-03-04T11:20:29.965Z"
   },
   {
    "duration": 9461,
    "start_time": "2023-03-04T11:51:31.437Z"
   },
   {
    "duration": 1490,
    "start_time": "2023-03-04T11:51:53.919Z"
   },
   {
    "duration": 922,
    "start_time": "2023-03-04T11:51:55.411Z"
   },
   {
    "duration": 4,
    "start_time": "2023-03-04T11:51:56.335Z"
   },
   {
    "duration": 29,
    "start_time": "2023-03-04T11:51:56.341Z"
   },
   {
    "duration": 136,
    "start_time": "2023-03-04T11:51:56.371Z"
   },
   {
    "duration": 47,
    "start_time": "2023-03-04T11:51:56.509Z"
   },
   {
    "duration": 74,
    "start_time": "2023-03-04T11:51:56.558Z"
   },
   {
    "duration": 92,
    "start_time": "2023-03-04T11:51:56.634Z"
   },
   {
    "duration": 45,
    "start_time": "2023-03-04T11:51:56.728Z"
   },
   {
    "duration": 43,
    "start_time": "2023-03-04T11:51:56.775Z"
   },
   {
    "duration": 2849,
    "start_time": "2023-03-04T11:51:56.820Z"
   },
   {
    "duration": 884,
    "start_time": "2023-03-04T11:51:59.671Z"
   },
   {
    "duration": 387,
    "start_time": "2023-03-04T11:52:00.557Z"
   },
   {
    "duration": 402,
    "start_time": "2023-03-04T11:52:00.945Z"
   },
   {
    "duration": 397,
    "start_time": "2023-03-04T11:52:01.353Z"
   },
   {
    "duration": 216,
    "start_time": "2023-03-04T11:52:01.754Z"
   },
   {
    "duration": 5,
    "start_time": "2023-03-04T11:52:01.971Z"
   },
   {
    "duration": 38,
    "start_time": "2023-03-04T11:52:01.977Z"
   },
   {
    "duration": 73,
    "start_time": "2023-03-04T11:52:02.017Z"
   },
   {
    "duration": 8,
    "start_time": "2023-03-04T11:52:02.091Z"
   },
   {
    "duration": 78,
    "start_time": "2023-03-04T11:52:02.101Z"
   },
   {
    "duration": 19,
    "start_time": "2023-03-04T11:52:02.180Z"
   },
   {
    "duration": 36,
    "start_time": "2023-03-04T11:52:02.201Z"
   },
   {
    "duration": 34,
    "start_time": "2023-03-04T11:52:02.238Z"
   },
   {
    "duration": 370,
    "start_time": "2023-03-04T11:52:02.274Z"
   },
   {
    "duration": 487,
    "start_time": "2023-03-04T11:52:02.652Z"
   },
   {
    "duration": 967,
    "start_time": "2023-03-04T11:52:03.141Z"
   },
   {
    "duration": 4,
    "start_time": "2023-03-04T11:52:04.112Z"
   },
   {
    "duration": 303,
    "start_time": "2023-03-04T11:52:04.119Z"
   },
   {
    "duration": 466,
    "start_time": "2023-03-04T11:52:04.424Z"
   },
   {
    "duration": 5,
    "start_time": "2023-03-04T11:52:04.892Z"
   },
   {
    "duration": 26,
    "start_time": "2023-03-04T11:52:04.899Z"
   },
   {
    "duration": 33,
    "start_time": "2023-03-04T11:52:04.927Z"
   },
   {
    "duration": 20,
    "start_time": "2023-03-04T11:52:04.963Z"
   },
   {
    "duration": 20,
    "start_time": "2023-03-04T11:52:04.985Z"
   },
   {
    "duration": 111,
    "start_time": "2023-03-04T11:52:05.006Z"
   },
   {
    "duration": 556,
    "start_time": "2023-03-04T11:52:05.119Z"
   },
   {
    "duration": 97,
    "start_time": "2023-03-04T11:52:05.676Z"
   },
   {
    "duration": 114,
    "start_time": "2023-03-04T11:52:05.775Z"
   },
   {
    "duration": 407,
    "start_time": "2023-03-04T11:52:05.891Z"
   },
   {
    "duration": 130,
    "start_time": "2023-03-04T11:52:06.300Z"
   },
   {
    "duration": 6,
    "start_time": "2023-03-04T11:52:06.432Z"
   },
   {
    "duration": 84,
    "start_time": "2023-03-04T11:52:06.440Z"
   },
   {
    "duration": 82,
    "start_time": "2023-03-04T11:52:06.526Z"
   },
   {
    "duration": 76,
    "start_time": "2023-03-04T11:52:06.610Z"
   },
   {
    "duration": 73,
    "start_time": "2023-03-04T11:52:06.688Z"
   },
   {
    "duration": 63,
    "start_time": "2023-03-04T11:52:06.763Z"
   },
   {
    "duration": 75,
    "start_time": "2023-03-04T11:52:06.827Z"
   },
   {
    "duration": 382,
    "start_time": "2023-03-04T11:55:00.980Z"
   },
   {
    "duration": 339,
    "start_time": "2023-03-04T11:55:08.641Z"
   },
   {
    "duration": 365,
    "start_time": "2023-03-04T11:55:14.813Z"
   },
   {
    "duration": 394,
    "start_time": "2023-03-04T11:55:22.911Z"
   },
   {
    "duration": 345,
    "start_time": "2023-03-04T11:55:29.127Z"
   },
   {
    "duration": 355,
    "start_time": "2023-03-04T11:55:57.346Z"
   },
   {
    "duration": 375,
    "start_time": "2023-03-04T11:56:03.723Z"
   },
   {
    "duration": 522,
    "start_time": "2023-03-04T11:56:13.898Z"
   },
   {
    "duration": 403,
    "start_time": "2023-03-04T11:56:42.080Z"
   },
   {
    "duration": 21,
    "start_time": "2023-03-04T12:02:50.641Z"
   },
   {
    "duration": 18,
    "start_time": "2023-03-04T12:03:00.305Z"
   },
   {
    "duration": 1396,
    "start_time": "2023-03-04T12:03:12.572Z"
   },
   {
    "duration": 312,
    "start_time": "2023-03-04T12:03:13.971Z"
   },
   {
    "duration": 4,
    "start_time": "2023-03-04T12:03:14.284Z"
   },
   {
    "duration": 36,
    "start_time": "2023-03-04T12:03:14.290Z"
   },
   {
    "duration": 146,
    "start_time": "2023-03-04T12:03:14.327Z"
   },
   {
    "duration": 40,
    "start_time": "2023-03-04T12:03:14.474Z"
   },
   {
    "duration": 86,
    "start_time": "2023-03-04T12:03:14.516Z"
   },
   {
    "duration": 16,
    "start_time": "2023-03-04T12:03:14.605Z"
   },
   {
    "duration": 98,
    "start_time": "2023-03-04T12:03:14.622Z"
   },
   {
    "duration": 34,
    "start_time": "2023-03-04T12:03:14.723Z"
   },
   {
    "duration": 39,
    "start_time": "2023-03-04T12:03:14.758Z"
   },
   {
    "duration": 3098,
    "start_time": "2023-03-04T12:03:14.799Z"
   },
   {
    "duration": 876,
    "start_time": "2023-03-04T12:03:17.899Z"
   },
   {
    "duration": 358,
    "start_time": "2023-03-04T12:03:18.777Z"
   },
   {
    "duration": 358,
    "start_time": "2023-03-04T12:03:19.137Z"
   },
   {
    "duration": 328,
    "start_time": "2023-03-04T12:03:19.497Z"
   },
   {
    "duration": 228,
    "start_time": "2023-03-04T12:03:19.827Z"
   },
   {
    "duration": 5,
    "start_time": "2023-03-04T12:03:20.057Z"
   },
   {
    "duration": 37,
    "start_time": "2023-03-04T12:03:20.064Z"
   },
   {
    "duration": 55,
    "start_time": "2023-03-04T12:03:20.103Z"
   },
   {
    "duration": 4,
    "start_time": "2023-03-04T12:03:20.160Z"
   },
   {
    "duration": 54,
    "start_time": "2023-03-04T12:03:20.165Z"
   },
   {
    "duration": 34,
    "start_time": "2023-03-04T12:03:20.221Z"
   },
   {
    "duration": 32,
    "start_time": "2023-03-04T12:03:20.257Z"
   },
   {
    "duration": 18,
    "start_time": "2023-03-04T12:03:20.291Z"
   },
   {
    "duration": 356,
    "start_time": "2023-03-04T12:03:20.311Z"
   },
   {
    "duration": 421,
    "start_time": "2023-03-04T12:03:20.669Z"
   },
   {
    "duration": 867,
    "start_time": "2023-03-04T12:03:21.095Z"
   },
   {
    "duration": 4,
    "start_time": "2023-03-04T12:03:21.964Z"
   },
   {
    "duration": 261,
    "start_time": "2023-03-04T12:03:21.970Z"
   },
   {
    "duration": 407,
    "start_time": "2023-03-04T12:03:22.233Z"
   },
   {
    "duration": 12,
    "start_time": "2023-03-04T12:03:22.642Z"
   },
   {
    "duration": 34,
    "start_time": "2023-03-04T12:03:22.656Z"
   },
   {
    "duration": 22,
    "start_time": "2023-03-04T12:03:22.692Z"
   },
   {
    "duration": 39,
    "start_time": "2023-03-04T12:03:22.715Z"
   },
   {
    "duration": 22,
    "start_time": "2023-03-04T12:03:22.755Z"
   },
   {
    "duration": 112,
    "start_time": "2023-03-04T12:03:22.779Z"
   },
   {
    "duration": 593,
    "start_time": "2023-03-04T12:03:22.892Z"
   },
   {
    "duration": 71,
    "start_time": "2023-03-04T12:03:23.486Z"
   },
   {
    "duration": 84,
    "start_time": "2023-03-04T12:03:23.559Z"
   },
   {
    "duration": 466,
    "start_time": "2023-03-04T12:03:23.654Z"
   },
   {
    "duration": 126,
    "start_time": "2023-03-04T12:03:24.122Z"
   },
   {
    "duration": 6,
    "start_time": "2023-03-04T12:03:24.249Z"
   },
   {
    "duration": 79,
    "start_time": "2023-03-04T12:03:24.257Z"
   },
   {
    "duration": 76,
    "start_time": "2023-03-04T12:03:24.338Z"
   },
   {
    "duration": 98,
    "start_time": "2023-03-04T12:03:24.416Z"
   },
   {
    "duration": 75,
    "start_time": "2023-03-04T12:03:24.516Z"
   },
   {
    "duration": 67,
    "start_time": "2023-03-04T12:03:24.592Z"
   },
   {
    "duration": 60,
    "start_time": "2023-03-04T12:03:24.661Z"
   },
   {
    "duration": 31,
    "start_time": "2023-03-04T12:38:24.756Z"
   },
   {
    "duration": 12,
    "start_time": "2023-03-04T12:38:42.773Z"
   },
   {
    "duration": 31,
    "start_time": "2023-03-04T12:39:04.372Z"
   },
   {
    "duration": 14,
    "start_time": "2023-03-04T12:39:32.038Z"
   },
   {
    "duration": 13,
    "start_time": "2023-03-04T12:39:39.286Z"
   },
   {
    "duration": 11,
    "start_time": "2023-03-04T12:44:18.518Z"
   },
   {
    "duration": 166,
    "start_time": "2023-03-04T12:52:19.059Z"
   },
   {
    "duration": 152,
    "start_time": "2023-03-04T12:52:38.259Z"
   },
   {
    "duration": 163,
    "start_time": "2023-03-04T12:53:17.056Z"
   },
   {
    "duration": 155,
    "start_time": "2023-03-04T12:54:01.099Z"
   },
   {
    "duration": 211,
    "start_time": "2023-03-04T12:54:09.772Z"
   },
   {
    "duration": 53,
    "start_time": "2023-03-04T12:54:21.586Z"
   },
   {
    "duration": 127,
    "start_time": "2023-03-04T12:54:24.558Z"
   },
   {
    "duration": 13,
    "start_time": "2023-03-04T12:55:22.105Z"
   },
   {
    "duration": 132,
    "start_time": "2023-03-04T13:02:55.844Z"
   },
   {
    "duration": 198,
    "start_time": "2023-03-04T13:03:04.787Z"
   },
   {
    "duration": 237,
    "start_time": "2023-03-04T13:03:33.268Z"
   },
   {
    "duration": 87,
    "start_time": "2023-03-04T13:04:19.214Z"
   },
   {
    "duration": 176,
    "start_time": "2023-03-04T13:04:25.952Z"
   },
   {
    "duration": 1002,
    "start_time": "2023-03-04T13:05:33.772Z"
   },
   {
    "duration": 6,
    "start_time": "2023-03-04T13:05:51.504Z"
   },
   {
    "duration": 143,
    "start_time": "2023-03-04T13:05:55.091Z"
   },
   {
    "duration": 1147,
    "start_time": "2023-03-04T13:06:11.338Z"
   },
   {
    "duration": 1167,
    "start_time": "2023-03-04T13:06:25.304Z"
   },
   {
    "duration": 7,
    "start_time": "2023-03-04T13:06:35.686Z"
   },
   {
    "duration": 6,
    "start_time": "2023-03-04T13:10:27.379Z"
   },
   {
    "duration": 12,
    "start_time": "2023-03-04T13:10:39.236Z"
   },
   {
    "duration": 10,
    "start_time": "2023-03-04T13:10:58.337Z"
   },
   {
    "duration": 4,
    "start_time": "2023-03-04T13:11:53.314Z"
   },
   {
    "duration": 4,
    "start_time": "2023-03-04T13:12:17.986Z"
   },
   {
    "duration": 13,
    "start_time": "2023-03-04T13:12:58.393Z"
   },
   {
    "duration": 14,
    "start_time": "2023-03-04T13:13:12.787Z"
   },
   {
    "duration": 11,
    "start_time": "2023-03-04T13:13:17.885Z"
   },
   {
    "duration": 5,
    "start_time": "2023-03-04T13:14:10.860Z"
   },
   {
    "duration": 5,
    "start_time": "2023-03-04T13:14:28.101Z"
   },
   {
    "duration": 3,
    "start_time": "2023-03-04T13:14:41.553Z"
   },
   {
    "duration": 27,
    "start_time": "2023-03-04T13:14:52.818Z"
   },
   {
    "duration": 129,
    "start_time": "2023-03-04T13:15:06.338Z"
   },
   {
    "duration": 4,
    "start_time": "2023-03-04T13:17:09.774Z"
   },
   {
    "duration": 14,
    "start_time": "2023-03-04T13:17:20.261Z"
   },
   {
    "duration": 4,
    "start_time": "2023-03-04T13:17:36.851Z"
   },
   {
    "duration": 57,
    "start_time": "2023-03-04T13:17:41.939Z"
   },
   {
    "duration": 4,
    "start_time": "2023-03-04T13:17:57.382Z"
   },
   {
    "duration": 66,
    "start_time": "2023-03-04T13:17:59.535Z"
   },
   {
    "duration": 73,
    "start_time": "2023-03-04T13:18:13.756Z"
   },
   {
    "duration": 63,
    "start_time": "2023-03-04T13:18:18.389Z"
   },
   {
    "duration": 3,
    "start_time": "2023-03-04T13:18:32.418Z"
   },
   {
    "duration": 19,
    "start_time": "2023-03-04T13:18:32.855Z"
   },
   {
    "duration": 3,
    "start_time": "2023-03-04T13:18:41.423Z"
   },
   {
    "duration": 20,
    "start_time": "2023-03-04T13:18:41.754Z"
   },
   {
    "duration": 4,
    "start_time": "2023-03-04T13:18:52.553Z"
   },
   {
    "duration": 20,
    "start_time": "2023-03-04T13:18:53.105Z"
   },
   {
    "duration": 13,
    "start_time": "2023-03-04T13:19:13.469Z"
   },
   {
    "duration": 11,
    "start_time": "2023-03-04T13:19:17.800Z"
   },
   {
    "duration": 4,
    "start_time": "2023-03-04T13:19:30.103Z"
   },
   {
    "duration": 16,
    "start_time": "2023-03-04T13:19:57.425Z"
   },
   {
    "duration": 24,
    "start_time": "2023-03-04T13:20:24.861Z"
   },
   {
    "duration": 3,
    "start_time": "2023-03-04T13:21:31.722Z"
   },
   {
    "duration": 20,
    "start_time": "2023-03-04T13:21:35.888Z"
   },
   {
    "duration": 14,
    "start_time": "2023-03-04T13:21:57.336Z"
   },
   {
    "duration": 14,
    "start_time": "2023-03-04T13:22:58.048Z"
   },
   {
    "duration": 14,
    "start_time": "2023-03-04T13:23:06.554Z"
   },
   {
    "duration": 28,
    "start_time": "2023-03-04T13:23:14.189Z"
   },
   {
    "duration": 22,
    "start_time": "2023-03-04T13:23:19.184Z"
   },
   {
    "duration": 18,
    "start_time": "2023-03-04T13:23:24.122Z"
   },
   {
    "duration": 22,
    "start_time": "2023-03-04T13:23:34.717Z"
   },
   {
    "duration": 13,
    "start_time": "2023-03-04T13:23:58.985Z"
   },
   {
    "duration": 13,
    "start_time": "2023-03-04T13:24:04.937Z"
   },
   {
    "duration": 260,
    "start_time": "2023-03-04T13:24:15.237Z"
   },
   {
    "duration": 5,
    "start_time": "2023-03-04T13:27:41.242Z"
   },
   {
    "duration": 5,
    "start_time": "2023-03-04T13:28:04.702Z"
   },
   {
    "duration": 19,
    "start_time": "2023-03-04T13:28:14.534Z"
   },
   {
    "duration": 18,
    "start_time": "2023-03-04T13:28:24.584Z"
   },
   {
    "duration": 140,
    "start_time": "2023-03-04T13:28:26.043Z"
   },
   {
    "duration": 59,
    "start_time": "2023-03-04T13:28:30.651Z"
   },
   {
    "duration": 58,
    "start_time": "2023-03-04T13:28:56.270Z"
   },
   {
    "duration": 11,
    "start_time": "2023-03-04T13:29:06.593Z"
   },
   {
    "duration": 1210,
    "start_time": "2023-03-04T13:30:08.758Z"
   },
   {
    "duration": 287,
    "start_time": "2023-03-04T13:30:09.969Z"
   },
   {
    "duration": 4,
    "start_time": "2023-03-04T13:30:10.258Z"
   },
   {
    "duration": 26,
    "start_time": "2023-03-04T13:30:10.264Z"
   },
   {
    "duration": 151,
    "start_time": "2023-03-04T13:30:10.291Z"
   },
   {
    "duration": 42,
    "start_time": "2023-03-04T13:30:10.444Z"
   },
   {
    "duration": 84,
    "start_time": "2023-03-04T13:30:10.488Z"
   },
   {
    "duration": 17,
    "start_time": "2023-03-04T13:30:10.573Z"
   },
   {
    "duration": 10,
    "start_time": "2023-03-04T13:30:10.592Z"
   },
   {
    "duration": 105,
    "start_time": "2023-03-04T13:30:10.606Z"
   },
   {
    "duration": 24,
    "start_time": "2023-03-04T13:30:10.713Z"
   },
   {
    "duration": 50,
    "start_time": "2023-03-04T13:30:10.738Z"
   },
   {
    "duration": 2788,
    "start_time": "2023-03-04T13:30:10.789Z"
   },
   {
    "duration": 936,
    "start_time": "2023-03-04T13:30:13.579Z"
   },
   {
    "duration": 366,
    "start_time": "2023-03-04T13:30:14.517Z"
   },
   {
    "duration": 378,
    "start_time": "2023-03-04T13:30:14.886Z"
   },
   {
    "duration": 346,
    "start_time": "2023-03-04T13:30:15.265Z"
   },
   {
    "duration": 244,
    "start_time": "2023-03-04T13:30:15.613Z"
   },
   {
    "duration": 6,
    "start_time": "2023-03-04T13:30:15.858Z"
   },
   {
    "duration": 17,
    "start_time": "2023-03-04T13:30:15.865Z"
   },
   {
    "duration": 61,
    "start_time": "2023-03-04T13:30:15.884Z"
   },
   {
    "duration": 6,
    "start_time": "2023-03-04T13:30:15.947Z"
   },
   {
    "duration": 61,
    "start_time": "2023-03-04T13:30:15.955Z"
   },
   {
    "duration": 20,
    "start_time": "2023-03-04T13:30:16.017Z"
   },
   {
    "duration": 29,
    "start_time": "2023-03-04T13:30:16.038Z"
   },
   {
    "duration": 19,
    "start_time": "2023-03-04T13:30:16.069Z"
   },
   {
    "duration": 393,
    "start_time": "2023-03-04T13:30:16.091Z"
   },
   {
    "duration": 492,
    "start_time": "2023-03-04T13:30:16.489Z"
   },
   {
    "duration": 897,
    "start_time": "2023-03-04T13:30:16.983Z"
   },
   {
    "duration": 3,
    "start_time": "2023-03-04T13:30:17.882Z"
   },
   {
    "duration": 272,
    "start_time": "2023-03-04T13:30:17.887Z"
   },
   {
    "duration": 399,
    "start_time": "2023-03-04T13:30:18.160Z"
   },
   {
    "duration": 5,
    "start_time": "2023-03-04T13:30:18.560Z"
   },
   {
    "duration": 32,
    "start_time": "2023-03-04T13:30:18.567Z"
   },
   {
    "duration": 18,
    "start_time": "2023-03-04T13:30:18.601Z"
   },
   {
    "duration": 39,
    "start_time": "2023-03-04T13:30:18.621Z"
   },
   {
    "duration": 20,
    "start_time": "2023-03-04T13:30:18.662Z"
   },
   {
    "duration": 95,
    "start_time": "2023-03-04T13:30:18.684Z"
   },
   {
    "duration": 12,
    "start_time": "2023-03-04T13:30:18.781Z"
   },
   {
    "duration": 387,
    "start_time": "2023-03-04T13:30:18.795Z"
   },
   {
    "duration": 96,
    "start_time": "2023-03-04T13:30:19.184Z"
   },
   {
    "duration": 136,
    "start_time": "2023-03-04T13:30:19.282Z"
   },
   {
    "duration": 582,
    "start_time": "2023-03-04T13:30:19.420Z"
   },
   {
    "duration": 214,
    "start_time": "2023-03-04T13:30:20.054Z"
   },
   {
    "duration": 5,
    "start_time": "2023-03-04T13:30:20.270Z"
   },
   {
    "duration": 179,
    "start_time": "2023-03-04T13:30:20.277Z"
   },
   {
    "duration": 115,
    "start_time": "2023-03-04T13:30:20.458Z"
   },
   {
    "duration": 118,
    "start_time": "2023-03-04T13:30:20.575Z"
   },
   {
    "duration": 159,
    "start_time": "2023-03-04T13:30:20.695Z"
   },
   {
    "duration": 112,
    "start_time": "2023-03-04T13:30:20.856Z"
   },
   {
    "duration": 117,
    "start_time": "2023-03-04T13:30:20.969Z"
   },
   {
    "duration": 1466,
    "start_time": "2023-03-04T17:32:14.745Z"
   },
   {
    "duration": 911,
    "start_time": "2023-03-04T17:32:16.213Z"
   },
   {
    "duration": 3,
    "start_time": "2023-03-04T17:32:17.126Z"
   },
   {
    "duration": 25,
    "start_time": "2023-03-04T17:32:17.131Z"
   },
   {
    "duration": 147,
    "start_time": "2023-03-04T17:32:17.157Z"
   },
   {
    "duration": 50,
    "start_time": "2023-03-04T17:32:17.306Z"
   },
   {
    "duration": 73,
    "start_time": "2023-03-04T17:32:17.358Z"
   },
   {
    "duration": 31,
    "start_time": "2023-03-04T17:32:17.433Z"
   },
   {
    "duration": 12,
    "start_time": "2023-03-04T17:32:17.466Z"
   },
   {
    "duration": 99,
    "start_time": "2023-03-04T17:32:17.481Z"
   },
   {
    "duration": 24,
    "start_time": "2023-03-04T17:32:17.582Z"
   },
   {
    "duration": 62,
    "start_time": "2023-03-04T17:32:17.608Z"
   },
   {
    "duration": 7527,
    "start_time": "2023-03-04T17:32:17.672Z"
   },
   {
    "duration": 570,
    "start_time": "2023-03-04T17:32:25.201Z"
   },
   {
    "duration": 0,
    "start_time": "2023-03-04T17:32:25.773Z"
   },
   {
    "duration": 0,
    "start_time": "2023-03-04T17:32:25.775Z"
   },
   {
    "duration": 0,
    "start_time": "2023-03-04T17:32:25.776Z"
   },
   {
    "duration": 0,
    "start_time": "2023-03-04T17:32:25.777Z"
   },
   {
    "duration": 0,
    "start_time": "2023-03-04T17:32:25.779Z"
   },
   {
    "duration": 0,
    "start_time": "2023-03-04T17:32:25.780Z"
   },
   {
    "duration": 0,
    "start_time": "2023-03-04T17:32:25.781Z"
   },
   {
    "duration": 0,
    "start_time": "2023-03-04T17:32:25.783Z"
   },
   {
    "duration": 0,
    "start_time": "2023-03-04T17:32:25.784Z"
   },
   {
    "duration": 0,
    "start_time": "2023-03-04T17:32:25.786Z"
   },
   {
    "duration": 0,
    "start_time": "2023-03-04T17:32:25.788Z"
   },
   {
    "duration": 0,
    "start_time": "2023-03-04T17:32:25.789Z"
   },
   {
    "duration": 0,
    "start_time": "2023-03-04T17:32:25.790Z"
   },
   {
    "duration": 0,
    "start_time": "2023-03-04T17:32:25.791Z"
   },
   {
    "duration": 0,
    "start_time": "2023-03-04T17:32:25.792Z"
   },
   {
    "duration": 0,
    "start_time": "2023-03-04T17:32:25.793Z"
   },
   {
    "duration": 0,
    "start_time": "2023-03-04T17:32:25.794Z"
   },
   {
    "duration": 0,
    "start_time": "2023-03-04T17:32:25.796Z"
   },
   {
    "duration": 0,
    "start_time": "2023-03-04T17:32:25.797Z"
   },
   {
    "duration": 0,
    "start_time": "2023-03-04T17:32:25.798Z"
   },
   {
    "duration": 0,
    "start_time": "2023-03-04T17:32:25.799Z"
   },
   {
    "duration": 0,
    "start_time": "2023-03-04T17:32:25.800Z"
   },
   {
    "duration": 0,
    "start_time": "2023-03-04T17:32:25.801Z"
   },
   {
    "duration": 0,
    "start_time": "2023-03-04T17:32:25.802Z"
   },
   {
    "duration": 1,
    "start_time": "2023-03-04T17:32:25.803Z"
   },
   {
    "duration": 0,
    "start_time": "2023-03-04T17:32:25.805Z"
   },
   {
    "duration": 0,
    "start_time": "2023-03-04T17:32:25.852Z"
   },
   {
    "duration": 0,
    "start_time": "2023-03-04T17:32:25.854Z"
   },
   {
    "duration": 0,
    "start_time": "2023-03-04T17:32:25.855Z"
   },
   {
    "duration": 0,
    "start_time": "2023-03-04T17:32:25.856Z"
   },
   {
    "duration": 0,
    "start_time": "2023-03-04T17:32:25.858Z"
   },
   {
    "duration": 0,
    "start_time": "2023-03-04T17:32:25.859Z"
   },
   {
    "duration": 0,
    "start_time": "2023-03-04T17:32:25.860Z"
   },
   {
    "duration": 0,
    "start_time": "2023-03-04T17:32:25.861Z"
   },
   {
    "duration": 0,
    "start_time": "2023-03-04T17:32:25.862Z"
   },
   {
    "duration": 0,
    "start_time": "2023-03-04T17:32:25.863Z"
   },
   {
    "duration": 0,
    "start_time": "2023-03-04T17:32:25.864Z"
   },
   {
    "duration": 3078,
    "start_time": "2023-03-04T17:35:02.562Z"
   },
   {
    "duration": 1443,
    "start_time": "2023-03-04T17:35:05.643Z"
   },
   {
    "duration": 249,
    "start_time": "2023-03-04T17:35:07.088Z"
   },
   {
    "duration": 3,
    "start_time": "2023-03-04T17:35:07.339Z"
   },
   {
    "duration": 27,
    "start_time": "2023-03-04T17:35:07.344Z"
   },
   {
    "duration": 136,
    "start_time": "2023-03-04T17:35:07.373Z"
   },
   {
    "duration": 43,
    "start_time": "2023-03-04T17:35:07.510Z"
   },
   {
    "duration": 62,
    "start_time": "2023-03-04T17:35:07.555Z"
   },
   {
    "duration": 16,
    "start_time": "2023-03-04T17:35:07.619Z"
   },
   {
    "duration": 10,
    "start_time": "2023-03-04T17:35:07.655Z"
   },
   {
    "duration": 87,
    "start_time": "2023-03-04T17:35:07.666Z"
   },
   {
    "duration": 21,
    "start_time": "2023-03-04T17:35:07.755Z"
   },
   {
    "duration": 38,
    "start_time": "2023-03-04T17:35:07.778Z"
   },
   {
    "duration": 794,
    "start_time": "2023-03-04T17:35:07.818Z"
   },
   {
    "duration": 352,
    "start_time": "2023-03-04T17:35:08.614Z"
   },
   {
    "duration": 318,
    "start_time": "2023-03-04T17:35:08.968Z"
   },
   {
    "duration": 319,
    "start_time": "2023-03-04T17:35:09.288Z"
   },
   {
    "duration": 247,
    "start_time": "2023-03-04T17:35:09.608Z"
   },
   {
    "duration": 4,
    "start_time": "2023-03-04T17:35:09.857Z"
   },
   {
    "duration": 8,
    "start_time": "2023-03-04T17:35:09.863Z"
   },
   {
    "duration": 42,
    "start_time": "2023-03-04T17:35:09.873Z"
   },
   {
    "duration": 3,
    "start_time": "2023-03-04T17:35:09.917Z"
   },
   {
    "duration": 73,
    "start_time": "2023-03-04T17:35:09.922Z"
   },
   {
    "duration": 19,
    "start_time": "2023-03-04T17:35:09.997Z"
   },
   {
    "duration": 22,
    "start_time": "2023-03-04T17:35:10.017Z"
   },
   {
    "duration": 23,
    "start_time": "2023-03-04T17:35:10.054Z"
   },
   {
    "duration": 376,
    "start_time": "2023-03-04T17:35:10.079Z"
   },
   {
    "duration": 454,
    "start_time": "2023-03-04T17:35:10.458Z"
   },
   {
    "duration": 876,
    "start_time": "2023-03-04T17:35:10.913Z"
   },
   {
    "duration": 3,
    "start_time": "2023-03-04T17:35:11.791Z"
   },
   {
    "duration": 259,
    "start_time": "2023-03-04T17:35:11.796Z"
   },
   {
    "duration": 450,
    "start_time": "2023-03-04T17:35:12.057Z"
   },
   {
    "duration": 4,
    "start_time": "2023-03-04T17:35:12.509Z"
   },
   {
    "duration": 23,
    "start_time": "2023-03-04T17:35:12.515Z"
   },
   {
    "duration": 19,
    "start_time": "2023-03-04T17:35:12.553Z"
   },
   {
    "duration": 27,
    "start_time": "2023-03-04T17:35:12.573Z"
   },
   {
    "duration": 23,
    "start_time": "2023-03-04T17:35:12.602Z"
   },
   {
    "duration": 113,
    "start_time": "2023-03-04T17:35:12.626Z"
   },
   {
    "duration": 15,
    "start_time": "2023-03-04T17:35:12.741Z"
   },
   {
    "duration": 488,
    "start_time": "2023-03-04T17:35:12.758Z"
   },
   {
    "duration": 51,
    "start_time": "2023-03-04T17:35:13.248Z"
   },
   {
    "duration": 166,
    "start_time": "2023-03-04T17:35:13.301Z"
   },
   {
    "duration": 453,
    "start_time": "2023-03-04T17:35:13.469Z"
   },
   {
    "duration": 160,
    "start_time": "2023-03-04T17:35:13.925Z"
   },
   {
    "duration": 7,
    "start_time": "2023-03-04T17:35:14.088Z"
   },
   {
    "duration": 110,
    "start_time": "2023-03-04T17:35:14.096Z"
   },
   {
    "duration": 85,
    "start_time": "2023-03-04T17:35:14.208Z"
   },
   {
    "duration": 78,
    "start_time": "2023-03-04T17:35:14.295Z"
   },
   {
    "duration": 65,
    "start_time": "2023-03-04T17:35:14.375Z"
   },
   {
    "duration": 67,
    "start_time": "2023-03-04T17:35:14.453Z"
   },
   {
    "duration": 78,
    "start_time": "2023-03-04T17:35:14.521Z"
   },
   {
    "duration": 8263,
    "start_time": "2023-03-05T15:10:24.636Z"
   },
   {
    "duration": 1529,
    "start_time": "2023-03-05T15:10:32.901Z"
   },
   {
    "duration": 942,
    "start_time": "2023-03-05T15:10:34.433Z"
   },
   {
    "duration": 4,
    "start_time": "2023-03-05T15:10:35.376Z"
   },
   {
    "duration": 34,
    "start_time": "2023-03-05T15:10:35.382Z"
   },
   {
    "duration": 142,
    "start_time": "2023-03-05T15:10:35.418Z"
   },
   {
    "duration": 40,
    "start_time": "2023-03-05T15:10:35.561Z"
   },
   {
    "duration": 90,
    "start_time": "2023-03-05T15:10:35.603Z"
   },
   {
    "duration": 30,
    "start_time": "2023-03-05T15:10:35.695Z"
   },
   {
    "duration": 12,
    "start_time": "2023-03-05T15:10:35.726Z"
   },
   {
    "duration": 94,
    "start_time": "2023-03-05T15:10:35.739Z"
   },
   {
    "duration": 27,
    "start_time": "2023-03-05T15:10:35.835Z"
   },
   {
    "duration": 60,
    "start_time": "2023-03-05T15:10:35.864Z"
   },
   {
    "duration": 889,
    "start_time": "2023-03-05T15:10:35.928Z"
   },
   {
    "duration": 356,
    "start_time": "2023-03-05T15:10:36.819Z"
   },
   {
    "duration": 365,
    "start_time": "2023-03-05T15:10:37.177Z"
   },
   {
    "duration": 316,
    "start_time": "2023-03-05T15:10:37.544Z"
   },
   {
    "duration": 191,
    "start_time": "2023-03-05T15:10:37.862Z"
   },
   {
    "duration": 6,
    "start_time": "2023-03-05T15:10:38.124Z"
   },
   {
    "duration": 22,
    "start_time": "2023-03-05T15:10:38.131Z"
   },
   {
    "duration": 45,
    "start_time": "2023-03-05T15:10:38.155Z"
   },
   {
    "duration": 4,
    "start_time": "2023-03-05T15:10:38.201Z"
   },
   {
    "duration": 70,
    "start_time": "2023-03-05T15:10:38.207Z"
   },
   {
    "duration": 22,
    "start_time": "2023-03-05T15:10:38.279Z"
   },
   {
    "duration": 42,
    "start_time": "2023-03-05T15:10:38.303Z"
   },
   {
    "duration": 20,
    "start_time": "2023-03-05T15:10:38.347Z"
   },
   {
    "duration": 377,
    "start_time": "2023-03-05T15:10:38.369Z"
   },
   {
    "duration": 482,
    "start_time": "2023-03-05T15:10:38.748Z"
   },
   {
    "duration": 975,
    "start_time": "2023-03-05T15:10:39.232Z"
   },
   {
    "duration": 3,
    "start_time": "2023-03-05T15:10:40.209Z"
   },
   {
    "duration": 348,
    "start_time": "2023-03-05T15:10:40.214Z"
   },
   {
    "duration": 483,
    "start_time": "2023-03-05T15:10:40.564Z"
   },
   {
    "duration": 5,
    "start_time": "2023-03-05T15:10:41.048Z"
   },
   {
    "duration": 26,
    "start_time": "2023-03-05T15:10:41.055Z"
   },
   {
    "duration": 39,
    "start_time": "2023-03-05T15:10:41.089Z"
   },
   {
    "duration": 20,
    "start_time": "2023-03-05T15:10:41.130Z"
   },
   {
    "duration": 21,
    "start_time": "2023-03-05T15:10:41.152Z"
   },
   {
    "duration": 112,
    "start_time": "2023-03-05T15:10:41.174Z"
   },
   {
    "duration": 11,
    "start_time": "2023-03-05T15:10:41.288Z"
   },
   {
    "duration": 409,
    "start_time": "2023-03-05T15:10:41.301Z"
   },
   {
    "duration": 49,
    "start_time": "2023-03-05T15:10:41.713Z"
   },
   {
    "duration": 185,
    "start_time": "2023-03-05T15:10:41.764Z"
   },
   {
    "duration": 423,
    "start_time": "2023-03-05T15:10:41.951Z"
   },
   {
    "duration": 215,
    "start_time": "2023-03-05T15:10:42.375Z"
   },
   {
    "duration": 6,
    "start_time": "2023-03-05T15:10:42.592Z"
   },
   {
    "duration": 91,
    "start_time": "2023-03-05T15:10:42.600Z"
   },
   {
    "duration": 82,
    "start_time": "2023-03-05T15:10:42.693Z"
   },
   {
    "duration": 89,
    "start_time": "2023-03-05T15:10:42.777Z"
   },
   {
    "duration": 80,
    "start_time": "2023-03-05T15:10:42.868Z"
   },
   {
    "duration": 84,
    "start_time": "2023-03-05T15:10:42.950Z"
   },
   {
    "duration": 68,
    "start_time": "2023-03-05T15:10:43.036Z"
   },
   {
    "duration": 14,
    "start_time": "2023-03-05T15:11:19.718Z"
   },
   {
    "duration": 10639,
    "start_time": "2023-06-07T21:27:12.442Z"
   },
   {
    "duration": 1405,
    "start_time": "2023-06-07T21:27:23.083Z"
   },
   {
    "duration": 791,
    "start_time": "2023-06-07T21:27:24.489Z"
   },
   {
    "duration": 2,
    "start_time": "2023-06-07T21:27:25.282Z"
   },
   {
    "duration": 46,
    "start_time": "2023-06-07T21:27:25.287Z"
   },
   {
    "duration": 149,
    "start_time": "2023-06-07T21:27:25.334Z"
   },
   {
    "duration": 57,
    "start_time": "2023-06-07T21:27:25.484Z"
   },
   {
    "duration": 98,
    "start_time": "2023-06-07T21:27:25.543Z"
   },
   {
    "duration": 21,
    "start_time": "2023-06-07T21:27:25.642Z"
   },
   {
    "duration": 25,
    "start_time": "2023-06-07T21:27:25.665Z"
   },
   {
    "duration": 137,
    "start_time": "2023-06-07T21:27:25.692Z"
   },
   {
    "duration": 29,
    "start_time": "2023-06-07T21:27:25.830Z"
   },
   {
    "duration": 80,
    "start_time": "2023-06-07T21:27:25.865Z"
   },
   {
    "duration": 751,
    "start_time": "2023-06-07T21:27:25.951Z"
   },
   {
    "duration": 307,
    "start_time": "2023-06-07T21:27:26.703Z"
   },
   {
    "duration": 332,
    "start_time": "2023-06-07T21:27:27.012Z"
   },
   {
    "duration": 311,
    "start_time": "2023-06-07T21:27:27.346Z"
   },
   {
    "duration": 180,
    "start_time": "2023-06-07T21:27:27.659Z"
   },
   {
    "duration": 6,
    "start_time": "2023-06-07T21:27:27.845Z"
   },
   {
    "duration": 85,
    "start_time": "2023-06-07T21:27:27.852Z"
   },
   {
    "duration": 41,
    "start_time": "2023-06-07T21:27:27.945Z"
   },
   {
    "duration": 3,
    "start_time": "2023-06-07T21:27:27.989Z"
   },
   {
    "duration": 79,
    "start_time": "2023-06-07T21:27:27.993Z"
   },
   {
    "duration": 19,
    "start_time": "2023-06-07T21:27:28.074Z"
   },
   {
    "duration": 30,
    "start_time": "2023-06-07T21:27:28.094Z"
   },
   {
    "duration": 36,
    "start_time": "2023-06-07T21:27:28.131Z"
   },
   {
    "duration": 334,
    "start_time": "2023-06-07T21:27:28.169Z"
   },
   {
    "duration": 448,
    "start_time": "2023-06-07T21:27:28.505Z"
   },
   {
    "duration": 986,
    "start_time": "2023-06-07T21:27:28.955Z"
   },
   {
    "duration": 18,
    "start_time": "2023-06-07T21:27:29.942Z"
   },
   {
    "duration": 10,
    "start_time": "2023-06-07T21:27:29.962Z"
   },
   {
    "duration": 293,
    "start_time": "2023-06-07T21:27:29.974Z"
   },
   {
    "duration": 405,
    "start_time": "2023-06-07T21:27:30.269Z"
   },
   {
    "duration": 4,
    "start_time": "2023-06-07T21:27:30.676Z"
   },
   {
    "duration": 87,
    "start_time": "2023-06-07T21:27:30.681Z"
   },
   {
    "duration": 36,
    "start_time": "2023-06-07T21:27:30.770Z"
   },
   {
    "duration": 54,
    "start_time": "2023-06-07T21:27:30.808Z"
   },
   {
    "duration": 36,
    "start_time": "2023-06-07T21:27:30.864Z"
   },
   {
    "duration": 106,
    "start_time": "2023-06-07T21:27:30.902Z"
   },
   {
    "duration": 29,
    "start_time": "2023-06-07T21:27:31.010Z"
   },
   {
    "duration": 837,
    "start_time": "2023-06-07T21:27:31.043Z"
   },
   {
    "duration": 72,
    "start_time": "2023-06-07T21:27:31.882Z"
   },
   {
    "duration": 124,
    "start_time": "2023-06-07T21:27:31.956Z"
   },
   {
    "duration": 414,
    "start_time": "2023-06-07T21:27:32.081Z"
   },
   {
    "duration": 186,
    "start_time": "2023-06-07T21:27:32.497Z"
   },
   {
    "duration": 5,
    "start_time": "2023-06-07T21:27:32.685Z"
   },
   {
    "duration": 76,
    "start_time": "2023-06-07T21:27:32.692Z"
   },
   {
    "duration": 86,
    "start_time": "2023-06-07T21:27:32.770Z"
   },
   {
    "duration": 56,
    "start_time": "2023-06-07T21:27:32.857Z"
   },
   {
    "duration": 64,
    "start_time": "2023-06-07T21:27:32.915Z"
   },
   {
    "duration": 84,
    "start_time": "2023-06-07T21:27:32.980Z"
   },
   {
    "duration": 70,
    "start_time": "2023-06-07T21:27:33.065Z"
   },
   {
    "duration": 3269,
    "start_time": "2023-06-07T21:36:13.085Z"
   },
   {
    "duration": 2027,
    "start_time": "2023-06-07T21:36:16.356Z"
   },
   {
    "duration": 138,
    "start_time": "2023-06-07T21:36:18.384Z"
   },
   {
    "duration": 263,
    "start_time": "2023-06-07T21:36:18.524Z"
   },
   {
    "duration": 3,
    "start_time": "2023-06-07T21:36:18.789Z"
   },
   {
    "duration": 22,
    "start_time": "2023-06-07T21:36:18.794Z"
   },
   {
    "duration": 135,
    "start_time": "2023-06-07T21:36:18.817Z"
   },
   {
    "duration": 34,
    "start_time": "2023-06-07T21:36:18.954Z"
   },
   {
    "duration": 79,
    "start_time": "2023-06-07T21:36:18.989Z"
   },
   {
    "duration": 13,
    "start_time": "2023-06-07T21:36:19.069Z"
   },
   {
    "duration": 9,
    "start_time": "2023-06-07T21:36:19.084Z"
   },
   {
    "duration": 85,
    "start_time": "2023-06-07T21:36:19.094Z"
   },
   {
    "duration": 19,
    "start_time": "2023-06-07T21:36:19.180Z"
   },
   {
    "duration": 44,
    "start_time": "2023-06-07T21:36:19.215Z"
   },
   {
    "duration": 693,
    "start_time": "2023-06-07T21:36:19.261Z"
   },
   {
    "duration": 295,
    "start_time": "2023-06-07T21:36:19.956Z"
   },
   {
    "duration": 306,
    "start_time": "2023-06-07T21:36:20.253Z"
   },
   {
    "duration": 285,
    "start_time": "2023-06-07T21:36:20.560Z"
   },
   {
    "duration": 188,
    "start_time": "2023-06-07T21:36:20.847Z"
   },
   {
    "duration": 4,
    "start_time": "2023-06-07T21:36:21.050Z"
   },
   {
    "duration": 11,
    "start_time": "2023-06-07T21:36:21.055Z"
   },
   {
    "duration": 37,
    "start_time": "2023-06-07T21:36:21.067Z"
   },
   {
    "duration": 3,
    "start_time": "2023-06-07T21:36:21.106Z"
   },
   {
    "duration": 71,
    "start_time": "2023-06-07T21:36:21.119Z"
   },
   {
    "duration": 16,
    "start_time": "2023-06-07T21:36:21.191Z"
   },
   {
    "duration": 33,
    "start_time": "2023-06-07T21:36:21.208Z"
   },
   {
    "duration": 23,
    "start_time": "2023-06-07T21:36:21.242Z"
   },
   {
    "duration": 310,
    "start_time": "2023-06-07T21:36:21.266Z"
   },
   {
    "duration": 411,
    "start_time": "2023-06-07T21:36:21.578Z"
   },
   {
    "duration": 884,
    "start_time": "2023-06-07T21:36:21.990Z"
   },
   {
    "duration": 11,
    "start_time": "2023-06-07T21:36:22.875Z"
   },
   {
    "duration": 3,
    "start_time": "2023-06-07T21:36:22.888Z"
   },
   {
    "duration": 278,
    "start_time": "2023-06-07T21:36:22.892Z"
   },
   {
    "duration": 414,
    "start_time": "2023-06-07T21:36:23.172Z"
   },
   {
    "duration": 4,
    "start_time": "2023-06-07T21:36:23.588Z"
   },
   {
    "duration": 143,
    "start_time": "2023-06-07T21:36:23.593Z"
   },
   {
    "duration": 41,
    "start_time": "2023-06-07T21:36:23.739Z"
   },
   {
    "duration": 19,
    "start_time": "2023-06-07T21:36:23.781Z"
   },
   {
    "duration": 60,
    "start_time": "2023-06-07T21:36:23.802Z"
   },
   {
    "duration": 86,
    "start_time": "2023-06-07T21:36:23.865Z"
   },
   {
    "duration": 10,
    "start_time": "2023-06-07T21:36:23.955Z"
   },
   {
    "duration": 413,
    "start_time": "2023-06-07T21:36:23.966Z"
   },
   {
    "duration": 0,
    "start_time": "2023-06-07T21:36:24.381Z"
   },
   {
    "duration": 0,
    "start_time": "2023-06-07T21:36:24.382Z"
   },
   {
    "duration": 0,
    "start_time": "2023-06-07T21:36:24.383Z"
   },
   {
    "duration": 0,
    "start_time": "2023-06-07T21:36:24.384Z"
   },
   {
    "duration": 0,
    "start_time": "2023-06-07T21:36:24.385Z"
   },
   {
    "duration": 0,
    "start_time": "2023-06-07T21:36:24.386Z"
   },
   {
    "duration": 0,
    "start_time": "2023-06-07T21:36:24.387Z"
   },
   {
    "duration": 0,
    "start_time": "2023-06-07T21:36:24.388Z"
   },
   {
    "duration": 0,
    "start_time": "2023-06-07T21:36:24.389Z"
   },
   {
    "duration": 0,
    "start_time": "2023-06-07T21:36:24.390Z"
   },
   {
    "duration": 0,
    "start_time": "2023-06-07T21:36:24.391Z"
   },
   {
    "duration": 2697,
    "start_time": "2023-06-07T21:36:50.877Z"
   },
   {
    "duration": 1164,
    "start_time": "2023-06-07T21:36:53.577Z"
   },
   {
    "duration": 57,
    "start_time": "2023-06-07T21:36:54.743Z"
   },
   {
    "duration": 0,
    "start_time": "2023-06-07T21:36:54.802Z"
   },
   {
    "duration": 0,
    "start_time": "2023-06-07T21:36:54.803Z"
   },
   {
    "duration": 0,
    "start_time": "2023-06-07T21:36:54.805Z"
   },
   {
    "duration": 0,
    "start_time": "2023-06-07T21:36:54.806Z"
   },
   {
    "duration": 0,
    "start_time": "2023-06-07T21:36:54.807Z"
   },
   {
    "duration": 0,
    "start_time": "2023-06-07T21:36:54.808Z"
   },
   {
    "duration": 0,
    "start_time": "2023-06-07T21:36:54.809Z"
   },
   {
    "duration": 0,
    "start_time": "2023-06-07T21:36:54.810Z"
   },
   {
    "duration": 0,
    "start_time": "2023-06-07T21:36:54.811Z"
   },
   {
    "duration": 0,
    "start_time": "2023-06-07T21:36:54.812Z"
   },
   {
    "duration": 0,
    "start_time": "2023-06-07T21:36:54.813Z"
   },
   {
    "duration": 0,
    "start_time": "2023-06-07T21:36:54.813Z"
   },
   {
    "duration": 0,
    "start_time": "2023-06-07T21:36:54.814Z"
   },
   {
    "duration": 0,
    "start_time": "2023-06-07T21:36:54.815Z"
   },
   {
    "duration": 0,
    "start_time": "2023-06-07T21:36:54.833Z"
   },
   {
    "duration": 0,
    "start_time": "2023-06-07T21:36:54.834Z"
   },
   {
    "duration": 0,
    "start_time": "2023-06-07T21:36:54.834Z"
   },
   {
    "duration": 0,
    "start_time": "2023-06-07T21:36:54.834Z"
   },
   {
    "duration": 0,
    "start_time": "2023-06-07T21:36:54.835Z"
   },
   {
    "duration": 0,
    "start_time": "2023-06-07T21:36:54.838Z"
   },
   {
    "duration": 0,
    "start_time": "2023-06-07T21:36:54.839Z"
   },
   {
    "duration": 0,
    "start_time": "2023-06-07T21:36:54.840Z"
   },
   {
    "duration": 0,
    "start_time": "2023-06-07T21:36:54.841Z"
   },
   {
    "duration": 0,
    "start_time": "2023-06-07T21:36:54.842Z"
   },
   {
    "duration": 0,
    "start_time": "2023-06-07T21:36:54.843Z"
   },
   {
    "duration": 0,
    "start_time": "2023-06-07T21:36:54.844Z"
   },
   {
    "duration": 0,
    "start_time": "2023-06-07T21:36:54.845Z"
   },
   {
    "duration": 0,
    "start_time": "2023-06-07T21:36:54.846Z"
   },
   {
    "duration": 0,
    "start_time": "2023-06-07T21:36:54.846Z"
   },
   {
    "duration": 0,
    "start_time": "2023-06-07T21:36:54.847Z"
   },
   {
    "duration": 0,
    "start_time": "2023-06-07T21:36:54.847Z"
   },
   {
    "duration": 0,
    "start_time": "2023-06-07T21:36:54.848Z"
   },
   {
    "duration": 0,
    "start_time": "2023-06-07T21:36:54.848Z"
   },
   {
    "duration": 0,
    "start_time": "2023-06-07T21:36:54.849Z"
   },
   {
    "duration": 0,
    "start_time": "2023-06-07T21:36:54.851Z"
   },
   {
    "duration": 0,
    "start_time": "2023-06-07T21:36:54.852Z"
   },
   {
    "duration": 0,
    "start_time": "2023-06-07T21:36:54.853Z"
   },
   {
    "duration": 0,
    "start_time": "2023-06-07T21:36:54.853Z"
   },
   {
    "duration": 0,
    "start_time": "2023-06-07T21:36:54.854Z"
   },
   {
    "duration": 0,
    "start_time": "2023-06-07T21:36:54.855Z"
   },
   {
    "duration": 0,
    "start_time": "2023-06-07T21:36:54.856Z"
   },
   {
    "duration": 0,
    "start_time": "2023-06-07T21:36:54.857Z"
   },
   {
    "duration": 0,
    "start_time": "2023-06-07T21:36:54.858Z"
   },
   {
    "duration": 0,
    "start_time": "2023-06-07T21:36:54.859Z"
   },
   {
    "duration": 0,
    "start_time": "2023-06-07T21:36:54.860Z"
   },
   {
    "duration": 0,
    "start_time": "2023-06-07T21:36:54.861Z"
   },
   {
    "duration": 0,
    "start_time": "2023-06-07T21:36:54.862Z"
   },
   {
    "duration": 0,
    "start_time": "2023-06-07T21:36:54.863Z"
   },
   {
    "duration": 0,
    "start_time": "2023-06-07T21:36:54.864Z"
   },
   {
    "duration": 0,
    "start_time": "2023-06-07T21:36:54.865Z"
   },
   {
    "duration": 2618,
    "start_time": "2023-06-07T21:37:28.183Z"
   },
   {
    "duration": 1195,
    "start_time": "2023-06-07T21:37:30.804Z"
   },
   {
    "duration": 17185,
    "start_time": "2023-06-07T21:37:32.000Z"
   },
   {
    "duration": 80,
    "start_time": "2023-06-07T21:37:49.187Z"
   },
   {
    "duration": 297,
    "start_time": "2023-06-07T21:37:49.269Z"
   },
   {
    "duration": 3,
    "start_time": "2023-06-07T21:37:49.568Z"
   },
   {
    "duration": 23,
    "start_time": "2023-06-07T21:37:49.573Z"
   },
   {
    "duration": 155,
    "start_time": "2023-06-07T21:37:49.598Z"
   },
   {
    "duration": 35,
    "start_time": "2023-06-07T21:37:49.754Z"
   },
   {
    "duration": 84,
    "start_time": "2023-06-07T21:37:49.792Z"
   },
   {
    "duration": 15,
    "start_time": "2023-06-07T21:37:49.877Z"
   },
   {
    "duration": 12,
    "start_time": "2023-06-07T21:37:49.894Z"
   },
   {
    "duration": 79,
    "start_time": "2023-06-07T21:37:49.915Z"
   },
   {
    "duration": 39,
    "start_time": "2023-06-07T21:37:49.998Z"
   },
   {
    "duration": 31,
    "start_time": "2023-06-07T21:37:50.045Z"
   },
   {
    "duration": 783,
    "start_time": "2023-06-07T21:37:50.077Z"
   },
   {
    "duration": 292,
    "start_time": "2023-06-07T21:37:50.862Z"
   },
   {
    "duration": 292,
    "start_time": "2023-06-07T21:37:51.156Z"
   },
   {
    "duration": 277,
    "start_time": "2023-06-07T21:37:51.450Z"
   },
   {
    "duration": 202,
    "start_time": "2023-06-07T21:37:51.731Z"
   },
   {
    "duration": 5,
    "start_time": "2023-06-07T21:37:51.934Z"
   },
   {
    "duration": 18,
    "start_time": "2023-06-07T21:37:51.940Z"
   },
   {
    "duration": 35,
    "start_time": "2023-06-07T21:37:51.960Z"
   },
   {
    "duration": 3,
    "start_time": "2023-06-07T21:37:51.996Z"
   },
   {
    "duration": 68,
    "start_time": "2023-06-07T21:37:52.001Z"
   },
   {
    "duration": 17,
    "start_time": "2023-06-07T21:37:52.070Z"
   },
   {
    "duration": 18,
    "start_time": "2023-06-07T21:37:52.089Z"
   },
   {
    "duration": 35,
    "start_time": "2023-06-07T21:37:52.121Z"
   },
   {
    "duration": 357,
    "start_time": "2023-06-07T21:37:52.157Z"
   },
   {
    "duration": 421,
    "start_time": "2023-06-07T21:37:52.516Z"
   },
   {
    "duration": 919,
    "start_time": "2023-06-07T21:37:52.938Z"
   },
   {
    "duration": 24,
    "start_time": "2023-06-07T21:37:53.859Z"
   },
   {
    "duration": 807,
    "start_time": "2023-06-07T21:37:53.886Z"
   },
   {
    "duration": 267,
    "start_time": "2023-06-07T21:37:54.694Z"
   },
   {
    "duration": 424,
    "start_time": "2023-06-07T21:37:54.962Z"
   },
   {
    "duration": 4,
    "start_time": "2023-06-07T21:37:55.388Z"
   },
   {
    "duration": 41,
    "start_time": "2023-06-07T21:37:55.393Z"
   },
   {
    "duration": 19,
    "start_time": "2023-06-07T21:37:55.436Z"
   },
   {
    "duration": 14,
    "start_time": "2023-06-07T21:37:55.457Z"
   },
   {
    "duration": 20,
    "start_time": "2023-06-07T21:37:55.473Z"
   },
   {
    "duration": 106,
    "start_time": "2023-06-07T21:37:55.497Z"
   },
   {
    "duration": 21,
    "start_time": "2023-06-07T21:37:55.605Z"
   },
   {
    "duration": 1119,
    "start_time": "2023-06-07T21:37:55.629Z"
   },
   {
    "duration": 41,
    "start_time": "2023-06-07T21:37:56.750Z"
   },
   {
    "duration": 113,
    "start_time": "2023-06-07T21:37:56.794Z"
   },
   {
    "duration": 460,
    "start_time": "2023-06-07T21:37:56.909Z"
   },
   {
    "duration": 115,
    "start_time": "2023-06-07T21:37:57.371Z"
   },
   {
    "duration": 6,
    "start_time": "2023-06-07T21:37:57.487Z"
   },
   {
    "duration": 97,
    "start_time": "2023-06-07T21:37:57.494Z"
   },
   {
    "duration": 83,
    "start_time": "2023-06-07T21:37:57.594Z"
   },
   {
    "duration": 70,
    "start_time": "2023-06-07T21:37:57.679Z"
   },
   {
    "duration": 67,
    "start_time": "2023-06-07T21:37:57.750Z"
   },
   {
    "duration": 107,
    "start_time": "2023-06-07T21:37:57.822Z"
   },
   {
    "duration": 83,
    "start_time": "2023-06-07T21:37:57.931Z"
   }
  ],
  "kernelspec": {
   "display_name": "Python 3 (ipykernel)",
   "language": "python",
   "name": "python3"
  },
  "language_info": {
   "codemirror_mode": {
    "name": "ipython",
    "version": 3
   },
   "file_extension": ".py",
   "mimetype": "text/x-python",
   "name": "python",
   "nbconvert_exporter": "python",
   "pygments_lexer": "ipython3",
   "version": "3.9.5"
  },
  "toc": {
   "base_numbering": 1,
   "nav_menu": {},
   "number_sections": true,
   "sideBar": true,
   "skip_h1_title": true,
   "title_cell": "Table of Contents",
   "title_sidebar": "Contents",
   "toc_cell": false,
   "toc_position": {
    "height": "calc(100% - 180px)",
    "left": "10px",
    "top": "150px",
    "width": "301.997px"
   },
   "toc_section_display": true,
   "toc_window_display": true
  }
 },
 "nbformat": 4,
 "nbformat_minor": 2
}
